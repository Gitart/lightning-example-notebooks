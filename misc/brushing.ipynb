{
 "cells": [
  {
   "cell_type": "markdown",
   "metadata": {},
   "source": [
    "# <img style='float: left' src=\"http://lightning-viz.github.io/images/logo.png\"> <br> <br> &nbsp;&nbsp;&nbsp;&nbsp;&nbsp;Brushing in <a href='http://lightning-viz.github.io/'><font color='#9175f0'>Lightning</font></a>"
   ]
  },
  {
   "cell_type": "markdown",
   "metadata": {},
   "source": [
    "## <hr> Setup"
   ]
  },
  {
   "cell_type": "code",
   "execution_count": 22,
   "metadata": {
    "collapsed": false
   },
   "outputs": [],
   "source": [
    "import os\n",
    "from lightning import Lightning\n",
    "\n",
    "from numpy import random, zeros"
   ]
  },
  {
   "cell_type": "markdown",
   "metadata": {},
   "source": [
    "## Connect to server"
   ]
  },
  {
   "cell_type": "code",
   "execution_count": 41,
   "metadata": {
    "collapsed": false
   },
   "outputs": [
    {
     "data": {
      "text/html": [
       "<div style='margin-top:8px'><img src='data:image/png;base64,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' width='30px' height='35px' style='display: inline-block; padding-right: 10px'></img><span>Lightning initialized</span></div>"
      ],
      "text/plain": [
       "<IPython.core.display.HTML object>"
      ]
     },
     "metadata": {},
     "output_type": "display_data"
    },
    {
     "name": "stdout",
     "output_type": "stream",
     "text": [
      "Connected to server at http://public.lightning-viz.org\n"
     ]
    },
    {
     "data": {
      "application/javascript": [
       "(function e(t,n,r){function s(o,u){if(!n[o]){if(!t[o]){var a=typeof require==\"function\"&&require;if(!u&&a)return a(o,!0);if(i)return i(o,!0);throw new Error(\"Cannot find module '\"+o+\"'\")}var f=n[o]={exports:{}};t[o][0].call(f.exports,function(e){var n=t[o][1][e];return s(n?n:e)},f,f.exports,e,t,n,r)}return n[o].exports}var i=typeof require==\"function\"&&require;for(var o=0;o<r.length;o++)s(r[o]);return s})({1:[function(require,module,exports){\n",
       "window.lightning = window.lightning || {};\n",
       "var lightningCommMap = {};\n",
       "\n",
       "var readCommData = function(commData, field) {\n",
       "    try {\n",
       "        return commData.content.data[field];\n",
       "    } catch (err) {\n",
       "        return;\n",
       "    }\n",
       "};\n",
       "\n",
       "\n",
       "var init_comm = function() {\n",
       "    IPython.notebook.kernel.comm_manager.register_target('lightning', function(comm, data) {\n",
       "        var id = readCommData(data, 'id');\n",
       "        lightningCommMap[id] = comm;\n",
       "    });\n",
       "\n",
       "    window.lightning.comm_map = lightningCommMap;\n",
       "}\n",
       "\n",
       "\n",
       "if(IPython && IPython.notebook) {\n",
       "\n",
       "    if(IPython.notebook.kernel) {\n",
       "        init_comm();\n",
       "    }\n",
       "\n",
       "    IPython.notebook.events.on('kernel_connected.Kernel', init_comm);\n",
       "\n",
       "}\n",
       "\n",
       "\n",
       "},{}]},{},[1])\n",
       "//# sourceMappingURL=data:application/json;base64,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\n"
      ],
      "text/plain": [
       "<IPython.core.display.Javascript object>"
      ]
     },
     "metadata": {},
     "output_type": "display_data"
    }
   ],
   "source": [
    "lgn = Lightning(ipython=True, host='http://public.lightning-viz.org')"
   ]
  },
  {
   "cell_type": "markdown",
   "metadata": {},
   "source": [
    "## <hr> Adding brushing"
   ]
  },
  {
   "cell_type": "markdown",
   "metadata": {},
   "source": [
    "Several visualizations support brushing, including graphs, force networks, and scatter plots. Just set `brush=True`, then SHIFT-click and drag to select points. You should see them highlighted as you drag. We'll also turn off zooming for these examples, which can simplify our interactions with the plot."
   ]
  },
  {
   "cell_type": "code",
   "execution_count": 42,
   "metadata": {
    "collapsed": false
   },
   "outputs": [
    {
     "data": {
      "text/html": [
       "<meta name=\"viewport\" content=\"width=device-width, initial-scale=1, maximum-scale=1\"/><meta http-equiv=\"X-UA-Compatible\" content=\"IE=10; IE=9; IE=8; IE=7; IE=EDGE\"/><meta charset=\"UTF-8\"/><link href=\"//fonts.googleapis.com/css?family=Open+Sans:400,700\" rel=\"stylesheet\" type=\"text/css\"/><link rel=\"stylesheet\" href=\"http://public.lightning-viz.org/css/app.css\"/><link rel=\"stylesheet\" href=\"http://public.lightning-viz.org/css/dynamic/viz/?visualizations[]=scatter\"/><div id=\"lightning-body\" class=\"container content wrap push\"><div class=\"feed-container\"><div data-model=\"visualization\" data-model-id=\"07552230-e408-4f4b-af9d-d793ffe9dc16\" class=\"feed-item-container\"><div data-type=\"lightning-scatter\" data-data=\"{&quot;points&quot;:[[1.642389590038882,-1.4254471895037881],[1.4916416439160802,0.7714528836663728],[-0.21272248145785191,0.26670454416694606],[1.1303484461084357,-0.9285857865451883],[0.8866326049791226,0.20005271464197036],[-0.09198640470322392,-2.0471811537862146],[-0.9620672777913941,0.5308926607915031],[-0.19684508824915448,0.37310785513684763],[-0.367963313425277,-1.0040770506715855],[-1.2764755563444494,0.7521416530793977],[1.262989297630181,1.0506253550078946],[-0.10261534721771251,1.6665108997210185],[-0.7777390001538103,0.7374390134657598],[0.7084958140212105,0.6497494482685519],[-0.527182357437156,0.22498802291796144],[-0.22364737319832179,-1.6605590757955577],[-0.4523677551733236,0.4063120374612906],[1.1410259030809475,-0.3170624933760339],[0.013581947371752143,0.2230386461451856],[-0.534408959058618,-0.35120433010192725],[-0.21156200204512174,0.9869727578607017],[0.1537517286993977,-0.0913442624243952],[-0.41861638700640563,0.9668256750892353],[0.4560405612360224,-0.253164731953278],[0.9655711892481078,-0.7178009873595422],[-0.5511880979675369,1.9679880867520219],[0.7663829763122937,1.3915048551970008],[1.5615650365878893,-0.6704294173243375],[1.2776765052768604,2.3081922769067473],[0.17824126830285864,-1.0417643516887896],[0.7587456117223987,-0.7801375595949875],[1.3906219683336982,0.9552255232449516],[0.10626228576685612,0.506844530614287],[-0.8017565281065541,-0.7048040462966839],[-0.7878072927918047,-0.7575687479633615],[-0.6841885500284263,0.8870151719300242],[1.0647664886615955,-0.15845605962613912],[1.5591065041723888,-0.43358965595550747],[-0.4547784369539764,1.618648416460468],[0.7550772167394472,-0.8777994056766286],[-0.016105759940945198,-0.14431697473600535],[1.180028585490974,-2.708247142637295],[0.9750901393884893,1.4653237577052043],[0.4161695588497763,-0.35164850769195605],[0.8934126692329799,1.9307601421896734],[1.7536547950572423,1.2910863733815676],[-1.245688381331433,-0.7285209027158414],[-0.3498992942822596,-0.33323201669643454],[0.9481711233225677,-1.0983768957778492],[-1.1153303043076543,0.8278075484868431],[1.670237528179847,0.6438694888176655],[-0.0003618657392969312,-0.32422685309964383],[-0.9157250019946372,-1.2608329470226896],[-1.311324273115619,0.7742670775579726],[0.4388991984610564,1.1286977390699748],[-0.7039791729873258,0.4829868779115398],[-0.21814329094799412,1.5854834724827123],[-0.7691145993956138,-0.42189846987006646],[-0.41931083784348494,1.009681658423051],[0.7198061583578174,-1.1354873394963678],[-1.4738170007169715,0.20667846140135981],[-0.09056345960792116,-0.5974096297320777],[0.3279854296644275,0.8279320543397443],[-2.1456813526625553,0.2045407979936904],[1.394812553995197,-2.2258628931416853],[-0.5908728618606175,0.1609354192104189],[0.7297159476904544,0.2828134026772561],[0.0497470473464268,-1.7867480224855472],[0.4881181387519663,0.4066080840469748],[0.8482351860352324,-0.18741186964024098],[-0.7011103453015922,-2.8719742094936676],[-0.34554077109911674,0.1768996825197677],[1.3024504736129432,-0.584975982583686],[-0.42932780274138027,0.024360315463003254],[0.045978929408570665,0.14549471293472385],[-0.3480640092072635,0.4727825064833743],[-1.361858981845371,0.13331988412847084],[-2.5317339495111613,0.992968034260947],[2.117956256377116,-0.21488920657904084],[0.7788873691598978,2.3536738711040623],[0.08388753327832935,0.5786193936589964],[1.2160522706309447,-0.46240256276508285],[-0.24640433297334605,0.6822591027834094],[-1.172925036049347,-0.387506539550381],[0.5012557758825159,1.0197026158615337],[-1.2587819188663738,-0.3530546169181377],[-0.5333278438883409,-0.04007461460442244],[0.2623622136822513,-0.6782242896760666],[1.086943370453506,0.8811922783646369],[0.8502231662392985,-2.0437193347040403],[1.029613668630815,0.2200389786149565],[0.15790501605392343,0.9382233434896372],[-0.7534049449852879,-0.2960849399725621],[-0.3985148406962895,-0.034798509353596664],[0.23685556770843,-0.7249983941649436],[-0.4321570131209818,-1.0534174631387014],[-1.68325001782606,-0.34177673438117573],[0.22026090462014378,-0.8109780830075998],[-0.9410469447555926,-1.3679050594899376],[0.8246214987350882,3.4636914732407287]]}\" data-images=\"null\" data-options=\"{&quot;tooltips&quot;:true,&quot;description&quot;:null,&quot;zoom&quot;:false,&quot;height&quot;:null,&quot;width&quot;:600,&quot;brush&quot;:true}\" id=\"viz-07552230-e408-4f4b-af9d-d793ffe9dc16\" data-initialized=\"false\" class=\"feed-item\"></div></div></div></div><script>window.lightning = window.lightning || {};\n",
       "window.lightning.host = \"http://public.lightning-viz.org/\" || 'http://127.0.0.1:3000/';\n",
       "window.lightning.vizCount = (window.lightning.vizCount + 1) || 1;\n",
       "window.lightning.requiredVizTypes = window.lightning.requiredVizTypes || [];\n",
       "if(window.lightning.requiredVizTypes.indexOf(\"scatter\") === -1) {\n",
       "    window.lightning.requiredVizTypes.push(\"scatter\");\n",
       "}\n",
       "window._require = window.require;\n",
       "window.require = undefined;\n",
       "window._define = window.define;\n",
       "window.define = undefined;</script><script src=\"http://public.lightning-viz.org/js/embed.js\"></script>"
      ],
      "text/plain": [
       "<lightning.types.plots.Scatter at 0x1077a9210>"
      ]
     },
     "execution_count": 42,
     "metadata": {},
     "output_type": "execute_result"
    }
   ],
   "source": [
    "x = random.randn(100)\n",
    "y = random.randn(100)\n",
    "\n",
    "lgn.scatter(x, y, brush=True, zoom=False)"
   ]
  },
  {
   "cell_type": "markdown",
   "metadata": {},
   "source": [
    "## <hr> Getting selections"
   ]
  },
  {
   "cell_type": "markdown",
   "metadata": {},
   "source": [
    "If working with a Lightning server (rather than the server-less mode), we can easily extract the points we've selected. "
   ]
  },
  {
   "cell_type": "code",
   "execution_count": 43,
   "metadata": {
    "collapsed": false
   },
   "outputs": [
    {
     "data": {
      "text/html": [
       "<meta name=\"viewport\" content=\"width=device-width, initial-scale=1, maximum-scale=1\"/><meta http-equiv=\"X-UA-Compatible\" content=\"IE=10; IE=9; IE=8; IE=7; IE=EDGE\"/><meta charset=\"UTF-8\"/><link href=\"//fonts.googleapis.com/css?family=Open+Sans:400,700\" rel=\"stylesheet\" type=\"text/css\"/><link rel=\"stylesheet\" href=\"http://public.lightning-viz.org/css/app.css\"/><link rel=\"stylesheet\" href=\"http://public.lightning-viz.org/css/dynamic/viz/?visualizations[]=scatter\"/><div id=\"lightning-body\" class=\"container content wrap push\"><div class=\"feed-container\"><div data-model=\"visualization\" data-model-id=\"0ca3564d-002f-40e0-9487-db0fb7c1f5df\" class=\"feed-item-container\"><div data-type=\"lightning-scatter\" data-data=\"{&quot;points&quot;:[[1.648664712837281,3.917596019782316],[4.020186691398706,2.2512389405555133],[4.594227676290151,4.552797362226471],[8.644315757770407,7.95492822084227],[7.317101357896071,2.0787771761503606],[6.574087109478688,5.809355675536869],[7.537390070356049,0.3500555774996217],[6.417927174320165,2.312025865268451],[0.6222082267989115,9.81500216147183],[3.23438727148499,4.962673456744829],[4.8349062766745545,3.1977677158783804],[4.535333066252072,6.622575130380723],[0.5800801923946775,6.02045175099751],[6.090745217451569,6.21510951905463],[4.090287493591379,3.5632158320122285],[5.971381504296714,4.225373448211425],[7.943611125636254,7.379442585904795],[5.858061156007988,6.80130845951978],[4.6914740450320735,6.0583667865708515],[6.09940048712338,4.121964565293503],[7.644666969128919,3.7444412572479777],[8.85872340499519,8.163411214963226],[3.279898401809951,7.6801927322397665],[0.5623673724618916,1.405760054965216],[6.695000055394421,4.603657540628384],[3.6717278582165114,9.308310687035974],[9.384991155577982,9.301185371874048],[4.086179931644471,4.127394592979837],[9.010357994857452,8.017985462599125],[9.25611414965314,3.252742841294265],[3.4208149448669154,9.36170570963231],[8.31414579258519,4.559010367156918],[1.2935661894621509,4.340557300851704],[7.316805682073788,4.8162613464215696],[8.93196918989185,9.060712598366958],[7.860025325110528,8.558009957102255],[6.157054322336489,9.420223593695852],[0.4508858590229625,9.149168395107484],[9.066019473305479,2.5594116010089407],[4.787798571296513,1.3658831634481883],[3.73035507261533,1.826301592508981],[8.460234825628797,1.1197638166488166],[0.2230543404809604,7.455568033494702],[0.3427344504105667,1.545834394958363],[4.6669014362585255,3.0556405621742853],[3.0900442152492813,8.535869911112519],[6.600981593403113,3.9491331883260425],[7.858933695034893,5.179728539275683],[1.7664455198516527,1.4569939310073743],[9.228615713541403,8.642598942681477],[6.632758880144931,6.356025849793793],[3.9747879804690314,8.350271632628772],[7.791624962976698,1.5943292661101582],[7.138177510951918,5.101040225344573],[4.783704309248931,0.331230829638246],[9.904112256211494,3.122836815960679],[8.49459359719083,8.757533411860551],[4.5443533728649355,0.8213040907704494],[7.625524152695654,1.3350909469414474],[5.269760697513657,0.9226850288923027],[4.1867828808055565,5.960175326058511],[7.176474374000019,8.265762186490699],[8.31574294320923,4.693629172622979],[3.700502190528052,8.104950261455109],[0.18067336654238875,9.706031739159977],[5.070504942487202,8.04148134974382],[6.210437895932413,2.6968298015486414],[3.504337523408826,0.7189523812618592],[5.215302303731166,8.02798218308986],[8.406844612344745,1.3994090894959543],[7.074344276816871,1.6246552116031188],[4.255585314666234,7.797777132680937],[4.382949986299275,0.2251585097271802],[2.226574375413227,3.0115639801974057],[1.8109569763733702,1.8386135548645322],[5.637549155438072,0.2635100868796181],[2.1536131554668634,1.5125688624715128],[5.788669071185676,7.063505098708137],[7.513619503696505,4.227388210693819],[7.896312654168658,1.5044159657706913],[7.0899518285026,2.8395313651020126],[4.046216237856611,9.748180074288559],[3.6531973368066972,4.846012259504333],[4.296201634483397,4.296068846640093],[0.3708866142905676,5.496682423467197],[3.59420071776647,9.880773509857224],[6.595684367347952,7.648162669698635],[4.349776821195103,6.29083861798767],[6.9682065977973355,2.4486235646859567],[1.6643215510644505,0.08098060939818574],[6.980259381080211,3.638396531481538],[7.234277119157127,8.652982664690697],[1.0750686943432763,6.002850074914186],[6.3529206005048175,2.30207308260416],[4.997450194770562,0.6275710107808408],[9.32167509702941,6.7935220058167],[6.92533607121352,4.9389266185911485],[9.907522552214202,3.9420514739353307],[0.4309628701600332,9.67398424857669],[5.371793382611313,1.4386585194996482]]}\" data-images=\"null\" data-options=\"{&quot;tooltips&quot;:true,&quot;description&quot;:null,&quot;zoom&quot;:false,&quot;height&quot;:null,&quot;width&quot;:600,&quot;brush&quot;:true}\" id=\"viz-0ca3564d-002f-40e0-9487-db0fb7c1f5df\" data-initialized=\"false\" class=\"feed-item\"></div></div></div></div><script>window.lightning = window.lightning || {};\n",
       "window.lightning.host = \"http://public.lightning-viz.org/\" || 'http://127.0.0.1:3000/';\n",
       "window.lightning.vizCount = (window.lightning.vizCount + 1) || 1;\n",
       "window.lightning.requiredVizTypes = window.lightning.requiredVizTypes || [];\n",
       "if(window.lightning.requiredVizTypes.indexOf(\"scatter\") === -1) {\n",
       "    window.lightning.requiredVizTypes.push(\"scatter\");\n",
       "}\n",
       "window._require = window.require;\n",
       "window.require = undefined;\n",
       "window._define = window.define;\n",
       "window.define = undefined;</script><script src=\"http://public.lightning-viz.org/js/embed.js\"></script>"
      ],
      "text/plain": [
       "<lightning.types.plots.Scatter at 0x105e71890>"
      ]
     },
     "execution_count": 43,
     "metadata": {},
     "output_type": "execute_result"
    }
   ],
   "source": [
    "x = random.rand(100) * 10\n",
    "y = random.rand(100) * 10\n",
    "\n",
    "viz = lgn.scatter(x, y, brush=True, zoom=False)\n",
    "viz"
   ]
  },
  {
   "cell_type": "markdown",
   "metadata": {},
   "source": [
    "Let's say I use the brush in the visualization above to select all points between 0 and 4. Below, I grab those points, and replot them -- note the new scale."
   ]
  },
  {
   "cell_type": "code",
   "execution_count": 44,
   "metadata": {
    "collapsed": true
   },
   "outputs": [],
   "source": [
    "sx, sy = viz.points()"
   ]
  },
  {
   "cell_type": "code",
   "execution_count": 45,
   "metadata": {
    "collapsed": false
   },
   "outputs": [
    {
     "data": {
      "text/html": [
       "<meta name=\"viewport\" content=\"width=device-width, initial-scale=1, maximum-scale=1\"/><meta http-equiv=\"X-UA-Compatible\" content=\"IE=10; IE=9; IE=8; IE=7; IE=EDGE\"/><meta charset=\"UTF-8\"/><link href=\"//fonts.googleapis.com/css?family=Open+Sans:400,700\" rel=\"stylesheet\" type=\"text/css\"/><link rel=\"stylesheet\" href=\"http://public.lightning-viz.org/css/app.css\"/><link rel=\"stylesheet\" href=\"http://public.lightning-viz.org/css/dynamic/viz/?visualizations[]=scatter\"/><div id=\"lightning-body\" class=\"container content wrap push\"><div class=\"feed-container\"><div data-model=\"visualization\" data-model-id=\"9b55ad72-c6be-4748-9a33-8992c7b5748a\" class=\"feed-item-container\"><div data-type=\"lightning-scatter\" data-data=\"{&quot;points&quot;:[[1.648664712837281,3.917596019782316],[4.020186691398706,2.2512389405555133],[4.594227676290151,4.552797362226471],[3.23438727148499,4.962673456744829],[4.8349062766745545,3.1977677158783804],[0.5800801923946775,6.02045175099751],[4.090287493591379,3.5632158320122285],[5.971381504296714,4.225373448211425],[0.5623673724618916,1.405760054965216],[4.086179931644471,4.127394592979837],[1.2935661894621509,4.340557300851704],[4.787798571296513,1.3658831634481883],[3.73035507261533,1.826301592508981],[0.3427344504105667,1.545834394958363],[4.6669014362585255,3.0556405621742853],[1.7664455198516527,1.4569939310073743],[4.783704309248931,0.331230829638246],[4.5443533728649355,0.8213040907704494],[5.269760697513657,0.9226850288923027],[4.1867828808055565,5.960175326058511],[3.504337523408826,0.7189523812618592],[4.382949986299275,0.2251585097271802],[2.226574375413227,3.0115639801974057],[1.8109569763733702,1.8386135548645322],[5.637549155438072,0.2635100868796181],[2.1536131554668634,1.5125688624715128],[3.6531973368066972,4.846012259504333],[4.296201634483397,4.296068846640093],[0.3708866142905676,5.496682423467197],[1.6643215510644505,0.08098060939818574],[1.0750686943432763,6.002850074914186],[4.997450194770562,0.6275710107808408],[5.371793382611313,1.4386585194996482]]}\" data-images=\"null\" data-options=\"{&quot;tooltips&quot;:true,&quot;description&quot;:null,&quot;zoom&quot;:false,&quot;height&quot;:null,&quot;width&quot;:600,&quot;brush&quot;:true}\" id=\"viz-9b55ad72-c6be-4748-9a33-8992c7b5748a\" data-initialized=\"false\" class=\"feed-item\"></div></div></div></div><script>window.lightning = window.lightning || {};\n",
       "window.lightning.host = \"http://public.lightning-viz.org/\" || 'http://127.0.0.1:3000/';\n",
       "window.lightning.vizCount = (window.lightning.vizCount + 1) || 1;\n",
       "window.lightning.requiredVizTypes = window.lightning.requiredVizTypes || [];\n",
       "if(window.lightning.requiredVizTypes.indexOf(\"scatter\") === -1) {\n",
       "    window.lightning.requiredVizTypes.push(\"scatter\");\n",
       "}\n",
       "window._require = window.require;\n",
       "window.require = undefined;\n",
       "window._define = window.define;\n",
       "window.define = undefined;</script><script src=\"http://public.lightning-viz.org/js/embed.js\"></script>"
      ],
      "text/plain": [
       "<lightning.types.plots.Scatter at 0x105e717d0>"
      ]
     },
     "execution_count": 45,
     "metadata": {},
     "output_type": "execute_result"
    }
   ],
   "source": [
    "lgn.scatter(sx, sy, zoom=False)"
   ]
  },
  {
   "cell_type": "markdown",
   "metadata": {},
   "source": [
    "I can use a different accessor, `selected`, to grab the indices of the selected points."
   ]
  },
  {
   "cell_type": "code",
   "execution_count": 46,
   "metadata": {
    "collapsed": true
   },
   "outputs": [],
   "source": [
    "inds = viz.selected()"
   ]
  },
  {
   "cell_type": "markdown",
   "metadata": {},
   "source": [
    "Let's replot all points, but show the selected ones in a different color."
   ]
  },
  {
   "cell_type": "code",
   "execution_count": 47,
   "metadata": {
    "collapsed": false
   },
   "outputs": [
    {
     "data": {
      "text/html": [
       "<meta name=\"viewport\" content=\"width=device-width, initial-scale=1, maximum-scale=1\"/><meta http-equiv=\"X-UA-Compatible\" content=\"IE=10; IE=9; IE=8; IE=7; IE=EDGE\"/><meta charset=\"UTF-8\"/><link href=\"//fonts.googleapis.com/css?family=Open+Sans:400,700\" rel=\"stylesheet\" type=\"text/css\"/><link rel=\"stylesheet\" href=\"http://public.lightning-viz.org/css/app.css\"/><link rel=\"stylesheet\" href=\"http://public.lightning-viz.org/css/dynamic/viz/?visualizations[]=scatter\"/><div id=\"lightning-body\" class=\"container content wrap push\"><div class=\"feed-container\"><div data-model=\"visualization\" data-model-id=\"09888586-56e6-4828-a901-ff4c312e279f\" class=\"feed-item-container\"><div data-type=\"lightning-scatter\" data-data=\"{&quot;points&quot;:[[1.648664712837281,3.917596019782316],[4.020186691398706,2.2512389405555133],[4.594227676290151,4.552797362226471],[8.644315757770407,7.95492822084227],[7.317101357896071,2.0787771761503606],[6.574087109478688,5.809355675536869],[7.537390070356049,0.3500555774996217],[6.417927174320165,2.312025865268451],[0.6222082267989115,9.81500216147183],[3.23438727148499,4.962673456744829],[4.8349062766745545,3.1977677158783804],[4.535333066252072,6.622575130380723],[0.5800801923946775,6.02045175099751],[6.090745217451569,6.21510951905463],[4.090287493591379,3.5632158320122285],[5.971381504296714,4.225373448211425],[7.943611125636254,7.379442585904795],[5.858061156007988,6.80130845951978],[4.6914740450320735,6.0583667865708515],[6.09940048712338,4.121964565293503],[7.644666969128919,3.7444412572479777],[8.85872340499519,8.163411214963226],[3.279898401809951,7.6801927322397665],[0.5623673724618916,1.405760054965216],[6.695000055394421,4.603657540628384],[3.6717278582165114,9.308310687035974],[9.384991155577982,9.301185371874048],[4.086179931644471,4.127394592979837],[9.010357994857452,8.017985462599125],[9.25611414965314,3.252742841294265],[3.4208149448669154,9.36170570963231],[8.31414579258519,4.559010367156918],[1.2935661894621509,4.340557300851704],[7.316805682073788,4.8162613464215696],[8.93196918989185,9.060712598366958],[7.860025325110528,8.558009957102255],[6.157054322336489,9.420223593695852],[0.4508858590229625,9.149168395107484],[9.066019473305479,2.5594116010089407],[4.787798571296513,1.3658831634481883],[3.73035507261533,1.826301592508981],[8.460234825628797,1.1197638166488166],[0.2230543404809604,7.455568033494702],[0.3427344504105667,1.545834394958363],[4.6669014362585255,3.0556405621742853],[3.0900442152492813,8.535869911112519],[6.600981593403113,3.9491331883260425],[7.858933695034893,5.179728539275683],[1.7664455198516527,1.4569939310073743],[9.228615713541403,8.642598942681477],[6.632758880144931,6.356025849793793],[3.9747879804690314,8.350271632628772],[7.791624962976698,1.5943292661101582],[7.138177510951918,5.101040225344573],[4.783704309248931,0.331230829638246],[9.904112256211494,3.122836815960679],[8.49459359719083,8.757533411860551],[4.5443533728649355,0.8213040907704494],[7.625524152695654,1.3350909469414474],[5.269760697513657,0.9226850288923027],[4.1867828808055565,5.960175326058511],[7.176474374000019,8.265762186490699],[8.31574294320923,4.693629172622979],[3.700502190528052,8.104950261455109],[0.18067336654238875,9.706031739159977],[5.070504942487202,8.04148134974382],[6.210437895932413,2.6968298015486414],[3.504337523408826,0.7189523812618592],[5.215302303731166,8.02798218308986],[8.406844612344745,1.3994090894959543],[7.074344276816871,1.6246552116031188],[4.255585314666234,7.797777132680937],[4.382949986299275,0.2251585097271802],[2.226574375413227,3.0115639801974057],[1.8109569763733702,1.8386135548645322],[5.637549155438072,0.2635100868796181],[2.1536131554668634,1.5125688624715128],[5.788669071185676,7.063505098708137],[7.513619503696505,4.227388210693819],[7.896312654168658,1.5044159657706913],[7.0899518285026,2.8395313651020126],[4.046216237856611,9.748180074288559],[3.6531973368066972,4.846012259504333],[4.296201634483397,4.296068846640093],[0.3708866142905676,5.496682423467197],[3.59420071776647,9.880773509857224],[6.595684367347952,7.648162669698635],[4.349776821195103,6.29083861798767],[6.9682065977973355,2.4486235646859567],[1.6643215510644505,0.08098060939818574],[6.980259381080211,3.638396531481538],[7.234277119157127,8.652982664690697],[1.0750686943432763,6.002850074914186],[6.3529206005048175,2.30207308260416],[4.997450194770562,0.6275710107808408],[9.32167509702941,6.7935220058167],[6.92533607121352,4.9389266185911485],[9.907522552214202,3.9420514739353307],[0.4309628701600332,9.67398424857669],[5.371793382611313,1.4386585194996482]],&quot;group&quot;:[1,1,1,0,0,0,0,0,0,1,1,0,1,0,1,1,0,0,0,0,0,0,0,1,0,0,0,1,0,0,0,0,1,0,0,0,0,0,0,1,1,0,0,1,1,0,0,0,1,0,0,0,0,0,1,0,0,1,0,1,1,0,0,0,0,0,0,1,0,0,0,0,1,1,1,1,1,0,0,0,0,0,1,1,1,0,0,0,0,1,0,0,1,0,1,0,0,0,0,1]}\" data-images=\"null\" data-options=\"{&quot;tooltips&quot;:true,&quot;description&quot;:null,&quot;zoom&quot;:false,&quot;height&quot;:null,&quot;width&quot;:600,&quot;brush&quot;:true}\" id=\"viz-09888586-56e6-4828-a901-ff4c312e279f\" data-initialized=\"false\" class=\"feed-item\"></div></div></div></div><script>window.lightning = window.lightning || {};\n",
       "window.lightning.host = \"http://public.lightning-viz.org/\" || 'http://127.0.0.1:3000/';\n",
       "window.lightning.vizCount = (window.lightning.vizCount + 1) || 1;\n",
       "window.lightning.requiredVizTypes = window.lightning.requiredVizTypes || [];\n",
       "if(window.lightning.requiredVizTypes.indexOf(\"scatter\") === -1) {\n",
       "    window.lightning.requiredVizTypes.push(\"scatter\");\n",
       "}\n",
       "window._require = window.require;\n",
       "window.require = undefined;\n",
       "window._define = window.define;\n",
       "window.define = undefined;</script><script src=\"http://public.lightning-viz.org/js/embed.js\"></script>"
      ],
      "text/plain": [
       "<lightning.types.plots.Scatter at 0x10553c050>"
      ]
     },
     "execution_count": 47,
     "metadata": {},
     "output_type": "execute_result"
    }
   ],
   "source": [
    "groups = zeros(100)\n",
    "groups[inds] = 1\n",
    "\n",
    "lgn.scatter(x, y, group=groups, zoom=False)"
   ]
  }
 ],
 "metadata": {
  "kernelspec": {
   "display_name": "Python 2",
   "language": "python",
   "name": "python2"
  },
  "language_info": {
   "codemirror_mode": {
    "name": "ipython",
    "version": 2
   },
   "file_extension": ".py",
   "mimetype": "text/x-python",
   "name": "python",
   "nbconvert_exporter": "python",
   "pygments_lexer": "ipython2",
   "version": "2.7.9"
  }
 },
 "nbformat": 4,
 "nbformat_minor": 0
}
