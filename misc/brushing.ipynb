{
 "cells": [
  {
   "cell_type": "markdown",
   "metadata": {},
   "source": [
    "# <img style='float: left' src=\"http://lightning-viz.github.io/images/logo.png\"> <br> <br> &nbsp;&nbsp;&nbsp;&nbsp;&nbsp;Brushing in <a href='http://lightning-viz.github.io/'><font color='#9175f0'>Lightning</font></a>"
   ]
  },
  {
   "cell_type": "markdown",
   "metadata": {},
   "source": [
    "## <hr> Setup"
   ]
  },
  {
   "cell_type": "code",
   "execution_count": 1,
   "metadata": {
    "collapsed": false
   },
   "outputs": [],
   "source": [
    "from lightning import Lightning\n",
    "\n",
    "from numpy import random, zeros"
   ]
  },
  {
   "cell_type": "markdown",
   "metadata": {},
   "source": [
    "## Connect to server"
   ]
  },
  {
   "cell_type": "code",
   "execution_count": 2,
   "metadata": {
    "collapsed": false
   },
   "outputs": [
    {
     "data": {
      "text/html": [
       "<div style='margin-top:8px'><img src='data:image/png;base64,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' width='30px' height='35px' style='display: inline-block; padding-right: 10px'></img><span>Lightning initialized</span></div>"
      ],
      "text/plain": [
       "<IPython.core.display.HTML object>"
      ]
     },
     "metadata": {},
     "output_type": "display_data"
    },
    {
     "name": "stdout",
     "output_type": "stream",
     "text": [
      "Connected to server at http://public.lightning-viz.org\n"
     ]
    },
    {
     "data": {
      "application/javascript": [
       "(function e(t,n,r){function s(o,u){if(!n[o]){if(!t[o]){var a=typeof require==\"function\"&&require;if(!u&&a)return a(o,!0);if(i)return i(o,!0);throw new Error(\"Cannot find module '\"+o+\"'\")}var f=n[o]={exports:{}};t[o][0].call(f.exports,function(e){var n=t[o][1][e];return s(n?n:e)},f,f.exports,e,t,n,r)}return n[o].exports}var i=typeof require==\"function\"&&require;for(var o=0;o<r.length;o++)s(r[o]);return s})({1:[function(require,module,exports){\n",
       "window.lightning = window.lightning || {};\n",
       "var lightningCommMap = {};\n",
       "\n",
       "var readCommData = function(commData, field) {\n",
       "    try {\n",
       "        return commData.content.data[field];\n",
       "    } catch (err) {\n",
       "        return;\n",
       "    }\n",
       "};\n",
       "\n",
       "\n",
       "var init_comm = function() {\n",
       "    IPython.notebook.kernel.comm_manager.register_target('lightning', function(comm, data) {\n",
       "        var id = readCommData(data, 'id');\n",
       "        lightningCommMap[id] = comm;\n",
       "    });\n",
       "\n",
       "    window.lightning.comm_map = lightningCommMap;\n",
       "}\n",
       "\n",
       "\n",
       "if(IPython && IPython.notebook) {\n",
       "\n",
       "    if(IPython.notebook.kernel) {\n",
       "        init_comm();\n",
       "    }\n",
       "\n",
       "    IPython.notebook.events.on('kernel_connected.Kernel', init_comm);\n",
       "\n",
       "}\n",
       "\n",
       "\n",
       "},{}]},{},[1])\n",
       "//# sourceMappingURL=data:application/json;base64,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\n"
      ],
      "text/plain": [
       "<IPython.core.display.Javascript object>"
      ]
     },
     "metadata": {},
     "output_type": "display_data"
    }
   ],
   "source": [
    "lgn = Lightning(ipython=True, host='http://public.lightning-viz.org')"
   ]
  },
  {
   "cell_type": "markdown",
   "metadata": {},
   "source": [
    "## <hr> Adding brushing"
   ]
  },
  {
   "cell_type": "markdown",
   "metadata": {},
   "source": [
    "Several visualizations support brushing, including graphs, force networks, and scatter plots. Just set `brush=True`, then SHIFT-click and drag to select points. You should see them highlighted as you drag. We'll also turn off zooming for these examples, which can simplify our interactions with the plot."
   ]
  },
  {
   "cell_type": "code",
   "execution_count": 3,
   "metadata": {
    "collapsed": false
   },
   "outputs": [
    {
     "data": {
      "text/html": [
       "<meta name=\"viewport\" content=\"width=device-width, initial-scale=1, maximum-scale=1\"/><meta http-equiv=\"X-UA-Compatible\" content=\"IE=10; IE=9; IE=8; IE=7; IE=EDGE\"/><meta charset=\"UTF-8\"/><link href=\"//fonts.googleapis.com/css?family=Open+Sans:400,700\" rel=\"stylesheet\" type=\"text/css\"/><link rel=\"stylesheet\" href=\"http://public.lightning-viz.org/css/app.css\"/><link rel=\"stylesheet\" href=\"http://public.lightning-viz.org/css/dynamic/viz/?visualizations[]=scatter\"/><div id=\"lightning-body\" class=\"container content wrap push\"><div class=\"feed-container\"><div data-model=\"visualization\" data-model-id=\"c38ee68e-25ea-4705-80e1-ab06940132f5\" class=\"feed-item-container\"><div data-type=\"lightning-scatter\" data-data=\"{&quot;points&quot;:[[-0.687196959869083,-0.6882883058717576],[-0.4013197818626743,0.03410243843505142],[-0.8671399964683788,0.17786795812056],[-1.0681704295404948,1.6627992459937153],[-0.12173711714061221,-1.564604267552708],[0.05496878671864799,1.3346525658333257],[-1.7478403481813511,0.3547617523934789],[0.7234801231475039,-0.38810232076510254],[-1.041516793921663,0.20306481131865728],[3.564497027334739,1.7002763141288997],[-0.9281333866789583,-0.4960291352575653],[0.13045825442088158,1.321677069063014],[-0.5974476584260366,-0.8103098671016622],[1.139852137568977,-0.4581887059698611],[0.8113961603045541,-0.024222480838738583],[1.7570590258899408,-0.93040305563205],[0.6403347415274365,-0.5775057697134445],[0.3594064298283581,1.516702019566489],[1.8490149329908816,-0.611594537118531],[-0.17017310216058149,0.9835046694698412],[0.5662152907835801,0.40814714385183104],[-0.9890797868950715,0.34239963945270485],[0.7273726722158579,0.1882314789380097],[0.27856675755905125,0.1154983729895479],[-1.9063468576750333,-0.12304488071741594],[-1.0758048747014402,1.9052271359216086],[0.823585369059147,-0.47037675966741854],[-0.09286056279737341,0.24344031888153136],[-0.8089080102387018,0.9377523239346575],[1.352726224357054,0.5206636344140726],[-0.6089882711316702,-1.0221869699234278],[-0.5266360357729409,-0.8173057815840841],[1.3681841810760436,1.1896768046588744],[-0.49466501644500305,1.6455525010180934],[1.5083816112473356,-1.7049195615903088],[1.637074847009692,0.6917744105815945],[0.9056781625484683,1.5448642039092617],[0.5221808878050792,0.8105111275764283],[1.6731714096481223,0.6877398064278645],[0.725791666368696,-0.4164822213036558],[1.0253086385882877,-0.7144280847750937],[-0.15978543980629462,0.279468547851186],[1.611994364702834,1.341269308599958],[1.2868627144492302,2.686130496438857],[-0.5604187825531582,0.08409073162823633],[-0.10747362730332179,0.16807071934881399],[0.6373934900980058,0.2885171472385357],[-0.7560889934668005,-0.3913459543312749],[0.3228487773379728,1.2197336793636553],[0.12769722856023566,-1.5013135183913466],[-1.0145467484374735,-1.7454643061180193],[0.6257282557523124,-1.2109852470712403],[1.1754236583539164,-0.8640643442659551],[-0.660715635914395,-2.1277570281190172],[0.6393666913768699,-0.006421433225972742],[0.10284272260114713,0.5611516092845483],[-0.04526664656694806,-1.2762567601697943],[1.0122931902043213,-0.22525482579757017],[2.1609548843257573,0.8613247104624372],[0.06564113845079689,-1.0255299213073739],[-0.11687745278614914,-0.2950732217003025],[0.8515905905253411,0.22272029828184892],[-2.1279629645347518,1.866083465423233],[0.6549365939114594,0.6076551773017702],[0.19176041870370306,-2.745383178812586],[0.6936906926970284,0.3609140891497308],[-0.5553426292154976,-0.8794424779260096],[0.33053882502972753,-0.8602728178452179],[-0.6676675960586193,0.06768729148661022],[-1.4457434532333056,0.6904666564900014],[-1.266218292980486,-0.3609473144567757],[-0.5541474293954659,0.6055693667721957],[-1.441731329866318,0.9355592447513205],[-2.1174195786121643,-0.5961434874191921],[-0.48740935667405777,1.545085481722431],[-1.249478940913035,-0.1830948002182782],[0.09619238457865112,1.4194396547510086],[-0.45968962913642586,0.19620644815219168],[1.163808926488924,-1.2984070590623702],[-0.7247408753876647,-0.022669474305543263],[0.002926521101839871,0.19730344429557378],[0.031021172345168536,0.9166236086510117],[-0.9349135264901511,-1.1997083014931942],[-0.03822855421873196,-2.5966144770678543],[-0.11065886185179549,-0.5043953818983696],[-0.5204631433912832,-0.820977607538958],[-0.3005465767487305,0.950654846832458],[0.14211832378747388,-1.5318860925440685],[1.077186010696025,-1.3452232230760002],[1.0415422480559091,1.2540450515345412],[-0.17074735449672415,-1.872139107569124],[-1.1957379900479381,-0.16974249809773423],[-0.7410448825761438,0.017246838144532605],[0.4809728252900641,-0.5828190833747582],[-1.1009664298249733,1.2525465946150762],[-1.269969150833763,-1.0338571245119221],[-0.1106196564317994,-0.7852201638280762],[-1.7995993091000657,0.5063019852595791],[-0.7150133426658896,-1.0945927066635508],[-1.440452962768611,0.7927565728668288]]}\" data-images=\"null\" data-options=\"{&quot;tooltips&quot;:true,&quot;description&quot;:null,&quot;zoom&quot;:false,&quot;height&quot;:null,&quot;width&quot;:600,&quot;brush&quot;:true}\" id=\"viz-c38ee68e-25ea-4705-80e1-ab06940132f5\" data-initialized=\"false\" class=\"feed-item\"></div></div></div></div><script>window.lightning = window.lightning || {};\n",
       "window.lightning.host = \"http://public.lightning-viz.org/\" || 'http://127.0.0.1:3000/';\n",
       "window.lightning.vizCount = (window.lightning.vizCount + 1) || 1;\n",
       "window.lightning.requiredVizTypes = window.lightning.requiredVizTypes || [];\n",
       "if(window.lightning.requiredVizTypes.indexOf(\"scatter\") === -1) {\n",
       "    window.lightning.requiredVizTypes.push(\"scatter\");\n",
       "}\n",
       "window._require = window.require;\n",
       "window.require = undefined;\n",
       "window._define = window.define;\n",
       "window.define = undefined;</script><script src=\"http://public.lightning-viz.org/js/embed.js\"></script>"
      ],
      "text/plain": [
       "<lightning.types.plots.Scatter at 0x10556b050>"
      ]
     },
     "execution_count": 3,
     "metadata": {},
     "output_type": "execute_result"
    }
   ],
   "source": [
    "x = random.randn(100)\n",
    "y = random.randn(100)\n",
    "\n",
    "lgn.scatter(x, y, brush=True, zoom=False)"
   ]
  },
  {
   "cell_type": "markdown",
   "metadata": {},
   "source": [
    "## <hr> Getting selections"
   ]
  },
  {
   "cell_type": "markdown",
   "metadata": {},
   "source": [
    "If working with a Lightning server (rather than the server-less mode), we can easily extract the points we've selected. "
   ]
  },
  {
   "cell_type": "code",
   "execution_count": 4,
   "metadata": {
    "collapsed": false
   },
   "outputs": [
    {
     "data": {
      "text/html": [
       "<meta name=\"viewport\" content=\"width=device-width, initial-scale=1, maximum-scale=1\"/><meta http-equiv=\"X-UA-Compatible\" content=\"IE=10; IE=9; IE=8; IE=7; IE=EDGE\"/><meta charset=\"UTF-8\"/><link href=\"//fonts.googleapis.com/css?family=Open+Sans:400,700\" rel=\"stylesheet\" type=\"text/css\"/><link rel=\"stylesheet\" href=\"http://public.lightning-viz.org/css/app.css\"/><link rel=\"stylesheet\" href=\"http://public.lightning-viz.org/css/dynamic/viz/?visualizations[]=scatter\"/><div id=\"lightning-body\" class=\"container content wrap push\"><div class=\"feed-container\"><div data-model=\"visualization\" data-model-id=\"e9246dc0-75f4-4961-a98c-79ff42ddea4b\" class=\"feed-item-container\"><div data-type=\"lightning-scatter\" data-data=\"{&quot;points&quot;:[[1.4963736261496074,7.015118201201216],[6.508330241703994,1.2927310478485277],[0.8258598732239475,3.4853857331209506],[1.909715990014308,1.057135036458623],[9.404182723638446,4.707730463463595],[7.663714758077756,5.48019911914647],[1.9175372343222596,2.5933059933520664],[1.740836221114721,8.018108523791135],[8.290888245774763,2.3170738137241087],[4.595859421289319,1.8611759702591468],[8.855472114375134,7.890048533228774],[2.7150203811520592,4.930773013121451],[2.5849696113092135,8.867794339852315],[9.302341430218064,9.482308622180991],[4.514351506232861,4.349831844509911],[0.2921494629632948,4.239643745373424],[9.846411561293136,2.2905252613673666],[4.078205711702111,0.9732489551428758],[9.591944833277337,8.511798507731426],[7.005629619212118,5.795042390602976],[6.430443514893823,9.54930628488798],[0.321864675128144,5.181351862299122],[5.772775295670721,0.3910377056417369],[5.588114096329402,3.282476396287751],[1.3789605392698523,9.147133979803442],[3.157112180323943,6.310424443053712],[3.2064139823160085,2.4462936437145277],[0.8756200054748775,9.4078222832009],[2.3393102310174663,7.194494007678549],[7.2389004786894375,4.175379809064619],[3.5456118945340354,6.753069650997854],[0.8242355842992322,0.3274307312250746],[7.019895014641168,8.905484648330479],[6.726112464163104,5.540346350671622],[4.83387758339863,9.48530308929801],[0.7223387088635069,7.638736102986792],[9.13306598839578,3.0897704117601044],[6.469428847909966,0.5968333506283585],[3.070740753565776,3.7318247976448204],[3.411138385264403,3.7149423896685896],[5.982240633582917,7.277058177369038],[8.59887337542294,7.008022702094418],[9.847804442125396,8.403757877203155],[8.210508629073725,2.349705948898123],[0.21637018230443616,8.91185200970141],[3.678010193451644,5.178614194053623],[2.4956828059366822,9.739073804685521],[6.481508412302258,5.850865744615358],[4.964148137265722,7.738680020370924],[2.650903471059356,1.5531093187826739],[4.6856984207723436,0.47773362948684506],[8.98283064977118,1.4339609442862211],[5.580771469450269,3.4686770267466462],[6.087437169834179,1.6910125684468225],[1.2900085088463753,8.86907917942172],[6.987263784476076,0.6268165646657653],[8.615753667053559,6.258226146813419],[5.8434788923497925,9.802107869477089],[9.910321857998124,7.659136169062284],[0.5198500163217978,4.849862895552421],[4.251084497379791,3.124687976797196],[1.1280225325085014,0.22181942898096052],[9.428725220109108,0.41049420411000015],[8.844683886513963,2.5218956727510333],[7.040777459553189,6.874871682022606],[3.0444270567318146,9.326736393393945],[5.828687773747658,1.1975672930277015],[6.3906700012484,5.489702873490934],[7.547056019870542,1.3943696514144055],[9.468529485973567,7.112329989132889],[0.7820171376527696,5.934952607976385],[6.604926150732595,3.448061455929794],[9.19121830275391,4.1997086825467855],[0.4593588487404743,5.135545255795938],[1.9504699949520254,6.675182466950006],[7.513635431815635,1.7145709280537902],[7.366928367793342,5.533361458213194],[7.6186404329832955,4.498216711224191],[9.883564634854173,3.7110122063477924],[3.662009405601656,1.288808886813555],[9.138034541874166,2.716594417175445],[1.3708511073525842,1.5218115478362826],[0.03671470417611955,7.4275081678054615],[8.456802582778296,7.501044052645181],[1.7689477210411186,9.580469459432052],[1.3350445989117476,1.0194822423806416],[9.733530036454601,8.674221457964563],[2.785961578054068,6.329802723100583],[5.3576339155451,9.216384525207959],[2.6358461559609014,1.4421455231385716],[6.331597681767929,9.266197681620262],[9.725322576147544,2.228148997496331],[4.859030423537161,2.6181243772438254],[5.871710180469644,4.9546025371151465],[4.413939801342435,9.603538995785783],[9.145567542107878,0.46615383462384474],[5.161523175516331,3.2586681394366677],[8.919736264762003,3.843294596650868],[5.477571605161784,9.759090593354996],[9.466906397805658,2.887155143145388]]}\" data-images=\"null\" data-options=\"{&quot;tooltips&quot;:true,&quot;description&quot;:null,&quot;zoom&quot;:false,&quot;height&quot;:null,&quot;width&quot;:600,&quot;brush&quot;:true}\" id=\"viz-e9246dc0-75f4-4961-a98c-79ff42ddea4b\" data-initialized=\"false\" class=\"feed-item\"></div></div></div></div><script>window.lightning = window.lightning || {};\n",
       "window.lightning.host = \"http://public.lightning-viz.org/\" || 'http://127.0.0.1:3000/';\n",
       "window.lightning.vizCount = (window.lightning.vizCount + 1) || 1;\n",
       "window.lightning.requiredVizTypes = window.lightning.requiredVizTypes || [];\n",
       "if(window.lightning.requiredVizTypes.indexOf(\"scatter\") === -1) {\n",
       "    window.lightning.requiredVizTypes.push(\"scatter\");\n",
       "}\n",
       "window._require = window.require;\n",
       "window.require = undefined;\n",
       "window._define = window.define;\n",
       "window.define = undefined;</script><script src=\"http://public.lightning-viz.org/js/embed.js\"></script>"
      ],
      "text/plain": [
       "<lightning.types.plots.Scatter at 0x1057c5e50>"
      ]
     },
     "execution_count": 4,
     "metadata": {},
     "output_type": "execute_result"
    }
   ],
   "source": [
    "x = random.rand(100) * 10\n",
    "y = random.rand(100) * 10\n",
    "\n",
    "viz = lgn.scatter(x, y, brush=True, zoom=False)\n",
    "viz"
   ]
  },
  {
   "cell_type": "markdown",
   "metadata": {},
   "source": [
    "Let's say I use the brush in the visualization above to select all points between 0 and 4. Below, I grab those points, and replot them -- note the new scale."
   ]
  },
  {
   "cell_type": "code",
   "execution_count": 5,
   "metadata": {
    "collapsed": true
   },
   "outputs": [],
   "source": [
    "sx, sy = viz.points()"
   ]
  },
  {
   "cell_type": "code",
   "execution_count": 6,
   "metadata": {
    "collapsed": false
   },
   "outputs": [
    {
     "data": {
      "text/html": [
       "<meta name=\"viewport\" content=\"width=device-width, initial-scale=1, maximum-scale=1\"/><meta http-equiv=\"X-UA-Compatible\" content=\"IE=10; IE=9; IE=8; IE=7; IE=EDGE\"/><meta charset=\"UTF-8\"/><link href=\"//fonts.googleapis.com/css?family=Open+Sans:400,700\" rel=\"stylesheet\" type=\"text/css\"/><link rel=\"stylesheet\" href=\"http://public.lightning-viz.org/css/app.css\"/><link rel=\"stylesheet\" href=\"http://public.lightning-viz.org/css/dynamic/viz/?visualizations[]=scatter\"/><div id=\"lightning-body\" class=\"container content wrap push\"><div class=\"feed-container\"><div data-model=\"visualization\" data-model-id=\"936477ea-3eb5-4347-a9af-616528b2af3c\" class=\"feed-item-container\"><div data-type=\"lightning-scatter\" data-data=\"{&quot;points&quot;:[[0.8258598732239475,3.4853857331209506],[1.909715990014308,1.057135036458623],[1.9175372343222596,2.5933059933520664],[4.595859421289319,1.8611759702591468],[2.7150203811520592,4.930773013121451],[4.514351506232861,4.349831844509911],[0.2921494629632948,4.239643745373424],[4.078205711702111,0.9732489551428758],[0.321864675128144,5.181351862299122],[5.772775295670721,0.3910377056417369],[5.588114096329402,3.282476396287751],[3.2064139823160085,2.4462936437145277],[0.8242355842992322,0.3274307312250746],[3.070740753565776,3.7318247976448204],[3.411138385264403,3.7149423896685896],[3.678010193451644,5.178614194053623],[2.650903471059356,1.5531093187826739],[4.6856984207723436,0.47773362948684506],[5.580771469450269,3.4686770267466462],[0.5198500163217978,4.849862895552421],[4.251084497379791,3.124687976797196],[1.1280225325085014,0.22181942898096052],[5.828687773747658,1.1975672930277015],[0.7820171376527696,5.934952607976385],[0.4593588487404743,5.135545255795938],[3.662009405601656,1.288808886813555],[1.3708511073525842,1.5218115478362826],[1.3350445989117476,1.0194822423806416],[2.6358461559609014,1.4421455231385716],[4.859030423537161,2.6181243772438254],[5.871710180469644,4.9546025371151465],[5.161523175516331,3.2586681394366677]]}\" data-images=\"null\" data-options=\"{&quot;tooltips&quot;:true,&quot;description&quot;:null,&quot;zoom&quot;:false,&quot;height&quot;:null,&quot;width&quot;:600,&quot;brush&quot;:true}\" id=\"viz-936477ea-3eb5-4347-a9af-616528b2af3c\" data-initialized=\"false\" class=\"feed-item\"></div></div></div></div><script>window.lightning = window.lightning || {};\n",
       "window.lightning.host = \"http://public.lightning-viz.org/\" || 'http://127.0.0.1:3000/';\n",
       "window.lightning.vizCount = (window.lightning.vizCount + 1) || 1;\n",
       "window.lightning.requiredVizTypes = window.lightning.requiredVizTypes || [];\n",
       "if(window.lightning.requiredVizTypes.indexOf(\"scatter\") === -1) {\n",
       "    window.lightning.requiredVizTypes.push(\"scatter\");\n",
       "}\n",
       "window._require = window.require;\n",
       "window.require = undefined;\n",
       "window._define = window.define;\n",
       "window.define = undefined;</script><script src=\"http://public.lightning-viz.org/js/embed.js\"></script>"
      ],
      "text/plain": [
       "<lightning.types.plots.Scatter at 0x1043dc4d0>"
      ]
     },
     "execution_count": 6,
     "metadata": {},
     "output_type": "execute_result"
    }
   ],
   "source": [
    "lgn.scatter(sx, sy, zoom=False)"
   ]
  },
  {
   "cell_type": "markdown",
   "metadata": {},
   "source": [
    "I can use a different accessor, `selected`, to grab the indices of the selected points."
   ]
  },
  {
   "cell_type": "code",
   "execution_count": 7,
   "metadata": {
    "collapsed": true
   },
   "outputs": [],
   "source": [
    "inds = viz.selected()"
   ]
  },
  {
   "cell_type": "markdown",
   "metadata": {},
   "source": [
    "Let's replot all points, but show the selected ones in a different color."
   ]
  },
  {
   "cell_type": "code",
   "execution_count": 8,
   "metadata": {
    "collapsed": false
   },
   "outputs": [
    {
     "data": {
      "text/html": [
       "<meta name=\"viewport\" content=\"width=device-width, initial-scale=1, maximum-scale=1\"/><meta http-equiv=\"X-UA-Compatible\" content=\"IE=10; IE=9; IE=8; IE=7; IE=EDGE\"/><meta charset=\"UTF-8\"/><link href=\"//fonts.googleapis.com/css?family=Open+Sans:400,700\" rel=\"stylesheet\" type=\"text/css\"/><link rel=\"stylesheet\" href=\"http://public.lightning-viz.org/css/app.css\"/><link rel=\"stylesheet\" href=\"http://public.lightning-viz.org/css/dynamic/viz/?visualizations[]=scatter\"/><div id=\"lightning-body\" class=\"container content wrap push\"><div class=\"feed-container\"><div data-model=\"visualization\" data-model-id=\"7820c3c0-d009-4561-a158-959fac93ba7d\" class=\"feed-item-container\"><div data-type=\"lightning-scatter\" data-data=\"{&quot;points&quot;:[[1.4963736261496074,7.015118201201216],[6.508330241703994,1.2927310478485277],[0.8258598732239475,3.4853857331209506],[1.909715990014308,1.057135036458623],[9.404182723638446,4.707730463463595],[7.663714758077756,5.48019911914647],[1.9175372343222596,2.5933059933520664],[1.740836221114721,8.018108523791135],[8.290888245774763,2.3170738137241087],[4.595859421289319,1.8611759702591468],[8.855472114375134,7.890048533228774],[2.7150203811520592,4.930773013121451],[2.5849696113092135,8.867794339852315],[9.302341430218064,9.482308622180991],[4.514351506232861,4.349831844509911],[0.2921494629632948,4.239643745373424],[9.846411561293136,2.2905252613673666],[4.078205711702111,0.9732489551428758],[9.591944833277337,8.511798507731426],[7.005629619212118,5.795042390602976],[6.430443514893823,9.54930628488798],[0.321864675128144,5.181351862299122],[5.772775295670721,0.3910377056417369],[5.588114096329402,3.282476396287751],[1.3789605392698523,9.147133979803442],[3.157112180323943,6.310424443053712],[3.2064139823160085,2.4462936437145277],[0.8756200054748775,9.4078222832009],[2.3393102310174663,7.194494007678549],[7.2389004786894375,4.175379809064619],[3.5456118945340354,6.753069650997854],[0.8242355842992322,0.3274307312250746],[7.019895014641168,8.905484648330479],[6.726112464163104,5.540346350671622],[4.83387758339863,9.48530308929801],[0.7223387088635069,7.638736102986792],[9.13306598839578,3.0897704117601044],[6.469428847909966,0.5968333506283585],[3.070740753565776,3.7318247976448204],[3.411138385264403,3.7149423896685896],[5.982240633582917,7.277058177369038],[8.59887337542294,7.008022702094418],[9.847804442125396,8.403757877203155],[8.210508629073725,2.349705948898123],[0.21637018230443616,8.91185200970141],[3.678010193451644,5.178614194053623],[2.4956828059366822,9.739073804685521],[6.481508412302258,5.850865744615358],[4.964148137265722,7.738680020370924],[2.650903471059356,1.5531093187826739],[4.6856984207723436,0.47773362948684506],[8.98283064977118,1.4339609442862211],[5.580771469450269,3.4686770267466462],[6.087437169834179,1.6910125684468225],[1.2900085088463753,8.86907917942172],[6.987263784476076,0.6268165646657653],[8.615753667053559,6.258226146813419],[5.8434788923497925,9.802107869477089],[9.910321857998124,7.659136169062284],[0.5198500163217978,4.849862895552421],[4.251084497379791,3.124687976797196],[1.1280225325085014,0.22181942898096052],[9.428725220109108,0.41049420411000015],[8.844683886513963,2.5218956727510333],[7.040777459553189,6.874871682022606],[3.0444270567318146,9.326736393393945],[5.828687773747658,1.1975672930277015],[6.3906700012484,5.489702873490934],[7.547056019870542,1.3943696514144055],[9.468529485973567,7.112329989132889],[0.7820171376527696,5.934952607976385],[6.604926150732595,3.448061455929794],[9.19121830275391,4.1997086825467855],[0.4593588487404743,5.135545255795938],[1.9504699949520254,6.675182466950006],[7.513635431815635,1.7145709280537902],[7.366928367793342,5.533361458213194],[7.6186404329832955,4.498216711224191],[9.883564634854173,3.7110122063477924],[3.662009405601656,1.288808886813555],[9.138034541874166,2.716594417175445],[1.3708511073525842,1.5218115478362826],[0.03671470417611955,7.4275081678054615],[8.456802582778296,7.501044052645181],[1.7689477210411186,9.580469459432052],[1.3350445989117476,1.0194822423806416],[9.733530036454601,8.674221457964563],[2.785961578054068,6.329802723100583],[5.3576339155451,9.216384525207959],[2.6358461559609014,1.4421455231385716],[6.331597681767929,9.266197681620262],[9.725322576147544,2.228148997496331],[4.859030423537161,2.6181243772438254],[5.871710180469644,4.9546025371151465],[4.413939801342435,9.603538995785783],[9.145567542107878,0.46615383462384474],[5.161523175516331,3.2586681394366677],[8.919736264762003,3.843294596650868],[5.477571605161784,9.759090593354996],[9.466906397805658,2.887155143145388]],&quot;group&quot;:[0,0,1,1,0,0,1,0,0,1,0,1,0,0,1,1,0,1,0,0,0,1,1,1,0,0,1,0,0,0,0,1,0,0,0,0,0,0,1,1,0,0,0,0,0,1,0,0,0,1,1,0,1,0,0,0,0,0,0,1,1,1,0,0,0,0,1,0,0,0,1,0,0,1,0,0,0,0,0,1,0,1,0,0,0,1,0,0,0,1,0,0,1,1,0,0,1,0,0,0]}\" data-images=\"null\" data-options=\"{&quot;tooltips&quot;:true,&quot;description&quot;:null,&quot;zoom&quot;:false,&quot;height&quot;:null,&quot;width&quot;:600,&quot;brush&quot;:true}\" id=\"viz-7820c3c0-d009-4561-a158-959fac93ba7d\" data-initialized=\"false\" class=\"feed-item\"></div></div></div></div><script>window.lightning = window.lightning || {};\n",
       "window.lightning.host = \"http://public.lightning-viz.org/\" || 'http://127.0.0.1:3000/';\n",
       "window.lightning.vizCount = (window.lightning.vizCount + 1) || 1;\n",
       "window.lightning.requiredVizTypes = window.lightning.requiredVizTypes || [];\n",
       "if(window.lightning.requiredVizTypes.indexOf(\"scatter\") === -1) {\n",
       "    window.lightning.requiredVizTypes.push(\"scatter\");\n",
       "}\n",
       "window._require = window.require;\n",
       "window.require = undefined;\n",
       "window._define = window.define;\n",
       "window.define = undefined;</script><script src=\"http://public.lightning-viz.org/js/embed.js\"></script>"
      ],
      "text/plain": [
       "<lightning.types.plots.Scatter at 0x1043dc950>"
      ]
     },
     "execution_count": 8,
     "metadata": {},
     "output_type": "execute_result"
    }
   ],
   "source": [
    "groups = zeros(100)\n",
    "groups[inds] = 1\n",
    "\n",
    "lgn.scatter(x, y, group=groups, zoom=False)"
   ]
  }
 ],
 "metadata": {
  "kernelspec": {
   "display_name": "Python 2",
   "language": "python",
   "name": "python2"
  },
  "language_info": {
   "codemirror_mode": {
    "name": "ipython",
    "version": 2
   },
   "file_extension": ".py",
   "mimetype": "text/x-python",
   "name": "python",
   "nbconvert_exporter": "python",
   "pygments_lexer": "ipython2",
   "version": "2.7.9"
  }
 },
 "nbformat": 4,
 "nbformat_minor": 0
}
