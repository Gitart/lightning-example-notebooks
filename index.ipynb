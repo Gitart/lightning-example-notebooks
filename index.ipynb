{
 "cells": [
  {
   "cell_type": "markdown",
   "metadata": {},
   "source": [
    "<img style='float: left' align='left' src=\"http://lightning-viz.org/images/logo.png\">\n",
    "<br>\n",
    "<br>\n",
    "<h1 style=\"font-size:40px; margin-top:-10px\">&nbsp;&nbsp;&nbsp;&nbsp;&nbsp;<a href='http://lightning-viz.org/'><font color='#9175f0'>Lightning</font></a> and the Jupyter notebook</h1>"
   ]
  },
  {
   "cell_type": "markdown",
   "metadata": {},
   "source": [
    "<p style=\"margin-right:40%; margin-left:5%; font-size:16px\">Lightning is a framework for <b>data visualization</b> providing API-based access to reproducible, web-based, interactive visualizations. It includes a <b>core set</b> of visualization types, but is built for extendability and customization. Lightning supports modern web libraries like <b>d3.js</b> and <b>three.js</b>, and is designed for interactivity and continuously updating data streams.</p>"
   ]
  },
  {
   "cell_type": "markdown",
   "metadata": {},
   "source": [
    "<br>\n",
    "<br>\n",
    "<a class='button' href='http://lightning-viz.org/lightning-python/'>Python docs</a>\n",
    "<a class='button' href='http://lightning-viz.org'>Project page</a>\n",
    "<a class='button' href='https://github.com/lightning-viz'>Github</a>\n",
    "<a class='button' href='https://gitter.im/lightning-viz/lightning?utm_source=badge&utm_medium=badge&utm_campaign=pr-badge&utm_content=badge'>Chatroom</a>\n",
    "<br>\n",
    "<br>"
   ]
  },
  {
   "cell_type": "markdown",
   "metadata": {},
   "source": [
    "<hr style=\"border-top-width: 4px; border-top-color: #8F7BD9;\">"
   ]
  },
  {
   "cell_type": "markdown",
   "metadata": {},
   "source": [
    "<h1>Select a topic to see an example notebook</h1>"
   ]
  },
  {
   "cell_type": "markdown",
   "metadata": {},
   "source": [
    "<hr>"
   ]
  },
  {
   "cell_type": "markdown",
   "metadata": {},
   "source": [
    "## Plots\n",
    "\n",
    "<br>\n",
    "\n",
    "<a data-content=\"Scatter\" href=\"http://nbviewer.ipython.org/github/lightning-viz/lightning-example-notebooks/tree/master/plots/scatter.ipynb\" class=\"test\"><img class='thumbnail' src=\"https://raw.githubusercontent.com/lightning-viz/lightning-default-index/master/thumbnails/scatter.png\"></a>\n",
    "\n",
    "<a data-content=\"Line\" href=\"http://nbviewer.ipython.org/github/lightning-viz/lightning-example-notebooks/tree/master/plots/line.ipynb\" class=\"test\"><img class='thumbnail' src=\"https://raw.githubusercontent.com/lightning-viz/lightning-default-index/master/thumbnails/line.png\"></a>\n",
    "\n",
    "<a data-content=\"Force\" href=\"http://nbviewer.ipython.org/github/lightning-viz/lightning-example-notebooks/tree/master/plots/force.ipynb\" class=\"test\"><img class='thumbnail' src=\"https://raw.githubusercontent.com/lightning-viz/lightning-default-index/master/thumbnails/force.png\"></a>\n",
    "\n",
    "<a data-content=\"Graph\" href=\"http://nbviewer.ipython.org/github/lightning-viz/lightning-example-notebooks/tree/master/plots/graph.ipynb\" class=\"test\"><img class='thumbnail' src=\"https://raw.githubusercontent.com/lightning-viz/lightning-default-index/master/thumbnails/graph.png\"></a>\n",
    "\n",
    "<a data-content=\"Matrix\" href=\"http://nbviewer.ipython.org/github/lightning-viz/lightning-example-notebooks/tree/master/plots/matrix.ipynb\" class=\"test\"><img class='thumbnail' src=\"https://raw.githubusercontent.com/lightning-viz/lightning-default-index/master/thumbnails/adjacency.png\"></a>\n",
    "\n",
    "<a data-content=\"Map\" href=\"http://nbviewer.ipython.org/github/lightning-viz/lightning-example-notebooks/tree/master/plots/map.ipynb\" class=\"test\"><img class='thumbnail' src=\"https://raw.githubusercontent.com/lightning-viz/lightning-default-index/master/thumbnails/map.png\"></a>\n",
    "\n",
    "<a data-content=\"Histogram\" href=\"http://nbviewer.ipython.org/github/lightning-viz/lightning-example-notebooks/tree/master/plots/histogram.ipynb\" class=\"test\"><img class='thumbnail' src=\"https://raw.githubusercontent.com/lightning-viz/lightning-default-index/master/thumbnails/histogram.png\"></a>\n",
    "\n",
    "<a data-content=\"Circle\" href=\"http://nbviewer.ipython.org/github/lightning-viz/lightning-example-notebooks/tree/master/plots/circle.ipynb\" class=\"test\"><img class='thumbnail' src=\"https://raw.githubusercontent.com/lightning-viz/lightning-default-index/master/thumbnails/circle.png\"></a>\n"
   ]
  },
  {
   "cell_type": "markdown",
   "metadata": {},
   "source": [
    "<hr>"
   ]
  },
  {
   "cell_type": "markdown",
   "metadata": {},
   "source": [
    "## Images\n",
    "\n",
    "<br>\n",
    "\n",
    "<a data-content=\"Image\" href=\"http://nbviewer.ipython.org/github/lightning-viz/lightning-example-notebooks/tree/master/images/image.ipynb\" class=\"test\"><img class='thumbnail' src=\"https://raw.githubusercontent.com/lightning-viz/lightning-default-index/master/thumbnails/image.png\"></a>\n",
    "\n",
    "<a data-content=\"Image poly\" href=\"http://nbviewer.ipython.org/github/lightning-viz/lightning-example-notebooks/tree/master/images/image-poly.ipynb\" class=\"test\"><img class='thumbnail' src=\"https://raw.githubusercontent.com/lightning-viz/lightning-default-index/master/thumbnails/image-poly.png\"></a>\n",
    "\n",
    "<a data-content=\"Gallery\" href=\"http://nbviewer.ipython.org/github/lightning-viz/lightning-example-notebooks/tree/master/images/gallery.ipynb\" class=\"test\"><img class='thumbnail' src=\"https://raw.githubusercontent.com/lightning-viz/lightning-default-index/master/thumbnails/gallery.png\"></a>\n"
   ]
  },
  {
   "cell_type": "markdown",
   "metadata": {},
   "source": [
    "<hr>"
   ]
  },
  {
   "cell_type": "markdown",
   "metadata": {},
   "source": [
    "## 3D\n",
    "\n",
    "<br>\n",
    "\n",
    "<a data-content=\"Scatter3\" href=\"http://nbviewer.ipython.org/github/lightning-viz/lightning-example-notebooks/tree/master/3D/scatter3.ipynb\" class=\"test\"><img class='thumbnail' src=\"https://raw.githubusercontent.com/lightning-viz/lightning-default-index/master/thumbnails/scatter-3.png\"></a>\n",
    "\n",
    "<a data-content=\"Volume\" href=\"http://nbviewer.ipython.org/github/lightning-viz/lightning-example-notebooks/tree/master/3D/volume.ipynb\" class=\"test\"><img class='thumbnail' src=\"https://raw.githubusercontent.com/lightning-viz/lightning-default-index/master/thumbnails/volume.png\"></a>"
   ]
  },
  {
   "cell_type": "markdown",
   "metadata": {},
   "source": [
    "## Options, modes, and interactivity\n",
    "\n",
    "<br>\n",
    "\n",
    "<a data-content=\"Brushing\" href=\"http://nbviewer.ipython.org/github/lightning-viz/lightning-example-notebooks/tree/master/misc/brushing.ipynb\" class=\"test\"><img class='thumbnail' src=\"https://raw.githubusercontent.com/lightning-viz/lightning-default-index/master/thumbnails/brushing.png\"></a>\n",
    "\n",
    "<a data-content=\"Tooltops\" href=\"http://nbviewer.ipython.org/github/lightning-viz/lightning-example-notebooks/tree/master/misc/tooltips.ipynb\" class=\"test\"><img class='thumbnail' src=\"https://raw.githubusercontent.com/lightning-viz/lightning-default-index/master/thumbnails/tooltips.png\"></a>\n",
    "\n",
    "<a data-content=\"Sizing\" href=\"http://nbviewer.ipython.org/github/lightning-viz/lightning-example-notebooks/tree/master/misc/sizing.ipynb\" class=\"test\"><img class='thumbnail' src=\"https://raw.githubusercontent.com/lightning-viz/lightning-default-index/master/thumbnails/sizing.png\"></a>\n",
    "\n",
    "<a data-content=\"Severless\" href=\"http://nbviewer.ipython.org/github/lightning-viz/lightning-example-notebooks/tree/master/misc/severless.ipynb\" class=\"test\"><img class='thumbnail' src=\"https://raw.githubusercontent.com/lightning-viz/lightning-default-index/master/thumbnails/local.png\"></a>\n",
    "\n"
   ]
  },
  {
   "cell_type": "markdown",
   "metadata": {},
   "source": [
    "<hr>"
   ]
  },
  {
   "cell_type": "markdown",
   "metadata": {},
   "source": [
    "<hr style=\"border-top-width: 4px; border-top-color: #8F7BD9;\">"
   ]
  },
  {
   "cell_type": "markdown",
   "metadata": {},
   "source": [
    "<br>\n",
    "# Questions? Contact us:[@mathisonian](http://twitter.com/mathisonian) [@thefreemanlab](http://twitter.com/thefreemanlab) \n",
    "\n",
    "<a style='float:left' href='https://gitter.im/lightning-viz/lightning?utm_source=badge&utm_medium=badge&utm_campaign=pr-badge&utm_content=badge'><img src='https://badges.gitter.im/Join%20Chat.svg'></a>\n",
    "\n",
    "<br>\n",
    "<br>\n",
    "<br>"
   ]
  },
  {
   "cell_type": "code",
   "execution_count": 23,
   "metadata": {
    "collapsed": false
   },
   "outputs": [
    {
     "data": {
      "text/html": [
       "<style>\n",
       "\n",
       "@font-face{\n",
       "    font-family:\"AvenirNext-UltraLight\";\n",
       "    src:url(\"styles/fonts/17c55b27-e9ab-43cd-b948-d49f97480d68.eot?#iefix\");\n",
       "    src:url(\"styles/fonts/17c55b27-e9ab-43cd-b948-d49f97480d68.eot?#iefix\") format(\"eot\"),url(\"styles/fonts/fa19948e-5e38-4909-b31e-41acd170d6f2.woff\") format(\"woff\"),url(\"styles/fonts/6de0ce4d-9278-467b-b96f-c1f5f0a4c375.ttf\") format(\"truetype\"),url(\"styles/fonts/9fd4ea0c-b19a-4b21-9fdf-37045707dd78.svg#9fd4ea0c-b19a-4b21-9fdf-37045707dd78\") format(\"svg\");\n",
       "}\n",
       "\n",
       "@font-face{\n",
       "    font-family:\"AvenirNext\";\n",
       "    src:url(\"styles/fonts/e9167238-3b3f-4813-a04a-a384394eed42.eot?#iefix\");\n",
       "    src:url(\"styles/fonts/e9167238-3b3f-4813-a04a-a384394eed42.eot?#iefix\") format(\"eot\"),url(\"styles/fonts/1e9892c0-6927-4412-9874-1b82801ba47a.woff\") format(\"woff\"),url(\"styles/fonts/46cf1067-688d-4aab-b0f7-bd942af6efd8.ttf\") format(\"truetype\"),url(\"styles/fonts/52a192b1-bea5-4b48-879f-107f009b666f.svg#52a192b1-bea5-4b48-879f-107f009b666f\") format(\"svg\");\n",
       "}\n",
       "\n",
       "body, p {\n",
       "  color: #2d3c48;\n",
       "  font-family: 'AvenirNext', sans-serif;\n",
       "  font-weight: normal;\n",
       "  -webkit-font-smoothing: antialiased;\n",
       "}\n",
       "\n",
       ".thumbnail {\n",
       "\tfloat: left;\n",
       "\twidth: 66%;\n",
       "\theight: 66%;\n",
       "\tmargin-right: 10px;\n",
       "\t-web-kit-shadow: None !important;\n",
       "\tbox-shadow: None !important;\n",
       "  margin-bottom: 0px;\n",
       "}\n",
       "\n",
       ".test {\n",
       "    float: left;\n",
       "    position: relative;\n",
       "    width:21%;\n",
       "    height:100%;\n",
       "    margin-right: 20px;\n",
       "    margin-bottom: 18px;\n",
       "}\n",
       ".test img {\n",
       "    float: left;\n",
       "    width:100%;\n",
       "    height:100%;\n",
       "}\n",
       ".test:after {\n",
       "    font-size: 40px;\n",
       "    line-height: 1.1em;\n",
       "    text-align: center;\n",
       "    content: attr(data-content);\n",
       "    color:#fff;\n",
       "    position: absolute;\n",
       "    width:100%; height:100%;\n",
       "    top:0px; left:0px;\n",
       "    background:rgba(0,0,0,0.6);\n",
       "    opacity:0;\n",
       "    transition: all 0.5s;\n",
       "    -webkit-transition: all 0.5s;\n",
       "    padding-left: 5px;\n",
       "    padding-right: 5px;\n",
       "    padding-top: 20%;\n",
       "    border-radius: 4px;\n",
       "    margin-right: 10px;\n",
       "}\n",
       ".test:hover:after {\n",
       "    opacity:0.8;\n",
       "}\n",
       "\n",
       "h1,\n",
       "h2,\n",
       "h3,\n",
       "h4,\n",
       "h5,\n",
       "h6 {\n",
       "    font-family: 'AvenirNext-UltraLight', sans-serif;\n",
       "    font-weight: bold;\n",
       "    color: #545E6B;\n",
       "}\n",
       "\n",
       "p {\n",
       "    color: #222;\n",
       "}\n",
       "\n",
       "a {\n",
       "    text-decoration: none !important;\n",
       "    color: #8F7BD9;\n",
       "    line-height: 19px;\n",
       "    transition: all .25s; \n",
       "    -moz-transition: all .25s; \n",
       "    -webkit-transition: all .25s;\n",
       "}\n",
       "\n",
       "a:hover {\n",
       "\tcolor: #A997EB;\n",
       "\ttext-decoration: none !important;\n",
       "}\n",
       "\n",
       "a:active {\n",
       "\tcolor: #59A2E6;\n",
       "\ttext-decoration: none !important;\n",
       "}\n",
       "\n",
       ".button {\n",
       "  padding-left: 40px;\n",
       "  padding-right: 40px;\n",
       "  padding-top: 10px;\n",
       "  padding-bottom: 10px;\n",
       "  margin-right: 20px;\n",
       "  border: 1px solid #9175f0;\n",
       "  box-shadow: inset 0px 1px 0px 0px rgba(255,255,255,0.30);\n",
       "  border-radius: 3px;\n",
       "  font-size: 24px;\n",
       "  color: #9175f0;\n",
       "  line-height: 26px;\n",
       "}\n",
       "\n",
       ".button:hover {\n",
       "  color: #A997EB;\n",
       "  background-color: rgb(240,240,240);\n",
       "\n",
       "}\n"
      ],
      "text/plain": [
       "<IPython.core.display.HTML object>"
      ]
     },
     "metadata": {},
     "output_type": "display_data"
    }
   ],
   "source": [
    "# CSS styling\n",
    "from IPython.core.display import display, HTML\n",
    "display(HTML(open('styles/styles.css', 'r').read()));"
   ]
  }
 ],
 "metadata": {
  "kernelspec": {
   "display_name": "Python 2",
   "language": "python",
   "name": "python2"
  },
  "language_info": {
   "codemirror_mode": {
    "name": "ipython",
    "version": 2
   },
   "file_extension": ".py",
   "mimetype": "text/x-python",
   "name": "python",
   "nbconvert_exporter": "python",
   "pygments_lexer": "ipython2",
   "version": "2.7.9"
  }
 },
 "nbformat": 4,
 "nbformat_minor": 0
}
