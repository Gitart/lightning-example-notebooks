{
 "cells": [
  {
   "cell_type": "markdown",
   "metadata": {},
   "source": [
    "# <img style='float: left' src=\"http://lightning-viz.github.io/images/logo.png\"> <br> <br> &nbsp;&nbsp;&nbsp;&nbsp;&nbsp;Matrix plots in <a href='http://lightning-viz.github.io/'><font color='#9175f0'>Lightning</font></a>"
   ]
  },
  {
   "cell_type": "markdown",
   "metadata": {},
   "source": [
    "## <hr> Setup"
   ]
  },
  {
   "cell_type": "code",
   "execution_count": 20,
   "metadata": {
    "collapsed": false
   },
   "outputs": [],
   "source": [
    "from lightning import Lightning\n",
    "\n",
    "from numpy import random, arange, asarray, corrcoef, argsort, array\n",
    "import networkx as nx\n",
    "from sklearn import datasets"
   ]
  },
  {
   "cell_type": "markdown",
   "metadata": {},
   "source": [
    "## Connect to server"
   ]
  },
  {
   "cell_type": "code",
   "execution_count": 2,
   "metadata": {
    "collapsed": false
   },
   "outputs": [
    {
     "data": {
      "text/html": [
       "<div style='margin-top:8px'><img src='data:image/png;base64,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' width='30px' height='35px' style='display: inline-block; padding-right: 10px'></img><span>Lightning initialized</span></div>"
      ],
      "text/plain": [
       "<IPython.core.display.HTML object>"
      ]
     },
     "metadata": {},
     "output_type": "display_data"
    },
    {
     "name": "stdout",
     "output_type": "stream",
     "text": [
      "Connected to server at http://public.lightning-viz.org\n"
     ]
    },
    {
     "data": {
      "application/javascript": [
       "(function e(t,n,r){function s(o,u){if(!n[o]){if(!t[o]){var a=typeof require==\"function\"&&require;if(!u&&a)return a(o,!0);if(i)return i(o,!0);throw new Error(\"Cannot find module '\"+o+\"'\")}var f=n[o]={exports:{}};t[o][0].call(f.exports,function(e){var n=t[o][1][e];return s(n?n:e)},f,f.exports,e,t,n,r)}return n[o].exports}var i=typeof require==\"function\"&&require;for(var o=0;o<r.length;o++)s(r[o]);return s})({1:[function(require,module,exports){\n",
       "window.lightning = window.lightning || {};\n",
       "var lightningCommMap = {};\n",
       "\n",
       "var readCommData = function(commData, field) {\n",
       "    try {\n",
       "        return commData.content.data[field];\n",
       "    } catch (err) {\n",
       "        return;\n",
       "    }\n",
       "};\n",
       "\n",
       "\n",
       "var init_comm = function() {\n",
       "    IPython.notebook.kernel.comm_manager.register_target('lightning', function(comm, data) {\n",
       "        var id = readCommData(data, 'id');\n",
       "        lightningCommMap[id] = comm;\n",
       "    });\n",
       "\n",
       "    window.lightning.comm_map = lightningCommMap;\n",
       "}\n",
       "\n",
       "\n",
       "if(IPython && IPython.notebook) {\n",
       "\n",
       "    if(IPython.notebook.kernel) {\n",
       "        init_comm();\n",
       "    }\n",
       "\n",
       "    IPython.notebook.events.on('kernel_connected.Kernel', init_comm);\n",
       "\n",
       "}\n",
       "\n",
       "\n",
       "},{}]},{},[1])\n",
       "//# sourceMappingURL=data:application/json;base64,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\n"
      ],
      "text/plain": [
       "<IPython.core.display.Javascript object>"
      ]
     },
     "metadata": {},
     "output_type": "display_data"
    }
   ],
   "source": [
    "lgn = Lightning(ipython=True, host='http://public.lightning-viz.org')"
   ]
  },
  {
   "cell_type": "markdown",
   "metadata": {},
   "source": [
    "## <hr> Simple matrix"
   ]
  },
  {
   "cell_type": "markdown",
   "metadata": {},
   "source": [
    "Matrices are useful ways to visualize dense tables and correlation matrices data.\n",
    "<br>\n",
    "First we show a random matrix with default styles.\n",
    "<br>\n",
    "You can us the arrow keys to change the contrast (up/down) or the colormap (left/right)."
   ]
  },
  {
   "cell_type": "code",
   "execution_count": 3,
   "metadata": {
    "collapsed": false,
    "scrolled": true
   },
   "outputs": [
    {
     "data": {
      "text/html": [
       "<meta name=\"viewport\" content=\"width=device-width, initial-scale=1, maximum-scale=1\"/><meta http-equiv=\"X-UA-Compatible\" content=\"IE=10; IE=9; IE=8; IE=7; IE=EDGE\"/><meta charset=\"UTF-8\"/><link href=\"//fonts.googleapis.com/css?family=Open+Sans:400,700\" rel=\"stylesheet\" type=\"text/css\"/><link rel=\"stylesheet\" href=\"http://public.lightning-viz.org/css/app.css\"/><link rel=\"stylesheet\" href=\"http://public.lightning-viz.org/css/dynamic/viz/?visualizations[]=matrix\"/><div id=\"lightning-body\" class=\"container content wrap push\"><div class=\"feed-container\"><div data-model=\"visualization\" data-model-id=\"98552000-5d2b-41b1-aec9-aa2d94962e16\" class=\"feed-item-container\"><div data-type=\"lightning-matrix\" data-data=\"{&quot;matrix&quot;:[[1.229933662376519,1.7141773860209475,-1.9218415257907866,0.6433943411474095,1.4732159172571089,-1.558696134442516,0.3466512487942867,-0.1421905964672615,-0.03813948317827744,0.16456865740563534],[-0.08063872834110802,0.1482350166340161,0.26385979499903206,-0.729961420150215,-1.7935486393280264,-1.1601247614797143,-1.3217753830453403,0.8370221921848573,-0.4556450401167169,-1.0657807521845084],[-0.7796378407929814,-0.9826908366240784,-0.39590946124491655,2.321304584164619,-1.1409654532410594,-1.4742511186172873,1.5384256630946478,-0.6488237970079704,1.2552840031055397,0.4861287541389143],[0.1975792881026496,1.0829167965612543,-0.15215384416333658,-1.1572714655247447,1.747113240588661,0.24133850963161751,0.07941706065453558,-1.3250303120153135,0.9982480502386225,-0.2601756142378185],[2.0988700529445397,-1.2519055699459116,-0.9688505159966949,-0.32061332783555213,-0.6250323227872518,0.3088106788279528,0.998852905458696,0.5745669288880904,0.100652361350996,-0.3523646949066769],[0.3452349440331417,-0.9913671780912955,0.34422743818931156,-1.0612633574909194,2.284234761405187,-1.9077562056679291,-0.18074323958110852,2.100949496425364,0.9503849186765776,-0.5636515479621466],[0.389946628695784,1.5533095537179094,0.3730151769881901,0.4147062614735417,-0.7872008396696286,-0.5177648192822224,-0.3435052456276505,2.1461170610430007,-0.9028694604637849,-0.13763534018266974],[1.8097141430653074,2.0023416827408846,-0.3661651942486354,0.24086903164764814,-0.01846221893155805,0.7629819890160657,0.10960055293301146,1.5929056424618078,-0.25763395433450964,0.739587224822098],[-1.4520622518208453,-0.3533764678085646,-1.5563678916886343,0.6280497249825622,-1.3243799461937422,2.1726876228535104,1.1401689482245136,1.0235448683694384,0.8532906395538127,-0.2823714466562178],[0.03679355028484487,0.43459381185795115,-0.4208218956265998,1.0758113673808698,0.3470114603607871,-0.6063825022960494,-0.039449539345526564,-0.15608149111373298,-0.6680389708914102,0.06853610600085122]]}\" data-images=\"null\" data-options=\"{&quot;numbers&quot;:false,&quot;width&quot;:600,&quot;description&quot;:null,&quot;height&quot;:null}\" id=\"viz-98552000-5d2b-41b1-aec9-aa2d94962e16\" data-initialized=\"false\" class=\"feed-item\"></div></div></div></div><script>window.lightning = window.lightning || {};\n",
       "window.lightning.host = \"http://public.lightning-viz.org/\" || 'http://127.0.0.1:3000/';\n",
       "window.lightning.vizCount = (window.lightning.vizCount + 1) || 1;\n",
       "window.lightning.requiredVizTypes = window.lightning.requiredVizTypes || [];\n",
       "if(window.lightning.requiredVizTypes.indexOf(\"matrix\") === -1) {\n",
       "    window.lightning.requiredVizTypes.push(\"matrix\");\n",
       "}\n",
       "window._require = window.require;\n",
       "window.require = undefined;\n",
       "window._define = window.define;\n",
       "window.define = undefined;</script><script src=\"http://public.lightning-viz.org/js/embed.js\"></script>"
      ],
      "text/plain": [
       "<lightning.types.plots.Matrix at 0x100777150>"
      ]
     },
     "execution_count": 3,
     "metadata": {},
     "output_type": "execute_result"
    }
   ],
   "source": [
    "mat = random.randn(10,10)\n",
    "lgn.matrix(mat)"
   ]
  },
  {
   "cell_type": "markdown",
   "metadata": {},
   "source": [
    "## <hr> Different shapes"
   ]
  },
  {
   "cell_type": "markdown",
   "metadata": {},
   "source": [
    "Rectanglular matrices will automatically size appropriately."
   ]
  },
  {
   "cell_type": "code",
   "execution_count": 4,
   "metadata": {
    "collapsed": false
   },
   "outputs": [
    {
     "data": {
      "text/html": [
       "<meta name=\"viewport\" content=\"width=device-width, initial-scale=1, maximum-scale=1\"/><meta http-equiv=\"X-UA-Compatible\" content=\"IE=10; IE=9; IE=8; IE=7; IE=EDGE\"/><meta charset=\"UTF-8\"/><link href=\"//fonts.googleapis.com/css?family=Open+Sans:400,700\" rel=\"stylesheet\" type=\"text/css\"/><link rel=\"stylesheet\" href=\"http://public.lightning-viz.org/css/app.css\"/><link rel=\"stylesheet\" href=\"http://public.lightning-viz.org/css/dynamic/viz/?visualizations[]=matrix\"/><div id=\"lightning-body\" class=\"container content wrap push\"><div class=\"feed-container\"><div data-model=\"visualization\" data-model-id=\"a53478f0-2a41-436a-acb7-ccb5a8f83702\" class=\"feed-item-container\"><div data-type=\"lightning-matrix\" data-data=\"{&quot;matrix&quot;:[[1.5362462415043856,0.1559445550414464,-1.7077610464599438,1.382919271156178,-0.9921335741723888,0.1686836289668547,-0.16753878073045916,-0.2182644524978864,-1.1410908379736322,0.0766220130393851,-0.31351445051844296,-1.2414146367995977,0.8240697654110231,0.9269520622951978,0.7083165289575578,-1.2287742665220571,-0.3712837264351435,-0.14906966756246148,-1.7915773200546667,-0.4486596968516544],[0.07551471911847343,0.11416926534732416,0.18234917400383108,1.4154203450845722,-0.5356864799846379,-2.1580965825996006,-0.7869844647443023,2.80057083720931,0.9497431509376811,1.8418034474750997,0.42418772162211665,-2.736271770340892,1.798429515976649,-1.2853314590104679,-1.7651425975927946,-0.12713033602387677,0.732477027751389,-1.0578869860199462,0.5586125070913,0.608352573690966],[-0.006268758420918357,1.7876174620673313,0.4555611881880508,-0.5102890703670382,-0.005614251217291001,2.388074208488672,0.9652725562813688,0.09077389951906802,0.8958475925014279,1.001151956507502,0.14124477980648537,1.4855049467553456,-0.851679891889512,1.986194752007291,-0.9636144401320599,0.06540077133598322,-1.1525447143790637,-1.0138147845951169,-0.5067961504118211,0.0003898445197815451],[0.1285453206998605,-1.4328202202708997,1.2606316245805593,0.2373501896274879,0.12471070893404027,1.3540739369642698,0.3620116509294283,0.4020343388688165,-0.5799688469561444,-0.2369638375967877,-0.34533308806605034,-1.0151036094394779,0.7005969365908855,0.8402146997727399,0.7357438973324432,-0.3555630768566759,-0.40726764702913804,-0.4245128003839276,-0.4224304049099708,1.0293002143911025],[-0.1355891040280788,0.024163882361983035,0.5462613857518841,1.012673633056023,-0.5311354407626268,0.7208004968426006,0.13429234964239742,-0.9960953280331081,0.0744014561786679,2.0311013650567884,-1.1649393493266076,0.12938249299112106,0.5195123687172546,0.6433270071694884,0.11332221497357325,-1.461048385953899,-0.884283868826574,-0.6837035721302817,-0.6895773871686942,0.4202272837100638],[0.6328321304209356,0.613935832688948,1.018940240553515,0.023924054325357352,0.07093417209996118,0.746413672199224,0.8270523166753279,1.1574939739763221,-1.3313145227817602,-0.20918852431441884,0.5850485472013185,-0.861234017207721,-1.472035806505903,0.9624575267278638,0.9591890440718271,1.3369692869771672,-0.2787859612760297,0.917263555856213,-0.5951332401937497,-0.07133281049235408],[1.1951024610226866,0.015860759189388094,0.8377066926160746,-0.5683268446790302,0.6541630432374256,0.5171685532875383,2.043472911660135,-1.929008029810411,1.4308545690325325,0.01922982654486671,-0.33931745303169136,-2.4461838167484675,0.4522282889078548,1.5154076952290356,1.9848540566655848,1.0079784631065019,0.8433341830885305,-1.5734264336138086,0.6987296825899847,-1.751926960802765],[1.1058974642428228,-1.2939934366636097,0.9737142529909977,-0.11323999160426317,-3.0781462233739036,2.0309331761354357,0.7926444116905591,2.4165222171597844,-0.341264098262917,1.61929005993537,0.16873943082972034,0.9524815764835431,0.46512866355427007,0.9955750350428595,-0.8570649961084327,1.3226509073774793,-0.9200584615313974,-1.0291585442497833,0.5650987535758214,0.018154666627374548],[0.49778197237484734,-0.934331903961452,-0.2581169870232171,-1.141596767364846,0.24406580556809152,-0.8010805372911517,0.3007734753925292,1.8583639649631642,-1.7454599131697683,1.7940274449108204,-0.5431832242985247,0.876350011318691,-1.3156794145143154,0.401374687036198,1.5620545719968548,-2.5554271163135693,-0.3861340994971479,-0.38262494817171566,0.24423646043268066,1.7701583769242972],[-0.9517224748983245,-1.294411731662456,0.7497320288274942,-0.8449673826256799,-0.12421938795221016,0.4212872134400378,1.0596064779771508,-1.0703285867587362,-0.4364305363761337,1.6937535756519952,0.5538282218717511,0.4905069577413392,1.2760943642957563,-0.41637147712904,-1.5642935971027279,0.5164370033174952,-1.4999636989416834,-0.8643862176672976,1.7695213993253678,-1.6599458957765456]]}\" data-images=\"null\" data-options=\"{&quot;numbers&quot;:false,&quot;width&quot;:600,&quot;description&quot;:null,&quot;height&quot;:null}\" id=\"viz-a53478f0-2a41-436a-acb7-ccb5a8f83702\" data-initialized=\"false\" class=\"feed-item\"></div></div></div></div><script>window.lightning = window.lightning || {};\n",
       "window.lightning.host = \"http://public.lightning-viz.org/\" || 'http://127.0.0.1:3000/';\n",
       "window.lightning.vizCount = (window.lightning.vizCount + 1) || 1;\n",
       "window.lightning.requiredVizTypes = window.lightning.requiredVizTypes || [];\n",
       "if(window.lightning.requiredVizTypes.indexOf(\"matrix\") === -1) {\n",
       "    window.lightning.requiredVizTypes.push(\"matrix\");\n",
       "}\n",
       "window._require = window.require;\n",
       "window.require = undefined;\n",
       "window._define = window.define;\n",
       "window.define = undefined;</script><script src=\"http://public.lightning-viz.org/js/embed.js\"></script>"
      ],
      "text/plain": [
       "<lightning.types.plots.Matrix at 0x106f24b90>"
      ]
     },
     "execution_count": 4,
     "metadata": {},
     "output_type": "execute_result"
    }
   ],
   "source": [
    "mat = random.randn(10,20)\n",
    "lgn.matrix(mat)"
   ]
  },
  {
   "cell_type": "code",
   "execution_count": 5,
   "metadata": {
    "collapsed": false
   },
   "outputs": [
    {
     "data": {
      "text/html": [
       "<meta name=\"viewport\" content=\"width=device-width, initial-scale=1, maximum-scale=1\"/><meta http-equiv=\"X-UA-Compatible\" content=\"IE=10; IE=9; IE=8; IE=7; IE=EDGE\"/><meta charset=\"UTF-8\"/><link href=\"//fonts.googleapis.com/css?family=Open+Sans:400,700\" rel=\"stylesheet\" type=\"text/css\"/><link rel=\"stylesheet\" href=\"http://public.lightning-viz.org/css/app.css\"/><link rel=\"stylesheet\" href=\"http://public.lightning-viz.org/css/dynamic/viz/?visualizations[]=matrix\"/><div id=\"lightning-body\" class=\"container content wrap push\"><div class=\"feed-container\"><div data-model=\"visualization\" data-model-id=\"5c79b5e9-b958-49b8-b05c-57b831e43e42\" class=\"feed-item-container\"><div data-type=\"lightning-matrix\" data-data=\"{&quot;matrix&quot;:[[0.2808776309519911,0.27882531358619916,1.0477916535281577,0.03510188855815983,0.7567280193068864,-0.6770770231569303,1.4539794890472617,1.1220099993619959,-1.8810894838357328,-0.38751531928383603],[0.3663167428668451,-0.11303718487653949,-0.13356024642749284,-0.7481880317191855,1.4830287093909744,-0.21711598934579887,0.08041027261953296,0.8633262788744422,-2.591437492056178,-2.979678557749479],[-0.45812744556995905,0.3697210966290091,0.18065568793286318,-0.7141246714621053,1.000937465136168,0.30669103318509555,0.7124027252580851,-0.3489586686609093,-0.32380888452896095,0.5092700105215187],[-0.09833826163689395,0.265782693007651,0.09688334555185897,1.3539450671209754,-3.108976986694159,-2.075532172350529,-0.8794063691227302,-0.46939617972652686,0.5448713923352021,-0.03500041894407653],[2.5941921424204044,-1.1202344283868442,-1.0091419986234702,-0.24692824427239293,0.22047940669832916,-1.3601357787291664,0.35615924297398516,0.4251174876577383,0.6880692276941576,0.31190581297793507],[-0.6023063699514223,0.7429308330077979,-0.3905335210362159,-1.216106901683037,-1.9503086288940894,-0.0188332142925367,-1.1942126434037794,0.33775573674048975,-1.835980829977263,-0.10755461025938404],[-0.06303382431193419,-0.8242747178257684,-2.2962540162170453,1.271371346041364,1.0757464123477773,-0.10148601729469942,0.0993700900686885,0.15289518879245448,-0.4263848375371246,-0.6438887875691464],[0.12803326487907046,-0.6654201649082192,-0.06993730307411487,0.5304321144762705,0.5448940025312832,0.7287094880007868,0.8425406678983328,-0.9691935196376489,0.3172146405065311,1.3845198239016212],[-2.611007572835918,-0.23578928870820945,0.9675239488955684,1.5382691237103419,1.1027222189483679,-0.21362064958990507,-1.2727576825642086,0.09842066992034719,-0.48067776315784666,-1.1608482045314743],[0.4864866381658758,-0.9970230689464191,0.3494344029906768,-0.14596560080569596,-1.2510677250605025,0.8160979134319747,0.3529681488166503,-0.3834604810096116,0.09067945842399583,0.8567951045929334],[0.045918536417421156,1.8313748829951724,-2.4106030499969617,-0.04274917914958814,0.22419361415047276,-0.8621994384268606,-1.269731092333771,-0.5458138775256293,1.3060702273506026,0.6708719728983287],[0.6047029886670813,-0.942059544587815,-1.169395864420604,-0.7894767107500013,-0.5055937168432963,0.6737048436936988,0.885906730092911,-0.1636464484812803,0.07672612896946035,0.5687218059828514],[0.9951876666185946,0.7040572530282702,0.8432021325663457,-1.552312499999652,0.23262434794489745,-0.5570892303475302,-1.34847412431355,1.3043000910815328,0.05671311445588618,-0.7244657510463203],[-1.5437021007659824,0.7975525825581784,0.13104398161906938,0.17204211084471355,-1.0796168498617695,0.23396457709123006,1.6265294710696496,0.6416508480217571,0.03157402122556951,-0.9929689127069239],[2.1073201929586984,-0.19039833021607358,-1.0010320955958352,-0.5996607061627096,-0.7536461226989545,-0.4586431829606332,-0.9223426924577712,0.7773096094870129,-0.8235987756452406,0.6417479641701602],[0.4751378540458303,0.1516801194512078,0.2658602566658534,-0.7299716754735059,1.1388491010759514,0.07561102171280136,0.5497392365677898,0.16251812428057574,0.2760758830096056,-0.07750231994010075],[2.4610167423139693,-0.07142441568552037,0.5658371884437676,2.0717347139817885,0.3355688984261303,-0.037049856551274005,-0.5659195062191374,-0.04324216648360517,-0.523443320688781,-0.01475337686443111],[-1.2928193042420912,-1.270271456562397,1.4847706187156453,-1.6623439739795143,0.38339939577554527,-1.3132411108907924,-1.1077263228237728,-0.848787644059331,1.5765002437845161,-1.0101788118501103],[-0.6290030560929861,-0.8442697957090983,1.064631480619862,0.45099513020913795,-1.3697185902305975,0.7424301234868713,-0.03597358681894356,-1.5645377635323705,1.160066992666455,0.002596051309389825],[-0.3997732274650241,-0.08246770697846419,-0.09328601758036269,2.2975399310401396,-0.09074207012622586,0.9907121900934704,-1.309489499514608,-0.7893538035033808,0.5152634425078932,2.1270591051532746]]}\" data-images=\"null\" data-options=\"{&quot;numbers&quot;:false,&quot;width&quot;:600,&quot;description&quot;:null,&quot;height&quot;:null}\" id=\"viz-5c79b5e9-b958-49b8-b05c-57b831e43e42\" data-initialized=\"false\" class=\"feed-item\"></div></div></div></div><script>window.lightning = window.lightning || {};\n",
       "window.lightning.host = \"http://public.lightning-viz.org/\" || 'http://127.0.0.1:3000/';\n",
       "window.lightning.vizCount = (window.lightning.vizCount + 1) || 1;\n",
       "window.lightning.requiredVizTypes = window.lightning.requiredVizTypes || [];\n",
       "if(window.lightning.requiredVizTypes.indexOf(\"matrix\") === -1) {\n",
       "    window.lightning.requiredVizTypes.push(\"matrix\");\n",
       "}\n",
       "window._require = window.require;\n",
       "window.require = undefined;\n",
       "window._define = window.define;\n",
       "window.define = undefined;</script><script src=\"http://public.lightning-viz.org/js/embed.js\"></script>"
      ],
      "text/plain": [
       "<lightning.types.plots.Matrix at 0x1043b0150>"
      ]
     },
     "execution_count": 5,
     "metadata": {},
     "output_type": "execute_result"
    }
   ],
   "source": [
    "mat = random.randn(20,10)\n",
    "lgn.matrix(mat)"
   ]
  },
  {
   "cell_type": "markdown",
   "metadata": {},
   "source": [
    "## <hr> Colors"
   ]
  },
  {
   "cell_type": "markdown",
   "metadata": {},
   "source": [
    "Matrices can be rendered using any colorbrewer colormaps."
   ]
  },
  {
   "cell_type": "code",
   "execution_count": 6,
   "metadata": {
    "collapsed": false
   },
   "outputs": [
    {
     "data": {
      "text/html": [
       "<meta name=\"viewport\" content=\"width=device-width, initial-scale=1, maximum-scale=1\"/><meta http-equiv=\"X-UA-Compatible\" content=\"IE=10; IE=9; IE=8; IE=7; IE=EDGE\"/><meta charset=\"UTF-8\"/><link href=\"//fonts.googleapis.com/css?family=Open+Sans:400,700\" rel=\"stylesheet\" type=\"text/css\"/><link rel=\"stylesheet\" href=\"http://public.lightning-viz.org/css/app.css\"/><link rel=\"stylesheet\" href=\"http://public.lightning-viz.org/css/dynamic/viz/?visualizations[]=matrix\"/><div id=\"lightning-body\" class=\"container content wrap push\"><div class=\"feed-container\"><div data-model=\"visualization\" data-model-id=\"51c6a167-c154-4de0-933a-c1ee74e41cdc\" class=\"feed-item-container\"><div data-type=\"lightning-matrix\" data-data=\"{&quot;matrix&quot;:[[0.4594824053107065,0.36742014818040214,0.6823627758521855,0.10877823508426332,0.12734970502006515,0.2093929380787709,0.21607613796183245,0.015355275729981854,0.6833249865421298,0.3526538938679219],[0.8714657090623811,0.8761906851352538,0.07885444699299349,0.2687136818601997,0.8904755717308618,0.8778717396110061,0.07399042449669657,0.45115252567362907,0.5344719499382373,0.4728088098925636],[0.1756249806695649,0.1718597525020381,0.6985877061888844,0.809813175754323,0.6286655659461827,0.21879667167231365,0.8946097289079519,0.8191935278881802,0.5170101821626772,0.6451118146708625],[0.8496633936916632,0.582996610272997,0.3395211429968571,0.1280707825841677,0.2757989688395026,0.3728836930988021,0.9007597225257847,0.2470693259153991,0.6762438417197633,0.2895346064991168],[0.29270845801225276,0.17805574765467658,0.9596102613113169,0.5707988749184808,0.18797180691025772,0.9329939481326474,0.7454734708255297,0.48849758945160826,0.47221707007515956,0.11569912866415588],[0.5560603625372114,0.34145247749901364,0.6315409478594364,0.9199933339107841,0.6789450281165766,0.425044400621561,0.5169885665271658,0.7310653679247634,0.9172338282394185,0.7213367988077029],[0.5970463877301178,0.06184679781822788,0.523638336367747,0.07464029498400038,0.11241624127409922,0.23137766152722639,0.5673825547805953,0.2379958178934336,0.9441638981665195,0.7899182815883418],[0.09604622499886029,0.2883086032456058,0.07631599437805525,0.6420199598715784,0.6664688923772564,0.6620192476835096,0.6451941256303478,0.004171358666197222,0.017882945145022755,0.2652717652425012],[0.38341351839455007,0.28452380899368734,0.3817899987962403,0.01916778911617012,0.03785415130588765,0.5472527070836328,0.8627941280896259,0.10361353329544154,0.6886398290435881,0.06958918950482207],[0.4003221535255058,0.4537420624436663,0.8701150617686559,0.531522881133456,0.22120205580809194,0.4907005582454783,0.0985760486733065,0.7557584969917885,0.676619526478606,0.8912494780718266]],&quot;colormap&quot;:&quot;Reds&quot;}\" data-images=\"null\" data-options=\"{&quot;numbers&quot;:false,&quot;width&quot;:600,&quot;description&quot;:null,&quot;height&quot;:null}\" id=\"viz-51c6a167-c154-4de0-933a-c1ee74e41cdc\" data-initialized=\"false\" class=\"feed-item\"></div></div></div></div><script>window.lightning = window.lightning || {};\n",
       "window.lightning.host = \"http://public.lightning-viz.org/\" || 'http://127.0.0.1:3000/';\n",
       "window.lightning.vizCount = (window.lightning.vizCount + 1) || 1;\n",
       "window.lightning.requiredVizTypes = window.lightning.requiredVizTypes || [];\n",
       "if(window.lightning.requiredVizTypes.indexOf(\"matrix\") === -1) {\n",
       "    window.lightning.requiredVizTypes.push(\"matrix\");\n",
       "}\n",
       "window._require = window.require;\n",
       "window.require = undefined;\n",
       "window._define = window.define;\n",
       "window.define = undefined;</script><script src=\"http://public.lightning-viz.org/js/embed.js\"></script>"
      ],
      "text/plain": [
       "<lightning.types.plots.Matrix at 0x106fbaed0>"
      ]
     },
     "execution_count": 6,
     "metadata": {},
     "output_type": "execute_result"
    }
   ],
   "source": [
    "mat = random.rand(10,10)\n",
    "lgn.matrix(mat, colormap='Reds')"
   ]
  },
  {
   "cell_type": "code",
   "execution_count": 7,
   "metadata": {
    "collapsed": false
   },
   "outputs": [
    {
     "data": {
      "text/html": [
       "<meta name=\"viewport\" content=\"width=device-width, initial-scale=1, maximum-scale=1\"/><meta http-equiv=\"X-UA-Compatible\" content=\"IE=10; IE=9; IE=8; IE=7; IE=EDGE\"/><meta charset=\"UTF-8\"/><link href=\"//fonts.googleapis.com/css?family=Open+Sans:400,700\" rel=\"stylesheet\" type=\"text/css\"/><link rel=\"stylesheet\" href=\"http://public.lightning-viz.org/css/app.css\"/><link rel=\"stylesheet\" href=\"http://public.lightning-viz.org/css/dynamic/viz/?visualizations[]=matrix\"/><div id=\"lightning-body\" class=\"container content wrap push\"><div class=\"feed-container\"><div data-model=\"visualization\" data-model-id=\"085c75f4-c918-4d01-b592-9c742d784e57\" class=\"feed-item-container\"><div data-type=\"lightning-matrix\" data-data=\"{&quot;matrix&quot;:[[0.3205524251690004,0.5061039411270528,0.46632674518182193,0.7077038966041277,0.032895235832073544,0.6342027253019581,0.48694947739581507,0.5847042112110444,0.5891435345410915,0.2912677408730543],[0.646031538768412,0.2070820451831783,0.2444643486607302,0.7278696645311864,0.6086061294270083,0.23260503513059627,0.6416848208279091,0.002633653946801262,0.6428437109895861,0.7820471170395576],[0.587793919379253,0.7823917320287871,0.7427000074474539,0.7837401464479051,0.07297828741311219,0.98058224320569,0.1804579825970709,0.33319489084680276,0.9606943199618833,0.06542647301213789],[0.8856564988936813,0.8040894993905813,0.5040632696656541,0.5772257580856585,0.14212457255278532,0.29968191212058304,0.6492354253913972,0.5621531696934694,0.9456279650446711,0.1473787407545354],[0.8295848860999003,0.6882773119258712,0.5817245695164319,0.40776472744816783,0.1651972376481673,0.5353149951758002,0.9999863271404767,0.7580834746813202,0.04710805645019678,0.297716724091708],[0.40104974525134773,0.06916151345013943,0.7404699696647892,0.14777942753196682,0.10112764263566287,0.45268492509060776,0.6656711017802917,0.27226396803530795,0.5149356803641003,0.29745389109915976],[0.7080960082401954,0.8627363307093189,0.3943597794419599,0.8437838500443157,0.6869318641019442,0.41251354083092695,0.5422591061185676,0.21469955750104253,0.28011777503396484,0.79058650748118],[0.8117629511107404,0.11531431531178826,0.06864936461265203,0.8851577500824898,0.4195827406176067,0.36509565296183544,0.5938946717602602,0.27897202752898265,0.8643723825391686,0.7967427822483822],[0.5415563618136822,0.321085773142177,0.5190880253015822,0.9669564963652291,0.6630897828242154,0.4922209493224555,0.5416530266612057,0.9192054230854053,0.2886544340117555,0.8701293969098585],[0.9405202091115382,0.5771578560092002,0.9770623113924326,0.16871246660516948,0.480135743699439,0.2052584966760289,0.33071975349231986,0.2031232953073181,0.4073158330339002,0.07128257915080316]],&quot;colormap&quot;:&quot;Spectral&quot;}\" data-images=\"null\" data-options=\"{&quot;numbers&quot;:false,&quot;width&quot;:600,&quot;description&quot;:null,&quot;height&quot;:null}\" id=\"viz-085c75f4-c918-4d01-b592-9c742d784e57\" data-initialized=\"false\" class=\"feed-item\"></div></div></div></div><script>window.lightning = window.lightning || {};\n",
       "window.lightning.host = \"http://public.lightning-viz.org/\" || 'http://127.0.0.1:3000/';\n",
       "window.lightning.vizCount = (window.lightning.vizCount + 1) || 1;\n",
       "window.lightning.requiredVizTypes = window.lightning.requiredVizTypes || [];\n",
       "if(window.lightning.requiredVizTypes.indexOf(\"matrix\") === -1) {\n",
       "    window.lightning.requiredVizTypes.push(\"matrix\");\n",
       "}\n",
       "window._require = window.require;\n",
       "window.require = undefined;\n",
       "window._define = window.define;\n",
       "window.define = undefined;</script><script src=\"http://public.lightning-viz.org/js/embed.js\"></script>"
      ],
      "text/plain": [
       "<lightning.types.plots.Matrix at 0x1043b0850>"
      ]
     },
     "execution_count": 7,
     "metadata": {},
     "output_type": "execute_result"
    }
   ],
   "source": [
    "mat = random.rand(10,10)\n",
    "lgn.matrix(mat, colormap='Spectral')"
   ]
  },
  {
   "cell_type": "markdown",
   "metadata": {},
   "source": [
    "## <hr> Labels"
   ]
  },
  {
   "cell_type": "markdown",
   "metadata": {},
   "source": [
    "You can label the rows and columns of a matrix. Clicking on the text labels will highlight those rows and columns -- try it!"
   ]
  },
  {
   "cell_type": "code",
   "execution_count": 23,
   "metadata": {
    "collapsed": false
   },
   "outputs": [
    {
     "data": {
      "text/html": [
       "<meta name=\"viewport\" content=\"width=device-width, initial-scale=1, maximum-scale=1\"/><meta http-equiv=\"X-UA-Compatible\" content=\"IE=10; IE=9; IE=8; IE=7; IE=EDGE\"/><meta charset=\"UTF-8\"/><link href=\"//fonts.googleapis.com/css?family=Open+Sans:400,700\" rel=\"stylesheet\" type=\"text/css\"/><link rel=\"stylesheet\" href=\"http://public.lightning-viz.org/css/app.css\"/><link rel=\"stylesheet\" href=\"http://public.lightning-viz.org/css/dynamic/viz/?visualizations[]=matrix\"/><div id=\"lightning-body\" class=\"container content wrap push\"><div class=\"feed-container\"><div data-model=\"visualization\" data-model-id=\"855a7966-5560-4c3b-9261-e865adfdbecb\" class=\"feed-item-container\"><div data-type=\"lightning-matrix\" data-data=\"{&quot;rowLabels&quot;:[&quot;row 0&quot;,&quot;row 1&quot;,&quot;row 2&quot;,&quot;row 3&quot;,&quot;row 4&quot;,&quot;row 5&quot;,&quot;row 6&quot;,&quot;row 7&quot;],&quot;matrix&quot;:[[0,1,2,3,4,5,6,7,8,9,10,11,12,13,14,15],[16,17,18,19,20,21,22,23,24,25,26,27,28,29,30,31],[32,33,34,35,36,37,38,39,40,41,42,43,44,45,46,47],[48,49,50,51,52,53,54,55,56,57,58,59,60,61,62,63],[64,65,66,67,68,69,70,71,72,73,74,75,76,77,78,79],[80,81,82,83,84,85,86,87,88,89,90,91,92,93,94,95],[96,97,98,99,100,101,102,103,104,105,106,107,108,109,110,111],[112,113,114,115,116,117,118,119,120,121,122,123,124,125,126,127]],&quot;columnLabels&quot;:[&quot;col 0&quot;,&quot;col 1&quot;,&quot;col 2&quot;,&quot;col 3&quot;,&quot;col 4&quot;,&quot;col 5&quot;,&quot;col 6&quot;,&quot;col 7&quot;,&quot;col 8&quot;,&quot;col 9&quot;,&quot;col 10&quot;,&quot;col 11&quot;,&quot;col 12&quot;,&quot;col 13&quot;,&quot;col 14&quot;,&quot;col 15&quot;]}\" data-images=\"null\" data-options=\"{&quot;numbers&quot;:false,&quot;width&quot;:600,&quot;description&quot;:null,&quot;height&quot;:null}\" id=\"viz-855a7966-5560-4c3b-9261-e865adfdbecb\" data-initialized=\"false\" class=\"feed-item\"></div></div></div></div><script>window.lightning = window.lightning || {};\n",
       "window.lightning.host = \"http://public.lightning-viz.org/\" || 'http://127.0.0.1:3000/';\n",
       "window.lightning.vizCount = (window.lightning.vizCount + 1) || 1;\n",
       "window.lightning.requiredVizTypes = window.lightning.requiredVizTypes || [];\n",
       "if(window.lightning.requiredVizTypes.indexOf(\"matrix\") === -1) {\n",
       "    window.lightning.requiredVizTypes.push(\"matrix\");\n",
       "}\n",
       "window._require = window.require;\n",
       "window.require = undefined;\n",
       "window._define = window.define;\n",
       "window.define = undefined;</script><script src=\"http://public.lightning-viz.org/js/embed.js\"></script>"
      ],
      "text/plain": [
       "<lightning.types.plots.Matrix at 0x108000110>"
      ]
     },
     "execution_count": 23,
     "metadata": {},
     "output_type": "execute_result"
    }
   ],
   "source": [
    "n, m = (8, 16)\n",
    "mat = arange(n*m).reshape(n,m)\n",
    "rows = ['row ' + str(i) for i in range(n)]\n",
    "columns = ['col ' + str(i) for i in range(m)]\n",
    "\n",
    "lgn.matrix(mat, row_labels=rows, column_labels=columns)"
   ]
  },
  {
   "cell_type": "markdown",
   "metadata": {},
   "source": [
    "You can also turn on labeling of cells by their value."
   ]
  },
  {
   "cell_type": "code",
   "execution_count": 24,
   "metadata": {
    "collapsed": false
   },
   "outputs": [
    {
     "data": {
      "text/html": [
       "<meta name=\"viewport\" content=\"width=device-width, initial-scale=1, maximum-scale=1\"/><meta http-equiv=\"X-UA-Compatible\" content=\"IE=10; IE=9; IE=8; IE=7; IE=EDGE\"/><meta charset=\"UTF-8\"/><link href=\"//fonts.googleapis.com/css?family=Open+Sans:400,700\" rel=\"stylesheet\" type=\"text/css\"/><link rel=\"stylesheet\" href=\"http://public.lightning-viz.org/css/app.css\"/><link rel=\"stylesheet\" href=\"http://public.lightning-viz.org/css/dynamic/viz/?visualizations[]=matrix\"/><div id=\"lightning-body\" class=\"container content wrap push\"><div class=\"feed-container\"><div data-model=\"visualization\" data-model-id=\"589bf78e-e3d9-4a7d-875d-56af48472da5\" class=\"feed-item-container\"><div data-type=\"lightning-matrix\" data-data=\"{&quot;matrix&quot;:[[0,1,2,3,4,5,6,7,8,9,10,11,12,13,14,15],[16,17,18,19,20,21,22,23,24,25,26,27,28,29,30,31],[32,33,34,35,36,37,38,39,40,41,42,43,44,45,46,47],[48,49,50,51,52,53,54,55,56,57,58,59,60,61,62,63],[64,65,66,67,68,69,70,71,72,73,74,75,76,77,78,79],[80,81,82,83,84,85,86,87,88,89,90,91,92,93,94,95],[96,97,98,99,100,101,102,103,104,105,106,107,108,109,110,111],[112,113,114,115,116,117,118,119,120,121,122,123,124,125,126,127]]}\" data-images=\"null\" data-options=\"{&quot;numbers&quot;:true,&quot;width&quot;:600,&quot;description&quot;:null,&quot;height&quot;:null}\" id=\"viz-589bf78e-e3d9-4a7d-875d-56af48472da5\" data-initialized=\"false\" class=\"feed-item\"></div></div></div></div><script>window.lightning = window.lightning || {};\n",
       "window.lightning.host = \"http://public.lightning-viz.org/\" || 'http://127.0.0.1:3000/';\n",
       "window.lightning.vizCount = (window.lightning.vizCount + 1) || 1;\n",
       "window.lightning.requiredVizTypes = window.lightning.requiredVizTypes || [];\n",
       "if(window.lightning.requiredVizTypes.indexOf(\"matrix\") === -1) {\n",
       "    window.lightning.requiredVizTypes.push(\"matrix\");\n",
       "}\n",
       "window._require = window.require;\n",
       "window.require = undefined;\n",
       "window._define = window.define;\n",
       "window.define = undefined;</script><script src=\"http://public.lightning-viz.org/js/embed.js\"></script>"
      ],
      "text/plain": [
       "<lightning.types.plots.Matrix at 0x1029b6810>"
      ]
     },
     "execution_count": 24,
     "metadata": {},
     "output_type": "execute_result"
    }
   ],
   "source": [
    "mat = arange(n*m).reshape(n,m)\n",
    "\n",
    "lgn.matrix(mat, numbers=True)"
   ]
  },
  {
   "cell_type": "markdown",
   "metadata": {},
   "source": [
    "## <hr> Correlation matrix"
   ]
  },
  {
   "cell_type": "markdown",
   "metadata": {},
   "source": [
    "Matrices are also commonly used to look at correlation structure."
   ]
  },
  {
   "cell_type": "code",
   "execution_count": 8,
   "metadata": {
    "collapsed": false
   },
   "outputs": [
    {
     "data": {
      "text/html": [
       "<meta name=\"viewport\" content=\"width=device-width, initial-scale=1, maximum-scale=1\"/><meta http-equiv=\"X-UA-Compatible\" content=\"IE=10; IE=9; IE=8; IE=7; IE=EDGE\"/><meta charset=\"UTF-8\"/><link href=\"//fonts.googleapis.com/css?family=Open+Sans:400,700\" rel=\"stylesheet\" type=\"text/css\"/><link rel=\"stylesheet\" href=\"http://public.lightning-viz.org/css/app.css\"/><link rel=\"stylesheet\" href=\"http://public.lightning-viz.org/css/dynamic/viz/?visualizations[]=matrix\"/><div id=\"lightning-body\" class=\"container content wrap push\"><div class=\"feed-container\"><div data-model=\"visualization\" data-model-id=\"aebb97e5-4fb9-4a0c-9193-8d456766efbb\" class=\"feed-item-container\"><div data-type=\"lightning-matrix\" data-data=\"{&quot;matrix&quot;:[[1,0.8911374886000638,0.9395667627150204,0.9365373053715086,0.9614937007333237,-0.6018965880312768,-0.33412139526528645,-0.6311238166443456,-0.7956311300917691,-0.6760206526232279,-0.1777648567136497,0.14598020075019552,0.3012738916710026,-0.03749432986292772,-0.06399641472322376,0.5956199380014803,0.705066511686884,0.6150785383928641,0.7545425722741411,0.3385080366266903,-0.1721033496565615,-0.07922040213935315,-0.1524946442387643,-0.1983906387289173,-0.26445735978964663],[0.8911374886000638,1,0.9185279533524046,0.7173411622017094,0.9591597871294834,-0.36398298515681843,-0.000539942396197963,-0.3467309953909836,-0.6922962154643372,-0.35449360714813155,-0.2437372882863036,0.16066649711039363,0.30909957214444306,0.06085801289457402,0.0386577704732849,0.5960957299229076,0.7129655594580021,0.7188622986471209,0.7467153684804522,0.5671655277052251,0.2783693275740587,0.32588557040663135,0.25128905790868766,0.2338022505074944,0.19134958586150666],[0.9395667627150204,0.9185279533524046,1,0.7664428896088146,0.951570704186376,-0.3165256927112546,-0.044173347429823075,-0.34940609488507274,-0.6071451512135101,-0.40633372196418216,-0.33871803734082934,0.09313260549471324,0.2188403629365812,-0.18857289982756292,-0.12068394094701584,0.3548439100959534,0.5051857968919262,0.4495208718066088,0.5667021888567872,0.21109532430252173,-0.0019279981578793628,0.14048332917260978,-0.00867421139649993,-0.04294601431943266,-0.0863805779926218],[0.9365373053715086,0.7173411622017094,0.7664428896088146,1,0.8274898068699282,-0.7865244956931245,-0.5787013961612105,-0.8232991112776689,-0.8385246457737175,-0.8662870043909371,-0.055450711030717977,0.11010328185493988,0.2721858018107675,0.021453752828632117,-0.08737808399761972,0.7017542159152139,0.7514551466816503,0.623799797654937,0.7864672175075138,0.3258890614648545,-0.38473772577516874,-0.3220472159046066,-0.32162137053896894,-0.3844590849695214,-0.4742135304074229],[0.9614937007333237,0.9591597871294834,0.951570704186376,0.8274898068699282,1,-0.5274938999623109,-0.22634831539355993,-0.5290933994327542,-0.8054230404708057,-0.5468047348142422,-0.09564567872383199,0.3002288605082686,0.44311907193524636,0.1059142094330985,0.11867884236336676,0.5865501102852235,0.7339046414244612,0.6851423840667082,0.7840360523043106,0.4579487891535166,0.009116842922175765,0.05880921530449186,-0.032372591236383925,-0.04577346786072088,-0.07501053256878591],[-0.6018965880312768,-0.36398298515681843,-0.3165256927112546,-0.7865244956931245,-0.5274938999623109,1,0.9163592068272228,0.9910106080884924,0.9072506985368191,0.9612023919652435,-0.5355565234705228,-0.5007641652021821,-0.6175619401549524,-0.5433387457874503,-0.3922084188983888,-0.7991378498438301,-0.8255793972814555,-0.7004104591126432,-0.8360853728592669,-0.47378061455761056,0.5257927046933103,0.6476785924331903,0.5404873373713057,0.5461268160471626,0.5721788745848753],[-0.33412139526528645,-0.000539942396197963,-0.044173347429823075,-0.5787013961612105,-0.22634831539355993,0.9163592068272228,1,0.9286940487218314,0.6996855158949213,0.9077501643274332,-0.6744395596057069,-0.5229222004166163,-0.5779032153654233,-0.5065037618464301,-0.4116204590331599,-0.5245363455180525,-0.5422785538040471,-0.38430455367914174,-0.5561158259811956,-0.16438391735979743,0.7707010508208035,0.891666551877401,0.7908453462460627,0.785937299333844,0.7837316203435045],[-0.6311238166443456,-0.3467309953909836,-0.34940609488507274,-0.8232991112776689,-0.5290933994327542,0.9910106080884924,0.9286940487218314,1,0.8807223804628744,0.989057690371705,-0.4735053931764855,-0.43972694191482126,-0.5552702536851587,-0.4389606084869599,-0.30257947748155484,-0.7411342349395525,-0.7687625073248261,-0.6228559474433342,-0.7861906825802087,-0.3660262711595751,0.6129436617615368,0.698094762824186,0.608673905624857,0.6263049487773595,0.6618814179116937],[-0.7956311300917691,-0.6922962154643372,-0.6071451512135101,-0.8385246457737175,-0.8054230404708057,0.9072506985368191,0.6996855158949213,0.8807223804628744,1,0.8454779266789397,-0.4143395084408626,-0.5833813353197396,-0.7206502103835213,-0.5486173269035243,-0.4566010772313778,-0.8372706689641357,-0.9336214308974718,-0.8513966340839979,-0.9589522114168949,-0.6311226138599001,0.2547877222674652,0.3589041080555182,0.3191655459221959,0.3082575620765042,0.31756039787507656],[-0.6760206526232279,-0.35449360714813155,-0.40633372196418216,-0.8662870043909371,-0.5468047348142422,0.9612023919652435,0.9077501643274332,0.989057690371705,0.8454779266789397,1,-0.3693632036669646,-0.3486809780030702,-0.4664180410228401,-0.30490660479643333,-0.18235510656388462,-0.6820166536774845,-0.710001439331986,-0.5472064448577901,-0.7344678881699177,-0.2614153232892751,0.672241581335135,0.7112531110442653,0.6438569219563371,0.6768798956208341,0.7265455798766131],[-0.1777648567136497,-0.2437372882863036,-0.33871803734082934,-0.055450711030717977,-0.09564567872383199,-0.5355565234705228,-0.6744395596057069,-0.4735053931764855,-0.4143395084408626,-0.3693632036669646,1,0.8676297870085494,0.8249367241410266,0.8890326560726272,0.9020173342357687,0.25442364603188894,0.31937611355695045,0.2830876818828271,0.3162747577664665,0.28121034697543795,-0.3436602910438083,-0.6121292342544923,-0.520484122092473,-0.41730772162088486,-0.2959637385295979],[0.14598020075019552,0.16066649711039363,0.09313260549471324,0.11010328185493988,0.3002288605082686,-0.5007641652021821,-0.5229222004166163,-0.43972694191482126,-0.5833813353197396,-0.3486809780030702,0.8676297870085494,1,0.9824991199632703,0.8381877341418769,0.9558013107929265,0.264230268392487,0.4373478040145143,0.4117810508384052,0.46767141909171267,0.35272640439655345,-0.1982850971980542,-0.41320244354043123,-0.4316507913912707,-0.3149680868267463,-0.1737240037721011],[0.3012738916710026,0.30909957214444306,0.2188403629365812,0.2721858018107675,0.44311907193524636,-0.6175619401549524,-0.5779032153654233,-0.5552702536851587,-0.7206502103835213,-0.4664180410228401,0.8249367241410266,0.9824991199632703,1,0.8477774596141269,0.9239871130847127,0.42437738662988433,0.5930257856121923,0.5608842446853252,0.622817631414009,0.47069366676129243,-0.18592923901059957,-0.3968184279975057,-0.4018563109855589,-0.29839940216496597,-0.179677111900745],[-0.03749432986292772,0.06085801289457402,-0.18857289982756292,0.021453752828632117,0.1059142094330985,-0.5433387457874503,-0.5065037618464301,-0.4389606084869599,-0.5486173269035243,-0.30490660479643333,0.8890326560726272,0.8381877341418769,0.8477774596141269,1,0.9320185457722705,0.5352965185077935,0.5864539666431036,0.6191706017685629,0.5650680253121458,0.6761502809317231,0.04434754738348036,-0.26335202154112874,-0.13607833638965838,-0.032871126295317285,0.06746885960423264],[-0.06399641472322376,0.0386577704732849,-0.12068394094701584,-0.08737808399761972,0.11867884236336676,-0.3922084188983888,-0.4116204590331599,-0.30257947748155484,-0.4566010772313778,-0.18235510656388462,0.9020173342357687,0.9558013107929265,0.9239871130847127,0.9320185457722705,1,0.2732900952231731,0.3999377446565908,0.4245713422401229,0.40509904080252707,0.46383402433553356,-0.00704854765350475,-0.27718169873433074,-0.24208544780580818,-0.11468326046403193,0.031078408722144457],[0.5956199380014803,0.5960957299229076,0.3548439100959534,0.7017542159152139,0.5865501102852235,-0.7991378498438301,-0.5245363455180525,-0.7411342349395525,-0.8372706689641357,-0.6820166536774845,0.25442364603188894,0.264230268392487,0.42437738662988433,0.5352965185077935,0.2732900952231731,1,0.9663758211206104,0.9533889981754355,0.9414436812085575,0.8612299981689201,0.05908275295902344,-0.08672873048899234,0.07323834061096943,0.056387905427007924,-0.008052086208404873],[0.705066511686884,0.7129655594580021,0.5051857968919262,0.7514551466816503,0.7339046414244612,-0.8255793972814555,-0.5422785538040471,-0.7687625073248261,-0.9336214308974718,-0.710001439331986,0.31937611355695045,0.4373478040145143,0.5930257856121923,0.5864539666431036,0.3999377446565908,0.9663758211206104,1,0.9773642129564245,0.9956325274135724,0.8480233330924982,0.028779026231891425,-0.1120802283905664,-0.007851406443701883,-0.004659366972035411,-0.038953926215366544],[0.6150785383928641,0.7188622986471209,0.4495208718066088,0.623799797654937,0.6851423840667082,-0.7004104591126432,-0.38430455367914174,-0.6228559474433342,-0.8513966340839979,-0.5472064448577901,0.2830876818828271,0.4117810508384052,0.5608842446853252,0.6191706017685629,0.4245713422401229,0.9533889981754355,0.9773642129564245,1,0.9619438325297063,0.9374476581004281,0.23288154285212176,0.07021343433423603,0.1834607394711182,0.19694914440949857,0.16997079630482212],[0.7545425722741411,0.7467153684804522,0.5667021888567872,0.7864672175075138,0.7840360523043106,-0.8360853728592669,-0.5561158259811956,-0.7861906825802087,-0.9589522114168949,-0.7344678881699177,0.3162747577664665,0.46767141909171267,0.622817631414009,0.5650680253121458,0.40509904080252707,0.9414436812085575,0.9956325274135724,0.9619438325297063,1,0.8088573529999418,-0.013502549443542103,-0.1395579366934368,-0.057946620290388745,-0.05353604738459746,-0.08298067135781918],[0.3385080366266903,0.5671655277052251,0.21109532430252173,0.3258890614648545,0.4579487891535166,-0.47378061455761056,-0.16438391735979743,-0.3660262711595751,-0.6311226138599001,-0.2614153232892751,0.28121034697543795,0.35272640439655345,0.47069366676129243,0.6761502809317231,0.46383402433553356,0.8612299981689201,0.8480233330924982,0.9374476581004281,0.8088573529999418,1,0.4924797198585723,0.28315381914907356,0.42938243951051436,0.46088973313470466,0.4502384168761189],[-0.1721033496565615,0.2783693275740587,-0.0019279981578793628,-0.38473772577516874,0.009116842922175765,0.5257927046933103,0.7707010508208035,0.6129436617615368,0.2547877222674652,0.672241581335135,-0.3436602910438083,-0.1982850971980542,-0.18592923901059957,0.04434754738348036,-0.00704854765350475,0.05908275295902344,0.028779026231891425,0.23288154285212176,-0.013502549443542103,0.4924797198585723,1,0.9478113388759182,0.9652838428674035,0.9911447428728182,0.9946597475760646],[-0.07922040213935315,0.32588557040663135,0.14048332917260978,-0.3220472159046066,0.05880921530449186,0.6476785924331903,0.891666551877401,0.698094762824186,0.3589041080555182,0.7112531110442653,-0.6121292342544923,-0.41320244354043123,-0.3968184279975057,-0.26335202154112874,-0.27718169873433074,-0.08672873048899234,-0.1120802283905664,0.07021343433423603,-0.1395579366934368,0.28315381914907356,0.9478113388759182,1,0.9608898769206113,0.9554700901208274,0.9302223039780635],[-0.1524946442387643,0.25128905790868766,-0.00867421139649993,-0.32162137053896894,-0.032372591236383925,0.5404873373713057,0.7908453462460627,0.608673905624857,0.3191655459221959,0.6438569219563371,-0.520484122092473,-0.4316507913912707,-0.4018563109855589,-0.13607833638965838,-0.24208544780580818,0.07323834061096943,-0.007851406443701883,0.1834607394711182,-0.057946620290388745,0.42938243951051436,0.9652838428674035,0.9608898769206113,1,0.9899769985529296,0.9483928652468441],[-0.1983906387289173,0.2338022505074944,-0.04294601431943266,-0.3844590849695214,-0.04577346786072088,0.5461268160471626,0.785937299333844,0.6263049487773595,0.3082575620765042,0.6768798956208341,-0.41730772162088486,-0.3149680868267463,-0.29839940216496597,-0.032871126295317285,-0.11468326046403193,0.056387905427007924,-0.004659366972035411,0.19694914440949857,-0.05353604738459746,0.46088973313470466,0.9911447428728182,0.9554700901208274,0.9899769985529296,1,0.9832346727078731],[-0.26445735978964663,0.19134958586150666,-0.0863805779926218,-0.4742135304074229,-0.07501053256878591,0.5721788745848753,0.7837316203435045,0.6618814179116937,0.31756039787507656,0.7265455798766131,-0.2959637385295979,-0.1737240037721011,-0.179677111900745,0.06746885960423264,0.031078408722144457,-0.008052086208404873,-0.038953926215366544,0.16997079630482212,-0.08298067135781918,0.4502384168761189,0.9946597475760646,0.9302223039780635,0.9483928652468441,0.9832346727078731,1]]}\" data-images=\"null\" data-options=\"{&quot;numbers&quot;:false,&quot;width&quot;:600,&quot;description&quot;:null,&quot;height&quot;:null}\" id=\"viz-aebb97e5-4fb9-4a0c-9193-8d456766efbb\" data-initialized=\"false\" class=\"feed-item\"></div></div></div></div><script>window.lightning = window.lightning || {};\n",
       "window.lightning.host = \"http://public.lightning-viz.org/\" || 'http://127.0.0.1:3000/';\n",
       "window.lightning.vizCount = (window.lightning.vizCount + 1) || 1;\n",
       "window.lightning.requiredVizTypes = window.lightning.requiredVizTypes || [];\n",
       "if(window.lightning.requiredVizTypes.indexOf(\"matrix\") === -1) {\n",
       "    window.lightning.requiredVizTypes.push(\"matrix\");\n",
       "}\n",
       "window._require = window.require;\n",
       "window.require = undefined;\n",
       "window._define = window.define;\n",
       "window.define = undefined;</script><script src=\"http://public.lightning-viz.org/js/embed.js\"></script>"
      ],
      "text/plain": [
       "<lightning.types.plots.Matrix at 0x109c01810>"
      ]
     },
     "execution_count": 8,
     "metadata": {},
     "output_type": "execute_result"
    }
   ],
   "source": [
    "d, l = datasets.make_blobs(n_features=5, n_samples=25, centers=5, cluster_std=2.0, random_state=100)\n",
    "d = d[argsort(l)]\n",
    "c = corrcoef(d)\n",
    "lgn.matrix(c)"
   ]
  },
  {
   "cell_type": "markdown",
   "metadata": {},
   "source": [
    "## <hr> Adjacency"
   ]
  },
  {
   "cell_type": "markdown",
   "metadata": {},
   "source": [
    "Closely realted to correlation matrices are adjacency matrices, in which the rows (and columns) represent nodes and the values indicate connections.\n",
    "<br>\n",
    "Lightning offers a separate `adjacency` visualization type. Here is one for a random graph with community structure."
   ]
  },
  {
   "cell_type": "code",
   "execution_count": 14,
   "metadata": {
    "collapsed": false
   },
   "outputs": [
    {
     "data": {
      "text/html": [
       "<meta name=\"viewport\" content=\"width=device-width, initial-scale=1, maximum-scale=1\"/><meta http-equiv=\"X-UA-Compatible\" content=\"IE=10; IE=9; IE=8; IE=7; IE=EDGE\"/><meta charset=\"UTF-8\"/><link href=\"//fonts.googleapis.com/css?family=Open+Sans:400,700\" rel=\"stylesheet\" type=\"text/css\"/><link rel=\"stylesheet\" href=\"http://public.lightning-viz.org/css/app.css\"/><link rel=\"stylesheet\" href=\"http://public.lightning-viz.org/css/dynamic/viz/?visualizations[]=adjacency\"/><div id=\"lightning-body\" class=\"container content wrap push\"><div class=\"feed-container\"><div data-model=\"visualization\" data-model-id=\"0a03d96e-986a-4843-83c2-fff7b67d931b\" class=\"feed-item-container\"><div data-type=\"lightning-adjacency\" data-data=\"{&quot;nodes&quot;:[0,1,2,3,4,5,6,7,8,9,10,11,12,13,14,15,16,17,18,19,20,21,22,23,24,25,26,27,28,29,30,31,32,33,34,35,36,37,38,39,40,41,42,43,44,45,46,47,48,49],&quot;links&quot;:[[0,1,1],[0,2,1],[0,5,1],[0,8,1],[0,9,1],[0,10,1],[0,12,1],[0,17,1],[0,18,1],[0,19,1],[1,0,1],[1,6,1],[1,8,1],[1,9,1],[1,10,1],[1,12,1],[1,15,1],[1,16,1],[1,17,1],[1,31,1],[2,0,1],[2,5,1],[2,6,1],[2,7,1],[2,9,1],[2,10,1],[2,12,1],[2,15,1],[2,16,1],[2,18,1],[2,24,1],[3,4,1],[3,6,1],[3,9,1],[3,10,1],[3,15,1],[3,22,1],[3,30,1],[4,3,1],[4,5,1],[4,9,1],[4,10,1],[4,11,1],[4,14,1],[4,15,1],[4,16,1],[5,0,1],[5,2,1],[5,4,1],[5,6,1],[5,9,1],[5,11,1],[5,14,1],[5,15,1],[5,16,1],[5,18,1],[5,19,1],[6,1,1],[6,2,1],[6,3,1],[6,5,1],[6,9,1],[6,10,1],[6,14,1],[6,15,1],[6,16,1],[6,19,1],[7,2,1],[7,8,1],[7,10,1],[7,12,1],[7,14,1],[7,15,1],[7,16,1],[7,17,1],[7,19,1],[7,31,1],[8,0,1],[8,1,1],[8,7,1],[8,12,1],[8,13,1],[8,15,1],[8,17,1],[8,18,1],[8,19,1],[9,0,1],[9,1,1],[9,2,1],[9,3,1],[9,4,1],[9,5,1],[9,6,1],[9,10,1],[9,13,1],[9,15,1],[9,17,1],[10,0,1],[10,1,1],[10,2,1],[10,3,1],[10,4,1],[10,6,1],[10,7,1],[10,9,1],[10,11,1],[10,12,1],[10,13,1],[10,15,1],[10,18,1],[10,19,1],[10,41,1],[11,4,1],[11,5,1],[11,10,1],[11,12,1],[11,13,1],[11,16,1],[11,17,1],[11,18,1],[12,0,1],[12,1,1],[12,2,1],[12,7,1],[12,8,1],[12,10,1],[12,11,1],[12,13,1],[12,19,1],[12,38,1],[13,8,1],[13,9,1],[13,10,1],[13,11,1],[13,12,1],[13,15,1],[13,16,1],[13,17,1],[13,18,1],[13,19,1],[14,4,1],[14,5,1],[14,6,1],[14,7,1],[14,19,1],[15,1,1],[15,2,1],[15,3,1],[15,4,1],[15,5,1],[15,6,1],[15,7,1],[15,8,1],[15,9,1],[15,10,1],[15,13,1],[15,16,1],[15,17,1],[16,1,1],[16,2,1],[16,4,1],[16,5,1],[16,6,1],[16,7,1],[16,11,1],[16,13,1],[16,15,1],[16,18,1],[16,19,1],[17,0,1],[17,1,1],[17,7,1],[17,8,1],[17,9,1],[17,11,1],[17,13,1],[17,15,1],[17,18,1],[18,0,1],[18,2,1],[18,5,1],[18,8,1],[18,10,1],[18,11,1],[18,13,1],[18,16,1],[18,17,1],[18,19,1],[19,0,1],[19,5,1],[19,6,1],[19,7,1],[19,8,1],[19,10,1],[19,12,1],[19,13,1],[19,14,1],[19,16,1],[19,18,1],[20,21,1],[20,22,1],[20,23,1],[20,24,1],[20,26,1],[20,28,1],[21,20,1],[21,22,1],[21,24,1],[21,25,1],[21,26,1],[21,27,1],[21,28,1],[22,3,1],[22,20,1],[22,21,1],[22,25,1],[22,26,1],[22,29,1],[23,20,1],[23,28,1],[23,30,1],[24,2,1],[24,20,1],[24,21,1],[24,26,1],[24,27,1],[24,28,1],[24,29,1],[25,21,1],[25,22,1],[25,28,1],[25,29,1],[26,20,1],[26,21,1],[26,22,1],[26,24,1],[26,28,1],[26,36,1],[27,21,1],[27,24,1],[27,28,1],[28,20,1],[28,21,1],[28,23,1],[28,24,1],[28,25,1],[28,26,1],[28,27,1],[29,22,1],[29,24,1],[29,25,1],[30,3,1],[30,23,1],[30,32,1],[30,33,1],[30,35,1],[30,36,1],[30,38,1],[31,1,1],[31,7,1],[31,32,1],[31,35,1],[31,37,1],[31,38,1],[31,39,1],[32,30,1],[32,31,1],[32,33,1],[32,35,1],[32,39,1],[33,30,1],[33,32,1],[33,35,1],[33,37,1],[33,38,1],[34,36,1],[34,38,1],[34,39,1],[35,30,1],[35,31,1],[35,32,1],[35,33,1],[35,36,1],[35,39,1],[36,26,1],[36,30,1],[36,34,1],[36,35,1],[36,38,1],[36,39,1],[37,31,1],[37,33,1],[37,38,1],[38,12,1],[38,30,1],[38,31,1],[38,33,1],[38,34,1],[38,36,1],[38,37,1],[39,31,1],[39,32,1],[39,34,1],[39,35,1],[39,36,1],[40,41,1],[40,42,1],[40,43,1],[40,44,1],[40,46,1],[41,10,1],[41,40,1],[41,43,1],[41,44,1],[42,40,1],[42,43,1],[43,40,1],[43,41,1],[43,42,1],[43,44,1],[44,40,1],[44,41,1],[44,43,1],[45,46,1],[45,47,1],[46,40,1],[46,45,1],[46,47,1],[46,48,1],[47,45,1],[47,46,1],[48,46,1]]}\" data-images=\"null\" data-options=\"{&quot;sort&quot;:&quot;group&quot;,&quot;description&quot;:null,&quot;height&quot;:null,&quot;symmetric&quot;:true,&quot;width&quot;:600,&quot;numbers&quot;:false}\" id=\"viz-0a03d96e-986a-4843-83c2-fff7b67d931b\" data-initialized=\"false\" class=\"feed-item\"></div></div></div></div><script>window.lightning = window.lightning || {};\n",
       "window.lightning.host = \"http://public.lightning-viz.org/\" || 'http://127.0.0.1:3000/';\n",
       "window.lightning.vizCount = (window.lightning.vizCount + 1) || 1;\n",
       "window.lightning.requiredVizTypes = window.lightning.requiredVizTypes || [];\n",
       "if(window.lightning.requiredVizTypes.indexOf(\"adjacency\") === -1) {\n",
       "    window.lightning.requiredVizTypes.push(\"adjacency\");\n",
       "}\n",
       "window._require = window.require;\n",
       "window.require = undefined;\n",
       "window._define = window.define;\n",
       "window.define = undefined;</script><script src=\"http://public.lightning-viz.org/js/embed.js\"></script>"
      ],
      "text/plain": [
       "<lightning.types.plots.Adjacency at 0x109c013d0>"
      ]
     },
     "execution_count": 14,
     "metadata": {},
     "output_type": "execute_result"
    }
   ],
   "source": [
    "s = [20, 10, 10, 5, 5]\n",
    "n = sum(s)\n",
    "G = nx.random_partition_graph(s, 0.5, 0.01)\n",
    "mat = nx.adjacency_matrix(G).todense()\n",
    "lgn.adjacency(mat)"
   ]
  },
  {
   "cell_type": "markdown",
   "metadata": {},
   "source": [
    "If we assign each graph partition a label, we can color nodes by their group."
   ]
  },
  {
   "cell_type": "code",
   "execution_count": 15,
   "metadata": {
    "collapsed": false
   },
   "outputs": [
    {
     "data": {
      "text/html": [
       "<meta name=\"viewport\" content=\"width=device-width, initial-scale=1, maximum-scale=1\"/><meta http-equiv=\"X-UA-Compatible\" content=\"IE=10; IE=9; IE=8; IE=7; IE=EDGE\"/><meta charset=\"UTF-8\"/><link href=\"//fonts.googleapis.com/css?family=Open+Sans:400,700\" rel=\"stylesheet\" type=\"text/css\"/><link rel=\"stylesheet\" href=\"http://public.lightning-viz.org/css/app.css\"/><link rel=\"stylesheet\" href=\"http://public.lightning-viz.org/css/dynamic/viz/?visualizations[]=adjacency\"/><div id=\"lightning-body\" class=\"container content wrap push\"><div class=\"feed-container\"><div data-model=\"visualization\" data-model-id=\"3b5d16ee-3798-4f86-8137-98025247f3dd\" class=\"feed-item-container\"><div data-type=\"lightning-adjacency\" data-data=\"{&quot;nodes&quot;:[0,1,2,3,4,5,6,7,8,9,10,11,12,13,14,15,16,17,18,19,20,21,22,23,24,25,26,27,28,29,30,31,32,33,34,35,36,37,38,39,40,41,42,43,44,45,46,47,48,49],&quot;group&quot;:[0,0,0,0,0,0,0,0,0,0,0,0,0,0,0,0,0,0,0,0,1,1,1,1,1,1,1,1,1,1,2,2,2,2,2,2,2,2,2,2,3,3,3,3,3,4,4,4,4,4],&quot;links&quot;:[[0,1,1],[0,2,1],[0,5,1],[0,8,1],[0,9,1],[0,10,1],[0,12,1],[0,17,1],[0,18,1],[0,19,1],[1,0,1],[1,6,1],[1,8,1],[1,9,1],[1,10,1],[1,12,1],[1,15,1],[1,16,1],[1,17,1],[1,31,1],[2,0,1],[2,5,1],[2,6,1],[2,7,1],[2,9,1],[2,10,1],[2,12,1],[2,15,1],[2,16,1],[2,18,1],[2,24,1],[3,4,1],[3,6,1],[3,9,1],[3,10,1],[3,15,1],[3,22,1],[3,30,1],[4,3,1],[4,5,1],[4,9,1],[4,10,1],[4,11,1],[4,14,1],[4,15,1],[4,16,1],[5,0,1],[5,2,1],[5,4,1],[5,6,1],[5,9,1],[5,11,1],[5,14,1],[5,15,1],[5,16,1],[5,18,1],[5,19,1],[6,1,1],[6,2,1],[6,3,1],[6,5,1],[6,9,1],[6,10,1],[6,14,1],[6,15,1],[6,16,1],[6,19,1],[7,2,1],[7,8,1],[7,10,1],[7,12,1],[7,14,1],[7,15,1],[7,16,1],[7,17,1],[7,19,1],[7,31,1],[8,0,1],[8,1,1],[8,7,1],[8,12,1],[8,13,1],[8,15,1],[8,17,1],[8,18,1],[8,19,1],[9,0,1],[9,1,1],[9,2,1],[9,3,1],[9,4,1],[9,5,1],[9,6,1],[9,10,1],[9,13,1],[9,15,1],[9,17,1],[10,0,1],[10,1,1],[10,2,1],[10,3,1],[10,4,1],[10,6,1],[10,7,1],[10,9,1],[10,11,1],[10,12,1],[10,13,1],[10,15,1],[10,18,1],[10,19,1],[10,41,1],[11,4,1],[11,5,1],[11,10,1],[11,12,1],[11,13,1],[11,16,1],[11,17,1],[11,18,1],[12,0,1],[12,1,1],[12,2,1],[12,7,1],[12,8,1],[12,10,1],[12,11,1],[12,13,1],[12,19,1],[12,38,1],[13,8,1],[13,9,1],[13,10,1],[13,11,1],[13,12,1],[13,15,1],[13,16,1],[13,17,1],[13,18,1],[13,19,1],[14,4,1],[14,5,1],[14,6,1],[14,7,1],[14,19,1],[15,1,1],[15,2,1],[15,3,1],[15,4,1],[15,5,1],[15,6,1],[15,7,1],[15,8,1],[15,9,1],[15,10,1],[15,13,1],[15,16,1],[15,17,1],[16,1,1],[16,2,1],[16,4,1],[16,5,1],[16,6,1],[16,7,1],[16,11,1],[16,13,1],[16,15,1],[16,18,1],[16,19,1],[17,0,1],[17,1,1],[17,7,1],[17,8,1],[17,9,1],[17,11,1],[17,13,1],[17,15,1],[17,18,1],[18,0,1],[18,2,1],[18,5,1],[18,8,1],[18,10,1],[18,11,1],[18,13,1],[18,16,1],[18,17,1],[18,19,1],[19,0,1],[19,5,1],[19,6,1],[19,7,1],[19,8,1],[19,10,1],[19,12,1],[19,13,1],[19,14,1],[19,16,1],[19,18,1],[20,21,1],[20,22,1],[20,23,1],[20,24,1],[20,26,1],[20,28,1],[21,20,1],[21,22,1],[21,24,1],[21,25,1],[21,26,1],[21,27,1],[21,28,1],[22,3,1],[22,20,1],[22,21,1],[22,25,1],[22,26,1],[22,29,1],[23,20,1],[23,28,1],[23,30,1],[24,2,1],[24,20,1],[24,21,1],[24,26,1],[24,27,1],[24,28,1],[24,29,1],[25,21,1],[25,22,1],[25,28,1],[25,29,1],[26,20,1],[26,21,1],[26,22,1],[26,24,1],[26,28,1],[26,36,1],[27,21,1],[27,24,1],[27,28,1],[28,20,1],[28,21,1],[28,23,1],[28,24,1],[28,25,1],[28,26,1],[28,27,1],[29,22,1],[29,24,1],[29,25,1],[30,3,1],[30,23,1],[30,32,1],[30,33,1],[30,35,1],[30,36,1],[30,38,1],[31,1,1],[31,7,1],[31,32,1],[31,35,1],[31,37,1],[31,38,1],[31,39,1],[32,30,1],[32,31,1],[32,33,1],[32,35,1],[32,39,1],[33,30,1],[33,32,1],[33,35,1],[33,37,1],[33,38,1],[34,36,1],[34,38,1],[34,39,1],[35,30,1],[35,31,1],[35,32,1],[35,33,1],[35,36,1],[35,39,1],[36,26,1],[36,30,1],[36,34,1],[36,35,1],[36,38,1],[36,39,1],[37,31,1],[37,33,1],[37,38,1],[38,12,1],[38,30,1],[38,31,1],[38,33,1],[38,34,1],[38,36,1],[38,37,1],[39,31,1],[39,32,1],[39,34,1],[39,35,1],[39,36,1],[40,41,1],[40,42,1],[40,43,1],[40,44,1],[40,46,1],[41,10,1],[41,40,1],[41,43,1],[41,44,1],[42,40,1],[42,43,1],[43,40,1],[43,41,1],[43,42,1],[43,44,1],[44,40,1],[44,41,1],[44,43,1],[45,46,1],[45,47,1],[46,40,1],[46,45,1],[46,47,1],[46,48,1],[47,45,1],[47,46,1],[48,46,1]]}\" data-images=\"null\" data-options=\"{&quot;sort&quot;:&quot;group&quot;,&quot;description&quot;:null,&quot;height&quot;:null,&quot;symmetric&quot;:true,&quot;width&quot;:600,&quot;numbers&quot;:false}\" id=\"viz-3b5d16ee-3798-4f86-8137-98025247f3dd\" data-initialized=\"false\" class=\"feed-item\"></div></div></div></div><script>window.lightning = window.lightning || {};\n",
       "window.lightning.host = \"http://public.lightning-viz.org/\" || 'http://127.0.0.1:3000/';\n",
       "window.lightning.vizCount = (window.lightning.vizCount + 1) || 1;\n",
       "window.lightning.requiredVizTypes = window.lightning.requiredVizTypes || [];\n",
       "if(window.lightning.requiredVizTypes.indexOf(\"adjacency\") === -1) {\n",
       "    window.lightning.requiredVizTypes.push(\"adjacency\");\n",
       "}\n",
       "window._require = window.require;\n",
       "window.require = undefined;\n",
       "window._define = window.define;\n",
       "window.define = undefined;</script><script src=\"http://public.lightning-viz.org/js/embed.js\"></script>"
      ],
      "text/plain": [
       "<lightning.types.plots.Adjacency at 0x109c016d0>"
      ]
     },
     "execution_count": 15,
     "metadata": {},
     "output_type": "execute_result"
    }
   ],
   "source": [
    "def group(G, n):\n",
    "    for i, p in enumerate(G.graph['partition']):\n",
    "        if n in p:\n",
    "            return i\n",
    "g = [group(G, x) for x in range(0,50)]\n",
    "lgn.adjacency(mat, group=g)"
   ]
  },
  {
   "cell_type": "markdown",
   "metadata": {},
   "source": [
    "We can alternatively sort by the number of degrees to each node, which here is related to, but not the same as, the group."
   ]
  },
  {
   "cell_type": "code",
   "execution_count": 16,
   "metadata": {
    "collapsed": false
   },
   "outputs": [
    {
     "data": {
      "text/html": [
       "<meta name=\"viewport\" content=\"width=device-width, initial-scale=1, maximum-scale=1\"/><meta http-equiv=\"X-UA-Compatible\" content=\"IE=10; IE=9; IE=8; IE=7; IE=EDGE\"/><meta charset=\"UTF-8\"/><link href=\"//fonts.googleapis.com/css?family=Open+Sans:400,700\" rel=\"stylesheet\" type=\"text/css\"/><link rel=\"stylesheet\" href=\"http://public.lightning-viz.org/css/app.css\"/><link rel=\"stylesheet\" href=\"http://public.lightning-viz.org/css/dynamic/viz/?visualizations[]=adjacency\"/><div id=\"lightning-body\" class=\"container content wrap push\"><div class=\"feed-container\"><div data-model=\"visualization\" data-model-id=\"cd3face8-5063-4d3d-a703-f27ef9496856\" class=\"feed-item-container\"><div data-type=\"lightning-adjacency\" data-data=\"{&quot;nodes&quot;:[0,1,2,3,4,5,6,7,8,9,10,11,12,13,14,15,16,17,18,19,20,21,22,23,24,25,26,27,28,29,30,31,32,33,34,35,36,37,38,39,40,41,42,43,44,45,46,47,48,49],&quot;group&quot;:[0,0,0,0,0,0,0,0,0,0,0,0,0,0,0,0,0,0,0,0,1,1,1,1,1,1,1,1,1,1,2,2,2,2,2,2,2,2,2,2,3,3,3,3,3,4,4,4,4,4],&quot;links&quot;:[[0,1,1],[0,2,1],[0,5,1],[0,8,1],[0,9,1],[0,10,1],[0,12,1],[0,17,1],[0,18,1],[0,19,1],[1,0,1],[1,6,1],[1,8,1],[1,9,1],[1,10,1],[1,12,1],[1,15,1],[1,16,1],[1,17,1],[1,31,1],[2,0,1],[2,5,1],[2,6,1],[2,7,1],[2,9,1],[2,10,1],[2,12,1],[2,15,1],[2,16,1],[2,18,1],[2,24,1],[3,4,1],[3,6,1],[3,9,1],[3,10,1],[3,15,1],[3,22,1],[3,30,1],[4,3,1],[4,5,1],[4,9,1],[4,10,1],[4,11,1],[4,14,1],[4,15,1],[4,16,1],[5,0,1],[5,2,1],[5,4,1],[5,6,1],[5,9,1],[5,11,1],[5,14,1],[5,15,1],[5,16,1],[5,18,1],[5,19,1],[6,1,1],[6,2,1],[6,3,1],[6,5,1],[6,9,1],[6,10,1],[6,14,1],[6,15,1],[6,16,1],[6,19,1],[7,2,1],[7,8,1],[7,10,1],[7,12,1],[7,14,1],[7,15,1],[7,16,1],[7,17,1],[7,19,1],[7,31,1],[8,0,1],[8,1,1],[8,7,1],[8,12,1],[8,13,1],[8,15,1],[8,17,1],[8,18,1],[8,19,1],[9,0,1],[9,1,1],[9,2,1],[9,3,1],[9,4,1],[9,5,1],[9,6,1],[9,10,1],[9,13,1],[9,15,1],[9,17,1],[10,0,1],[10,1,1],[10,2,1],[10,3,1],[10,4,1],[10,6,1],[10,7,1],[10,9,1],[10,11,1],[10,12,1],[10,13,1],[10,15,1],[10,18,1],[10,19,1],[10,41,1],[11,4,1],[11,5,1],[11,10,1],[11,12,1],[11,13,1],[11,16,1],[11,17,1],[11,18,1],[12,0,1],[12,1,1],[12,2,1],[12,7,1],[12,8,1],[12,10,1],[12,11,1],[12,13,1],[12,19,1],[12,38,1],[13,8,1],[13,9,1],[13,10,1],[13,11,1],[13,12,1],[13,15,1],[13,16,1],[13,17,1],[13,18,1],[13,19,1],[14,4,1],[14,5,1],[14,6,1],[14,7,1],[14,19,1],[15,1,1],[15,2,1],[15,3,1],[15,4,1],[15,5,1],[15,6,1],[15,7,1],[15,8,1],[15,9,1],[15,10,1],[15,13,1],[15,16,1],[15,17,1],[16,1,1],[16,2,1],[16,4,1],[16,5,1],[16,6,1],[16,7,1],[16,11,1],[16,13,1],[16,15,1],[16,18,1],[16,19,1],[17,0,1],[17,1,1],[17,7,1],[17,8,1],[17,9,1],[17,11,1],[17,13,1],[17,15,1],[17,18,1],[18,0,1],[18,2,1],[18,5,1],[18,8,1],[18,10,1],[18,11,1],[18,13,1],[18,16,1],[18,17,1],[18,19,1],[19,0,1],[19,5,1],[19,6,1],[19,7,1],[19,8,1],[19,10,1],[19,12,1],[19,13,1],[19,14,1],[19,16,1],[19,18,1],[20,21,1],[20,22,1],[20,23,1],[20,24,1],[20,26,1],[20,28,1],[21,20,1],[21,22,1],[21,24,1],[21,25,1],[21,26,1],[21,27,1],[21,28,1],[22,3,1],[22,20,1],[22,21,1],[22,25,1],[22,26,1],[22,29,1],[23,20,1],[23,28,1],[23,30,1],[24,2,1],[24,20,1],[24,21,1],[24,26,1],[24,27,1],[24,28,1],[24,29,1],[25,21,1],[25,22,1],[25,28,1],[25,29,1],[26,20,1],[26,21,1],[26,22,1],[26,24,1],[26,28,1],[26,36,1],[27,21,1],[27,24,1],[27,28,1],[28,20,1],[28,21,1],[28,23,1],[28,24,1],[28,25,1],[28,26,1],[28,27,1],[29,22,1],[29,24,1],[29,25,1],[30,3,1],[30,23,1],[30,32,1],[30,33,1],[30,35,1],[30,36,1],[30,38,1],[31,1,1],[31,7,1],[31,32,1],[31,35,1],[31,37,1],[31,38,1],[31,39,1],[32,30,1],[32,31,1],[32,33,1],[32,35,1],[32,39,1],[33,30,1],[33,32,1],[33,35,1],[33,37,1],[33,38,1],[34,36,1],[34,38,1],[34,39,1],[35,30,1],[35,31,1],[35,32,1],[35,33,1],[35,36,1],[35,39,1],[36,26,1],[36,30,1],[36,34,1],[36,35,1],[36,38,1],[36,39,1],[37,31,1],[37,33,1],[37,38,1],[38,12,1],[38,30,1],[38,31,1],[38,33,1],[38,34,1],[38,36,1],[38,37,1],[39,31,1],[39,32,1],[39,34,1],[39,35,1],[39,36,1],[40,41,1],[40,42,1],[40,43,1],[40,44,1],[40,46,1],[41,10,1],[41,40,1],[41,43,1],[41,44,1],[42,40,1],[42,43,1],[43,40,1],[43,41,1],[43,42,1],[43,44,1],[44,40,1],[44,41,1],[44,43,1],[45,46,1],[45,47,1],[46,40,1],[46,45,1],[46,47,1],[46,48,1],[47,45,1],[47,46,1],[48,46,1]]}\" data-images=\"null\" data-options=\"{&quot;sort&quot;:&quot;degree&quot;,&quot;description&quot;:null,&quot;height&quot;:null,&quot;symmetric&quot;:true,&quot;width&quot;:600,&quot;numbers&quot;:false}\" id=\"viz-cd3face8-5063-4d3d-a703-f27ef9496856\" data-initialized=\"false\" class=\"feed-item\"></div></div></div></div><script>window.lightning = window.lightning || {};\n",
       "window.lightning.host = \"http://public.lightning-viz.org/\" || 'http://127.0.0.1:3000/';\n",
       "window.lightning.vizCount = (window.lightning.vizCount + 1) || 1;\n",
       "window.lightning.requiredVizTypes = window.lightning.requiredVizTypes || [];\n",
       "if(window.lightning.requiredVizTypes.indexOf(\"adjacency\") === -1) {\n",
       "    window.lightning.requiredVizTypes.push(\"adjacency\");\n",
       "}\n",
       "window._require = window.require;\n",
       "window.require = undefined;\n",
       "window._define = window.define;\n",
       "window.define = undefined;</script><script src=\"http://public.lightning-viz.org/js/embed.js\"></script>"
      ],
      "text/plain": [
       "<lightning.types.plots.Adjacency at 0x109c01790>"
      ]
     },
     "execution_count": 16,
     "metadata": {},
     "output_type": "execute_result"
    }
   ],
   "source": [
    "def group(G, n):\n",
    "    for i, p in enumerate(G.graph['partition']):\n",
    "        if n in p:\n",
    "            return i\n",
    "g = [group(G, x) for x in range(0,50)]\n",
    "lgn.adjacency(mat, group=g, sort='degree')"
   ]
  },
  {
   "cell_type": "markdown",
   "metadata": {},
   "source": [
    "You can use Lightning to look at a force-directed graph for the same network!"
   ]
  },
  {
   "cell_type": "code",
   "execution_count": 17,
   "metadata": {
    "collapsed": false
   },
   "outputs": [
    {
     "data": {
      "text/html": [
       "<meta name=\"viewport\" content=\"width=device-width, initial-scale=1, maximum-scale=1\"/><meta http-equiv=\"X-UA-Compatible\" content=\"IE=10; IE=9; IE=8; IE=7; IE=EDGE\"/><meta charset=\"UTF-8\"/><link href=\"//fonts.googleapis.com/css?family=Open+Sans:400,700\" rel=\"stylesheet\" type=\"text/css\"/><link rel=\"stylesheet\" href=\"http://public.lightning-viz.org/css/app.css\"/><link rel=\"stylesheet\" href=\"http://public.lightning-viz.org/css/dynamic/viz/?visualizations[]=force\"/><div id=\"lightning-body\" class=\"container content wrap push\"><div class=\"feed-container\"><div data-model=\"visualization\" data-model-id=\"89f11c55-05af-4bc9-8de1-b6903577b9d1\" class=\"feed-item-container\"><div data-type=\"lightning-force\" data-data=\"{&quot;nodes&quot;:[0,1,2,3,4,5,6,7,8,9,10,11,12,13,14,15,16,17,18,19,20,21,22,23,24,25,26,27,28,29,30,31,32,33,34,35,36,37,38,39,40,41,42,43,44,45,46,47,48,49],&quot;group&quot;:[0,0,0,0,0,0,0,0,0,0,0,0,0,0,0,0,0,0,0,0,1,1,1,1,1,1,1,1,1,1,2,2,2,2,2,2,2,2,2,2,3,3,3,3,3,4,4,4,4,4],&quot;links&quot;:[[0,1,1],[0,2,1],[0,5,1],[0,8,1],[0,9,1],[0,10,1],[0,12,1],[0,17,1],[0,18,1],[0,19,1],[1,0,1],[1,6,1],[1,8,1],[1,9,1],[1,10,1],[1,12,1],[1,15,1],[1,16,1],[1,17,1],[1,31,1],[2,0,1],[2,5,1],[2,6,1],[2,7,1],[2,9,1],[2,10,1],[2,12,1],[2,15,1],[2,16,1],[2,18,1],[2,24,1],[3,4,1],[3,6,1],[3,9,1],[3,10,1],[3,15,1],[3,22,1],[3,30,1],[4,3,1],[4,5,1],[4,9,1],[4,10,1],[4,11,1],[4,14,1],[4,15,1],[4,16,1],[5,0,1],[5,2,1],[5,4,1],[5,6,1],[5,9,1],[5,11,1],[5,14,1],[5,15,1],[5,16,1],[5,18,1],[5,19,1],[6,1,1],[6,2,1],[6,3,1],[6,5,1],[6,9,1],[6,10,1],[6,14,1],[6,15,1],[6,16,1],[6,19,1],[7,2,1],[7,8,1],[7,10,1],[7,12,1],[7,14,1],[7,15,1],[7,16,1],[7,17,1],[7,19,1],[7,31,1],[8,0,1],[8,1,1],[8,7,1],[8,12,1],[8,13,1],[8,15,1],[8,17,1],[8,18,1],[8,19,1],[9,0,1],[9,1,1],[9,2,1],[9,3,1],[9,4,1],[9,5,1],[9,6,1],[9,10,1],[9,13,1],[9,15,1],[9,17,1],[10,0,1],[10,1,1],[10,2,1],[10,3,1],[10,4,1],[10,6,1],[10,7,1],[10,9,1],[10,11,1],[10,12,1],[10,13,1],[10,15,1],[10,18,1],[10,19,1],[10,41,1],[11,4,1],[11,5,1],[11,10,1],[11,12,1],[11,13,1],[11,16,1],[11,17,1],[11,18,1],[12,0,1],[12,1,1],[12,2,1],[12,7,1],[12,8,1],[12,10,1],[12,11,1],[12,13,1],[12,19,1],[12,38,1],[13,8,1],[13,9,1],[13,10,1],[13,11,1],[13,12,1],[13,15,1],[13,16,1],[13,17,1],[13,18,1],[13,19,1],[14,4,1],[14,5,1],[14,6,1],[14,7,1],[14,19,1],[15,1,1],[15,2,1],[15,3,1],[15,4,1],[15,5,1],[15,6,1],[15,7,1],[15,8,1],[15,9,1],[15,10,1],[15,13,1],[15,16,1],[15,17,1],[16,1,1],[16,2,1],[16,4,1],[16,5,1],[16,6,1],[16,7,1],[16,11,1],[16,13,1],[16,15,1],[16,18,1],[16,19,1],[17,0,1],[17,1,1],[17,7,1],[17,8,1],[17,9,1],[17,11,1],[17,13,1],[17,15,1],[17,18,1],[18,0,1],[18,2,1],[18,5,1],[18,8,1],[18,10,1],[18,11,1],[18,13,1],[18,16,1],[18,17,1],[18,19,1],[19,0,1],[19,5,1],[19,6,1],[19,7,1],[19,8,1],[19,10,1],[19,12,1],[19,13,1],[19,14,1],[19,16,1],[19,18,1],[20,21,1],[20,22,1],[20,23,1],[20,24,1],[20,26,1],[20,28,1],[21,20,1],[21,22,1],[21,24,1],[21,25,1],[21,26,1],[21,27,1],[21,28,1],[22,3,1],[22,20,1],[22,21,1],[22,25,1],[22,26,1],[22,29,1],[23,20,1],[23,28,1],[23,30,1],[24,2,1],[24,20,1],[24,21,1],[24,26,1],[24,27,1],[24,28,1],[24,29,1],[25,21,1],[25,22,1],[25,28,1],[25,29,1],[26,20,1],[26,21,1],[26,22,1],[26,24,1],[26,28,1],[26,36,1],[27,21,1],[27,24,1],[27,28,1],[28,20,1],[28,21,1],[28,23,1],[28,24,1],[28,25,1],[28,26,1],[28,27,1],[29,22,1],[29,24,1],[29,25,1],[30,3,1],[30,23,1],[30,32,1],[30,33,1],[30,35,1],[30,36,1],[30,38,1],[31,1,1],[31,7,1],[31,32,1],[31,35,1],[31,37,1],[31,38,1],[31,39,1],[32,30,1],[32,31,1],[32,33,1],[32,35,1],[32,39,1],[33,30,1],[33,32,1],[33,35,1],[33,37,1],[33,38,1],[34,36,1],[34,38,1],[34,39,1],[35,30,1],[35,31,1],[35,32,1],[35,33,1],[35,36,1],[35,39,1],[36,26,1],[36,30,1],[36,34,1],[36,35,1],[36,38,1],[36,39,1],[37,31,1],[37,33,1],[37,38,1],[38,12,1],[38,30,1],[38,31,1],[38,33,1],[38,34,1],[38,36,1],[38,37,1],[39,31,1],[39,32,1],[39,34,1],[39,35,1],[39,36,1],[40,41,1],[40,42,1],[40,43,1],[40,44,1],[40,46,1],[41,10,1],[41,40,1],[41,43,1],[41,44,1],[42,40,1],[42,43,1],[43,40,1],[43,41,1],[43,42,1],[43,44,1],[44,40,1],[44,41,1],[44,43,1],[45,46,1],[45,47,1],[46,40,1],[46,45,1],[46,47,1],[46,48,1],[47,45,1],[47,46,1],[48,46,1]]}\" data-images=\"null\" data-options=\"{&quot;tooltips&quot;:true,&quot;description&quot;:null,&quot;zoom&quot;:true,&quot;height&quot;:null,&quot;width&quot;:600,&quot;brush&quot;:true}\" id=\"viz-89f11c55-05af-4bc9-8de1-b6903577b9d1\" data-initialized=\"false\" class=\"feed-item\"></div></div></div></div><script>window.lightning = window.lightning || {};\n",
       "window.lightning.host = \"http://public.lightning-viz.org/\" || 'http://127.0.0.1:3000/';\n",
       "window.lightning.vizCount = (window.lightning.vizCount + 1) || 1;\n",
       "window.lightning.requiredVizTypes = window.lightning.requiredVizTypes || [];\n",
       "if(window.lightning.requiredVizTypes.indexOf(\"force\") === -1) {\n",
       "    window.lightning.requiredVizTypes.push(\"force\");\n",
       "}\n",
       "window._require = window.require;\n",
       "window.require = undefined;\n",
       "window._define = window.define;\n",
       "window.define = undefined;</script><script src=\"http://public.lightning-viz.org/js/embed.js\"></script>"
      ],
      "text/plain": [
       "<lightning.types.plots.Force at 0x106f24e10>"
      ]
     },
     "execution_count": 17,
     "metadata": {},
     "output_type": "execute_result"
    }
   ],
   "source": [
    "lgn.force(mat, group=g)"
   ]
  }
 ],
 "metadata": {
  "kernelspec": {
   "display_name": "Python 2",
   "language": "python",
   "name": "python2"
  },
  "language_info": {
   "codemirror_mode": {
    "name": "ipython",
    "version": 2
   },
   "file_extension": ".py",
   "mimetype": "text/x-python",
   "name": "python",
   "nbconvert_exporter": "python",
   "pygments_lexer": "ipython2",
   "version": "2.7.9"
  }
 },
 "nbformat": 4,
 "nbformat_minor": 0
}
