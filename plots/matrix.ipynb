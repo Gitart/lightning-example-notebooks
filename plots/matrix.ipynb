{
 "cells": [
  {
   "cell_type": "markdown",
   "metadata": {},
   "source": [
    "# <img style='float: left' src=\"http://lightning-viz.github.io/images/logo.png\"> <br> <br> &nbsp;&nbsp;&nbsp;&nbsp;&nbsp;Matrix plots in <a href='http://lightning-viz.github.io/'><font color='#9175f0'>Lightning</font></a>"
   ]
  },
  {
   "cell_type": "markdown",
   "metadata": {},
   "source": [
    "## <hr> Setup"
   ]
  },
  {
   "cell_type": "code",
   "execution_count": 1,
   "metadata": {
    "collapsed": false
   },
   "outputs": [],
   "source": [
    "from lightning import Lightning\n",
    "\n",
    "from numpy import random, arange, asarray, corrcoef, argsort, array\n",
    "import networkx as nx\n",
    "from sklearn import datasets"
   ]
  },
  {
   "cell_type": "markdown",
   "metadata": {},
   "source": [
    "## Connect to server"
   ]
  },
  {
   "cell_type": "code",
   "execution_count": 2,
   "metadata": {
    "collapsed": false
   },
   "outputs": [
    {
     "data": {
      "text/html": [
       "<div style='margin-top:8px'><img src='data:image/png;base64,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' width='30px' height='35px' style='display: inline-block; padding-right: 10px'></img><span>Lightning initialized</span></div>"
      ],
      "text/plain": [
       "<IPython.core.display.HTML object>"
      ]
     },
     "metadata": {},
     "output_type": "display_data"
    },
    {
     "name": "stdout",
     "output_type": "stream",
     "text": [
      "Connected to server at http://public.lightning-viz.org\n"
     ]
    },
    {
     "data": {
      "application/javascript": [
       "(function e(t,n,r){function s(o,u){if(!n[o]){if(!t[o]){var a=typeof require==\"function\"&&require;if(!u&&a)return a(o,!0);if(i)return i(o,!0);throw new Error(\"Cannot find module '\"+o+\"'\")}var f=n[o]={exports:{}};t[o][0].call(f.exports,function(e){var n=t[o][1][e];return s(n?n:e)},f,f.exports,e,t,n,r)}return n[o].exports}var i=typeof require==\"function\"&&require;for(var o=0;o<r.length;o++)s(r[o]);return s})({1:[function(require,module,exports){\n",
       "window.lightning = window.lightning || {};\n",
       "var lightningCommMap = {};\n",
       "\n",
       "var readCommData = function(commData, field) {\n",
       "    try {\n",
       "        return commData.content.data[field];\n",
       "    } catch (err) {\n",
       "        return;\n",
       "    }\n",
       "};\n",
       "\n",
       "\n",
       "var init_comm = function() {\n",
       "    IPython.notebook.kernel.comm_manager.register_target('lightning', function(comm, data) {\n",
       "        var id = readCommData(data, 'id');\n",
       "        lightningCommMap[id] = comm;\n",
       "    });\n",
       "\n",
       "    window.lightning.comm_map = lightningCommMap;\n",
       "}\n",
       "\n",
       "\n",
       "if(IPython && IPython.notebook) {\n",
       "\n",
       "    if(IPython.notebook.kernel) {\n",
       "        init_comm();\n",
       "    }\n",
       "\n",
       "    IPython.notebook.events.on('kernel_connected.Kernel', init_comm);\n",
       "\n",
       "}\n",
       "\n",
       "\n",
       "},{}]},{},[1])\n",
       "//# sourceMappingURL=data:application/json;base64,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\n"
      ],
      "text/plain": [
       "<IPython.core.display.Javascript object>"
      ]
     },
     "metadata": {},
     "output_type": "display_data"
    }
   ],
   "source": [
    "lgn = Lightning(ipython=True, host='http://public.lightning-viz.org')"
   ]
  },
  {
   "cell_type": "markdown",
   "metadata": {},
   "source": [
    "## <hr> Simple matrix"
   ]
  },
  {
   "cell_type": "markdown",
   "metadata": {},
   "source": [
    "Matrices are useful ways to visualize dense tables and correlation matrices data.\n",
    "<br>\n",
    "First we show a random matrix with default styles.\n",
    "<br>\n",
    "You can us the arrow keys to change the contrast (up/down) or the colormap (left/right)."
   ]
  },
  {
   "cell_type": "code",
   "execution_count": 3,
   "metadata": {
    "collapsed": false,
    "scrolled": true
   },
   "outputs": [
    {
     "data": {
      "text/html": [
       "<meta name=\"viewport\" content=\"width=device-width, initial-scale=1, maximum-scale=1\"/><meta http-equiv=\"X-UA-Compatible\" content=\"IE=10; IE=9; IE=8; IE=7; IE=EDGE\"/><meta charset=\"UTF-8\"/><link href=\"//fonts.googleapis.com/css?family=Open+Sans:400,700\" rel=\"stylesheet\" type=\"text/css\"/><link rel=\"stylesheet\" href=\"http://public.lightning-viz.org/css/app.css\"/><link rel=\"stylesheet\" href=\"http://public.lightning-viz.org/css/dynamic/viz/?visualizations[]=matrix\"/><div id=\"lightning-body\" class=\"container content wrap push\"><div class=\"feed-container\"><div data-model=\"visualization\" data-model-id=\"52e2c18f-8bf0-4370-9f2c-122f8d06f42e\" class=\"feed-item-container\"><div data-type=\"lightning-matrix\" data-data=\"{&quot;matrix&quot;:[[0.12048367975296177,-0.7218124356383716,0.017950440528318002,-1.6985059014986013,-0.31330898326738515,1.4520401623781323,0.46625054127736526,0.5974127284001589,-0.43249925851561255,1.2127850070351551],[0.7567957656767884,0.8486930489178112,0.9026849834728071,0.7214712314376588,-0.9098417957362334,0.4653334425719752,2.038884087446555,0.5161390477658836,0.49903166441231317,0.9423367982560007],[-0.6256550801207419,0.23593678055528178,0.8682928095232821,0.5324263551007341,-0.09309707182771229,0.9068124351704431,0.24109654199478864,1.6368368918720038,1.3231491918718472,0.8559781622235437],[1.0437830453839694,0.3631031220712628,0.6481359272652206,-0.70070159773478,0.8081125774031369,0.7248511538856175,-0.22021005380529518,1.458397692575799,-1.0646597230230181,-0.41154860925473175],[1.574606432916105,-1.067972078227855,0.04530838391134613,-1.2096425450284258,-1.1244124337915626,-0.7334720752140106,0.2770461542908365,-2.3003367907555017,-0.752702422094783,-1.0956516653525206],[-0.3296080381529702,0.14500700247988202,1.6137766731393943,-0.6778902605074985,-1.2589615415912547,-0.8521430828880321,1.1496998005180383,1.5546882621194413,-0.7955980439109717,0.8190340596883054],[-0.17053988560780778,0.6427310356774726,-1.1567862327543124,0.7178063181570938,-0.07835958095916162,1.429856057822745,-0.4680080601000576,-0.2869120785237328,-0.35261842012697314,-0.9577089283578349],[0.026169906879568366,-0.8111843644363818,-0.5754444483236696,0.43032279376697996,-0.033707350195922414,0.021224248516443424,0.07284313303859878,1.5670247800580106,0.0477377141572934,-0.8055341778238452],[-0.15079454405760762,1.0946659061747444,1.0543872676739916,-0.22351304732547297,0.5201259606059607,-0.3499516517935454,-0.7767629828075548,1.0575747681075478,-0.9285813367233104,0.6889576902304437],[0.050459432034479126,-0.854059791900736,-0.4848133880434293,-0.9895721586069105,-0.9013018542657854,-0.9726444312375144,0.5814698039180511,0.043497688768438965,-0.5698554106680415,-1.737762705149106]]}\" data-images=\"null\" data-options=\"{&quot;numbers&quot;:false,&quot;width&quot;:600,&quot;description&quot;:null,&quot;height&quot;:null}\" id=\"viz-52e2c18f-8bf0-4370-9f2c-122f8d06f42e\" data-initialized=\"false\" class=\"feed-item\"></div></div></div></div><script>window.lightning = window.lightning || {};\n",
       "window.lightning.host = \"http://public.lightning-viz.org/\" || 'http://127.0.0.1:3000/';\n",
       "window.lightning.vizCount = (window.lightning.vizCount + 1) || 1;\n",
       "window.lightning.requiredVizTypes = window.lightning.requiredVizTypes || [];\n",
       "if(window.lightning.requiredVizTypes.indexOf(\"matrix\") === -1) {\n",
       "    window.lightning.requiredVizTypes.push(\"matrix\");\n",
       "}\n",
       "window._require = window.require;\n",
       "window.require = undefined;\n",
       "window._define = window.define;\n",
       "window.define = undefined;</script><script src=\"http://public.lightning-viz.org/js/embed.js\"></script>"
      ],
      "text/plain": [
       "<lightning.types.plots.Matrix at 0x10493bb50>"
      ]
     },
     "execution_count": 3,
     "metadata": {},
     "output_type": "execute_result"
    }
   ],
   "source": [
    "mat = random.randn(10,10)\n",
    "lgn.matrix(mat)"
   ]
  },
  {
   "cell_type": "markdown",
   "metadata": {},
   "source": [
    "## <hr> Different shapes"
   ]
  },
  {
   "cell_type": "markdown",
   "metadata": {},
   "source": [
    "Rectanglular matrices will automatically size appropriately."
   ]
  },
  {
   "cell_type": "code",
   "execution_count": 4,
   "metadata": {
    "collapsed": false
   },
   "outputs": [
    {
     "data": {
      "text/html": [
       "<meta name=\"viewport\" content=\"width=device-width, initial-scale=1, maximum-scale=1\"/><meta http-equiv=\"X-UA-Compatible\" content=\"IE=10; IE=9; IE=8; IE=7; IE=EDGE\"/><meta charset=\"UTF-8\"/><link href=\"//fonts.googleapis.com/css?family=Open+Sans:400,700\" rel=\"stylesheet\" type=\"text/css\"/><link rel=\"stylesheet\" href=\"http://public.lightning-viz.org/css/app.css\"/><link rel=\"stylesheet\" href=\"http://public.lightning-viz.org/css/dynamic/viz/?visualizations[]=matrix\"/><div id=\"lightning-body\" class=\"container content wrap push\"><div class=\"feed-container\"><div data-model=\"visualization\" data-model-id=\"1161e55f-dfeb-4bf3-ad6d-39d8740a1e11\" class=\"feed-item-container\"><div data-type=\"lightning-matrix\" data-data=\"{&quot;matrix&quot;:[[0.4817785576093879,-0.02075220244446333,-0.05925721674729751,1.3498863040210394,-1.2972405024181894,-0.030559682862456194,-0.5222175424461358,-0.9158981170560343,-0.43342406239669057,0.15565875072816368,0.5181365335462186,-0.44682707386049353,2.1281821838302513,0.8426525668202146,2.280195322343952,-0.43982762882619436,0.7294542568255709,-0.4369812805713386,-1.7350141392888387,2.1852058697902654],[-0.24337027435802075,1.7937296598591468,0.7348817303341563,0.40003219554594494,-1.5015581759408274,1.8735132572372266,-1.637291074049619,0.6077506872989927,1.4033401758041626,-0.8633114364798298,-1.569228472582095,0.19573489498631094,0.8813267395234557,-1.191395206383086,-2.864484148532569,0.7445772841111704,-0.6816815909377708,1.0369509907022856,0.17455479855988576,1.4913991780166669],[0.9575822595832745,-0.06195430838794954,-1.053546351162769,0.599401229786946,-1.8934151794636076,-1.012079685762191,-2.8822348443845165,-0.8276822263274702,1.1363447723410733,0.6579893808619257,0.06704847363515153,0.4067473112256678,0.9372491964591027,1.4268484385213638,-1.8708855575764147,0.2975650580873214,0.6373488688736201,-0.5987236461256418,0.6510799334033032,0.09952766758692273],[-0.199338595300875,-1.0179422078147655,-0.17694078530948076,0.02843826013536596,-0.5706253900823373,-1.4094827669535714,1.4685257535325846,0.6491818342324652,1.4074776235502244,-0.7116752381591682,-0.35669873504277205,0.3385846547256103,1.3130526354838843,0.6177626798854722,0.4966131709369821,-0.7414900700278351,0.8843139836603093,-0.5728951496472472,0.12484140590085407,-0.8249744653955645],[0.7559297500865838,1.1359867968919737,0.23928338952307943,-0.8249977084982855,-1.4638673611774446,-0.9914590714672217,0.32650650667061387,0.8519592611393358,0.4278339667311498,0.5539645867184734,0.027462026741631607,2.5046413853286977,0.5885379303677347,0.2558656731667231,0.45622301319795444,-0.21190865936897094,-0.6648349637129938,1.2427949971311572,0.15632883074346077,0.1781242931760157],[-0.330018269167593,0.33814156649135857,1.0608139645258665,1.5907819194664086,-0.48743068985285276,-1.8665372390369683,0.11333166213554759,2.60041400952295,-0.4263791951983822,-1.6203904010332186,-0.22627859581694248,0.48624695112010463,2.222845237440299,0.005645864959167699,-0.42746748480154045,-1.0037119946602748,0.14398577973709045,-0.9138794244632265,0.7180241964470161,-0.6740409614406192],[-0.5112328282070003,0.8792063363291118,-2.214087119020407,0.6808907318406985,-1.9804880989491118,1.7198453966752305,-0.8615797603860793,1.06975506375366,-0.4131071618560914,-0.33806161550122854,-0.7859163068882907,-1.185825933275753,0.5805777214419561,1.2143636551412214,-0.27145710773321213,-1.3766862131083857,-0.7146800609790639,-1.9225980331112882,0.07572261864830163,0.04118708126802957],[-1.0979491058611686,0.6783947658037303,0.3024056458538464,-1.2605039446711988,0.9992882647140136,-0.37853884941255955,0.5015954557663802,-0.7420184525680644,-1.5165945651309503,-0.7496055886346796,-0.4448825970088179,0.4211590449510195,0.08127439069975102,0.3826909161025269,1.8996992131722532,0.16694658076773544,0.6883490800722208,-1.322923393246283,-1.1953581295150078,0.037223481535825484],[-0.8982343257517095,-1.247440700954393,-0.24669045842029944,0.7208936496156846,0.5999263778467764,-0.1495311959237355,0.7970207191671723,0.9974266021523949,1.5093700402208714,0.23926902273972792,-1.0280368971794562,-0.8264389894457878,0.5907651679507551,1.6450827693854981,-0.18002621162220772,-1.6744888693283941,-1.051749169321146,-2.121322041758894,1.8706894218615837,0.048706984352842826],[-0.16678313771438197,-1.641727828787247,0.36408168057546253,-0.4608242420471801,0.30013439471097975,-0.11991760952618695,0.559460324373257,2.3098064020433107,0.8941938911368227,0.025182686975947825,0.24112079842140816,0.6015707754117928,0.6797876620712074,1.277508115507974,-1.0486776908093458,-0.15742037764166755,1.2450043046679995,0.9563091317404184,-1.3941570505984784,-0.5679363263299444]]}\" data-images=\"null\" data-options=\"{&quot;numbers&quot;:false,&quot;width&quot;:600,&quot;description&quot;:null,&quot;height&quot;:null}\" id=\"viz-1161e55f-dfeb-4bf3-ad6d-39d8740a1e11\" data-initialized=\"false\" class=\"feed-item\"></div></div></div></div><script>window.lightning = window.lightning || {};\n",
       "window.lightning.host = \"http://public.lightning-viz.org/\" || 'http://127.0.0.1:3000/';\n",
       "window.lightning.vizCount = (window.lightning.vizCount + 1) || 1;\n",
       "window.lightning.requiredVizTypes = window.lightning.requiredVizTypes || [];\n",
       "if(window.lightning.requiredVizTypes.indexOf(\"matrix\") === -1) {\n",
       "    window.lightning.requiredVizTypes.push(\"matrix\");\n",
       "}\n",
       "window._require = window.require;\n",
       "window.require = undefined;\n",
       "window._define = window.define;\n",
       "window.define = undefined;</script><script src=\"http://public.lightning-viz.org/js/embed.js\"></script>"
      ],
      "text/plain": [
       "<lightning.types.plots.Matrix at 0x1043dc4d0>"
      ]
     },
     "execution_count": 4,
     "metadata": {},
     "output_type": "execute_result"
    }
   ],
   "source": [
    "mat = random.randn(10,20)\n",
    "lgn.matrix(mat)"
   ]
  },
  {
   "cell_type": "code",
   "execution_count": 5,
   "metadata": {
    "collapsed": false
   },
   "outputs": [
    {
     "data": {
      "text/html": [
       "<meta name=\"viewport\" content=\"width=device-width, initial-scale=1, maximum-scale=1\"/><meta http-equiv=\"X-UA-Compatible\" content=\"IE=10; IE=9; IE=8; IE=7; IE=EDGE\"/><meta charset=\"UTF-8\"/><link href=\"//fonts.googleapis.com/css?family=Open+Sans:400,700\" rel=\"stylesheet\" type=\"text/css\"/><link rel=\"stylesheet\" href=\"http://public.lightning-viz.org/css/app.css\"/><link rel=\"stylesheet\" href=\"http://public.lightning-viz.org/css/dynamic/viz/?visualizations[]=matrix\"/><div id=\"lightning-body\" class=\"container content wrap push\"><div class=\"feed-container\"><div data-model=\"visualization\" data-model-id=\"2476a2af-424b-4c77-b680-93534edd542d\" class=\"feed-item-container\"><div data-type=\"lightning-matrix\" data-data=\"{&quot;matrix&quot;:[[0.056900448734966774,-2.3593357373022634,1.3262162543320526,-0.3395449731409254,0.5151120500541716,-0.0331000208544991,1.2084373742510026,-0.07451120771107746,-0.8862713904466557,0.4821046843592361],[0.7390760900529311,0.4238512917676487,-0.09916553431271653,-0.8785587182486715,-0.7314957729157049,0.8021347180405171,-1.19156765408117,-1.5391937185542819,-1.8305695801516928,-0.45129836932326356],[0.08459748970331867,0.5680929045247904,1.500070859522698,-0.21049373567380544,-0.32200387879081005,-0.7934967920968368,0.6408174074498965,-0.4468028211985102,0.45910472876791975,1.270504763111387],[0.7971673251107027,-1.3050264268715948,0.896464144912873,-0.15878014097910217,-1.1667198386745428,1.6974571331249657,0.18487003853015396,-0.1954479552372486,-1.3840632109626356,0.1125008922892888],[0.3418169477600812,0.6017010115354509,-0.011542640420866317,1.0836403719963499,-0.2108920544157236,0.29547754507891316,1.0961645891755194,-0.973876223812378,0.7632284344918258,-0.641334841792787],[-1.3642946744911766,0.5142320506909644,-1.482784427872444,-0.6853807541867378,-1.773317624836195,-0.9024666604464747,0.6264080372766032,-0.8194736608869059,0.7714026380162263,0.4484852926568392],[0.38794272424216586,0.2118401130013491,-1.157200629760656,-2.1808340097232075,1.3089380590276491,1.3956333869530269,0.5810772321796287,-0.8151835721321717,-0.005204277595014518,1.1200380301527866],[1.0054279978603373,0.4642628497001786,-0.7234116305075522,1.9082904354585468,0.35637779711019885,0.8833715041433963,-1.7206585100601433,0.44442869825104214,0.5233276219738875,-0.1196976890295132],[0.4079912657351815,1.9343693633666559,-0.18537680804341097,-0.4067750048264433,-1.7334113304833243,1.2758148100867523,-0.18532717861540585,-0.0687929785570823,-0.823162230247108,0.23368002388479617],[1.046501843602576,-0.08232722259921788,-1.0852930762219735,0.5560814667079387,0.11189370597979947,0.7254680505930587,-1.6415035280072487,-2.4048918177234286,-0.36468071430496846,-0.6551204777817732],[0.12445580024827939,1.0560630166590326,-1.2804639523521435,0.10942422277298161,0.8523418532081826,0.42934004112815605,0.01722172186788652,0.7342857180163734,1.945872329337723,-1.118928209556801],[-0.728443407643474,0.27551202113845896,-0.28784830316294163,1.4577512004070676,0.2117740913934428,-1.2263243131083068,-0.18288022619020788,0.21794936835084416,0.2432177740459693,0.09949532439253006],[-0.7483763217827538,-1.1646582216779306,-1.058375951239145,-0.316387266073695,0.39950932872343853,-0.4316865709236814,-0.5346313956614982,-0.8144876456835674,1.634620964327276,-1.2437449677975003],[-0.9108988150573731,1.2394035032424,1.6169698022308732,-0.10641407874360256,-0.8856434567806544,0.2108416527717497,-0.37322893201698537,1.0479354313465088,0.8985143446275816,-0.16141380638569763],[-1.4392712884835193,-1.1263807482992938,-1.0895228433911548,-0.7238242221260195,-0.6315640309507344,0.03615191399289547,0.5796571945674004,-0.5297838209571173,1.292096017627175,0.8645791351545219],[1.3733193081049957,-1.1889609641964574,-0.025619533521215727,-0.4833511125072259,0.21435700825223114,-0.6107679295539372,-0.5951064395761592,-1.0070695856776497,-1.764128686724372,0.23605525320294535],[1.2276878061454977,-0.6475907375965652,0.5072909901875838,0.3256839509776597,-1.3299672842544354,0.4315586149375423,-1.910738917152421,-0.5946912988633928,-0.21519573225811897,-0.3150688808343604],[-0.9351199453639274,0.17173246946074205,-1.2725399644430329,0.6834309869438048,-0.0694506005303401,0.6927631653058164,0.01218213944468527,0.11322622832031586,0.06793638361828534,0.040858107354980015],[2.2446692662456216,-0.7295671967597848,-0.18715129901246824,-0.058379173327383425,0.9394138122035383,0.2212883767918034,0.4791190341751082,-1.1207835451181818,-1.6171450558441494,0.47795778686393314],[-0.24129731190976794,-0.28097705131481704,-1.1122758223000366,-0.21279128609775733,1.071522804827692,-0.32213447706877607,0.7429414879803,-1.1956360653889202,-1.151390634210628,0.012540065039961804]]}\" data-images=\"null\" data-options=\"{&quot;numbers&quot;:false,&quot;width&quot;:600,&quot;description&quot;:null,&quot;height&quot;:null}\" id=\"viz-2476a2af-424b-4c77-b680-93534edd542d\" data-initialized=\"false\" class=\"feed-item\"></div></div></div></div><script>window.lightning = window.lightning || {};\n",
       "window.lightning.host = \"http://public.lightning-viz.org/\" || 'http://127.0.0.1:3000/';\n",
       "window.lightning.vizCount = (window.lightning.vizCount + 1) || 1;\n",
       "window.lightning.requiredVizTypes = window.lightning.requiredVizTypes || [];\n",
       "if(window.lightning.requiredVizTypes.indexOf(\"matrix\") === -1) {\n",
       "    window.lightning.requiredVizTypes.push(\"matrix\");\n",
       "}\n",
       "window._require = window.require;\n",
       "window.require = undefined;\n",
       "window._define = window.define;\n",
       "window.define = undefined;</script><script src=\"http://public.lightning-viz.org/js/embed.js\"></script>"
      ],
      "text/plain": [
       "<lightning.types.plots.Matrix at 0x106f48810>"
      ]
     },
     "execution_count": 5,
     "metadata": {},
     "output_type": "execute_result"
    }
   ],
   "source": [
    "mat = random.randn(20,10)\n",
    "lgn.matrix(mat)"
   ]
  },
  {
   "cell_type": "markdown",
   "metadata": {},
   "source": [
    "## <hr> Colors"
   ]
  },
  {
   "cell_type": "markdown",
   "metadata": {},
   "source": [
    "Matrices can be rendered using any colorbrewer colormaps."
   ]
  },
  {
   "cell_type": "code",
   "execution_count": 6,
   "metadata": {
    "collapsed": false
   },
   "outputs": [
    {
     "data": {
      "text/html": [
       "<meta name=\"viewport\" content=\"width=device-width, initial-scale=1, maximum-scale=1\"/><meta http-equiv=\"X-UA-Compatible\" content=\"IE=10; IE=9; IE=8; IE=7; IE=EDGE\"/><meta charset=\"UTF-8\"/><link href=\"//fonts.googleapis.com/css?family=Open+Sans:400,700\" rel=\"stylesheet\" type=\"text/css\"/><link rel=\"stylesheet\" href=\"http://public.lightning-viz.org/css/app.css\"/><link rel=\"stylesheet\" href=\"http://public.lightning-viz.org/css/dynamic/viz/?visualizations[]=matrix\"/><div id=\"lightning-body\" class=\"container content wrap push\"><div class=\"feed-container\"><div data-model=\"visualization\" data-model-id=\"b311eb36-426f-4b32-8ecc-fcc28090d584\" class=\"feed-item-container\"><div data-type=\"lightning-matrix\" data-data=\"{&quot;matrix&quot;:[[0.9905265595819494,0.7117237073613792,0.9353268362779247,0.7112745696507305,0.9105430263678923,0.8407542917375256,0.6448315523580893,0.5357494615681403,0.32434935401293297,0.8932689556696047],[0.13304448189038776,0.6916413205079793,0.4671778188243192,0.7139704870306437,0.3231384415376666,0.1799294778732522,0.30631209597458875,0.49337863187583075,0.533882918341729,0.27777973481766094],[0.1287031255061062,0.8638174064608476,0.555238727544601,0.38369175088348284,0.24268913153016536,0.019031123459805954,0.33789594506438514,0.1428313525101389,0.41457906043714865,0.3322157369289327],[0.3874731926555258,0.14623967115758651,0.1288758201160377,0.7659621494440901,0.08435153438828469,0.6760410955755852,0.019491738121442448,0.820769911450288,0.7512379087619915,0.565329125644408],[0.48595178362060865,0.9947600622445164,0.28676405090004975,0.4099076811499025,0.9964251336415204,0.41308341579995556,0.9929424898431747,0.6146759538452051,0.5030489846526703,0.6308694029109643],[0.6855079014842845,0.39828383002111933,0.6946465894262626,0.20859002478183486,0.6186916565633465,0.6016956005338766,0.7355091032034603,0.8420654223481772,0.7134968723652766,0.7594973093426303],[0.5524308361142444,0.48156193904497646,0.9480371864257663,0.9521042891898244,0.5392816005853458,0.34485596626052684,0.6788407229661481,0.806853005373207,0.23594066702445604,0.29171092571396506],[0.3380596475425488,0.5208736912060647,0.9724741261545439,0.04311442865542692,0.563973651374229,0.9217924231739226,0.846041080366401,0.6315763486508441,0.6324969458666581,0.3633387686613665],[0.43664175453066223,0.8228565106390469,0.15684400009642652,0.6446662480845573,0.2625235562945313,0.22942027757752215,0.22918326201817096,0.25400773503698215,0.6296559885889818,0.8217363018402437],[0.35364682772325995,0.9929803113243428,0.6419788323216523,0.24625768791872937,0.9478337096220328,0.4285278685339716,0.5935878571547951,0.22630483127700063,0.14116215018464096,0.979902911518282]],&quot;colormap&quot;:&quot;Reds&quot;}\" data-images=\"null\" data-options=\"{&quot;numbers&quot;:false,&quot;width&quot;:600,&quot;description&quot;:null,&quot;height&quot;:null}\" id=\"viz-b311eb36-426f-4b32-8ecc-fcc28090d584\" data-initialized=\"false\" class=\"feed-item\"></div></div></div></div><script>window.lightning = window.lightning || {};\n",
       "window.lightning.host = \"http://public.lightning-viz.org/\" || 'http://127.0.0.1:3000/';\n",
       "window.lightning.vizCount = (window.lightning.vizCount + 1) || 1;\n",
       "window.lightning.requiredVizTypes = window.lightning.requiredVizTypes || [];\n",
       "if(window.lightning.requiredVizTypes.indexOf(\"matrix\") === -1) {\n",
       "    window.lightning.requiredVizTypes.push(\"matrix\");\n",
       "}\n",
       "window._require = window.require;\n",
       "window.require = undefined;\n",
       "window._define = window.define;\n",
       "window.define = undefined;</script><script src=\"http://public.lightning-viz.org/js/embed.js\"></script>"
      ],
      "text/plain": [
       "<lightning.types.plots.Matrix at 0x1043dc690>"
      ]
     },
     "execution_count": 6,
     "metadata": {},
     "output_type": "execute_result"
    }
   ],
   "source": [
    "mat = random.rand(10,10)\n",
    "lgn.matrix(mat, colormap='Reds')"
   ]
  },
  {
   "cell_type": "code",
   "execution_count": 7,
   "metadata": {
    "collapsed": false
   },
   "outputs": [
    {
     "data": {
      "text/html": [
       "<meta name=\"viewport\" content=\"width=device-width, initial-scale=1, maximum-scale=1\"/><meta http-equiv=\"X-UA-Compatible\" content=\"IE=10; IE=9; IE=8; IE=7; IE=EDGE\"/><meta charset=\"UTF-8\"/><link href=\"//fonts.googleapis.com/css?family=Open+Sans:400,700\" rel=\"stylesheet\" type=\"text/css\"/><link rel=\"stylesheet\" href=\"http://public.lightning-viz.org/css/app.css\"/><link rel=\"stylesheet\" href=\"http://public.lightning-viz.org/css/dynamic/viz/?visualizations[]=matrix\"/><div id=\"lightning-body\" class=\"container content wrap push\"><div class=\"feed-container\"><div data-model=\"visualization\" data-model-id=\"820fd410-86ee-42fb-846a-1c98179e1621\" class=\"feed-item-container\"><div data-type=\"lightning-matrix\" data-data=\"{&quot;matrix&quot;:[[0.9870129571606607,0.1339153597972922,0.8496648250214986,0.2772594970518528,0.3367755839892591,0.29621234217773307,0.5882176890327812,0.508938031307113,0.2132182447011043,0.6680607332073114],[0.18392432965136118,0.2527546237151117,0.9469204589480184,0.09404256018339541,0.7312382800396391,0.4612822053123524,0.7903462091522497,0.6880011775198948,0.9392386327413323,0.008824509583128415],[0.05504536099039348,0.746472482296243,0.20892272564765613,0.9779503250189208,0.8474101647068185,0.884729868927901,0.23958650093439526,0.6934639029992842,0.3484266536198649,0.10160512611991235],[0.2776249340909561,0.4911668750033117,0.0032770948306289904,0.11919225896882246,0.1588211835730754,0.7829703953302013,0.4489376326398893,0.9856061138952665,0.742594704127978,0.7669669711962772],[0.6341755904700125,0.09739373513072891,0.208108441334111,0.519527930743537,0.628242898975155,0.8527533352449159,0.5883465865186341,0.7144385428866514,0.7323680108382954,0.4386145066021232],[0.8767849958686886,0.4171857114427553,0.7179281382124749,0.3940660281246583,0.15280562870069392,0.31015625455164564,0.9960372120249191,0.733129293707325,0.5745723507782922,0.6375256580907535],[0.49482349905156076,0.5401648423425964,0.4755349347908172,0.8719420909593302,0.6793847568416175,0.8313495014297893,0.4440967286090064,0.6981411540476239,0.11773624429392715,0.49881414161819493],[0.018363452373801548,0.8064341669727471,0.9339063276555761,0.05729064873430445,0.23400074947637717,0.5695320278312136,0.6249406595546231,0.9180575449338368,0.9367201156734483,0.24466349289244538],[0.8290471101070732,0.36622826130778674,0.04339072271278499,0.7832355801444014,0.8360767511590982,0.9457985512857161,0.13478568178371875,0.7851676822845618,0.9437592978556856,0.14040516804593095],[0.8226041464791507,0.8418910499806088,0.6909160851578332,0.6616240021996512,0.2910860453636084,0.04936885009703107,0.1249294848150323,0.6502410789375651,0.08784032939879782,0.7013202105846195]],&quot;colormap&quot;:&quot;Spectral&quot;}\" data-images=\"null\" data-options=\"{&quot;numbers&quot;:false,&quot;width&quot;:600,&quot;description&quot;:null,&quot;height&quot;:null}\" id=\"viz-820fd410-86ee-42fb-846a-1c98179e1621\" data-initialized=\"false\" class=\"feed-item\"></div></div></div></div><script>window.lightning = window.lightning || {};\n",
       "window.lightning.host = \"http://public.lightning-viz.org/\" || 'http://127.0.0.1:3000/';\n",
       "window.lightning.vizCount = (window.lightning.vizCount + 1) || 1;\n",
       "window.lightning.requiredVizTypes = window.lightning.requiredVizTypes || [];\n",
       "if(window.lightning.requiredVizTypes.indexOf(\"matrix\") === -1) {\n",
       "    window.lightning.requiredVizTypes.push(\"matrix\");\n",
       "}\n",
       "window._require = window.require;\n",
       "window.require = undefined;\n",
       "window._define = window.define;\n",
       "window.define = undefined;</script><script src=\"http://public.lightning-viz.org/js/embed.js\"></script>"
      ],
      "text/plain": [
       "<lightning.types.plots.Matrix at 0x103fcff10>"
      ]
     },
     "execution_count": 7,
     "metadata": {},
     "output_type": "execute_result"
    }
   ],
   "source": [
    "mat = random.rand(10,10)\n",
    "lgn.matrix(mat, colormap='Spectral')"
   ]
  },
  {
   "cell_type": "markdown",
   "metadata": {},
   "source": [
    "## <hr> Labels"
   ]
  },
  {
   "cell_type": "markdown",
   "metadata": {},
   "source": [
    "You can label the rows and columns of a matrix. Clicking on the text labels will highlight those rows and columns -- try it!"
   ]
  },
  {
   "cell_type": "code",
   "execution_count": 8,
   "metadata": {
    "collapsed": false
   },
   "outputs": [
    {
     "data": {
      "text/html": [
       "<meta name=\"viewport\" content=\"width=device-width, initial-scale=1, maximum-scale=1\"/><meta http-equiv=\"X-UA-Compatible\" content=\"IE=10; IE=9; IE=8; IE=7; IE=EDGE\"/><meta charset=\"UTF-8\"/><link href=\"//fonts.googleapis.com/css?family=Open+Sans:400,700\" rel=\"stylesheet\" type=\"text/css\"/><link rel=\"stylesheet\" href=\"http://public.lightning-viz.org/css/app.css\"/><link rel=\"stylesheet\" href=\"http://public.lightning-viz.org/css/dynamic/viz/?visualizations[]=matrix\"/><div id=\"lightning-body\" class=\"container content wrap push\"><div class=\"feed-container\"><div data-model=\"visualization\" data-model-id=\"9b8184e4-6187-4b09-b117-85e4dc2f55b0\" class=\"feed-item-container\"><div data-type=\"lightning-matrix\" data-data=\"{&quot;rowLabels&quot;:[&quot;row 0&quot;,&quot;row 1&quot;,&quot;row 2&quot;,&quot;row 3&quot;,&quot;row 4&quot;,&quot;row 5&quot;,&quot;row 6&quot;,&quot;row 7&quot;],&quot;matrix&quot;:[[0,1,2,3,4,5,6,7,8,9,10,11,12,13,14,15],[16,17,18,19,20,21,22,23,24,25,26,27,28,29,30,31],[32,33,34,35,36,37,38,39,40,41,42,43,44,45,46,47],[48,49,50,51,52,53,54,55,56,57,58,59,60,61,62,63],[64,65,66,67,68,69,70,71,72,73,74,75,76,77,78,79],[80,81,82,83,84,85,86,87,88,89,90,91,92,93,94,95],[96,97,98,99,100,101,102,103,104,105,106,107,108,109,110,111],[112,113,114,115,116,117,118,119,120,121,122,123,124,125,126,127]],&quot;columnLabels&quot;:[&quot;col 0&quot;,&quot;col 1&quot;,&quot;col 2&quot;,&quot;col 3&quot;,&quot;col 4&quot;,&quot;col 5&quot;,&quot;col 6&quot;,&quot;col 7&quot;,&quot;col 8&quot;,&quot;col 9&quot;,&quot;col 10&quot;,&quot;col 11&quot;,&quot;col 12&quot;,&quot;col 13&quot;,&quot;col 14&quot;,&quot;col 15&quot;]}\" data-images=\"null\" data-options=\"{&quot;numbers&quot;:false,&quot;width&quot;:600,&quot;description&quot;:null,&quot;height&quot;:null}\" id=\"viz-9b8184e4-6187-4b09-b117-85e4dc2f55b0\" data-initialized=\"false\" class=\"feed-item\"></div></div></div></div><script>window.lightning = window.lightning || {};\n",
       "window.lightning.host = \"http://public.lightning-viz.org/\" || 'http://127.0.0.1:3000/';\n",
       "window.lightning.vizCount = (window.lightning.vizCount + 1) || 1;\n",
       "window.lightning.requiredVizTypes = window.lightning.requiredVizTypes || [];\n",
       "if(window.lightning.requiredVizTypes.indexOf(\"matrix\") === -1) {\n",
       "    window.lightning.requiredVizTypes.push(\"matrix\");\n",
       "}\n",
       "window._require = window.require;\n",
       "window.require = undefined;\n",
       "window._define = window.define;\n",
       "window.define = undefined;</script><script src=\"http://public.lightning-viz.org/js/embed.js\"></script>"
      ],
      "text/plain": [
       "<lightning.types.plots.Matrix at 0x106fbbf90>"
      ]
     },
     "execution_count": 8,
     "metadata": {},
     "output_type": "execute_result"
    }
   ],
   "source": [
    "n, m = (8, 16)\n",
    "mat = arange(n*m).reshape(n,m)\n",
    "rows = ['row ' + str(i) for i in range(n)]\n",
    "columns = ['col ' + str(i) for i in range(m)]\n",
    "\n",
    "lgn.matrix(mat, row_labels=rows, column_labels=columns)"
   ]
  },
  {
   "cell_type": "markdown",
   "metadata": {},
   "source": [
    "You can also turn on labeling of cells by their value."
   ]
  },
  {
   "cell_type": "code",
   "execution_count": 9,
   "metadata": {
    "collapsed": false
   },
   "outputs": [
    {
     "data": {
      "text/html": [
       "<meta name=\"viewport\" content=\"width=device-width, initial-scale=1, maximum-scale=1\"/><meta http-equiv=\"X-UA-Compatible\" content=\"IE=10; IE=9; IE=8; IE=7; IE=EDGE\"/><meta charset=\"UTF-8\"/><link href=\"//fonts.googleapis.com/css?family=Open+Sans:400,700\" rel=\"stylesheet\" type=\"text/css\"/><link rel=\"stylesheet\" href=\"http://public.lightning-viz.org/css/app.css\"/><link rel=\"stylesheet\" href=\"http://public.lightning-viz.org/css/dynamic/viz/?visualizations[]=matrix\"/><div id=\"lightning-body\" class=\"container content wrap push\"><div class=\"feed-container\"><div data-model=\"visualization\" data-model-id=\"3d03fe3e-feb4-45ee-b626-86cc0aea2dc0\" class=\"feed-item-container\"><div data-type=\"lightning-matrix\" data-data=\"{&quot;matrix&quot;:[[0,1,2,3,4,5,6,7,8,9,10,11,12,13,14,15],[16,17,18,19,20,21,22,23,24,25,26,27,28,29,30,31],[32,33,34,35,36,37,38,39,40,41,42,43,44,45,46,47],[48,49,50,51,52,53,54,55,56,57,58,59,60,61,62,63],[64,65,66,67,68,69,70,71,72,73,74,75,76,77,78,79],[80,81,82,83,84,85,86,87,88,89,90,91,92,93,94,95],[96,97,98,99,100,101,102,103,104,105,106,107,108,109,110,111],[112,113,114,115,116,117,118,119,120,121,122,123,124,125,126,127]]}\" data-images=\"null\" data-options=\"{&quot;numbers&quot;:true,&quot;width&quot;:600,&quot;description&quot;:null,&quot;height&quot;:null}\" id=\"viz-3d03fe3e-feb4-45ee-b626-86cc0aea2dc0\" data-initialized=\"false\" class=\"feed-item\"></div></div></div></div><script>window.lightning = window.lightning || {};\n",
       "window.lightning.host = \"http://public.lightning-viz.org/\" || 'http://127.0.0.1:3000/';\n",
       "window.lightning.vizCount = (window.lightning.vizCount + 1) || 1;\n",
       "window.lightning.requiredVizTypes = window.lightning.requiredVizTypes || [];\n",
       "if(window.lightning.requiredVizTypes.indexOf(\"matrix\") === -1) {\n",
       "    window.lightning.requiredVizTypes.push(\"matrix\");\n",
       "}\n",
       "window._require = window.require;\n",
       "window.require = undefined;\n",
       "window._define = window.define;\n",
       "window.define = undefined;</script><script src=\"http://public.lightning-viz.org/js/embed.js\"></script>"
      ],
      "text/plain": [
       "<lightning.types.plots.Matrix at 0x10915c8d0>"
      ]
     },
     "execution_count": 9,
     "metadata": {},
     "output_type": "execute_result"
    }
   ],
   "source": [
    "mat = arange(n*m).reshape(n,m)\n",
    "\n",
    "lgn.matrix(mat, numbers=True)"
   ]
  },
  {
   "cell_type": "markdown",
   "metadata": {},
   "source": [
    "## <hr> Correlation matrix"
   ]
  },
  {
   "cell_type": "markdown",
   "metadata": {},
   "source": [
    "Matrices are also commonly used to look at correlation structure."
   ]
  },
  {
   "cell_type": "code",
   "execution_count": 10,
   "metadata": {
    "collapsed": false
   },
   "outputs": [
    {
     "data": {
      "text/html": [
       "<meta name=\"viewport\" content=\"width=device-width, initial-scale=1, maximum-scale=1\"/><meta http-equiv=\"X-UA-Compatible\" content=\"IE=10; IE=9; IE=8; IE=7; IE=EDGE\"/><meta charset=\"UTF-8\"/><link href=\"//fonts.googleapis.com/css?family=Open+Sans:400,700\" rel=\"stylesheet\" type=\"text/css\"/><link rel=\"stylesheet\" href=\"http://public.lightning-viz.org/css/app.css\"/><link rel=\"stylesheet\" href=\"http://public.lightning-viz.org/css/dynamic/viz/?visualizations[]=matrix\"/><div id=\"lightning-body\" class=\"container content wrap push\"><div class=\"feed-container\"><div data-model=\"visualization\" data-model-id=\"f6df8c8f-ec3f-435e-9349-aea1e8077aa2\" class=\"feed-item-container\"><div data-type=\"lightning-matrix\" data-data=\"{&quot;matrix&quot;:[[1,0.8911374886000638,0.9395667627150204,0.9365373053715086,0.9614937007333237,-0.6018965880312768,-0.33412139526528645,-0.6311238166443456,-0.7956311300917691,-0.6760206526232279,-0.1777648567136497,0.14598020075019552,0.3012738916710026,-0.03749432986292772,-0.06399641472322376,0.5956199380014803,0.705066511686884,0.6150785383928641,0.7545425722741411,0.3385080366266903,-0.1721033496565615,-0.07922040213935315,-0.1524946442387643,-0.1983906387289173,-0.26445735978964663],[0.8911374886000638,1,0.9185279533524046,0.7173411622017094,0.9591597871294834,-0.36398298515681843,-0.000539942396197963,-0.3467309953909836,-0.6922962154643372,-0.35449360714813155,-0.2437372882863036,0.16066649711039363,0.30909957214444306,0.06085801289457402,0.0386577704732849,0.5960957299229076,0.7129655594580021,0.7188622986471209,0.7467153684804522,0.5671655277052251,0.2783693275740587,0.32588557040663135,0.25128905790868766,0.2338022505074944,0.19134958586150666],[0.9395667627150204,0.9185279533524046,1,0.7664428896088146,0.951570704186376,-0.3165256927112546,-0.044173347429823075,-0.34940609488507274,-0.6071451512135101,-0.40633372196418216,-0.33871803734082934,0.09313260549471324,0.2188403629365812,-0.18857289982756292,-0.12068394094701584,0.3548439100959534,0.5051857968919262,0.4495208718066088,0.5667021888567872,0.21109532430252173,-0.0019279981578793628,0.14048332917260978,-0.00867421139649993,-0.04294601431943266,-0.0863805779926218],[0.9365373053715086,0.7173411622017094,0.7664428896088146,1,0.8274898068699282,-0.7865244956931245,-0.5787013961612105,-0.8232991112776689,-0.8385246457737175,-0.8662870043909371,-0.055450711030717977,0.11010328185493988,0.2721858018107675,0.021453752828632117,-0.08737808399761972,0.7017542159152139,0.7514551466816503,0.623799797654937,0.7864672175075138,0.3258890614648545,-0.38473772577516874,-0.3220472159046066,-0.32162137053896894,-0.3844590849695214,-0.4742135304074229],[0.9614937007333237,0.9591597871294834,0.951570704186376,0.8274898068699282,1,-0.5274938999623109,-0.22634831539355993,-0.5290933994327542,-0.8054230404708057,-0.5468047348142422,-0.09564567872383199,0.3002288605082686,0.44311907193524636,0.1059142094330985,0.11867884236336676,0.5865501102852235,0.7339046414244612,0.6851423840667082,0.7840360523043106,0.4579487891535166,0.009116842922175765,0.05880921530449186,-0.032372591236383925,-0.04577346786072088,-0.07501053256878591],[-0.6018965880312768,-0.36398298515681843,-0.3165256927112546,-0.7865244956931245,-0.5274938999623109,1,0.9163592068272228,0.9910106080884924,0.9072506985368191,0.9612023919652435,-0.5355565234705228,-0.5007641652021821,-0.6175619401549524,-0.5433387457874503,-0.3922084188983888,-0.7991378498438301,-0.8255793972814555,-0.7004104591126432,-0.8360853728592669,-0.47378061455761056,0.5257927046933103,0.6476785924331903,0.5404873373713057,0.5461268160471626,0.5721788745848753],[-0.33412139526528645,-0.000539942396197963,-0.044173347429823075,-0.5787013961612105,-0.22634831539355993,0.9163592068272228,1,0.9286940487218314,0.6996855158949213,0.9077501643274332,-0.6744395596057069,-0.5229222004166163,-0.5779032153654233,-0.5065037618464301,-0.4116204590331599,-0.5245363455180525,-0.5422785538040471,-0.38430455367914174,-0.5561158259811956,-0.16438391735979743,0.7707010508208035,0.891666551877401,0.7908453462460627,0.785937299333844,0.7837316203435045],[-0.6311238166443456,-0.3467309953909836,-0.34940609488507274,-0.8232991112776689,-0.5290933994327542,0.9910106080884924,0.9286940487218314,1,0.8807223804628744,0.989057690371705,-0.4735053931764855,-0.43972694191482126,-0.5552702536851587,-0.4389606084869599,-0.30257947748155484,-0.7411342349395525,-0.7687625073248261,-0.6228559474433342,-0.7861906825802087,-0.3660262711595751,0.6129436617615368,0.698094762824186,0.608673905624857,0.6263049487773595,0.6618814179116937],[-0.7956311300917691,-0.6922962154643372,-0.6071451512135101,-0.8385246457737175,-0.8054230404708057,0.9072506985368191,0.6996855158949213,0.8807223804628744,1,0.8454779266789397,-0.4143395084408626,-0.5833813353197396,-0.7206502103835213,-0.5486173269035243,-0.4566010772313778,-0.8372706689641357,-0.9336214308974718,-0.8513966340839979,-0.9589522114168949,-0.6311226138599001,0.2547877222674652,0.3589041080555182,0.3191655459221959,0.3082575620765042,0.31756039787507656],[-0.6760206526232279,-0.35449360714813155,-0.40633372196418216,-0.8662870043909371,-0.5468047348142422,0.9612023919652435,0.9077501643274332,0.989057690371705,0.8454779266789397,1,-0.3693632036669646,-0.3486809780030702,-0.4664180410228401,-0.30490660479643333,-0.18235510656388462,-0.6820166536774845,-0.710001439331986,-0.5472064448577901,-0.7344678881699177,-0.2614153232892751,0.672241581335135,0.7112531110442653,0.6438569219563371,0.6768798956208341,0.7265455798766131],[-0.1777648567136497,-0.2437372882863036,-0.33871803734082934,-0.055450711030717977,-0.09564567872383199,-0.5355565234705228,-0.6744395596057069,-0.4735053931764855,-0.4143395084408626,-0.3693632036669646,1,0.8676297870085494,0.8249367241410266,0.8890326560726272,0.9020173342357687,0.25442364603188894,0.31937611355695045,0.2830876818828271,0.3162747577664665,0.28121034697543795,-0.3436602910438083,-0.6121292342544923,-0.520484122092473,-0.41730772162088486,-0.2959637385295979],[0.14598020075019552,0.16066649711039363,0.09313260549471324,0.11010328185493988,0.3002288605082686,-0.5007641652021821,-0.5229222004166163,-0.43972694191482126,-0.5833813353197396,-0.3486809780030702,0.8676297870085494,1,0.9824991199632703,0.8381877341418769,0.9558013107929265,0.264230268392487,0.4373478040145143,0.4117810508384052,0.46767141909171267,0.35272640439655345,-0.1982850971980542,-0.41320244354043123,-0.4316507913912707,-0.3149680868267463,-0.1737240037721011],[0.3012738916710026,0.30909957214444306,0.2188403629365812,0.2721858018107675,0.44311907193524636,-0.6175619401549524,-0.5779032153654233,-0.5552702536851587,-0.7206502103835213,-0.4664180410228401,0.8249367241410266,0.9824991199632703,1,0.8477774596141269,0.9239871130847127,0.42437738662988433,0.5930257856121923,0.5608842446853252,0.622817631414009,0.47069366676129243,-0.18592923901059957,-0.3968184279975057,-0.4018563109855589,-0.29839940216496597,-0.179677111900745],[-0.03749432986292772,0.06085801289457402,-0.18857289982756292,0.021453752828632117,0.1059142094330985,-0.5433387457874503,-0.5065037618464301,-0.4389606084869599,-0.5486173269035243,-0.30490660479643333,0.8890326560726272,0.8381877341418769,0.8477774596141269,1,0.9320185457722705,0.5352965185077935,0.5864539666431036,0.6191706017685629,0.5650680253121458,0.6761502809317231,0.04434754738348036,-0.26335202154112874,-0.13607833638965838,-0.032871126295317285,0.06746885960423264],[-0.06399641472322376,0.0386577704732849,-0.12068394094701584,-0.08737808399761972,0.11867884236336676,-0.3922084188983888,-0.4116204590331599,-0.30257947748155484,-0.4566010772313778,-0.18235510656388462,0.9020173342357687,0.9558013107929265,0.9239871130847127,0.9320185457722705,1,0.2732900952231731,0.3999377446565908,0.4245713422401229,0.40509904080252707,0.46383402433553356,-0.00704854765350475,-0.27718169873433074,-0.24208544780580818,-0.11468326046403193,0.031078408722144457],[0.5956199380014803,0.5960957299229076,0.3548439100959534,0.7017542159152139,0.5865501102852235,-0.7991378498438301,-0.5245363455180525,-0.7411342349395525,-0.8372706689641357,-0.6820166536774845,0.25442364603188894,0.264230268392487,0.42437738662988433,0.5352965185077935,0.2732900952231731,1,0.9663758211206104,0.9533889981754355,0.9414436812085575,0.8612299981689201,0.05908275295902344,-0.08672873048899234,0.07323834061096943,0.056387905427007924,-0.008052086208404873],[0.705066511686884,0.7129655594580021,0.5051857968919262,0.7514551466816503,0.7339046414244612,-0.8255793972814555,-0.5422785538040471,-0.7687625073248261,-0.9336214308974718,-0.710001439331986,0.31937611355695045,0.4373478040145143,0.5930257856121923,0.5864539666431036,0.3999377446565908,0.9663758211206104,1,0.9773642129564245,0.9956325274135724,0.8480233330924982,0.028779026231891425,-0.1120802283905664,-0.007851406443701883,-0.004659366972035411,-0.038953926215366544],[0.6150785383928641,0.7188622986471209,0.4495208718066088,0.623799797654937,0.6851423840667082,-0.7004104591126432,-0.38430455367914174,-0.6228559474433342,-0.8513966340839979,-0.5472064448577901,0.2830876818828271,0.4117810508384052,0.5608842446853252,0.6191706017685629,0.4245713422401229,0.9533889981754355,0.9773642129564245,1,0.9619438325297063,0.9374476581004281,0.23288154285212176,0.07021343433423603,0.1834607394711182,0.19694914440949857,0.16997079630482212],[0.7545425722741411,0.7467153684804522,0.5667021888567872,0.7864672175075138,0.7840360523043106,-0.8360853728592669,-0.5561158259811956,-0.7861906825802087,-0.9589522114168949,-0.7344678881699177,0.3162747577664665,0.46767141909171267,0.622817631414009,0.5650680253121458,0.40509904080252707,0.9414436812085575,0.9956325274135724,0.9619438325297063,1,0.8088573529999418,-0.013502549443542103,-0.1395579366934368,-0.057946620290388745,-0.05353604738459746,-0.08298067135781918],[0.3385080366266903,0.5671655277052251,0.21109532430252173,0.3258890614648545,0.4579487891535166,-0.47378061455761056,-0.16438391735979743,-0.3660262711595751,-0.6311226138599001,-0.2614153232892751,0.28121034697543795,0.35272640439655345,0.47069366676129243,0.6761502809317231,0.46383402433553356,0.8612299981689201,0.8480233330924982,0.9374476581004281,0.8088573529999418,1,0.4924797198585723,0.28315381914907356,0.42938243951051436,0.46088973313470466,0.4502384168761189],[-0.1721033496565615,0.2783693275740587,-0.0019279981578793628,-0.38473772577516874,0.009116842922175765,0.5257927046933103,0.7707010508208035,0.6129436617615368,0.2547877222674652,0.672241581335135,-0.3436602910438083,-0.1982850971980542,-0.18592923901059957,0.04434754738348036,-0.00704854765350475,0.05908275295902344,0.028779026231891425,0.23288154285212176,-0.013502549443542103,0.4924797198585723,1,0.9478113388759182,0.9652838428674035,0.9911447428728182,0.9946597475760646],[-0.07922040213935315,0.32588557040663135,0.14048332917260978,-0.3220472159046066,0.05880921530449186,0.6476785924331903,0.891666551877401,0.698094762824186,0.3589041080555182,0.7112531110442653,-0.6121292342544923,-0.41320244354043123,-0.3968184279975057,-0.26335202154112874,-0.27718169873433074,-0.08672873048899234,-0.1120802283905664,0.07021343433423603,-0.1395579366934368,0.28315381914907356,0.9478113388759182,1,0.9608898769206113,0.9554700901208274,0.9302223039780635],[-0.1524946442387643,0.25128905790868766,-0.00867421139649993,-0.32162137053896894,-0.032372591236383925,0.5404873373713057,0.7908453462460627,0.608673905624857,0.3191655459221959,0.6438569219563371,-0.520484122092473,-0.4316507913912707,-0.4018563109855589,-0.13607833638965838,-0.24208544780580818,0.07323834061096943,-0.007851406443701883,0.1834607394711182,-0.057946620290388745,0.42938243951051436,0.9652838428674035,0.9608898769206113,1,0.9899769985529296,0.9483928652468441],[-0.1983906387289173,0.2338022505074944,-0.04294601431943266,-0.3844590849695214,-0.04577346786072088,0.5461268160471626,0.785937299333844,0.6263049487773595,0.3082575620765042,0.6768798956208341,-0.41730772162088486,-0.3149680868267463,-0.29839940216496597,-0.032871126295317285,-0.11468326046403193,0.056387905427007924,-0.004659366972035411,0.19694914440949857,-0.05353604738459746,0.46088973313470466,0.9911447428728182,0.9554700901208274,0.9899769985529296,1,0.9832346727078731],[-0.26445735978964663,0.19134958586150666,-0.0863805779926218,-0.4742135304074229,-0.07501053256878591,0.5721788745848753,0.7837316203435045,0.6618814179116937,0.31756039787507656,0.7265455798766131,-0.2959637385295979,-0.1737240037721011,-0.179677111900745,0.06746885960423264,0.031078408722144457,-0.008052086208404873,-0.038953926215366544,0.16997079630482212,-0.08298067135781918,0.4502384168761189,0.9946597475760646,0.9302223039780635,0.9483928652468441,0.9832346727078731,1]]}\" data-images=\"null\" data-options=\"{&quot;numbers&quot;:false,&quot;width&quot;:600,&quot;description&quot;:null,&quot;height&quot;:null}\" id=\"viz-f6df8c8f-ec3f-435e-9349-aea1e8077aa2\" data-initialized=\"false\" class=\"feed-item\"></div></div></div></div><script>window.lightning = window.lightning || {};\n",
       "window.lightning.host = \"http://public.lightning-viz.org/\" || 'http://127.0.0.1:3000/';\n",
       "window.lightning.vizCount = (window.lightning.vizCount + 1) || 1;\n",
       "window.lightning.requiredVizTypes = window.lightning.requiredVizTypes || [];\n",
       "if(window.lightning.requiredVizTypes.indexOf(\"matrix\") === -1) {\n",
       "    window.lightning.requiredVizTypes.push(\"matrix\");\n",
       "}\n",
       "window._require = window.require;\n",
       "window.require = undefined;\n",
       "window._define = window.define;\n",
       "window.define = undefined;</script><script src=\"http://public.lightning-viz.org/js/embed.js\"></script>"
      ],
      "text/plain": [
       "<lightning.types.plots.Matrix at 0x10915c050>"
      ]
     },
     "execution_count": 10,
     "metadata": {},
     "output_type": "execute_result"
    }
   ],
   "source": [
    "d, l = datasets.make_blobs(n_features=5, n_samples=25, centers=5, cluster_std=2.0, random_state=100)\n",
    "d = d[argsort(l)]\n",
    "c = corrcoef(d)\n",
    "lgn.matrix(c)"
   ]
  },
  {
   "cell_type": "markdown",
   "metadata": {},
   "source": [
    "## <hr> Adjacency"
   ]
  },
  {
   "cell_type": "markdown",
   "metadata": {},
   "source": [
    "Closely realted to correlation matrices are adjacency matrices, in which the rows (and columns) represent nodes and the values indicate connections.\n",
    "<br>\n",
    "Lightning offers a separate `adjacency` visualization type. Here is one for a random graph with community structure."
   ]
  },
  {
   "cell_type": "code",
   "execution_count": 11,
   "metadata": {
    "collapsed": false
   },
   "outputs": [
    {
     "data": {
      "text/html": [
       "<meta name=\"viewport\" content=\"width=device-width, initial-scale=1, maximum-scale=1\"/><meta http-equiv=\"X-UA-Compatible\" content=\"IE=10; IE=9; IE=8; IE=7; IE=EDGE\"/><meta charset=\"UTF-8\"/><link href=\"//fonts.googleapis.com/css?family=Open+Sans:400,700\" rel=\"stylesheet\" type=\"text/css\"/><link rel=\"stylesheet\" href=\"http://public.lightning-viz.org/css/app.css\"/><link rel=\"stylesheet\" href=\"http://public.lightning-viz.org/css/dynamic/viz/?visualizations[]=adjacency\"/><div id=\"lightning-body\" class=\"container content wrap push\"><div class=\"feed-container\"><div data-model=\"visualization\" data-model-id=\"35c013a8-a135-4cac-a60f-d29225a1e083\" class=\"feed-item-container\"><div data-type=\"lightning-adjacency\" data-data=\"{&quot;nodes&quot;:[0,1,2,3,4,5,6,7,8,9,10,11,12,13,14,15,16,17,18,19,20,21,22,23,24,25,26,27,28,29,30,31,32,33,34,35,36,37,38,39,40,41,42,43,44,45,46,47,48,49],&quot;links&quot;:[[0,2,1],[0,3,1],[0,4,1],[0,5,1],[0,8,1],[0,9,1],[0,15,1],[0,19,1],[0,22,1],[0,27,1],[1,2,1],[1,4,1],[1,8,1],[1,9,1],[1,13,1],[1,14,1],[1,16,1],[1,17,1],[2,0,1],[2,1,1],[2,6,1],[2,10,1],[2,11,1],[2,14,1],[2,15,1],[2,17,1],[2,18,1],[2,19,1],[3,0,1],[3,5,1],[3,8,1],[3,9,1],[3,10,1],[3,12,1],[3,13,1],[3,15,1],[3,17,1],[3,18,1],[3,19,1],[3,20,1],[3,44,1],[4,0,1],[4,1,1],[4,5,1],[4,7,1],[4,9,1],[4,10,1],[4,11,1],[4,12,1],[4,14,1],[4,18,1],[4,19,1],[5,0,1],[5,3,1],[5,4,1],[5,6,1],[5,12,1],[5,13,1],[5,14,1],[5,15,1],[5,16,1],[5,19,1],[6,2,1],[6,5,1],[6,9,1],[6,10,1],[6,11,1],[6,13,1],[6,14,1],[6,15,1],[6,18,1],[7,4,1],[7,8,1],[7,9,1],[7,10,1],[7,12,1],[7,14,1],[7,15,1],[8,0,1],[8,1,1],[8,3,1],[8,7,1],[8,9,1],[8,10,1],[9,0,1],[9,1,1],[9,3,1],[9,4,1],[9,6,1],[9,7,1],[9,8,1],[9,10,1],[9,13,1],[9,14,1],[9,17,1],[9,18,1],[9,19,1],[10,2,1],[10,3,1],[10,4,1],[10,6,1],[10,7,1],[10,8,1],[10,9,1],[10,13,1],[10,14,1],[10,17,1],[10,19,1],[11,2,1],[11,4,1],[11,6,1],[11,13,1],[11,18,1],[12,3,1],[12,4,1],[12,5,1],[12,7,1],[12,13,1],[12,17,1],[13,1,1],[13,3,1],[13,5,1],[13,6,1],[13,9,1],[13,10,1],[13,11,1],[13,12,1],[13,15,1],[13,16,1],[13,19,1],[14,1,1],[14,2,1],[14,4,1],[14,5,1],[14,6,1],[14,7,1],[14,9,1],[14,10,1],[14,18,1],[14,19,1],[15,0,1],[15,2,1],[15,3,1],[15,5,1],[15,6,1],[15,7,1],[15,13,1],[15,18,1],[15,19,1],[16,1,1],[16,5,1],[16,13,1],[16,19,1],[16,46,1],[17,1,1],[17,2,1],[17,3,1],[17,9,1],[17,10,1],[17,12,1],[17,22,1],[18,2,1],[18,3,1],[18,4,1],[18,6,1],[18,9,1],[18,11,1],[18,14,1],[18,15,1],[18,49,1],[19,0,1],[19,2,1],[19,3,1],[19,4,1],[19,5,1],[19,9,1],[19,10,1],[19,13,1],[19,14,1],[19,15,1],[19,16,1],[20,3,1],[20,28,1],[21,22,1],[21,23,1],[21,25,1],[22,0,1],[22,17,1],[22,21,1],[22,23,1],[22,26,1],[23,21,1],[23,22,1],[23,25,1],[23,26,1],[23,29,1],[24,25,1],[24,28,1],[24,29,1],[25,21,1],[25,23,1],[25,24,1],[25,26,1],[25,28,1],[25,29,1],[25,40,1],[26,22,1],[26,23,1],[26,25,1],[26,27,1],[26,28,1],[26,29,1],[26,46,1],[27,0,1],[27,26,1],[27,28,1],[28,20,1],[28,24,1],[28,25,1],[28,26,1],[28,27,1],[29,23,1],[29,24,1],[29,25,1],[29,26,1],[30,33,1],[30,36,1],[30,41,1],[31,33,1],[31,36,1],[31,38,1],[31,39,1],[32,33,1],[32,35,1],[32,37,1],[32,38,1],[33,30,1],[33,31,1],[33,32,1],[33,38,1],[33,39,1],[34,37,1],[34,38,1],[35,32,1],[35,37,1],[35,38,1],[36,30,1],[36,31,1],[36,39,1],[37,32,1],[37,34,1],[37,35,1],[37,38,1],[37,39,1],[38,31,1],[38,32,1],[38,33,1],[38,34,1],[38,35,1],[38,37,1],[38,39,1],[39,31,1],[39,33,1],[39,36,1],[39,37,1],[39,38,1],[40,25,1],[40,41,1],[40,44,1],[41,30,1],[41,40,1],[41,43,1],[41,44,1],[41,46,1],[43,41,1],[44,3,1],[44,40,1],[44,41,1],[45,46,1],[45,48,1],[46,16,1],[46,26,1],[46,41,1],[46,45,1],[46,48,1],[47,49,1],[48,45,1],[48,46,1],[48,49,1],[49,18,1],[49,47,1],[49,48,1]]}\" data-images=\"null\" data-options=\"{&quot;sort&quot;:&quot;group&quot;,&quot;description&quot;:null,&quot;height&quot;:null,&quot;symmetric&quot;:true,&quot;width&quot;:600,&quot;numbers&quot;:false}\" id=\"viz-35c013a8-a135-4cac-a60f-d29225a1e083\" data-initialized=\"false\" class=\"feed-item\"></div></div></div></div><script>window.lightning = window.lightning || {};\n",
       "window.lightning.host = \"http://public.lightning-viz.org/\" || 'http://127.0.0.1:3000/';\n",
       "window.lightning.vizCount = (window.lightning.vizCount + 1) || 1;\n",
       "window.lightning.requiredVizTypes = window.lightning.requiredVizTypes || [];\n",
       "if(window.lightning.requiredVizTypes.indexOf(\"adjacency\") === -1) {\n",
       "    window.lightning.requiredVizTypes.push(\"adjacency\");\n",
       "}\n",
       "window._require = window.require;\n",
       "window.require = undefined;\n",
       "window._define = window.define;\n",
       "window.define = undefined;</script><script src=\"http://public.lightning-viz.org/js/embed.js\"></script>"
      ],
      "text/plain": [
       "<lightning.types.plots.Adjacency at 0x10915c0d0>"
      ]
     },
     "execution_count": 11,
     "metadata": {},
     "output_type": "execute_result"
    }
   ],
   "source": [
    "s = [20, 10, 10, 5, 5]\n",
    "n = sum(s)\n",
    "G = nx.random_partition_graph(s, 0.5, 0.01)\n",
    "mat = nx.adjacency_matrix(G).todense()\n",
    "lgn.adjacency(mat)"
   ]
  },
  {
   "cell_type": "markdown",
   "metadata": {},
   "source": [
    "If we assign each graph partition a label, we can color and sort nodes by their group."
   ]
  },
  {
   "cell_type": "code",
   "execution_count": 12,
   "metadata": {
    "collapsed": false
   },
   "outputs": [
    {
     "data": {
      "text/html": [
       "<meta name=\"viewport\" content=\"width=device-width, initial-scale=1, maximum-scale=1\"/><meta http-equiv=\"X-UA-Compatible\" content=\"IE=10; IE=9; IE=8; IE=7; IE=EDGE\"/><meta charset=\"UTF-8\"/><link href=\"//fonts.googleapis.com/css?family=Open+Sans:400,700\" rel=\"stylesheet\" type=\"text/css\"/><link rel=\"stylesheet\" href=\"http://public.lightning-viz.org/css/app.css\"/><link rel=\"stylesheet\" href=\"http://public.lightning-viz.org/css/dynamic/viz/?visualizations[]=adjacency\"/><div id=\"lightning-body\" class=\"container content wrap push\"><div class=\"feed-container\"><div data-model=\"visualization\" data-model-id=\"02b0dd60-4895-485d-9c15-99074c152458\" class=\"feed-item-container\"><div data-type=\"lightning-adjacency\" data-data=\"{&quot;nodes&quot;:[0,1,2,3,4,5,6,7,8,9,10,11,12,13,14,15,16,17,18,19,20,21,22,23,24,25,26,27,28,29,30,31,32,33,34,35,36,37,38,39,40,41,42,43,44,45,46,47,48,49],&quot;group&quot;:[0,0,0,0,0,0,0,0,0,0,0,0,0,0,0,0,0,0,0,0,1,1,1,1,1,1,1,1,1,1,2,2,2,2,2,2,2,2,2,2,3,3,3,3,3,4,4,4,4,4],&quot;links&quot;:[[0,2,1],[0,3,1],[0,4,1],[0,5,1],[0,8,1],[0,9,1],[0,15,1],[0,19,1],[0,22,1],[0,27,1],[1,2,1],[1,4,1],[1,8,1],[1,9,1],[1,13,1],[1,14,1],[1,16,1],[1,17,1],[2,0,1],[2,1,1],[2,6,1],[2,10,1],[2,11,1],[2,14,1],[2,15,1],[2,17,1],[2,18,1],[2,19,1],[3,0,1],[3,5,1],[3,8,1],[3,9,1],[3,10,1],[3,12,1],[3,13,1],[3,15,1],[3,17,1],[3,18,1],[3,19,1],[3,20,1],[3,44,1],[4,0,1],[4,1,1],[4,5,1],[4,7,1],[4,9,1],[4,10,1],[4,11,1],[4,12,1],[4,14,1],[4,18,1],[4,19,1],[5,0,1],[5,3,1],[5,4,1],[5,6,1],[5,12,1],[5,13,1],[5,14,1],[5,15,1],[5,16,1],[5,19,1],[6,2,1],[6,5,1],[6,9,1],[6,10,1],[6,11,1],[6,13,1],[6,14,1],[6,15,1],[6,18,1],[7,4,1],[7,8,1],[7,9,1],[7,10,1],[7,12,1],[7,14,1],[7,15,1],[8,0,1],[8,1,1],[8,3,1],[8,7,1],[8,9,1],[8,10,1],[9,0,1],[9,1,1],[9,3,1],[9,4,1],[9,6,1],[9,7,1],[9,8,1],[9,10,1],[9,13,1],[9,14,1],[9,17,1],[9,18,1],[9,19,1],[10,2,1],[10,3,1],[10,4,1],[10,6,1],[10,7,1],[10,8,1],[10,9,1],[10,13,1],[10,14,1],[10,17,1],[10,19,1],[11,2,1],[11,4,1],[11,6,1],[11,13,1],[11,18,1],[12,3,1],[12,4,1],[12,5,1],[12,7,1],[12,13,1],[12,17,1],[13,1,1],[13,3,1],[13,5,1],[13,6,1],[13,9,1],[13,10,1],[13,11,1],[13,12,1],[13,15,1],[13,16,1],[13,19,1],[14,1,1],[14,2,1],[14,4,1],[14,5,1],[14,6,1],[14,7,1],[14,9,1],[14,10,1],[14,18,1],[14,19,1],[15,0,1],[15,2,1],[15,3,1],[15,5,1],[15,6,1],[15,7,1],[15,13,1],[15,18,1],[15,19,1],[16,1,1],[16,5,1],[16,13,1],[16,19,1],[16,46,1],[17,1,1],[17,2,1],[17,3,1],[17,9,1],[17,10,1],[17,12,1],[17,22,1],[18,2,1],[18,3,1],[18,4,1],[18,6,1],[18,9,1],[18,11,1],[18,14,1],[18,15,1],[18,49,1],[19,0,1],[19,2,1],[19,3,1],[19,4,1],[19,5,1],[19,9,1],[19,10,1],[19,13,1],[19,14,1],[19,15,1],[19,16,1],[20,3,1],[20,28,1],[21,22,1],[21,23,1],[21,25,1],[22,0,1],[22,17,1],[22,21,1],[22,23,1],[22,26,1],[23,21,1],[23,22,1],[23,25,1],[23,26,1],[23,29,1],[24,25,1],[24,28,1],[24,29,1],[25,21,1],[25,23,1],[25,24,1],[25,26,1],[25,28,1],[25,29,1],[25,40,1],[26,22,1],[26,23,1],[26,25,1],[26,27,1],[26,28,1],[26,29,1],[26,46,1],[27,0,1],[27,26,1],[27,28,1],[28,20,1],[28,24,1],[28,25,1],[28,26,1],[28,27,1],[29,23,1],[29,24,1],[29,25,1],[29,26,1],[30,33,1],[30,36,1],[30,41,1],[31,33,1],[31,36,1],[31,38,1],[31,39,1],[32,33,1],[32,35,1],[32,37,1],[32,38,1],[33,30,1],[33,31,1],[33,32,1],[33,38,1],[33,39,1],[34,37,1],[34,38,1],[35,32,1],[35,37,1],[35,38,1],[36,30,1],[36,31,1],[36,39,1],[37,32,1],[37,34,1],[37,35,1],[37,38,1],[37,39,1],[38,31,1],[38,32,1],[38,33,1],[38,34,1],[38,35,1],[38,37,1],[38,39,1],[39,31,1],[39,33,1],[39,36,1],[39,37,1],[39,38,1],[40,25,1],[40,41,1],[40,44,1],[41,30,1],[41,40,1],[41,43,1],[41,44,1],[41,46,1],[43,41,1],[44,3,1],[44,40,1],[44,41,1],[45,46,1],[45,48,1],[46,16,1],[46,26,1],[46,41,1],[46,45,1],[46,48,1],[47,49,1],[48,45,1],[48,46,1],[48,49,1],[49,18,1],[49,47,1],[49,48,1]]}\" data-images=\"null\" data-options=\"{&quot;sort&quot;:&quot;group&quot;,&quot;description&quot;:null,&quot;height&quot;:null,&quot;symmetric&quot;:true,&quot;width&quot;:600,&quot;numbers&quot;:false}\" id=\"viz-02b0dd60-4895-485d-9c15-99074c152458\" data-initialized=\"false\" class=\"feed-item\"></div></div></div></div><script>window.lightning = window.lightning || {};\n",
       "window.lightning.host = \"http://public.lightning-viz.org/\" || 'http://127.0.0.1:3000/';\n",
       "window.lightning.vizCount = (window.lightning.vizCount + 1) || 1;\n",
       "window.lightning.requiredVizTypes = window.lightning.requiredVizTypes || [];\n",
       "if(window.lightning.requiredVizTypes.indexOf(\"adjacency\") === -1) {\n",
       "    window.lightning.requiredVizTypes.push(\"adjacency\");\n",
       "}\n",
       "window._require = window.require;\n",
       "window.require = undefined;\n",
       "window._define = window.define;\n",
       "window.define = undefined;</script><script src=\"http://public.lightning-viz.org/js/embed.js\"></script>"
      ],
      "text/plain": [
       "<lightning.types.plots.Adjacency at 0x10915cd90>"
      ]
     },
     "execution_count": 12,
     "metadata": {},
     "output_type": "execute_result"
    }
   ],
   "source": [
    "def group(G, n):\n",
    "    for i, p in enumerate(G.graph['partition']):\n",
    "        if n in p:\n",
    "            return i\n",
    "g = [group(G, x) for x in range(0,50)]\n",
    "lgn.adjacency(mat, group=g)"
   ]
  },
  {
   "cell_type": "markdown",
   "metadata": {},
   "source": [
    "We can alternatively sort by the number of degrees to each node, which here is related to, but not the same as, the group."
   ]
  },
  {
   "cell_type": "code",
   "execution_count": 13,
   "metadata": {
    "collapsed": false
   },
   "outputs": [
    {
     "data": {
      "text/html": [
       "<meta name=\"viewport\" content=\"width=device-width, initial-scale=1, maximum-scale=1\"/><meta http-equiv=\"X-UA-Compatible\" content=\"IE=10; IE=9; IE=8; IE=7; IE=EDGE\"/><meta charset=\"UTF-8\"/><link href=\"//fonts.googleapis.com/css?family=Open+Sans:400,700\" rel=\"stylesheet\" type=\"text/css\"/><link rel=\"stylesheet\" href=\"http://public.lightning-viz.org/css/app.css\"/><link rel=\"stylesheet\" href=\"http://public.lightning-viz.org/css/dynamic/viz/?visualizations[]=adjacency\"/><div id=\"lightning-body\" class=\"container content wrap push\"><div class=\"feed-container\"><div data-model=\"visualization\" data-model-id=\"182c9def-159f-432d-b170-64ee3cbe3298\" class=\"feed-item-container\"><div data-type=\"lightning-adjacency\" data-data=\"{&quot;nodes&quot;:[0,1,2,3,4,5,6,7,8,9,10,11,12,13,14,15,16,17,18,19,20,21,22,23,24,25,26,27,28,29,30,31,32,33,34,35,36,37,38,39,40,41,42,43,44,45,46,47,48,49],&quot;group&quot;:[0,0,0,0,0,0,0,0,0,0,0,0,0,0,0,0,0,0,0,0,1,1,1,1,1,1,1,1,1,1,2,2,2,2,2,2,2,2,2,2,3,3,3,3,3,4,4,4,4,4],&quot;links&quot;:[[0,2,1],[0,3,1],[0,4,1],[0,5,1],[0,8,1],[0,9,1],[0,15,1],[0,19,1],[0,22,1],[0,27,1],[1,2,1],[1,4,1],[1,8,1],[1,9,1],[1,13,1],[1,14,1],[1,16,1],[1,17,1],[2,0,1],[2,1,1],[2,6,1],[2,10,1],[2,11,1],[2,14,1],[2,15,1],[2,17,1],[2,18,1],[2,19,1],[3,0,1],[3,5,1],[3,8,1],[3,9,1],[3,10,1],[3,12,1],[3,13,1],[3,15,1],[3,17,1],[3,18,1],[3,19,1],[3,20,1],[3,44,1],[4,0,1],[4,1,1],[4,5,1],[4,7,1],[4,9,1],[4,10,1],[4,11,1],[4,12,1],[4,14,1],[4,18,1],[4,19,1],[5,0,1],[5,3,1],[5,4,1],[5,6,1],[5,12,1],[5,13,1],[5,14,1],[5,15,1],[5,16,1],[5,19,1],[6,2,1],[6,5,1],[6,9,1],[6,10,1],[6,11,1],[6,13,1],[6,14,1],[6,15,1],[6,18,1],[7,4,1],[7,8,1],[7,9,1],[7,10,1],[7,12,1],[7,14,1],[7,15,1],[8,0,1],[8,1,1],[8,3,1],[8,7,1],[8,9,1],[8,10,1],[9,0,1],[9,1,1],[9,3,1],[9,4,1],[9,6,1],[9,7,1],[9,8,1],[9,10,1],[9,13,1],[9,14,1],[9,17,1],[9,18,1],[9,19,1],[10,2,1],[10,3,1],[10,4,1],[10,6,1],[10,7,1],[10,8,1],[10,9,1],[10,13,1],[10,14,1],[10,17,1],[10,19,1],[11,2,1],[11,4,1],[11,6,1],[11,13,1],[11,18,1],[12,3,1],[12,4,1],[12,5,1],[12,7,1],[12,13,1],[12,17,1],[13,1,1],[13,3,1],[13,5,1],[13,6,1],[13,9,1],[13,10,1],[13,11,1],[13,12,1],[13,15,1],[13,16,1],[13,19,1],[14,1,1],[14,2,1],[14,4,1],[14,5,1],[14,6,1],[14,7,1],[14,9,1],[14,10,1],[14,18,1],[14,19,1],[15,0,1],[15,2,1],[15,3,1],[15,5,1],[15,6,1],[15,7,1],[15,13,1],[15,18,1],[15,19,1],[16,1,1],[16,5,1],[16,13,1],[16,19,1],[16,46,1],[17,1,1],[17,2,1],[17,3,1],[17,9,1],[17,10,1],[17,12,1],[17,22,1],[18,2,1],[18,3,1],[18,4,1],[18,6,1],[18,9,1],[18,11,1],[18,14,1],[18,15,1],[18,49,1],[19,0,1],[19,2,1],[19,3,1],[19,4,1],[19,5,1],[19,9,1],[19,10,1],[19,13,1],[19,14,1],[19,15,1],[19,16,1],[20,3,1],[20,28,1],[21,22,1],[21,23,1],[21,25,1],[22,0,1],[22,17,1],[22,21,1],[22,23,1],[22,26,1],[23,21,1],[23,22,1],[23,25,1],[23,26,1],[23,29,1],[24,25,1],[24,28,1],[24,29,1],[25,21,1],[25,23,1],[25,24,1],[25,26,1],[25,28,1],[25,29,1],[25,40,1],[26,22,1],[26,23,1],[26,25,1],[26,27,1],[26,28,1],[26,29,1],[26,46,1],[27,0,1],[27,26,1],[27,28,1],[28,20,1],[28,24,1],[28,25,1],[28,26,1],[28,27,1],[29,23,1],[29,24,1],[29,25,1],[29,26,1],[30,33,1],[30,36,1],[30,41,1],[31,33,1],[31,36,1],[31,38,1],[31,39,1],[32,33,1],[32,35,1],[32,37,1],[32,38,1],[33,30,1],[33,31,1],[33,32,1],[33,38,1],[33,39,1],[34,37,1],[34,38,1],[35,32,1],[35,37,1],[35,38,1],[36,30,1],[36,31,1],[36,39,1],[37,32,1],[37,34,1],[37,35,1],[37,38,1],[37,39,1],[38,31,1],[38,32,1],[38,33,1],[38,34,1],[38,35,1],[38,37,1],[38,39,1],[39,31,1],[39,33,1],[39,36,1],[39,37,1],[39,38,1],[40,25,1],[40,41,1],[40,44,1],[41,30,1],[41,40,1],[41,43,1],[41,44,1],[41,46,1],[43,41,1],[44,3,1],[44,40,1],[44,41,1],[45,46,1],[45,48,1],[46,16,1],[46,26,1],[46,41,1],[46,45,1],[46,48,1],[47,49,1],[48,45,1],[48,46,1],[48,49,1],[49,18,1],[49,47,1],[49,48,1]]}\" data-images=\"null\" data-options=\"{&quot;sort&quot;:&quot;degree&quot;,&quot;description&quot;:null,&quot;height&quot;:null,&quot;symmetric&quot;:true,&quot;width&quot;:600,&quot;numbers&quot;:false}\" id=\"viz-182c9def-159f-432d-b170-64ee3cbe3298\" data-initialized=\"false\" class=\"feed-item\"></div></div></div></div><script>window.lightning = window.lightning || {};\n",
       "window.lightning.host = \"http://public.lightning-viz.org/\" || 'http://127.0.0.1:3000/';\n",
       "window.lightning.vizCount = (window.lightning.vizCount + 1) || 1;\n",
       "window.lightning.requiredVizTypes = window.lightning.requiredVizTypes || [];\n",
       "if(window.lightning.requiredVizTypes.indexOf(\"adjacency\") === -1) {\n",
       "    window.lightning.requiredVizTypes.push(\"adjacency\");\n",
       "}\n",
       "window._require = window.require;\n",
       "window.require = undefined;\n",
       "window._define = window.define;\n",
       "window.define = undefined;</script><script src=\"http://public.lightning-viz.org/js/embed.js\"></script>"
      ],
      "text/plain": [
       "<lightning.types.plots.Adjacency at 0x106f27550>"
      ]
     },
     "execution_count": 13,
     "metadata": {},
     "output_type": "execute_result"
    }
   ],
   "source": [
    "def group(G, n):\n",
    "    for i, p in enumerate(G.graph['partition']):\n",
    "        if n in p:\n",
    "            return i\n",
    "g = [group(G, x) for x in range(0,50)]\n",
    "lgn.adjacency(mat, group=g, sort='degree')"
   ]
  }
 ],
 "metadata": {
  "kernelspec": {
   "display_name": "Python 2",
   "language": "python",
   "name": "python2"
  },
  "language_info": {
   "codemirror_mode": {
    "name": "ipython",
    "version": 2
   },
   "file_extension": ".py",
   "mimetype": "text/x-python",
   "name": "python",
   "nbconvert_exporter": "python",
   "pygments_lexer": "ipython2",
   "version": "2.7.9"
  }
 },
 "nbformat": 4,
 "nbformat_minor": 0
}
