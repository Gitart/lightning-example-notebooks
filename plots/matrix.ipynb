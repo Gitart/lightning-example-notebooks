{
 "cells": [
  {
   "cell_type": "markdown",
   "metadata": {},
   "source": [
    "# <img style='float: left' src=\"http://lightning-viz.github.io/images/logo.png\"> <br> <br> &nbsp;&nbsp;&nbsp;&nbsp;&nbsp;Matrix plots in <a href='http://lightning-viz.github.io/'><font color='#9175f0'>Lightning</font></a>"
   ]
  },
  {
   "cell_type": "markdown",
   "metadata": {},
   "source": [
    "## <hr> Setup"
   ]
  },
  {
   "cell_type": "code",
   "execution_count": 1,
   "metadata": {
    "collapsed": false
   },
   "outputs": [],
   "source": [
    "from lightning import Lightning\n",
    "\n",
    "from numpy import random, arange, asarray, corrcoef, argsort, array\n",
    "import networkx as nx\n",
    "from sklearn import datasets"
   ]
  },
  {
   "cell_type": "markdown",
   "metadata": {},
   "source": [
    "## Connect to server"
   ]
  },
  {
   "cell_type": "code",
   "execution_count": 2,
   "metadata": {
    "collapsed": false
   },
   "outputs": [
    {
     "data": {
      "text/html": [
       "<div style='margin-top:8px'><img src='data:image/png;base64,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' width='30px' height='35px' style='display: inline-block; padding-right: 10px'></img><span>Lightning initialized</span></div>"
      ],
      "text/plain": [
       "<IPython.core.display.HTML object>"
      ]
     },
     "metadata": {},
     "output_type": "display_data"
    },
    {
     "name": "stdout",
     "output_type": "stream",
     "text": [
      "Connected to server at http://public.lightning-viz.org\n"
     ]
    },
    {
     "data": {
      "application/javascript": [
       "(function e(t,n,r){function s(o,u){if(!n[o]){if(!t[o]){var a=typeof require==\"function\"&&require;if(!u&&a)return a(o,!0);if(i)return i(o,!0);throw new Error(\"Cannot find module '\"+o+\"'\")}var f=n[o]={exports:{}};t[o][0].call(f.exports,function(e){var n=t[o][1][e];return s(n?n:e)},f,f.exports,e,t,n,r)}return n[o].exports}var i=typeof require==\"function\"&&require;for(var o=0;o<r.length;o++)s(r[o]);return s})({1:[function(require,module,exports){\n",
       "window.lightning = window.lightning || {};\n",
       "var lightningCommMap = {};\n",
       "var IPython = window.IPython;\n",
       "\n",
       "var readCommData = function(commData, field) {\n",
       "    try {\n",
       "        return commData.content.data[field];\n",
       "    } catch (err) {\n",
       "        return;\n",
       "    }\n",
       "};\n",
       "\n",
       "\n",
       "var init_comm = function() {\n",
       "    IPython.notebook.kernel.comm_manager.register_target('lightning', function(comm, data) {\n",
       "        var id = readCommData(data, 'id');\n",
       "        lightningCommMap[id] = comm;\n",
       "    });\n",
       "\n",
       "    window.lightning.comm_map = lightningCommMap;\n",
       "}\n",
       "\n",
       "\n",
       "if(IPython && IPython.notebook) {\n",
       "\n",
       "    if(IPython.notebook.kernel) {\n",
       "        init_comm();\n",
       "    }\n",
       "\n",
       "    IPython.notebook.events.on('kernel_connected.Kernel', init_comm);\n",
       "\n",
       "}\n",
       "\n",
       "\n",
       "},{}]},{},[1])\n",
       "//# sourceMappingURL=data:application/json;base64,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\n"
      ],
      "text/plain": [
       "<IPython.core.display.Javascript object>"
      ]
     },
     "metadata": {},
     "output_type": "display_data"
    }
   ],
   "source": [
    "lgn = Lightning(ipython=True, host='http://public.lightning-viz.org')"
   ]
  },
  {
   "cell_type": "markdown",
   "metadata": {},
   "source": [
    "## <hr> Simple matrix"
   ]
  },
  {
   "cell_type": "markdown",
   "metadata": {},
   "source": [
    "Matrices are useful ways to visualize dense tables and correlation matrices data.\n",
    "<br>\n",
    "First we show a random matrix with default styles.\n",
    "<br>\n",
    "You can us the arrow keys to change the contrast (up/down) or the colormap (left/right)."
   ]
  },
  {
   "cell_type": "code",
   "execution_count": 3,
   "metadata": {
    "collapsed": false,
    "scrolled": true
   },
   "outputs": [
    {
     "data": {
      "text/html": [
       "<meta name=\"viewport\" content=\"width=device-width, initial-scale=1, maximum-scale=1\"/><meta http-equiv=\"X-UA-Compatible\" content=\"IE=10; IE=9; IE=8; IE=7; IE=EDGE\"/><meta charset=\"UTF-8\"/><link href=\"//fonts.googleapis.com/css?family=Open+Sans:400,700\" rel=\"stylesheet\" type=\"text/css\"/><link rel=\"stylesheet\" href=\"http://public.lightning-viz.org/css/app.css\"/><link rel=\"stylesheet\" href=\"http://public.lightning-viz.org/css/dynamic/viz/?visualizations[]=matrix\"/><div id=\"lightning-body\" class=\"container content wrap push\"><div class=\"feed-container\"><div data-model=\"visualization\" data-model-id=\"48c55b68-64b5-4293-8d95-3a20cdcea63f\" class=\"feed-item-container\"><div data-type=\"lightning-matrix\" data-data=\"{&quot;matrix&quot;:[[-1.48223655920798,-1.0431987645382006,0.094202033863008,-0.946496150628204,-2.089861911179774,-0.1783471165632024,-2.3967937605146483,-0.0753781937092726,0.7787656924671239,-0.6606559137157951],[0.22240162570090818,-0.9363232795324482,0.4842907957247952,0.8142606726964663,-0.5774914566473847,-0.8631513279317684,-0.19780860834420763,1.3115567632598426,0.1574438820257255,-1.015636807006115],[0.6516615656871952,1.602038794566842,2.09278395294661,0.4497663325668502,1.732044425132743,-1.1758603870733721,0.9565531157737972,-0.8447501816195779,-0.3056321408632666,0.8620450333551082],[-0.38149635857310593,0.7793622207407787,-0.1457985683529024,-1.835473017909457,0.6347926722115066,0.9606211784120257,-0.051478066254573566,-0.33555674595060553,-0.8823937939270885,-1.6859658546324603],[-0.06885360376432444,-0.6277223696508224,-0.4637023372664269,-2.6759224044805205,1.2640367886221917,-0.11595949998539958,-0.6565020383161002,0.36975218227250894,0.5599499182756706,-0.9759466732724899],[-0.4008694295504153,-1.3417153744834731,1.0329230522206223,-1.3848853230971008,2.195199950200332,-0.5665631017897352,0.19167102894055665,-1.219970147083314,-1.501639931336123,-0.2657213485360657],[-0.3224799065597994,-0.2382056940727797,-0.6380613454271714,-0.8492058540032326,1.004170615602662,1.194159870023993,-0.3961085875966687,0.6246021125086697,0.4783232540482176,1.1490424914142667],[0.7074995109237336,-0.9523691822711347,0.1766515949632526,1.041621365192038,0.5055553644158983,-0.3309348792846439,-0.5671890512346593,-1.2291201678943546,-0.6423949443311636,-0.5547537049849172],[-1.7981941370355192,-0.7239004272776902,-0.30168632431501496,-0.3410533007116732,-0.22666700603168166,-0.6631936654728176,0.7368161457894156,-0.5516011804524221,0.07224742183174421,-1.2582634160417057],[0.640011419931285,0.948378921755756,-2.0190230275265617,0.6363244310185564,0.9650673466424745,-0.14232673405991803,-0.040171363420446186,1.0281106256474626,-0.899183495278969,0.22044047398472166]]}\" data-images=\"null\" data-options=\"{&quot;numbers&quot;:false,&quot;width&quot;:600,&quot;description&quot;:null,&quot;height&quot;:null}\" id=\"viz-48c55b68-64b5-4293-8d95-3a20cdcea63f\" data-initialized=\"false\" class=\"feed-item\"></div></div></div></div><script>window.lightning = window.lightning || {};\n",
       "window.lightning.host = \"http://public.lightning-viz.org/\" || 'http://127.0.0.1:3000/';\n",
       "window.lightning.vizCount = (window.lightning.vizCount + 1) || 1;\n",
       "window.lightning.requiredVizTypes = window.lightning.requiredVizTypes || [];\n",
       "if(window.lightning.requiredVizTypes.indexOf(\"matrix\") === -1) {\n",
       "    window.lightning.requiredVizTypes.push(\"matrix\");\n",
       "}\n",
       "window._require = window.require;\n",
       "window.require = undefined;\n",
       "window._define = window.define;\n",
       "window.define = undefined;</script><script src=\"http://public.lightning-viz.org/js/embed.js\"></script>"
      ],
      "text/plain": [
       "<lightning.types.plots.Matrix at 0x10491cb50>"
      ]
     },
     "execution_count": 3,
     "metadata": {},
     "output_type": "execute_result"
    }
   ],
   "source": [
    "mat = random.randn(10,10)\n",
    "lgn.matrix(mat)"
   ]
  },
  {
   "cell_type": "markdown",
   "metadata": {},
   "source": [
    "## <hr> Different shapes"
   ]
  },
  {
   "cell_type": "markdown",
   "metadata": {},
   "source": [
    "Rectanglular matrices will automatically size appropriately."
   ]
  },
  {
   "cell_type": "code",
   "execution_count": 4,
   "metadata": {
    "collapsed": false
   },
   "outputs": [
    {
     "data": {
      "text/html": [
       "<meta name=\"viewport\" content=\"width=device-width, initial-scale=1, maximum-scale=1\"/><meta http-equiv=\"X-UA-Compatible\" content=\"IE=10; IE=9; IE=8; IE=7; IE=EDGE\"/><meta charset=\"UTF-8\"/><link href=\"//fonts.googleapis.com/css?family=Open+Sans:400,700\" rel=\"stylesheet\" type=\"text/css\"/><link rel=\"stylesheet\" href=\"http://public.lightning-viz.org/css/app.css\"/><link rel=\"stylesheet\" href=\"http://public.lightning-viz.org/css/dynamic/viz/?visualizations[]=matrix\"/><div id=\"lightning-body\" class=\"container content wrap push\"><div class=\"feed-container\"><div data-model=\"visualization\" data-model-id=\"acb71753-91d5-4b73-bbab-8cea37aa79ef\" class=\"feed-item-container\"><div data-type=\"lightning-matrix\" data-data=\"{&quot;matrix&quot;:[[0.32936868633829497,-0.8231228409854845,-1.3292171383157514,1.6876477691413296,-0.8264982477827316,-0.02382520166034331,-0.7977205323688578,0.5187618122249323,0.11724474017187896,-0.6749342968122931,-0.8907619058594022,0.9663200090054005,1.9605104076025368,-2.2281129215358733,-0.028666657028693646,-1.243686970889103,-0.7066430187546386,-0.1578671572257541,0.5445716583261727,-1.0256366102670185],[-0.6905948179322019,1.7150674743689294,0.9381826219270591,-1.5709235549075373,0.8492140239356021,-0.34771983639664006,1.3700294630171483,1.175002381414207,0.12124654361070944,0.012710629061419539,-0.12718804182359394,-1.2156705921651876,1.2945323488613016,-0.593040297573978,1.6924954366031393,0.23751508928580026,-1.9207879092942879,0.11707696420404407,0.7729681458884766,1.5263348867003377],[-1.7261087208030608,0.02610431683709935,2.39209271646019,-0.5968639126189811,-1.7366126905282322,-0.13238954993408844,0.6431923817004972,0.4979041879073887,0.2772580555143705,-0.16210153668667038,2.888568818097383,-1.2219961503452017,-0.11201886160292653,1.0969665357627756,0.7575169315762215,-0.836114783025598,0.45599865834714115,-0.8680766310580094,-1.6816893573043457,-1.9190734805723235],[0.12554744845525453,0.24699899929504765,-0.6676926363720355,0.4721859343522574,0.07992441577980426,-0.9035814993581348,-1.1609286470613855,0.051516062544531845,-0.48958962964174385,-0.5759037757526013,1.7727704570889302,-0.2539488645213991,-0.3635408157156076,-0.6389280845061583,1.1092406294891137,-0.5817581632294588,-0.11685388409739433,-1.3237126617790325,1.8509928083685563,-0.99459005653832],[-1.8826350903731752,-1.1246179220433383,0.17745368934221586,-1.2483788556666153,-0.12515720337640346,-0.43580382164436116,-1.584096510985529,-0.7484816203855107,-0.021417470930062483,-1.6103761664455158,0.5914733581700787,0.8790966180520918,-0.2763053765496037,-0.1471928104703643,-1.1852395171418129,0.5127653009668279,1.4827475852392444,-0.8064655593312187,1.223572449393281,0.22641148872407232],[-0.13773020162673993,0.6215405410402051,1.2326827995456877,-0.7216116951864897,-0.9910666135649601,-0.9680346953013239,-0.11450549151747566,0.2750052311736168,-1.501451858753497,-0.759224995344572,0.8413257711778479,-0.7847686845823904,0.42087322164614094,0.05335642759805505,-0.795417959421737,-1.3476058672211695,-1.781810855071872,-1.7605939910775557,-0.022628818040971273,-0.6592239874639441],[0.7259443158467513,-0.46773337531135806,-0.4168808450451336,-0.4198061770853987,-1.0719904258998554,3.278474218501304,-0.060245393005761726,1.1140753135724017,-0.6281866950485846,-1.1514708789051102,0.7320214622302201,-0.5782619171211627,0.27223379651883234,-1.0372691205926288,-1.0480980279865957,0.418065119106308,1.3652422388031522,1.4072228009790828,0.5193352345952016,-1.2897751311703636],[-0.8168761061809788,-0.8692111720957234,0.29446460286452647,-1.1819776490717626,0.2488001398933461,-0.029689902447345803,-0.20727234352988055,-0.6853802490200636,-0.4931117961988203,-0.5007419407616261,0.959274621121739,1.470008992006112,1.3904754102294443,-0.08004478799240904,0.44100200488875035,1.65148546109703,0.5108694424373524,-0.028183719960445504,-0.43851479983701674,-1.2506062069487285],[-1.0151179577031821,1.818002362710771,-0.44121409611302925,0.09018345562807469,-0.6621707306862213,0.4940408243114472,-0.37261557814495705,0.5726445544080387,-1.404770023661292,-0.9671434743776676,2.71412338314581,1.3118726931569213,-1.0411991487100387,0.22296479439844566,0.8262465945906247,-1.0444561656370943,0.7629737418884163,0.680937155945313,0.7795547927240463,0.9579240317588119],[0.3275733109218095,-0.274187316400057,1.1620692712602945,0.4692580610126071,0.9471373293773098,0.11425298627428206,0.763852913818447,-0.48203618416477273,-0.006494505556616887,0.47761575226103936,-0.8412053149013791,-0.8237211423707737,-0.16906056643838155,-0.10104782864080067,1.8647197184724498,-0.8137646326292407,-0.384521685314221,0.1228105628040145,1.9277703811044045,-0.7333111203547951]]}\" data-images=\"null\" data-options=\"{&quot;numbers&quot;:false,&quot;width&quot;:600,&quot;description&quot;:null,&quot;height&quot;:null}\" id=\"viz-acb71753-91d5-4b73-bbab-8cea37aa79ef\" data-initialized=\"false\" class=\"feed-item\"></div></div></div></div><script>window.lightning = window.lightning || {};\n",
       "window.lightning.host = \"http://public.lightning-viz.org/\" || 'http://127.0.0.1:3000/';\n",
       "window.lightning.vizCount = (window.lightning.vizCount + 1) || 1;\n",
       "window.lightning.requiredVizTypes = window.lightning.requiredVizTypes || [];\n",
       "if(window.lightning.requiredVizTypes.indexOf(\"matrix\") === -1) {\n",
       "    window.lightning.requiredVizTypes.push(\"matrix\");\n",
       "}\n",
       "window._require = window.require;\n",
       "window.require = undefined;\n",
       "window._define = window.define;\n",
       "window.define = undefined;</script><script src=\"http://public.lightning-viz.org/js/embed.js\"></script>"
      ],
      "text/plain": [
       "<lightning.types.plots.Matrix at 0x1043b50d0>"
      ]
     },
     "execution_count": 4,
     "metadata": {},
     "output_type": "execute_result"
    }
   ],
   "source": [
    "mat = random.randn(10,20)\n",
    "lgn.matrix(mat)"
   ]
  },
  {
   "cell_type": "code",
   "execution_count": 5,
   "metadata": {
    "collapsed": false
   },
   "outputs": [
    {
     "data": {
      "text/html": [
       "<meta name=\"viewport\" content=\"width=device-width, initial-scale=1, maximum-scale=1\"/><meta http-equiv=\"X-UA-Compatible\" content=\"IE=10; IE=9; IE=8; IE=7; IE=EDGE\"/><meta charset=\"UTF-8\"/><link href=\"//fonts.googleapis.com/css?family=Open+Sans:400,700\" rel=\"stylesheet\" type=\"text/css\"/><link rel=\"stylesheet\" href=\"http://public.lightning-viz.org/css/app.css\"/><link rel=\"stylesheet\" href=\"http://public.lightning-viz.org/css/dynamic/viz/?visualizations[]=matrix\"/><div id=\"lightning-body\" class=\"container content wrap push\"><div class=\"feed-container\"><div data-model=\"visualization\" data-model-id=\"502e8185-fddc-436a-b4ba-a347aeefe096\" class=\"feed-item-container\"><div data-type=\"lightning-matrix\" data-data=\"{&quot;matrix&quot;:[[0.3147068282495096,1.1066188484686414,-1.0508163110892301,2.05209406019682,-0.6484059939004764,-0.06329510917428781,-0.5067132827899109,-1.0405199904113995,-0.9157688594653605,0.13232577995632253],[-0.7742566869434759,0.773482763795716,1.1453597261472037,0.22465360103977042,0.3724795710332422,0.7697738119477756,-0.1081090828296164,0.2724320413147579,0.4875071802467888,-0.5736325222467212],[-0.819485236036485,0.7786520810769728,-1.3455801633133149,0.6464565444269095,0.030431027619160504,0.9351991218485737,-0.2879661473275259,0.08820079589375797,0.7045570907882238,0.2727892837756766],[-1.6864600448210532,-0.11752793912777029,1.0796355318254665,-0.9997828865895886,-0.5972327348906648,0.8016273674632683,-0.36067631592111654,-0.6006990209093935,1.207744866942126,0.6458042693173628],[-0.4548198601585702,-0.5614263467726311,0.9956670811121643,-1.0608569507039953,-1.1769247003396557,-0.938617955471891,1.3822309470768823,2.035966184635431,-0.8101538439263107,0.23638282175051276],[-1.2827658736033423,1.606475234782002,0.22750853220748174,1.122301540889647,0.5921267691062702,1.0925351173847972,-0.7991700436940902,1.759080956211164,-0.9894422278010258,1.4686405716568844],[-0.3188054769943962,0.07951193199026768,-2.171601434916126,-0.5217469532637486,0.6178917370239985,1.8195889962864025,-0.5810182526266325,-0.5554357027228545,-0.16822919930559224,-0.35472706050647373],[-1.0411515640263302,-0.5615550729266565,0.6737713132466532,0.4862534678448415,-0.4882064562836336,0.41788915208140304,-0.05805860879822131,-0.9037757636725804,-2.5694392280994793,-1.1488065534277048],[-0.5173383033810964,-0.03938209744107304,-0.3730844518913706,-0.764534371791299,-0.31698469752351,0.48792872888051825,1.3264340115512496,1.8387871536370788,-0.6189729328777107,1.258074759861739],[-0.8300964653144921,0.7306120676836393,-0.27682246210559625,0.18928538833159014,0.22328022867630973,0.91687980798759,0.6238634484276739,-0.1635012439869001,1.0238470092789214,-0.04037701942279494],[0.7727330029188195,-0.805274265254695,0.41292756236455935,-0.3750175367333401,1.4117361232775676,-0.6967483557890197,1.4640465960867455,-0.8179917420500552,0.9040780728796343,0.42812773904804047],[-0.4341511206301363,0.5704608991476042,0.45145972593569966,-0.8685216149885215,0.5397346175814575,0.7436476521324064,1.037253819634165,-0.20956716503270476,3.1935093542756827,-0.7969307246085036],[-0.18899923404617902,-0.4756069666179294,-0.6511536417790076,0.30334391241249864,-1.947119836580806,0.1631232044509051,-1.4553973876991242,0.9364616241123845,-0.9234047187376279,-1.8255312253928004],[-2.043029663858264,-0.5078848943637527,0.07371789428530269,0.4764583451653823,-0.32786930083779475,-0.08367481135774676,-0.36515048477559786,1.1610016996054842,-1.5050291044545174,1.2192718664847317],[-0.5206100145177978,-1.1083151872465016,1.523432218368074,-2.128765356892327,1.4405440807121874,-1.005786290344229,1.1580668002300665,2.0605889742070405,-1.106041616555469,-1.0202513749170077],[-0.1860863792753399,-0.783154565574336,-1.8467408961744411,0.8618868419077085,0.10829614262578972,1.6901222136656662,-0.06681299475440755,-1.321120656494603,-2.0366155437596305,-0.021381314953682454],[-1.2512789066005914,-3.8039680753405016,1.3196494995030643,1.607025110005465,-1.277692855661118,0.837429003459043,-0.4113900025247873,-0.2352436125070772,-1.120482459274576,0.2258943284874281],[-0.6832926643100243,2.3084522619613623,-0.6682363907789077,-1.0375427780574253,1.0716370476537287,0.3961802594405596,-0.6094176700315248,-0.48705066865265806,-0.39485022253592283,-0.45838481763854866],[0.7060791695488158,1.1779684433340696,-0.11083088778007204,-0.007312216234721499,1.0098601355458396,0.6170204037059502,-0.1290549451700093,-0.2846390023688211,0.8706498426427189,-0.6296650156365929],[-2.694153671501708,2.220023601724805,-1.9326751950547196,-1.8449696485296305,0.6946685691446884,0.19887268612866318,-0.6907043856089939,1.0100097078135506,0.5748081350186517,0.41417146932612764]]}\" data-images=\"null\" data-options=\"{&quot;numbers&quot;:false,&quot;width&quot;:600,&quot;description&quot;:null,&quot;height&quot;:null}\" id=\"viz-502e8185-fddc-436a-b4ba-a347aeefe096\" data-initialized=\"false\" class=\"feed-item\"></div></div></div></div><script>window.lightning = window.lightning || {};\n",
       "window.lightning.host = \"http://public.lightning-viz.org/\" || 'http://127.0.0.1:3000/';\n",
       "window.lightning.vizCount = (window.lightning.vizCount + 1) || 1;\n",
       "window.lightning.requiredVizTypes = window.lightning.requiredVizTypes || [];\n",
       "if(window.lightning.requiredVizTypes.indexOf(\"matrix\") === -1) {\n",
       "    window.lightning.requiredVizTypes.push(\"matrix\");\n",
       "}\n",
       "window._require = window.require;\n",
       "window.require = undefined;\n",
       "window._define = window.define;\n",
       "window.define = undefined;</script><script src=\"http://public.lightning-viz.org/js/embed.js\"></script>"
      ],
      "text/plain": [
       "<lightning.types.plots.Matrix at 0x106f4ac90>"
      ]
     },
     "execution_count": 5,
     "metadata": {},
     "output_type": "execute_result"
    }
   ],
   "source": [
    "mat = random.randn(20,10)\n",
    "lgn.matrix(mat)"
   ]
  },
  {
   "cell_type": "markdown",
   "metadata": {},
   "source": [
    "## <hr> Colors"
   ]
  },
  {
   "cell_type": "markdown",
   "metadata": {},
   "source": [
    "Matrices can be rendered using any colorbrewer colormaps."
   ]
  },
  {
   "cell_type": "code",
   "execution_count": 6,
   "metadata": {
    "collapsed": false
   },
   "outputs": [
    {
     "data": {
      "text/html": [
       "<meta name=\"viewport\" content=\"width=device-width, initial-scale=1, maximum-scale=1\"/><meta http-equiv=\"X-UA-Compatible\" content=\"IE=10; IE=9; IE=8; IE=7; IE=EDGE\"/><meta charset=\"UTF-8\"/><link href=\"//fonts.googleapis.com/css?family=Open+Sans:400,700\" rel=\"stylesheet\" type=\"text/css\"/><link rel=\"stylesheet\" href=\"http://public.lightning-viz.org/css/app.css\"/><link rel=\"stylesheet\" href=\"http://public.lightning-viz.org/css/dynamic/viz/?visualizations[]=matrix\"/><div id=\"lightning-body\" class=\"container content wrap push\"><div class=\"feed-container\"><div data-model=\"visualization\" data-model-id=\"b3b4a23a-c021-47d7-8921-578895a2dd2c\" class=\"feed-item-container\"><div data-type=\"lightning-matrix\" data-data=\"{&quot;matrix&quot;:[[0.23104379255423957,0.2657087881615614,0.5906806266887457,0.7790536640573349,0.7519143773995639,0.07026368006161687,0.9856163100640892,0.4871542443678707,0.36789851114387107,0.9324595154369304],[0.5474436303721865,0.7516856866199523,0.1766836498102553,0.1743387677956879,0.20698683952774066,0.5735770698531624,0.9080235412555174,0.11633041553548318,0.19496623852803985,0.1576818494438217],[0.6784741856224901,0.7917252947991229,0.5185381180123704,0.7053167361495526,0.8650026520177848,0.7387250037884493,0.09689889178633415,0.6559156461854485,0.12411979000733897,0.972989234380489],[0.47865744153016543,0.2556813012587281,0.9400712181976065,0.573340786424913,0.14990494324317027,0.5696223185354391,0.1931443672772306,0.7862575273973409,0.9100760351991808,0.3961826068104439],[0.9272014724347514,0.31580566638549146,0.7027933815125377,0.8945238155512389,0.8761024910819963,0.4461098581751105,0.9844814267522942,0.5432544244870048,0.7348836355652402,0.8596007346535844],[0.007228664977296129,0.012708122679044642,0.8171365935741538,0.13994845859408367,0.15375577533858642,0.892527853791398,0.9635238283014242,0.18338486762555428,0.6979164941121508,0.10073267106522277],[0.8674467984849878,0.7590755264189601,0.5502096105592474,0.26798398217592256,0.7623221198109549,0.45766192420969976,0.6581306533127045,0.9140003435862936,0.4389326164271079,0.6845714532306182],[0.5707114598518335,0.4939648827714307,0.7663699667021419,0.6860934009348977,0.8379991915539655,0.04947332035712082,0.43906004907478835,0.4162383301712336,0.3540495533599699,0.3951216187341814],[0.7195134735694868,0.6181144838698339,0.6326795396595265,0.6342923519588937,0.26818787706663194,0.5022581631807412,0.3130025279665971,0.7828045339970254,0.1369375737734504,0.9608855352488166],[0.44921736348449537,0.7032340770161123,0.09916159350982878,0.5801282602069552,0.8830825185541022,0.0008832396705982237,0.3262858377321576,0.5512003872171107,0.22128634228201804,0.18866140716336388]],&quot;colormap&quot;:&quot;Reds&quot;}\" data-images=\"null\" data-options=\"{&quot;numbers&quot;:false,&quot;width&quot;:600,&quot;description&quot;:null,&quot;height&quot;:null}\" id=\"viz-b3b4a23a-c021-47d7-8921-578895a2dd2c\" data-initialized=\"false\" class=\"feed-item\"></div></div></div></div><script>window.lightning = window.lightning || {};\n",
       "window.lightning.host = \"http://public.lightning-viz.org/\" || 'http://127.0.0.1:3000/';\n",
       "window.lightning.vizCount = (window.lightning.vizCount + 1) || 1;\n",
       "window.lightning.requiredVizTypes = window.lightning.requiredVizTypes || [];\n",
       "if(window.lightning.requiredVizTypes.indexOf(\"matrix\") === -1) {\n",
       "    window.lightning.requiredVizTypes.push(\"matrix\");\n",
       "}\n",
       "window._require = window.require;\n",
       "window.require = undefined;\n",
       "window._define = window.define;\n",
       "window.define = undefined;</script><script src=\"http://public.lightning-viz.org/js/embed.js\"></script>"
      ],
      "text/plain": [
       "<lightning.types.plots.Matrix at 0x1043b5910>"
      ]
     },
     "execution_count": 6,
     "metadata": {},
     "output_type": "execute_result"
    }
   ],
   "source": [
    "mat = random.rand(10,10)\n",
    "lgn.matrix(mat, colormap='Reds')"
   ]
  },
  {
   "cell_type": "code",
   "execution_count": 7,
   "metadata": {
    "collapsed": false
   },
   "outputs": [
    {
     "data": {
      "text/html": [
       "<meta name=\"viewport\" content=\"width=device-width, initial-scale=1, maximum-scale=1\"/><meta http-equiv=\"X-UA-Compatible\" content=\"IE=10; IE=9; IE=8; IE=7; IE=EDGE\"/><meta charset=\"UTF-8\"/><link href=\"//fonts.googleapis.com/css?family=Open+Sans:400,700\" rel=\"stylesheet\" type=\"text/css\"/><link rel=\"stylesheet\" href=\"http://public.lightning-viz.org/css/app.css\"/><link rel=\"stylesheet\" href=\"http://public.lightning-viz.org/css/dynamic/viz/?visualizations[]=matrix\"/><div id=\"lightning-body\" class=\"container content wrap push\"><div class=\"feed-container\"><div data-model=\"visualization\" data-model-id=\"cba86c3a-1d7f-4195-9c52-98ec3075c8ef\" class=\"feed-item-container\"><div data-type=\"lightning-matrix\" data-data=\"{&quot;matrix&quot;:[[0.7151208495941316,0.7254598146712822,0.6039509270512069,0.6526216325350952,0.7646873613727713,0.1856582055294328,0.9143295853223781,0.34187756619155685,0.74699740414415,0.31697335280449435],[0.9593427997544302,0.7608338911679382,0.5744103573631179,0.47557242120884946,0.24620375576856157,0.7113988350344059,0.22823211073740002,0.2333215539560901,0.35747920330102567,0.3814296603477175],[0.3355140104458346,0.8992503645144786,0.39782643336674417,0.8319969577670895,0.24556755784838458,0.8790138212150622,0.07252569616559446,0.033341439781585325,0.06747723595599231,0.42266691643916754],[0.13648385487607606,0.20854643771947712,0.3126982907668153,0.2402066066773212,0.9973274987758567,0.5031440242647395,0.7059138313762507,0.2011477460990102,0.4482368449872196,0.19075608173265335],[0.13261591880874135,0.6652821786850998,0.6955972599716345,0.3739149973346795,0.24797868112204857,0.26939748744920156,0.2269490898778207,0.3541109401531325,0.11813197895880145,0.449492924186663],[0.25476732956402726,0.9424493813149016,0.8365414789809323,0.46273708381452805,0.07571558196974515,0.5527673324870475,0.3517194528688936,0.6042167632345075,0.7168604578676886,0.22120687551285823],[0.6651662812774636,0.9272212167628574,0.7391422887994361,0.9135397782311584,0.42492308551011904,0.45886672597340705,0.6627268810751568,0.6643703375316422,0.8562687441643011,0.7927918773483013],[0.5028856962739631,0.16936758152079257,0.4483592550617077,0.9217774851501986,0.13625999560321655,0.6661221714227201,0.4277218583554444,0.6067385090789807,0.6581869878329122,0.18137361280173048],[0.3828362506115811,0.2403336147885281,0.3823891155730159,0.005367475564933888,0.7228994484917706,0.2684064681009427,0.47258186089358256,0.3838618037130288,0.3743059927086607,0.5387461932337847],[0.5985245058275734,0.09385978173856435,0.6388599298042585,0.3287050269938525,0.7621489460163022,0.44637665700183027,0.05612075912183978,0.3377822854089728,0.9873493910881941,0.018985817040138353]],&quot;colormap&quot;:&quot;Spectral&quot;}\" data-images=\"null\" data-options=\"{&quot;numbers&quot;:false,&quot;width&quot;:600,&quot;description&quot;:null,&quot;height&quot;:null}\" id=\"viz-cba86c3a-1d7f-4195-9c52-98ec3075c8ef\" data-initialized=\"false\" class=\"feed-item\"></div></div></div></div><script>window.lightning = window.lightning || {};\n",
       "window.lightning.host = \"http://public.lightning-viz.org/\" || 'http://127.0.0.1:3000/';\n",
       "window.lightning.vizCount = (window.lightning.vizCount + 1) || 1;\n",
       "window.lightning.requiredVizTypes = window.lightning.requiredVizTypes || [];\n",
       "if(window.lightning.requiredVizTypes.indexOf(\"matrix\") === -1) {\n",
       "    window.lightning.requiredVizTypes.push(\"matrix\");\n",
       "}\n",
       "window._require = window.require;\n",
       "window.require = undefined;\n",
       "window._define = window.define;\n",
       "window.define = undefined;</script><script src=\"http://public.lightning-viz.org/js/embed.js\"></script>"
      ],
      "text/plain": [
       "<lightning.types.plots.Matrix at 0x103fa8f10>"
      ]
     },
     "execution_count": 7,
     "metadata": {},
     "output_type": "execute_result"
    }
   ],
   "source": [
    "mat = random.rand(10,10)\n",
    "lgn.matrix(mat, colormap='Spectral')"
   ]
  },
  {
   "cell_type": "markdown",
   "metadata": {},
   "source": [
    "## <hr> Labels"
   ]
  },
  {
   "cell_type": "markdown",
   "metadata": {},
   "source": [
    "You can label the rows and columns of a matrix. Clicking on the text labels will highlight those rows and columns -- try it!"
   ]
  },
  {
   "cell_type": "code",
   "execution_count": 8,
   "metadata": {
    "collapsed": false
   },
   "outputs": [
    {
     "data": {
      "text/html": [
       "<meta name=\"viewport\" content=\"width=device-width, initial-scale=1, maximum-scale=1\"/><meta http-equiv=\"X-UA-Compatible\" content=\"IE=10; IE=9; IE=8; IE=7; IE=EDGE\"/><meta charset=\"UTF-8\"/><link href=\"//fonts.googleapis.com/css?family=Open+Sans:400,700\" rel=\"stylesheet\" type=\"text/css\"/><link rel=\"stylesheet\" href=\"http://public.lightning-viz.org/css/app.css\"/><link rel=\"stylesheet\" href=\"http://public.lightning-viz.org/css/dynamic/viz/?visualizations[]=matrix\"/><div id=\"lightning-body\" class=\"container content wrap push\"><div class=\"feed-container\"><div data-model=\"visualization\" data-model-id=\"ad05a52c-c5bb-4a85-8fc3-84a039514196\" class=\"feed-item-container\"><div data-type=\"lightning-matrix\" data-data=\"{&quot;rowLabels&quot;:[&quot;row 0&quot;,&quot;row 1&quot;,&quot;row 2&quot;,&quot;row 3&quot;,&quot;row 4&quot;,&quot;row 5&quot;,&quot;row 6&quot;,&quot;row 7&quot;],&quot;matrix&quot;:[[0,1,2,3,4,5,6,7,8,9,10,11,12,13,14,15],[16,17,18,19,20,21,22,23,24,25,26,27,28,29,30,31],[32,33,34,35,36,37,38,39,40,41,42,43,44,45,46,47],[48,49,50,51,52,53,54,55,56,57,58,59,60,61,62,63],[64,65,66,67,68,69,70,71,72,73,74,75,76,77,78,79],[80,81,82,83,84,85,86,87,88,89,90,91,92,93,94,95],[96,97,98,99,100,101,102,103,104,105,106,107,108,109,110,111],[112,113,114,115,116,117,118,119,120,121,122,123,124,125,126,127]],&quot;columnLabels&quot;:[&quot;col 0&quot;,&quot;col 1&quot;,&quot;col 2&quot;,&quot;col 3&quot;,&quot;col 4&quot;,&quot;col 5&quot;,&quot;col 6&quot;,&quot;col 7&quot;,&quot;col 8&quot;,&quot;col 9&quot;,&quot;col 10&quot;,&quot;col 11&quot;,&quot;col 12&quot;,&quot;col 13&quot;,&quot;col 14&quot;,&quot;col 15&quot;]}\" data-images=\"null\" data-options=\"{&quot;numbers&quot;:false,&quot;width&quot;:600,&quot;description&quot;:null,&quot;height&quot;:null}\" id=\"viz-ad05a52c-c5bb-4a85-8fc3-84a039514196\" data-initialized=\"false\" class=\"feed-item\"></div></div></div></div><script>window.lightning = window.lightning || {};\n",
       "window.lightning.host = \"http://public.lightning-viz.org/\" || 'http://127.0.0.1:3000/';\n",
       "window.lightning.vizCount = (window.lightning.vizCount + 1) || 1;\n",
       "window.lightning.requiredVizTypes = window.lightning.requiredVizTypes || [];\n",
       "if(window.lightning.requiredVizTypes.indexOf(\"matrix\") === -1) {\n",
       "    window.lightning.requiredVizTypes.push(\"matrix\");\n",
       "}\n",
       "window._require = window.require;\n",
       "window.require = undefined;\n",
       "window._define = window.define;\n",
       "window.define = undefined;</script><script src=\"http://public.lightning-viz.org/js/embed.js\"></script>"
      ],
      "text/plain": [
       "<lightning.types.plots.Matrix at 0x106fb9f90>"
      ]
     },
     "execution_count": 8,
     "metadata": {},
     "output_type": "execute_result"
    }
   ],
   "source": [
    "n, m = (8, 16)\n",
    "mat = arange(n*m).reshape(n,m)\n",
    "rows = ['row ' + str(i) for i in range(n)]\n",
    "columns = ['col ' + str(i) for i in range(m)]\n",
    "\n",
    "lgn.matrix(mat, row_labels=rows, column_labels=columns)"
   ]
  },
  {
   "cell_type": "markdown",
   "metadata": {},
   "source": [
    "You can also turn on labeling of cells by their value."
   ]
  },
  {
   "cell_type": "code",
   "execution_count": 9,
   "metadata": {
    "collapsed": false
   },
   "outputs": [
    {
     "data": {
      "text/html": [
       "<meta name=\"viewport\" content=\"width=device-width, initial-scale=1, maximum-scale=1\"/><meta http-equiv=\"X-UA-Compatible\" content=\"IE=10; IE=9; IE=8; IE=7; IE=EDGE\"/><meta charset=\"UTF-8\"/><link href=\"//fonts.googleapis.com/css?family=Open+Sans:400,700\" rel=\"stylesheet\" type=\"text/css\"/><link rel=\"stylesheet\" href=\"http://public.lightning-viz.org/css/app.css\"/><link rel=\"stylesheet\" href=\"http://public.lightning-viz.org/css/dynamic/viz/?visualizations[]=matrix\"/><div id=\"lightning-body\" class=\"container content wrap push\"><div class=\"feed-container\"><div data-model=\"visualization\" data-model-id=\"3fe2ca01-8e45-4519-8f7a-4d71fd3f966f\" class=\"feed-item-container\"><div data-type=\"lightning-matrix\" data-data=\"{&quot;matrix&quot;:[[0,1,2,3,4,5,6,7,8,9,10,11,12,13,14,15],[16,17,18,19,20,21,22,23,24,25,26,27,28,29,30,31],[32,33,34,35,36,37,38,39,40,41,42,43,44,45,46,47],[48,49,50,51,52,53,54,55,56,57,58,59,60,61,62,63],[64,65,66,67,68,69,70,71,72,73,74,75,76,77,78,79],[80,81,82,83,84,85,86,87,88,89,90,91,92,93,94,95],[96,97,98,99,100,101,102,103,104,105,106,107,108,109,110,111],[112,113,114,115,116,117,118,119,120,121,122,123,124,125,126,127]]}\" data-images=\"null\" data-options=\"{&quot;numbers&quot;:true,&quot;width&quot;:600,&quot;description&quot;:null,&quot;height&quot;:null}\" id=\"viz-3fe2ca01-8e45-4519-8f7a-4d71fd3f966f\" data-initialized=\"false\" class=\"feed-item\"></div></div></div></div><script>window.lightning = window.lightning || {};\n",
       "window.lightning.host = \"http://public.lightning-viz.org/\" || 'http://127.0.0.1:3000/';\n",
       "window.lightning.vizCount = (window.lightning.vizCount + 1) || 1;\n",
       "window.lightning.requiredVizTypes = window.lightning.requiredVizTypes || [];\n",
       "if(window.lightning.requiredVizTypes.indexOf(\"matrix\") === -1) {\n",
       "    window.lightning.requiredVizTypes.push(\"matrix\");\n",
       "}\n",
       "window._require = window.require;\n",
       "window.require = undefined;\n",
       "window._define = window.define;\n",
       "window.define = undefined;</script><script src=\"http://public.lightning-viz.org/js/embed.js\"></script>"
      ],
      "text/plain": [
       "<lightning.types.plots.Matrix at 0x10915c910>"
      ]
     },
     "execution_count": 9,
     "metadata": {},
     "output_type": "execute_result"
    }
   ],
   "source": [
    "mat = arange(n*m).reshape(n,m)\n",
    "\n",
    "lgn.matrix(mat, numbers=True)"
   ]
  }
 ],
 "metadata": {
  "kernelspec": {
   "display_name": "Python 2",
   "language": "python",
   "name": "python2"
  },
  "language_info": {
   "codemirror_mode": {
    "name": "ipython",
    "version": 2
   },
   "file_extension": ".py",
   "mimetype": "text/x-python",
   "name": "python",
   "nbconvert_exporter": "python",
   "pygments_lexer": "ipython2",
   "version": "2.7.9"
  }
 },
 "nbformat": 4,
 "nbformat_minor": 0
}
