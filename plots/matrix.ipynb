{
 "cells": [
  {
   "cell_type": "markdown",
   "metadata": {},
   "source": [
    "# <img style='float: left' src=\"http://lightning-viz.github.io/images/logo.png\"> <br> <br> &nbsp;&nbsp;&nbsp;&nbsp;&nbsp;Matrix plots in <a href='http://lightning-viz.github.io/'><font color='#9175f0'>Lightning</font></a>"
   ]
  },
  {
   "cell_type": "markdown",
   "metadata": {},
   "source": [
    "## <hr> Setup"
   ]
  },
  {
   "cell_type": "code",
   "execution_count": 1,
   "metadata": {
    "collapsed": false
   },
   "outputs": [],
   "source": [
    "from lightning import Lightning\n",
    "\n",
    "from numpy import random, arange, asarray, corrcoef, argsort, array\n",
    "import networkx as nx\n",
    "from sklearn import datasets"
   ]
  },
  {
   "cell_type": "markdown",
   "metadata": {},
   "source": [
    "## Connect to server"
   ]
  },
  {
   "cell_type": "code",
   "execution_count": 2,
   "metadata": {
    "collapsed": false
   },
   "outputs": [
    {
     "data": {
      "text/html": [
       "<div style='margin-top:8px'><img src='data:image/png;base64,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' width='30px' height='35px' style='display: inline-block; padding-right: 10px'></img><span>Lightning initialized</span></div>"
      ],
      "text/plain": [
       "<IPython.core.display.HTML object>"
      ]
     },
     "metadata": {},
     "output_type": "display_data"
    },
    {
     "name": "stdout",
     "output_type": "stream",
     "text": [
      "Connected to server at http://public.lightning-viz.org\n"
     ]
    },
    {
     "data": {
      "application/javascript": [
       "(function e(t,n,r){function s(o,u){if(!n[o]){if(!t[o]){var a=typeof require==\"function\"&&require;if(!u&&a)return a(o,!0);if(i)return i(o,!0);throw new Error(\"Cannot find module '\"+o+\"'\")}var f=n[o]={exports:{}};t[o][0].call(f.exports,function(e){var n=t[o][1][e];return s(n?n:e)},f,f.exports,e,t,n,r)}return n[o].exports}var i=typeof require==\"function\"&&require;for(var o=0;o<r.length;o++)s(r[o]);return s})({1:[function(require,module,exports){\n",
       "window.lightning = window.lightning || {};\n",
       "var lightningCommMap = {};\n",
       "\n",
       "var readCommData = function(commData, field) {\n",
       "    try {\n",
       "        return commData.content.data[field];\n",
       "    } catch (err) {\n",
       "        return;\n",
       "    }\n",
       "};\n",
       "\n",
       "\n",
       "var init_comm = function() {\n",
       "    IPython.notebook.kernel.comm_manager.register_target('lightning', function(comm, data) {\n",
       "        var id = readCommData(data, 'id');\n",
       "        lightningCommMap[id] = comm;\n",
       "    });\n",
       "\n",
       "    window.lightning.comm_map = lightningCommMap;\n",
       "}\n",
       "\n",
       "\n",
       "if(IPython && IPython.notebook) {\n",
       "\n",
       "    if(IPython.notebook.kernel) {\n",
       "        init_comm();\n",
       "    }\n",
       "\n",
       "    IPython.notebook.events.on('kernel_connected.Kernel', init_comm);\n",
       "\n",
       "}\n",
       "\n",
       "\n",
       "},{}]},{},[1])\n",
       "//# sourceMappingURL=data:application/json;base64,eyJ2ZXJzaW9uIjozLCJzb3VyY2VzIjpbIi90bXAvYnVpbGRfN2UyYzI4NDc0OWJhNDU3NzQ0ZGY5NDU5NjZjY2RhMTcvbm9kZV9tb2R1bGVzL2d1bHAtYnJvd3NlcmlmeS9ub2RlX21vZHVsZXMvYnJvd3NlcmlmeS9ub2RlX21vZHVsZXMvYnJvd3Nlci1wYWNrL19wcmVsdWRlLmpzIiwiL3RtcC9idWlsZF83ZTJjMjg0NzQ5YmE0NTc3NDRkZjk0NTk2NmNjZGExNy91aS9qcy9wYWdlcy9mYWtlX2QyZmNkZDA3LmpzIl0sIm5hbWVzIjpbXSwibWFwcGluZ3MiOiJBQUFBO0FDQUEsTUFBTSxDQUFDLFNBQVMsR0FBRyxNQUFNLENBQUMsU0FBUyxJQUFJLEVBQUUsQ0FBQztBQUMxQyxJQUFJLGdCQUFnQixHQUFHLEVBQUUsQ0FBQzs7QUFFMUIsSUFBSSxZQUFZLEdBQUcsU0FBUyxRQUFRLEVBQUUsS0FBSyxFQUFFO0lBQ3pDLElBQUk7UUFDQSxPQUFPLFFBQVEsQ0FBQyxPQUFPLENBQUMsSUFBSSxDQUFDLEtBQUssQ0FBQyxDQUFDO0tBQ3ZDLENBQUMsT0FBTyxHQUFHLEVBQUU7UUFDVixPQUFPO0tBQ1Y7QUFDTCxDQUFDLENBQUM7QUFDRjs7QUFFQSxJQUFJLFNBQVMsR0FBRyxXQUFXO0lBQ3ZCLE9BQU8sQ0FBQyxRQUFRLENBQUMsTUFBTSxDQUFDLFlBQVksQ0FBQyxlQUFlLENBQUMsV0FBVyxFQUFFLFNBQVMsSUFBSSxFQUFFLElBQUksRUFBRTtRQUNuRixJQUFJLEVBQUUsR0FBRyxZQUFZLENBQUMsSUFBSSxFQUFFLElBQUksQ0FBQyxDQUFDO1FBQ2xDLGdCQUFnQixDQUFDLEVBQUUsQ0FBQyxHQUFHLElBQUksQ0FBQztBQUNwQyxLQUFLLENBQUMsQ0FBQzs7SUFFSCxNQUFNLENBQUMsU0FBUyxDQUFDLFFBQVEsR0FBRyxnQkFBZ0IsQ0FBQztBQUNqRCxDQUFDO0FBQ0Q7O0FBRUEsR0FBRyxPQUFPLElBQUksT0FBTyxDQUFDLFFBQVEsRUFBRTs7SUFFNUIsR0FBRyxPQUFPLENBQUMsUUFBUSxDQUFDLE1BQU0sRUFBRTtRQUN4QixTQUFTLEVBQUUsQ0FBQztBQUNwQixLQUFLOztBQUVMLElBQUksT0FBTyxDQUFDLFFBQVEsQ0FBQyxNQUFNLENBQUMsRUFBRSxDQUFDLHlCQUF5QixFQUFFLFNBQVMsQ0FBQyxDQUFDOztDQUVwRSIsImZpbGUiOiJnZW5lcmF0ZWQuanMiLCJzb3VyY2VSb290IjoiIiwic291cmNlc0NvbnRlbnQiOlsiKGZ1bmN0aW9uIGUodCxuLHIpe2Z1bmN0aW9uIHMobyx1KXtpZighbltvXSl7aWYoIXRbb10pe3ZhciBhPXR5cGVvZiByZXF1aXJlPT1cImZ1bmN0aW9uXCImJnJlcXVpcmU7aWYoIXUmJmEpcmV0dXJuIGEobywhMCk7aWYoaSlyZXR1cm4gaShvLCEwKTt0aHJvdyBuZXcgRXJyb3IoXCJDYW5ub3QgZmluZCBtb2R1bGUgJ1wiK28rXCInXCIpfXZhciBmPW5bb109e2V4cG9ydHM6e319O3Rbb11bMF0uY2FsbChmLmV4cG9ydHMsZnVuY3Rpb24oZSl7dmFyIG49dFtvXVsxXVtlXTtyZXR1cm4gcyhuP246ZSl9LGYsZi5leHBvcnRzLGUsdCxuLHIpfXJldHVybiBuW29dLmV4cG9ydHN9dmFyIGk9dHlwZW9mIHJlcXVpcmU9PVwiZnVuY3Rpb25cIiYmcmVxdWlyZTtmb3IodmFyIG89MDtvPHIubGVuZ3RoO28rKylzKHJbb10pO3JldHVybiBzfSkiLCJ3aW5kb3cubGlnaHRuaW5nID0gd2luZG93LmxpZ2h0bmluZyB8fCB7fTtcbnZhciBsaWdodG5pbmdDb21tTWFwID0ge307XG5cbnZhciByZWFkQ29tbURhdGEgPSBmdW5jdGlvbihjb21tRGF0YSwgZmllbGQpIHtcbiAgICB0cnkge1xuICAgICAgICByZXR1cm4gY29tbURhdGEuY29udGVudC5kYXRhW2ZpZWxkXTtcbiAgICB9IGNhdGNoIChlcnIpIHtcbiAgICAgICAgcmV0dXJuO1xuICAgIH1cbn07XG5cblxudmFyIGluaXRfY29tbSA9IGZ1bmN0aW9uKCkge1xuICAgIElQeXRob24ubm90ZWJvb2sua2VybmVsLmNvbW1fbWFuYWdlci5yZWdpc3Rlcl90YXJnZXQoJ2xpZ2h0bmluZycsIGZ1bmN0aW9uKGNvbW0sIGRhdGEpIHtcbiAgICAgICAgdmFyIGlkID0gcmVhZENvbW1EYXRhKGRhdGEsICdpZCcpO1xuICAgICAgICBsaWdodG5pbmdDb21tTWFwW2lkXSA9IGNvbW07XG4gICAgfSk7XG5cbiAgICB3aW5kb3cubGlnaHRuaW5nLmNvbW1fbWFwID0gbGlnaHRuaW5nQ29tbU1hcDtcbn1cblxuXG5pZihJUHl0aG9uICYmIElQeXRob24ubm90ZWJvb2spIHtcblxuICAgIGlmKElQeXRob24ubm90ZWJvb2sua2VybmVsKSB7XG4gICAgICAgIGluaXRfY29tbSgpO1xuICAgIH1cblxuICAgIElQeXRob24ubm90ZWJvb2suZXZlbnRzLm9uKCdrZXJuZWxfY29ubmVjdGVkLktlcm5lbCcsIGluaXRfY29tbSk7XG5cbn1cbiJdfQ==\n"
      ],
      "text/plain": [
       "<IPython.core.display.Javascript object>"
      ]
     },
     "metadata": {},
     "output_type": "display_data"
    }
   ],
   "source": [
    "lgn = Lightning(ipython=True, host='http://public.lightning-viz.org')"
   ]
  },
  {
   "cell_type": "markdown",
   "metadata": {},
   "source": [
    "## <hr> Simple matrix"
   ]
  },
  {
   "cell_type": "markdown",
   "metadata": {},
   "source": [
    "Matrices are useful ways to visualize dense tables and correlation matrices data.\n",
    "<br>\n",
    "First we show a random matrix with default styles.\n",
    "<br>\n",
    "You can us the arrow keys to change the contrast (up/down) or the colormap (left/right)."
   ]
  },
  {
   "cell_type": "code",
   "execution_count": 3,
   "metadata": {
    "collapsed": false,
    "scrolled": true
   },
   "outputs": [
    {
     "data": {
      "text/html": [
       "<meta name=\"viewport\" content=\"width=device-width, initial-scale=1, maximum-scale=1\"/><meta http-equiv=\"X-UA-Compatible\" content=\"IE=10; IE=9; IE=8; IE=7; IE=EDGE\"/><meta charset=\"UTF-8\"/><link href=\"//fonts.googleapis.com/css?family=Open+Sans:400,700\" rel=\"stylesheet\" type=\"text/css\"/><link rel=\"stylesheet\" href=\"http://public.lightning-viz.org/css/app.css\"/><link rel=\"stylesheet\" href=\"http://public.lightning-viz.org/css/dynamic/viz/?visualizations[]=matrix\"/><div id=\"lightning-body\" class=\"container content wrap push\"><div class=\"feed-container\"><div data-model=\"visualization\" data-model-id=\"90b35c3e-54c6-4039-a4d9-3dbc0a501b51\" class=\"feed-item-container\"><div data-type=\"lightning-matrix\" data-data=\"{&quot;matrix&quot;:[[0.3567106268017902,-0.7799747063999234,-0.3701867565418295,0.6092687610082802,-0.29311773985607154,1.0309374382760421,0.2668653388950633,0.8658990318026026,-0.10211324820676203,-0.7262356522672021],[-0.7798806558430105,-0.40654148537963763,-0.3825835416771474,0.48856882896480636,0.8703644883380348,0.9606289231504035,0.025730129452903587,-0.4627733651101791,-1.1678780708490817,0.572846906375421],[-0.4342827293131809,-0.5227674317556349,-0.5693257577899732,0.8481481756704295,0.3881333664718612,0.053306193588676484,0.06466412594033652,0.8417532012093297,-1.1494867143662737,-0.23940281076806674],[1.5073465891765383,-0.1783744632767947,0.1613174953719632,0.8856958708451576,0.7935056838011598,-2.1981741010452236,0.2588501043591963,-0.3306493217390084,0.6842126515013057,-1.3765645314373884],[1.6731268663129044,-0.17184370416176276,1.0606204157784165,1.4103028161743991,-0.7504770931170851,0.8105205477574633,0.6912624251535648,2.6684939680219535,-0.1240938509930797,0.4271647747392971],[-0.6949220010118946,0.9613164645087192,-0.6868532510173028,-0.8627669544972505,-0.593275221288606,-0.8092115487731671,-0.46634233391075075,0.26183218483594073,-0.20921508544010423,0.630589150274931],[-0.17255087269351835,-0.5090574589928859,-0.00580726035222225,-0.32784297858626676,-0.6891158531736452,-2.0384406355395273,2.0860308929712326,0.2824881581622766,-1.4968754433864806,1.7847617496687458],[0.7875506141887232,-1.3212416550856452,0.5406258582127295,-0.4697775214932883,-0.006181416692651853,1.255067383776312,-0.29259998346072325,0.012306995016105505,0.01803482989773633,0.05815299595956881],[0.17980186137984833,1.824163765858989,-0.5297919714818442,0.6782965758360571,2.117837665143853,0.42345703140633406,-0.0966708517614343,0.8990674532032226,-0.01564230461962257,-2.009778038111299],[0.836050141569551,1.7200251928626396,0.6158382697527581,-0.6090076025782236,0.48815777897509205,-0.8459821599016836,-0.558503307873725,-0.40369972264421894,0.12869114203430485,0.7608384511517818]]}\" data-images=\"null\" data-options=\"{&quot;numbers&quot;:false,&quot;width&quot;:600,&quot;description&quot;:null,&quot;height&quot;:null}\" id=\"viz-90b35c3e-54c6-4039-a4d9-3dbc0a501b51\" data-initialized=\"false\" class=\"feed-item\"></div></div></div></div><script>window.lightning = window.lightning || {};\n",
       "window.lightning.host = \"http://public.lightning-viz.org/\" || 'http://127.0.0.1:3000/';\n",
       "window.lightning.vizCount = (window.lightning.vizCount + 1) || 1;\n",
       "window.lightning.requiredVizTypes = window.lightning.requiredVizTypes || [];\n",
       "if(window.lightning.requiredVizTypes.indexOf(\"matrix\") === -1) {\n",
       "    window.lightning.requiredVizTypes.push(\"matrix\");\n",
       "}\n",
       "window._require = window.require;\n",
       "window.require = undefined;\n",
       "window._define = window.define;\n",
       "window.define = undefined;</script><script src=\"http://public.lightning-viz.org/js/embed.js\"></script>"
      ],
      "text/plain": [
       "<lightning.types.plots.Matrix at 0x10491bb50>"
      ]
     },
     "execution_count": 3,
     "metadata": {},
     "output_type": "execute_result"
    }
   ],
   "source": [
    "mat = random.randn(10,10)\n",
    "lgn.matrix(mat)"
   ]
  },
  {
   "cell_type": "markdown",
   "metadata": {},
   "source": [
    "## <hr> Different shapes"
   ]
  },
  {
   "cell_type": "markdown",
   "metadata": {},
   "source": [
    "Rectanglular matrices will automatically size appropriately."
   ]
  },
  {
   "cell_type": "code",
   "execution_count": 4,
   "metadata": {
    "collapsed": false
   },
   "outputs": [
    {
     "data": {
      "text/html": [
       "<meta name=\"viewport\" content=\"width=device-width, initial-scale=1, maximum-scale=1\"/><meta http-equiv=\"X-UA-Compatible\" content=\"IE=10; IE=9; IE=8; IE=7; IE=EDGE\"/><meta charset=\"UTF-8\"/><link href=\"//fonts.googleapis.com/css?family=Open+Sans:400,700\" rel=\"stylesheet\" type=\"text/css\"/><link rel=\"stylesheet\" href=\"http://public.lightning-viz.org/css/app.css\"/><link rel=\"stylesheet\" href=\"http://public.lightning-viz.org/css/dynamic/viz/?visualizations[]=matrix\"/><div id=\"lightning-body\" class=\"container content wrap push\"><div class=\"feed-container\"><div data-model=\"visualization\" data-model-id=\"c50a0c21-0e8c-4296-91d7-c602ba63bcd9\" class=\"feed-item-container\"><div data-type=\"lightning-matrix\" data-data=\"{&quot;matrix&quot;:[[-0.3185002598738306,0.4056489924709401,-0.04571463905662404,-0.8464320713927855,-0.3514523059962529,2.263076381240359,0.29596465159244906,0.12785112694991488,0.36661474254777354,-0.31528004862844516,-0.0020291462484068245,-0.6796081040550791,-0.12015239118611724,0.08031913383353088,0.7290149334776587,-2.157216436114266,1.7156108565783035,-1.517489627061881,0.9942448562898552,-0.14593321449526217],[-0.6984299136998802,-0.25478121327766357,1.3501636085701147,-1.1972779054976177,0.00466425605818776,-0.3983866814242005,0.7362688216192746,-1.151483609027683,-0.1998806833199417,0.5784282619554167,0.8321486040586685,-0.48194265917327644,1.1604785343005941,-1.3189742451549022,-0.45245900390906196,0.4248548465602372,-1.3279181110139375,-1.2521971845699347,-0.7515095131397157,0.5511042258545258],[0.24579561211996245,0.4790665679323961,0.01056054861081282,-0.40313694128481614,-0.581665176696939,0.016282415514870762,2.3138548351341135,-2.1988474843270596,-0.8217651819878298,-2.1232391967179516,-0.05389106388902794,1.2713626215232092,-1.1699941494930552,-0.6216411320883811,-0.6093208940779965,-0.5151501734109549,-0.4412099473470392,-1.238421510011214,-0.14982468197225815,-0.0823522234331452],[0.5411386231123858,-1.0120454117045372,0.5542966744586987,-0.5362216505948822,-0.8014279756025228,0.8486757777687552,-1.1455309534415852,-0.3093299702864439,-0.42638197514166964,-0.033742388796539596,-0.21269434951456784,-2.0279335976067814,0.6805304624782386,0.3530382680144776,-0.7799909493488623,-1.5044171851602357,2.0533669047157876,-0.37412731556610324,-1.558265276061252,-0.9424406460678908],[1.4864601711395606,-0.6912944009909661,0.10506563947991948,1.8727651873258526,0.6184569408691515,0.0443482170547847,2.1784513928069895,-0.7647028226272644,-1.330937529690895,0.7595078105337192,-1.113024568995098,0.1319580377758077,-0.7239673796802193,0.6634758921745795,0.6928547830402662,-2.5003493558410637,0.7388994566190278,-1.2053328370723178,1.8344046240804188,-0.00426253131340345],[-0.15484355641824563,-0.24932462667384683,-0.9956433371387847,2.222176120327602,1.1629204645286324,0.47409496607689156,-1.047670760754982,-0.17967786873534108,1.3314927151768956,1.1174308432191704,-1.4674429549744934,0.1626207785405719,-0.577061750715546,0.5324440867456498,-0.4582555947641796,1.4388485393717267,-0.8806756841323965,-0.5077174213883385,1.0079256317512324,-0.10626911795846426],[1.6194824237771686,0.9813202095746776,0.4191830558308712,-0.8193644845144968,-0.0898182448676882,0.41389979470390054,-1.9374103670764167,1.6233424838835164,0.20053367327764926,-1.2690098478179825,-0.9319889861807911,0.37478441343498126,0.5429409617973505,-0.49083746972038417,1.9083485778328606,0.14247300223307438,0.6307901689172637,-0.7357525081277453,-0.8421498006492942,0.2079043794112037],[-0.017181524375416705,0.8003165131961056,-0.2489955874062238,-0.3085791228878855,-1.1010546840573572,-0.053427715797254215,-1.1946005023694963,0.43677633542622263,1.3730875482085292,-0.3839935310035975,0.07427494334504796,-1.3971778696250583,0.41168604585135526,-0.15877541001100254,1.1705675481714994,-0.38277888574693497,0.27612641523692183,0.7169635143338168,0.3639482097775294,0.0847976247042562],[1.4100343205272774,-0.41135145217264785,0.3654074512122854,1.6878494220054159,-0.9770077778583087,0.10404082150939253,0.06361095324188568,-1.2814562772695657,-0.47731003917831244,0.4592043987018553,-0.6057343692636228,2.2617039433062804,0.8912599528119866,-0.6311215925835882,0.6113940840838664,0.9057707185770497,-0.8000501669384341,-1.7101790575728724,1.3564673343860212,0.27284102202989785],[-1.0598419124901783,1.4499606836751084,1.4061496873956678,-0.32367683019576515,1.5199766319695087,-0.14494564712396873,-1.936746741100567,-0.6518994399160086,-1.7100049845169283,-1.2125899366439683,0.6187368136119433,-0.5212452309257478,1.1323391908797524,-0.7218511420556751,-1.071069894360409,0.09701248402119056,0.2534436498698208,-0.06266660243017749,0.2819527610851454,-0.2556401316671585]]}\" data-images=\"null\" data-options=\"{&quot;numbers&quot;:false,&quot;width&quot;:600,&quot;description&quot;:null,&quot;height&quot;:null}\" id=\"viz-c50a0c21-0e8c-4296-91d7-c602ba63bcd9\" data-initialized=\"false\" class=\"feed-item\"></div></div></div></div><script>window.lightning = window.lightning || {};\n",
       "window.lightning.host = \"http://public.lightning-viz.org/\" || 'http://127.0.0.1:3000/';\n",
       "window.lightning.vizCount = (window.lightning.vizCount + 1) || 1;\n",
       "window.lightning.requiredVizTypes = window.lightning.requiredVizTypes || [];\n",
       "if(window.lightning.requiredVizTypes.indexOf(\"matrix\") === -1) {\n",
       "    window.lightning.requiredVizTypes.push(\"matrix\");\n",
       "}\n",
       "window._require = window.require;\n",
       "window.require = undefined;\n",
       "window._define = window.define;\n",
       "window.define = undefined;</script><script src=\"http://public.lightning-viz.org/js/embed.js\"></script>"
      ],
      "text/plain": [
       "<lightning.types.plots.Matrix at 0x1043b41d0>"
      ]
     },
     "execution_count": 4,
     "metadata": {},
     "output_type": "execute_result"
    }
   ],
   "source": [
    "mat = random.randn(10,20)\n",
    "lgn.matrix(mat)"
   ]
  },
  {
   "cell_type": "code",
   "execution_count": 5,
   "metadata": {
    "collapsed": false
   },
   "outputs": [
    {
     "data": {
      "text/html": [
       "<meta name=\"viewport\" content=\"width=device-width, initial-scale=1, maximum-scale=1\"/><meta http-equiv=\"X-UA-Compatible\" content=\"IE=10; IE=9; IE=8; IE=7; IE=EDGE\"/><meta charset=\"UTF-8\"/><link href=\"//fonts.googleapis.com/css?family=Open+Sans:400,700\" rel=\"stylesheet\" type=\"text/css\"/><link rel=\"stylesheet\" href=\"http://public.lightning-viz.org/css/app.css\"/><link rel=\"stylesheet\" href=\"http://public.lightning-viz.org/css/dynamic/viz/?visualizations[]=matrix\"/><div id=\"lightning-body\" class=\"container content wrap push\"><div class=\"feed-container\"><div data-model=\"visualization\" data-model-id=\"d378f279-01ff-469c-b7c7-4cd873c7df50\" class=\"feed-item-container\"><div data-type=\"lightning-matrix\" data-data=\"{&quot;matrix&quot;:[[-0.08762163060269519,0.959070995854682,-0.012455161111841794,-0.8298260435904554,0.644562930489223,0.2578069052848678,-1.688216662339181,1.752318407761375,-2.1107882184675217,-1.1422764457729857],[0.32564104346561823,-0.6540326724714388,0.3311919777876562,-0.528493816450612,-0.18896697848007588,-0.10780586954062778,-0.5634145340321761,0.21050287567303363,-1.462013309269672,1.3620450638691548],[0.2382267516712584,-0.04622119202864402,0.1274261509549777,0.27261544972827495,1.4371394588792041,-0.4392406059359163,0.26213938369430545,1.8081188443269367,0.7262287735437344,0.5590615360939021],[-0.36328363362206484,-1.2759316341714655,0.2428386486479532,0.6332055812917255,0.11890009241550177,0.3575851952178615,1.2878394632310628,-2.274518697594394,-0.6728497291236657,-0.8874702205089318],[-1.2859976914720967,-0.5220134787759186,1.1567163546419694,0.8972241800132132,-0.06153874155024998,-1.0564441823962836,-0.3455191589947295,0.22914226598055226,-0.7651389389623701,-0.9464091405248134],[1.2658943531163234,-0.3362718617719722,-0.05399204792187286,0.5878389669584944,-0.346481366236464,-0.2754705017651469,0.05589305936250786,-1.1435642126007888,-0.9458793343778337,0.17820495902323352],[0.05222114068327905,-1.2055094368679324,0.07566887941257171,-0.15629846447400683,1.6627463377987788,1.9111658639892153,-0.9655278420192395,0.39514131693838156,1.2983602045489517,0.6391346969899073],[-0.6903446492174378,0.22948368390985174,2.805675075803898,2.2773958913857797,-2.1790636218640067,1.7294411869927802,0.4969342691595684,-1.3057376396464642,0.08001881881562124,1.059958451566542],[-0.09111205492749679,2.4145812269618485,1.4411535361452523,-1.275193947506594,0.09867251775158736,0.09496792255846428,-0.6359939805287452,0.30030181773947534,0.7697368578793858,-0.051440360634739994],[-0.845956731940511,1.9062772070732847,0.513804983396723,1.0569796180621442,1.0159084833586929,1.0140186074385513,-1.714438036192604,0.3363008660002303,-0.24016868861557375,-1.4451814939690732],[1.3773805759019246,1.3640907110472862,0.8446174890706396,-0.2551037362548717,0.11904085867490774,-0.6733510272652392,0.9437386031053269,0.24686340818717153,-0.14664014451102195,-2.0516620570258848],[-1.360122277294498,-0.20845096928084453,0.0011068914144408194,-0.46312668924912004,-0.46903082465967766,-0.0027077301980661683,2.253830455093003,-0.4728533656155396,0.3531312840343474,-0.9818425238189996],[-1.6602550112476786,1.360242483056358,0.3442452971907028,1.3384071069723815,-0.1722290993681971,-0.35252133108016764,2.8382934370606576,0.32738990807394297,-0.297731589656274,-0.10473371960186784],[1.4553698308174832,-0.72466297034074,1.183502982591177,0.9261600800989928,1.1311440010843274,0.5634560442895858,0.015798618377087684,-1.004583343040396,-0.9205847107371824,-1.4159736922193455],[-1.5989812711967852,-0.5210424346595874,-1.372830524333274,-0.21607425104281197,-1.3102176354177157,-0.5649565625034302,-0.3333106167834113,-0.028658494251060648,-0.7068153038889549,-0.11652039114771419],[0.7724275401063617,-1.3261045234825857,1.1321092966341477,-1.909360746894882,-1.4650556348681811,-0.5286143629807789,-0.926481054002349,-1.3497990228636065,-0.7724259319365298,1.071481850402401],[-0.34417646836099963,-0.8944128245186315,1.0682033262300898,-0.33924318736286724,-1.2823140395055974,0.4102193237087546,-0.31258760589117784,-0.3848176903157988,0.1462959992004024,-0.06626218475365228],[0.17557542862023262,0.4192863524037406,1.5138116942138011,2.577321759869572,-0.36922602195102905,-1.4451313766178442,1.0035333336222012,-0.6693858009746733,-0.537342525697531,-1.1942380849037597],[-0.5191580671619688,1.5912405274895145,1.0392221419348235,-1.6702076085599629,0.40099275723419553,0.2529079115299019,-1.0883854448968098,-0.5271145285786831,0.34019846057226394,0.11111609854319474],[-0.28031598743839964,-1.9732811973638837,-1.7407878246191753,1.8518081327092648,-0.9047982022175899,0.7600482795826977,-0.06899060593527657,0.7550593370456441,-0.3827147087225046,-2.125443790621026]]}\" data-images=\"null\" data-options=\"{&quot;numbers&quot;:false,&quot;width&quot;:600,&quot;description&quot;:null,&quot;height&quot;:null}\" id=\"viz-d378f279-01ff-469c-b7c7-4cd873c7df50\" data-initialized=\"false\" class=\"feed-item\"></div></div></div></div><script>window.lightning = window.lightning || {};\n",
       "window.lightning.host = \"http://public.lightning-viz.org/\" || 'http://127.0.0.1:3000/';\n",
       "window.lightning.vizCount = (window.lightning.vizCount + 1) || 1;\n",
       "window.lightning.requiredVizTypes = window.lightning.requiredVizTypes || [];\n",
       "if(window.lightning.requiredVizTypes.indexOf(\"matrix\") === -1) {\n",
       "    window.lightning.requiredVizTypes.push(\"matrix\");\n",
       "}\n",
       "window._require = window.require;\n",
       "window.require = undefined;\n",
       "window._define = window.define;\n",
       "window.define = undefined;</script><script src=\"http://public.lightning-viz.org/js/embed.js\"></script>"
      ],
      "text/plain": [
       "<lightning.types.plots.Matrix at 0x106e26a90>"
      ]
     },
     "execution_count": 5,
     "metadata": {},
     "output_type": "execute_result"
    }
   ],
   "source": [
    "mat = random.randn(20,10)\n",
    "lgn.matrix(mat)"
   ]
  },
  {
   "cell_type": "markdown",
   "metadata": {},
   "source": [
    "## <hr> Colors"
   ]
  },
  {
   "cell_type": "markdown",
   "metadata": {},
   "source": [
    "Matrices can be rendered using any colorbrewer colormaps."
   ]
  },
  {
   "cell_type": "code",
   "execution_count": 6,
   "metadata": {
    "collapsed": false
   },
   "outputs": [
    {
     "data": {
      "text/html": [
       "<meta name=\"viewport\" content=\"width=device-width, initial-scale=1, maximum-scale=1\"/><meta http-equiv=\"X-UA-Compatible\" content=\"IE=10; IE=9; IE=8; IE=7; IE=EDGE\"/><meta charset=\"UTF-8\"/><link href=\"//fonts.googleapis.com/css?family=Open+Sans:400,700\" rel=\"stylesheet\" type=\"text/css\"/><link rel=\"stylesheet\" href=\"http://public.lightning-viz.org/css/app.css\"/><link rel=\"stylesheet\" href=\"http://public.lightning-viz.org/css/dynamic/viz/?visualizations[]=matrix\"/><div id=\"lightning-body\" class=\"container content wrap push\"><div class=\"feed-container\"><div data-model=\"visualization\" data-model-id=\"de8ad733-4511-4fa1-ae6b-532b1042fce9\" class=\"feed-item-container\"><div data-type=\"lightning-matrix\" data-data=\"{&quot;matrix&quot;:[[0.7997703390203962,0.3276811024492142,0.46353189108130466,0.7905084524795616,0.7821421697456543,0.038427956298763166,0.6622376547160024,0.5558764638781599,0.6673931066088613,0.7655659646571675],[0.5340099609066313,0.6077147412926946,0.13614087332894942,0.11714950420591663,0.7141100749641871,0.07132307588254028,0.2972342059498647,0.8926395209022091,0.8830408646003088,0.015289162754457353],[0.6010565347210877,0.7077809124257572,0.13835933723509308,0.10907623341815631,0.6852993468737621,0.024864557779881724,0.9294676712808575,0.0762254531660509,0.9772172188490206,0.5720310247677434],[0.456099595531712,0.9903506893003146,0.6044601595788331,0.9840614564367585,0.23768584170383011,0.06087056152733661,0.31653385476836193,0.8196207292432562,0.5734251814781641,0.5993352867816029],[0.5662641081075668,0.41282470700976437,0.6806288700520898,0.4881892703205478,0.53626500141854,0.9061220645158821,0.5382443809871087,0.4682452028503713,0.5115686307617064,0.08685509383754142],[0.823056205925974,0.7958702840213275,0.622314228721544,0.8182485137873066,0.18477239882370522,0.7393119630392814,0.6810045246942255,0.13376375870430757,0.8349672474404914,0.32542315946896316],[0.8476903093967033,0.41322503734898464,0.9629116706203014,0.7908461604555039,0.9958651399009216,0.1876046495497803,0.9031155634681888,0.49140540061821203,0.9618209711401255,0.4575850697579781],[0.5423970938664342,0.9065680508366599,0.29060724678310434,0.8552989533906535,0.5876220651420292,0.9461071230033131,0.07464114277581946,0.09037090203433673,0.9586775347361071,0.984063047507562],[0.4437328842538444,0.8764730393084027,0.01422639340269305,0.6990899016631077,0.009667886346825028,0.22366973172310967,0.6501831918831296,0.054407458852040236,0.33757952828706916,0.04139529868033509],[0.9880124501568459,0.015148183631212508,0.6508150983245105,0.14272577729531433,0.9431612578595484,0.17405051567404406,0.9063090829737711,0.22202266516761848,0.6088350121093428,0.7454666198119927]],&quot;colormap&quot;:&quot;Reds&quot;}\" data-images=\"null\" data-options=\"{&quot;numbers&quot;:false,&quot;width&quot;:600,&quot;description&quot;:null,&quot;height&quot;:null}\" id=\"viz-de8ad733-4511-4fa1-ae6b-532b1042fce9\" data-initialized=\"false\" class=\"feed-item\"></div></div></div></div><script>window.lightning = window.lightning || {};\n",
       "window.lightning.host = \"http://public.lightning-viz.org/\" || 'http://127.0.0.1:3000/';\n",
       "window.lightning.vizCount = (window.lightning.vizCount + 1) || 1;\n",
       "window.lightning.requiredVizTypes = window.lightning.requiredVizTypes || [];\n",
       "if(window.lightning.requiredVizTypes.indexOf(\"matrix\") === -1) {\n",
       "    window.lightning.requiredVizTypes.push(\"matrix\");\n",
       "}\n",
       "window._require = window.require;\n",
       "window.require = undefined;\n",
       "window._define = window.define;\n",
       "window.define = undefined;</script><script src=\"http://public.lightning-viz.org/js/embed.js\"></script>"
      ],
      "text/plain": [
       "<lightning.types.plots.Matrix at 0x1043b4690>"
      ]
     },
     "execution_count": 6,
     "metadata": {},
     "output_type": "execute_result"
    }
   ],
   "source": [
    "mat = random.rand(10,10)\n",
    "lgn.matrix(mat, colormap='Reds')"
   ]
  },
  {
   "cell_type": "code",
   "execution_count": 7,
   "metadata": {
    "collapsed": false
   },
   "outputs": [
    {
     "data": {
      "text/html": [
       "<meta name=\"viewport\" content=\"width=device-width, initial-scale=1, maximum-scale=1\"/><meta http-equiv=\"X-UA-Compatible\" content=\"IE=10; IE=9; IE=8; IE=7; IE=EDGE\"/><meta charset=\"UTF-8\"/><link href=\"//fonts.googleapis.com/css?family=Open+Sans:400,700\" rel=\"stylesheet\" type=\"text/css\"/><link rel=\"stylesheet\" href=\"http://public.lightning-viz.org/css/app.css\"/><link rel=\"stylesheet\" href=\"http://public.lightning-viz.org/css/dynamic/viz/?visualizations[]=matrix\"/><div id=\"lightning-body\" class=\"container content wrap push\"><div class=\"feed-container\"><div data-model=\"visualization\" data-model-id=\"81bad0a2-9aaa-49c3-aa7a-de37761b54ac\" class=\"feed-item-container\"><div data-type=\"lightning-matrix\" data-data=\"{&quot;matrix&quot;:[[0.442012271406239,0.7276241463061537,0.3435904462292674,0.9160761872262049,0.7149981310460987,0.8622629019350992,0.9507527296858251,0.3051974316934889,0.4105406113364821,0.5331246133791917],[0.5038724111179358,0.9374968503925254,0.04804059359742885,0.2768359398345315,0.6764393889338765,0.08341245268647812,0.08739006236840852,0.1086918643496626,0.43178190844750874,0.827164758107777],[0.005865203446643763,0.3667453730573279,0.9367710925866011,0.9198790810070239,0.3219041884044622,0.8212460499685588,0.4550236149334298,0.017069064127526623,0.17054949961058985,0.256457109426967],[0.12307423197223222,0.710337746306374,0.10617506004164323,0.6676503083085947,0.11617026410413356,0.6231748923382971,0.3925923700363779,0.4616118551088476,0.28341556122391187,0.11532848991054889],[0.2698129533725798,0.42168728084734375,0.9417082570799648,0.6618026050384812,0.6428719839566117,0.904985494037858,0.7894186499311286,0.8708250963111493,0.78311733950901,0.6105462067236718],[0.3780110357592239,0.2403859929498693,0.7689105228217402,0.17885792988665628,0.8161532195324933,0.19483212630586055,0.3341352049941002,0.9852232628710872,0.03386106568726144,0.19672476952761575],[0.0914868052772595,0.4706163503300673,0.6796214760399617,0.30142165112964037,0.3970826549028924,0.09691392519659203,0.3614718199813376,0.738206288537253,0.07206407289205463,0.9328917860657021],[0.7537574883448935,0.8231815679935144,0.033709320153819444,0.03150781393839652,0.7650752254732952,0.17559401627232885,0.7849086596538333,0.8984184752949089,0.6148702330874626,0.8490774714111448],[0.11911545035039683,0.7276353234093208,0.7646053762820718,0.1576336962786229,0.34700625433347043,0.686162269262787,0.9116134110918022,0.8819893925581738,0.3667785108779842,0.9116911177850492],[0.27811036164509295,0.2474214700361943,0.8487539476068734,0.8607648878729842,0.39780133241575544,0.7980348808303493,0.7051242253838887,0.537258458482491,0.9084464874209427,0.8304906603307824]],&quot;colormap&quot;:&quot;Spectral&quot;}\" data-images=\"null\" data-options=\"{&quot;numbers&quot;:false,&quot;width&quot;:600,&quot;description&quot;:null,&quot;height&quot;:null}\" id=\"viz-81bad0a2-9aaa-49c3-aa7a-de37761b54ac\" data-initialized=\"false\" class=\"feed-item\"></div></div></div></div><script>window.lightning = window.lightning || {};\n",
       "window.lightning.host = \"http://public.lightning-viz.org/\" || 'http://127.0.0.1:3000/';\n",
       "window.lightning.vizCount = (window.lightning.vizCount + 1) || 1;\n",
       "window.lightning.requiredVizTypes = window.lightning.requiredVizTypes || [];\n",
       "if(window.lightning.requiredVizTypes.indexOf(\"matrix\") === -1) {\n",
       "    window.lightning.requiredVizTypes.push(\"matrix\");\n",
       "}\n",
       "window._require = window.require;\n",
       "window.require = undefined;\n",
       "window._define = window.define;\n",
       "window.define = undefined;</script><script src=\"http://public.lightning-viz.org/js/embed.js\"></script>"
      ],
      "text/plain": [
       "<lightning.types.plots.Matrix at 0x106e268d0>"
      ]
     },
     "execution_count": 7,
     "metadata": {},
     "output_type": "execute_result"
    }
   ],
   "source": [
    "mat = random.rand(10,10)\n",
    "lgn.matrix(mat, colormap='Spectral')"
   ]
  },
  {
   "cell_type": "markdown",
   "metadata": {},
   "source": [
    "## <hr> Labels"
   ]
  },
  {
   "cell_type": "markdown",
   "metadata": {},
   "source": [
    "You can label the rows and columns of a matrix. Clicking on the text labels will highlight those rows and columns -- try it!"
   ]
  },
  {
   "cell_type": "code",
   "execution_count": 8,
   "metadata": {
    "collapsed": false
   },
   "outputs": [
    {
     "data": {
      "text/html": [
       "<meta name=\"viewport\" content=\"width=device-width, initial-scale=1, maximum-scale=1\"/><meta http-equiv=\"X-UA-Compatible\" content=\"IE=10; IE=9; IE=8; IE=7; IE=EDGE\"/><meta charset=\"UTF-8\"/><link href=\"//fonts.googleapis.com/css?family=Open+Sans:400,700\" rel=\"stylesheet\" type=\"text/css\"/><link rel=\"stylesheet\" href=\"http://public.lightning-viz.org/css/app.css\"/><link rel=\"stylesheet\" href=\"http://public.lightning-viz.org/css/dynamic/viz/?visualizations[]=matrix\"/><div id=\"lightning-body\" class=\"container content wrap push\"><div class=\"feed-container\"><div data-model=\"visualization\" data-model-id=\"6a8c8f15-126b-46f2-bdf5-61a49098ade7\" class=\"feed-item-container\"><div data-type=\"lightning-matrix\" data-data=\"{&quot;rowLabels&quot;:[&quot;row 0&quot;,&quot;row 1&quot;,&quot;row 2&quot;,&quot;row 3&quot;,&quot;row 4&quot;,&quot;row 5&quot;,&quot;row 6&quot;,&quot;row 7&quot;],&quot;matrix&quot;:[[0,1,2,3,4,5,6,7,8,9,10,11,12,13,14,15],[16,17,18,19,20,21,22,23,24,25,26,27,28,29,30,31],[32,33,34,35,36,37,38,39,40,41,42,43,44,45,46,47],[48,49,50,51,52,53,54,55,56,57,58,59,60,61,62,63],[64,65,66,67,68,69,70,71,72,73,74,75,76,77,78,79],[80,81,82,83,84,85,86,87,88,89,90,91,92,93,94,95],[96,97,98,99,100,101,102,103,104,105,106,107,108,109,110,111],[112,113,114,115,116,117,118,119,120,121,122,123,124,125,126,127]],&quot;columnLabels&quot;:[&quot;col 0&quot;,&quot;col 1&quot;,&quot;col 2&quot;,&quot;col 3&quot;,&quot;col 4&quot;,&quot;col 5&quot;,&quot;col 6&quot;,&quot;col 7&quot;,&quot;col 8&quot;,&quot;col 9&quot;,&quot;col 10&quot;,&quot;col 11&quot;,&quot;col 12&quot;,&quot;col 13&quot;,&quot;col 14&quot;,&quot;col 15&quot;]}\" data-images=\"null\" data-options=\"{&quot;numbers&quot;:false,&quot;width&quot;:600,&quot;description&quot;:null,&quot;height&quot;:null}\" id=\"viz-6a8c8f15-126b-46f2-bdf5-61a49098ade7\" data-initialized=\"false\" class=\"feed-item\"></div></div></div></div><script>window.lightning = window.lightning || {};\n",
       "window.lightning.host = \"http://public.lightning-viz.org/\" || 'http://127.0.0.1:3000/';\n",
       "window.lightning.vizCount = (window.lightning.vizCount + 1) || 1;\n",
       "window.lightning.requiredVizTypes = window.lightning.requiredVizTypes || [];\n",
       "if(window.lightning.requiredVizTypes.indexOf(\"matrix\") === -1) {\n",
       "    window.lightning.requiredVizTypes.push(\"matrix\");\n",
       "}\n",
       "window._require = window.require;\n",
       "window.require = undefined;\n",
       "window._define = window.define;\n",
       "window.define = undefined;</script><script src=\"http://public.lightning-viz.org/js/embed.js\"></script>"
      ],
      "text/plain": [
       "<lightning.types.plots.Matrix at 0x103fa7dd0>"
      ]
     },
     "execution_count": 8,
     "metadata": {},
     "output_type": "execute_result"
    }
   ],
   "source": [
    "n, m = (8, 16)\n",
    "mat = arange(n*m).reshape(n,m)\n",
    "rows = ['row ' + str(i) for i in range(n)]\n",
    "columns = ['col ' + str(i) for i in range(m)]\n",
    "\n",
    "lgn.matrix(mat, row_labels=rows, column_labels=columns)"
   ]
  },
  {
   "cell_type": "markdown",
   "metadata": {},
   "source": [
    "You can also turn on labeling of cells by their value."
   ]
  },
  {
   "cell_type": "code",
   "execution_count": 9,
   "metadata": {
    "collapsed": false
   },
   "outputs": [
    {
     "data": {
      "text/html": [
       "<meta name=\"viewport\" content=\"width=device-width, initial-scale=1, maximum-scale=1\"/><meta http-equiv=\"X-UA-Compatible\" content=\"IE=10; IE=9; IE=8; IE=7; IE=EDGE\"/><meta charset=\"UTF-8\"/><link href=\"//fonts.googleapis.com/css?family=Open+Sans:400,700\" rel=\"stylesheet\" type=\"text/css\"/><link rel=\"stylesheet\" href=\"http://public.lightning-viz.org/css/app.css\"/><link rel=\"stylesheet\" href=\"http://public.lightning-viz.org/css/dynamic/viz/?visualizations[]=matrix\"/><div id=\"lightning-body\" class=\"container content wrap push\"><div class=\"feed-container\"><div data-model=\"visualization\" data-model-id=\"b02e6d32-642a-435b-9afd-7190d321d063\" class=\"feed-item-container\"><div data-type=\"lightning-matrix\" data-data=\"{&quot;matrix&quot;:[[0,1,2,3,4,5,6,7,8,9,10,11,12,13,14,15],[16,17,18,19,20,21,22,23,24,25,26,27,28,29,30,31],[32,33,34,35,36,37,38,39,40,41,42,43,44,45,46,47],[48,49,50,51,52,53,54,55,56,57,58,59,60,61,62,63],[64,65,66,67,68,69,70,71,72,73,74,75,76,77,78,79],[80,81,82,83,84,85,86,87,88,89,90,91,92,93,94,95],[96,97,98,99,100,101,102,103,104,105,106,107,108,109,110,111],[112,113,114,115,116,117,118,119,120,121,122,123,124,125,126,127]]}\" data-images=\"null\" data-options=\"{&quot;numbers&quot;:true,&quot;width&quot;:600,&quot;description&quot;:null,&quot;height&quot;:null}\" id=\"viz-b02e6d32-642a-435b-9afd-7190d321d063\" data-initialized=\"false\" class=\"feed-item\"></div></div></div></div><script>window.lightning = window.lightning || {};\n",
       "window.lightning.host = \"http://public.lightning-viz.org/\" || 'http://127.0.0.1:3000/';\n",
       "window.lightning.vizCount = (window.lightning.vizCount + 1) || 1;\n",
       "window.lightning.requiredVizTypes = window.lightning.requiredVizTypes || [];\n",
       "if(window.lightning.requiredVizTypes.indexOf(\"matrix\") === -1) {\n",
       "    window.lightning.requiredVizTypes.push(\"matrix\");\n",
       "}\n",
       "window._require = window.require;\n",
       "window.require = undefined;\n",
       "window._define = window.define;\n",
       "window.define = undefined;</script><script src=\"http://public.lightning-viz.org/js/embed.js\"></script>"
      ],
      "text/plain": [
       "<lightning.types.plots.Matrix at 0x1093010d0>"
      ]
     },
     "execution_count": 9,
     "metadata": {},
     "output_type": "execute_result"
    }
   ],
   "source": [
    "mat = arange(n*m).reshape(n,m)\n",
    "\n",
    "lgn.matrix(mat, numbers=True)"
   ]
  },
  {
   "cell_type": "markdown",
   "metadata": {},
   "source": [
    "## <hr> Correlation matrix"
   ]
  },
  {
   "cell_type": "markdown",
   "metadata": {},
   "source": [
    "Matrices are also commonly used to look at correlation structure."
   ]
  },
  {
   "cell_type": "code",
   "execution_count": 10,
   "metadata": {
    "collapsed": false
   },
   "outputs": [
    {
     "data": {
      "text/html": [
       "<meta name=\"viewport\" content=\"width=device-width, initial-scale=1, maximum-scale=1\"/><meta http-equiv=\"X-UA-Compatible\" content=\"IE=10; IE=9; IE=8; IE=7; IE=EDGE\"/><meta charset=\"UTF-8\"/><link href=\"//fonts.googleapis.com/css?family=Open+Sans:400,700\" rel=\"stylesheet\" type=\"text/css\"/><link rel=\"stylesheet\" href=\"http://public.lightning-viz.org/css/app.css\"/><link rel=\"stylesheet\" href=\"http://public.lightning-viz.org/css/dynamic/viz/?visualizations[]=matrix\"/><div id=\"lightning-body\" class=\"container content wrap push\"><div class=\"feed-container\"><div data-model=\"visualization\" data-model-id=\"2f97e897-6f51-415b-aa8f-6261d0f0c570\" class=\"feed-item-container\"><div data-type=\"lightning-matrix\" data-data=\"{&quot;matrix&quot;:[[1,0.8911374886000638,0.9395667627150204,0.9365373053715086,0.9614937007333237,-0.6018965880312768,-0.33412139526528645,-0.6311238166443456,-0.7956311300917691,-0.6760206526232279,-0.1777648567136497,0.14598020075019552,0.3012738916710026,-0.03749432986292772,-0.06399641472322376,0.5956199380014803,0.705066511686884,0.6150785383928641,0.7545425722741411,0.3385080366266903,-0.1721033496565615,-0.07922040213935315,-0.1524946442387643,-0.1983906387289173,-0.26445735978964663],[0.8911374886000638,1,0.9185279533524046,0.7173411622017094,0.9591597871294834,-0.36398298515681843,-0.000539942396197963,-0.3467309953909836,-0.6922962154643372,-0.35449360714813155,-0.2437372882863036,0.16066649711039363,0.30909957214444306,0.06085801289457402,0.0386577704732849,0.5960957299229076,0.7129655594580021,0.7188622986471209,0.7467153684804522,0.5671655277052251,0.2783693275740587,0.32588557040663135,0.25128905790868766,0.2338022505074944,0.19134958586150666],[0.9395667627150204,0.9185279533524046,1,0.7664428896088146,0.951570704186376,-0.3165256927112546,-0.044173347429823075,-0.34940609488507274,-0.6071451512135101,-0.40633372196418216,-0.33871803734082934,0.09313260549471324,0.2188403629365812,-0.18857289982756292,-0.12068394094701584,0.3548439100959534,0.5051857968919262,0.4495208718066088,0.5667021888567872,0.21109532430252173,-0.0019279981578793628,0.14048332917260978,-0.00867421139649993,-0.04294601431943266,-0.0863805779926218],[0.9365373053715086,0.7173411622017094,0.7664428896088146,1,0.8274898068699282,-0.7865244956931245,-0.5787013961612105,-0.8232991112776689,-0.8385246457737175,-0.8662870043909371,-0.055450711030717977,0.11010328185493988,0.2721858018107675,0.021453752828632117,-0.08737808399761972,0.7017542159152139,0.7514551466816503,0.623799797654937,0.7864672175075138,0.3258890614648545,-0.38473772577516874,-0.3220472159046066,-0.32162137053896894,-0.3844590849695214,-0.4742135304074229],[0.9614937007333237,0.9591597871294834,0.951570704186376,0.8274898068699282,1,-0.5274938999623109,-0.22634831539355993,-0.5290933994327542,-0.8054230404708057,-0.5468047348142422,-0.09564567872383199,0.3002288605082686,0.44311907193524636,0.1059142094330985,0.11867884236336676,0.5865501102852235,0.7339046414244612,0.6851423840667082,0.7840360523043106,0.4579487891535166,0.009116842922175765,0.05880921530449186,-0.032372591236383925,-0.04577346786072088,-0.07501053256878591],[-0.6018965880312768,-0.36398298515681843,-0.3165256927112546,-0.7865244956931245,-0.5274938999623109,1,0.9163592068272228,0.9910106080884924,0.9072506985368191,0.9612023919652435,-0.5355565234705228,-0.5007641652021821,-0.6175619401549524,-0.5433387457874503,-0.3922084188983888,-0.7991378498438301,-0.8255793972814555,-0.7004104591126432,-0.8360853728592669,-0.47378061455761056,0.5257927046933103,0.6476785924331903,0.5404873373713057,0.5461268160471626,0.5721788745848753],[-0.33412139526528645,-0.000539942396197963,-0.044173347429823075,-0.5787013961612105,-0.22634831539355993,0.9163592068272228,1,0.9286940487218314,0.6996855158949213,0.9077501643274332,-0.6744395596057069,-0.5229222004166163,-0.5779032153654233,-0.5065037618464301,-0.4116204590331599,-0.5245363455180525,-0.5422785538040471,-0.38430455367914174,-0.5561158259811956,-0.16438391735979743,0.7707010508208035,0.891666551877401,0.7908453462460627,0.785937299333844,0.7837316203435045],[-0.6311238166443456,-0.3467309953909836,-0.34940609488507274,-0.8232991112776689,-0.5290933994327542,0.9910106080884924,0.9286940487218314,1,0.8807223804628744,0.989057690371705,-0.4735053931764855,-0.43972694191482126,-0.5552702536851587,-0.4389606084869599,-0.30257947748155484,-0.7411342349395525,-0.7687625073248261,-0.6228559474433342,-0.7861906825802087,-0.3660262711595751,0.6129436617615368,0.698094762824186,0.608673905624857,0.6263049487773595,0.6618814179116937],[-0.7956311300917691,-0.6922962154643372,-0.6071451512135101,-0.8385246457737175,-0.8054230404708057,0.9072506985368191,0.6996855158949213,0.8807223804628744,1,0.8454779266789397,-0.4143395084408626,-0.5833813353197396,-0.7206502103835213,-0.5486173269035243,-0.4566010772313778,-0.8372706689641357,-0.9336214308974718,-0.8513966340839979,-0.9589522114168949,-0.6311226138599001,0.2547877222674652,0.3589041080555182,0.3191655459221959,0.3082575620765042,0.31756039787507656],[-0.6760206526232279,-0.35449360714813155,-0.40633372196418216,-0.8662870043909371,-0.5468047348142422,0.9612023919652435,0.9077501643274332,0.989057690371705,0.8454779266789397,1,-0.3693632036669646,-0.3486809780030702,-0.4664180410228401,-0.30490660479643333,-0.18235510656388462,-0.6820166536774845,-0.710001439331986,-0.5472064448577901,-0.7344678881699177,-0.2614153232892751,0.672241581335135,0.7112531110442653,0.6438569219563371,0.6768798956208341,0.7265455798766131],[-0.1777648567136497,-0.2437372882863036,-0.33871803734082934,-0.055450711030717977,-0.09564567872383199,-0.5355565234705228,-0.6744395596057069,-0.4735053931764855,-0.4143395084408626,-0.3693632036669646,1,0.8676297870085494,0.8249367241410266,0.8890326560726272,0.9020173342357687,0.25442364603188894,0.31937611355695045,0.2830876818828271,0.3162747577664665,0.28121034697543795,-0.3436602910438083,-0.6121292342544923,-0.520484122092473,-0.41730772162088486,-0.2959637385295979],[0.14598020075019552,0.16066649711039363,0.09313260549471324,0.11010328185493988,0.3002288605082686,-0.5007641652021821,-0.5229222004166163,-0.43972694191482126,-0.5833813353197396,-0.3486809780030702,0.8676297870085494,1,0.9824991199632703,0.8381877341418769,0.9558013107929265,0.264230268392487,0.4373478040145143,0.4117810508384052,0.46767141909171267,0.35272640439655345,-0.1982850971980542,-0.41320244354043123,-0.4316507913912707,-0.3149680868267463,-0.1737240037721011],[0.3012738916710026,0.30909957214444306,0.2188403629365812,0.2721858018107675,0.44311907193524636,-0.6175619401549524,-0.5779032153654233,-0.5552702536851587,-0.7206502103835213,-0.4664180410228401,0.8249367241410266,0.9824991199632703,1,0.8477774596141269,0.9239871130847127,0.42437738662988433,0.5930257856121923,0.5608842446853252,0.622817631414009,0.47069366676129243,-0.18592923901059957,-0.3968184279975057,-0.4018563109855589,-0.29839940216496597,-0.179677111900745],[-0.03749432986292772,0.06085801289457402,-0.18857289982756292,0.021453752828632117,0.1059142094330985,-0.5433387457874503,-0.5065037618464301,-0.4389606084869599,-0.5486173269035243,-0.30490660479643333,0.8890326560726272,0.8381877341418769,0.8477774596141269,1,0.9320185457722705,0.5352965185077935,0.5864539666431036,0.6191706017685629,0.5650680253121458,0.6761502809317231,0.04434754738348036,-0.26335202154112874,-0.13607833638965838,-0.032871126295317285,0.06746885960423264],[-0.06399641472322376,0.0386577704732849,-0.12068394094701584,-0.08737808399761972,0.11867884236336676,-0.3922084188983888,-0.4116204590331599,-0.30257947748155484,-0.4566010772313778,-0.18235510656388462,0.9020173342357687,0.9558013107929265,0.9239871130847127,0.9320185457722705,1,0.2732900952231731,0.3999377446565908,0.4245713422401229,0.40509904080252707,0.46383402433553356,-0.00704854765350475,-0.27718169873433074,-0.24208544780580818,-0.11468326046403193,0.031078408722144457],[0.5956199380014803,0.5960957299229076,0.3548439100959534,0.7017542159152139,0.5865501102852235,-0.7991378498438301,-0.5245363455180525,-0.7411342349395525,-0.8372706689641357,-0.6820166536774845,0.25442364603188894,0.264230268392487,0.42437738662988433,0.5352965185077935,0.2732900952231731,1,0.9663758211206104,0.9533889981754355,0.9414436812085575,0.8612299981689201,0.05908275295902344,-0.08672873048899234,0.07323834061096943,0.056387905427007924,-0.008052086208404873],[0.705066511686884,0.7129655594580021,0.5051857968919262,0.7514551466816503,0.7339046414244612,-0.8255793972814555,-0.5422785538040471,-0.7687625073248261,-0.9336214308974718,-0.710001439331986,0.31937611355695045,0.4373478040145143,0.5930257856121923,0.5864539666431036,0.3999377446565908,0.9663758211206104,1,0.9773642129564245,0.9956325274135724,0.8480233330924982,0.028779026231891425,-0.1120802283905664,-0.007851406443701883,-0.004659366972035411,-0.038953926215366544],[0.6150785383928641,0.7188622986471209,0.4495208718066088,0.623799797654937,0.6851423840667082,-0.7004104591126432,-0.38430455367914174,-0.6228559474433342,-0.8513966340839979,-0.5472064448577901,0.2830876818828271,0.4117810508384052,0.5608842446853252,0.6191706017685629,0.4245713422401229,0.9533889981754355,0.9773642129564245,1,0.9619438325297063,0.9374476581004281,0.23288154285212176,0.07021343433423603,0.1834607394711182,0.19694914440949857,0.16997079630482212],[0.7545425722741411,0.7467153684804522,0.5667021888567872,0.7864672175075138,0.7840360523043106,-0.8360853728592669,-0.5561158259811956,-0.7861906825802087,-0.9589522114168949,-0.7344678881699177,0.3162747577664665,0.46767141909171267,0.622817631414009,0.5650680253121458,0.40509904080252707,0.9414436812085575,0.9956325274135724,0.9619438325297063,1,0.8088573529999418,-0.013502549443542103,-0.1395579366934368,-0.057946620290388745,-0.05353604738459746,-0.08298067135781918],[0.3385080366266903,0.5671655277052251,0.21109532430252173,0.3258890614648545,0.4579487891535166,-0.47378061455761056,-0.16438391735979743,-0.3660262711595751,-0.6311226138599001,-0.2614153232892751,0.28121034697543795,0.35272640439655345,0.47069366676129243,0.6761502809317231,0.46383402433553356,0.8612299981689201,0.8480233330924982,0.9374476581004281,0.8088573529999418,1,0.4924797198585723,0.28315381914907356,0.42938243951051436,0.46088973313470466,0.4502384168761189],[-0.1721033496565615,0.2783693275740587,-0.0019279981578793628,-0.38473772577516874,0.009116842922175765,0.5257927046933103,0.7707010508208035,0.6129436617615368,0.2547877222674652,0.672241581335135,-0.3436602910438083,-0.1982850971980542,-0.18592923901059957,0.04434754738348036,-0.00704854765350475,0.05908275295902344,0.028779026231891425,0.23288154285212176,-0.013502549443542103,0.4924797198585723,1,0.9478113388759182,0.9652838428674035,0.9911447428728182,0.9946597475760646],[-0.07922040213935315,0.32588557040663135,0.14048332917260978,-0.3220472159046066,0.05880921530449186,0.6476785924331903,0.891666551877401,0.698094762824186,0.3589041080555182,0.7112531110442653,-0.6121292342544923,-0.41320244354043123,-0.3968184279975057,-0.26335202154112874,-0.27718169873433074,-0.08672873048899234,-0.1120802283905664,0.07021343433423603,-0.1395579366934368,0.28315381914907356,0.9478113388759182,1,0.9608898769206113,0.9554700901208274,0.9302223039780635],[-0.1524946442387643,0.25128905790868766,-0.00867421139649993,-0.32162137053896894,-0.032372591236383925,0.5404873373713057,0.7908453462460627,0.608673905624857,0.3191655459221959,0.6438569219563371,-0.520484122092473,-0.4316507913912707,-0.4018563109855589,-0.13607833638965838,-0.24208544780580818,0.07323834061096943,-0.007851406443701883,0.1834607394711182,-0.057946620290388745,0.42938243951051436,0.9652838428674035,0.9608898769206113,1,0.9899769985529296,0.9483928652468441],[-0.1983906387289173,0.2338022505074944,-0.04294601431943266,-0.3844590849695214,-0.04577346786072088,0.5461268160471626,0.785937299333844,0.6263049487773595,0.3082575620765042,0.6768798956208341,-0.41730772162088486,-0.3149680868267463,-0.29839940216496597,-0.032871126295317285,-0.11468326046403193,0.056387905427007924,-0.004659366972035411,0.19694914440949857,-0.05353604738459746,0.46088973313470466,0.9911447428728182,0.9554700901208274,0.9899769985529296,1,0.9832346727078731],[-0.26445735978964663,0.19134958586150666,-0.0863805779926218,-0.4742135304074229,-0.07501053256878591,0.5721788745848753,0.7837316203435045,0.6618814179116937,0.31756039787507656,0.7265455798766131,-0.2959637385295979,-0.1737240037721011,-0.179677111900745,0.06746885960423264,0.031078408722144457,-0.008052086208404873,-0.038953926215366544,0.16997079630482212,-0.08298067135781918,0.4502384168761189,0.9946597475760646,0.9302223039780635,0.9483928652468441,0.9832346727078731,1]]}\" data-images=\"null\" data-options=\"{&quot;numbers&quot;:false,&quot;width&quot;:600,&quot;description&quot;:null,&quot;height&quot;:null}\" id=\"viz-2f97e897-6f51-415b-aa8f-6261d0f0c570\" data-initialized=\"false\" class=\"feed-item\"></div></div></div></div><script>window.lightning = window.lightning || {};\n",
       "window.lightning.host = \"http://public.lightning-viz.org/\" || 'http://127.0.0.1:3000/';\n",
       "window.lightning.vizCount = (window.lightning.vizCount + 1) || 1;\n",
       "window.lightning.requiredVizTypes = window.lightning.requiredVizTypes || [];\n",
       "if(window.lightning.requiredVizTypes.indexOf(\"matrix\") === -1) {\n",
       "    window.lightning.requiredVizTypes.push(\"matrix\");\n",
       "}\n",
       "window._require = window.require;\n",
       "window.require = undefined;\n",
       "window._define = window.define;\n",
       "window.define = undefined;</script><script src=\"http://public.lightning-viz.org/js/embed.js\"></script>"
      ],
      "text/plain": [
       "<lightning.types.plots.Matrix at 0x109301e10>"
      ]
     },
     "execution_count": 10,
     "metadata": {},
     "output_type": "execute_result"
    }
   ],
   "source": [
    "d, l = datasets.make_blobs(n_features=5, n_samples=25, centers=5, cluster_std=2.0, random_state=100)\n",
    "d = d[argsort(l)]\n",
    "c = corrcoef(d)\n",
    "lgn.matrix(c)"
   ]
  },
  {
   "cell_type": "markdown",
   "metadata": {},
   "source": [
    "## <hr> Adjacency"
   ]
  },
  {
   "cell_type": "markdown",
   "metadata": {},
   "source": [
    "Closely realted to correlation matrices are adjacency matrices, in which the rows (and columns) represent nodes and the values indicate connections.\n",
    "<br>\n",
    "Lightning offers a separate `adjacency` visualization type. Here is one for a random graph with community structure."
   ]
  },
  {
   "cell_type": "code",
   "execution_count": 11,
   "metadata": {
    "collapsed": false
   },
   "outputs": [
    {
     "data": {
      "text/html": [
       "<meta name=\"viewport\" content=\"width=device-width, initial-scale=1, maximum-scale=1\"/><meta http-equiv=\"X-UA-Compatible\" content=\"IE=10; IE=9; IE=8; IE=7; IE=EDGE\"/><meta charset=\"UTF-8\"/><link href=\"//fonts.googleapis.com/css?family=Open+Sans:400,700\" rel=\"stylesheet\" type=\"text/css\"/><link rel=\"stylesheet\" href=\"http://public.lightning-viz.org/css/app.css\"/><link rel=\"stylesheet\" href=\"http://public.lightning-viz.org/css/dynamic/viz/?visualizations[]=adjacency\"/><div id=\"lightning-body\" class=\"container content wrap push\"><div class=\"feed-container\"><div data-model=\"visualization\" data-model-id=\"5b3a9034-8256-4c0e-bdbc-70a3d1357881\" class=\"feed-item-container\"><div data-type=\"lightning-adjacency\" data-data=\"{&quot;nodes&quot;:[0,1,2,3,4,5,6,7,8,9,10,11,12,13,14,15,16,17,18,19,20,21,22,23,24,25,26,27,28,29,30,31,32,33,34,35,36,37,38,39,40,41,42,43,44,45,46,47,48,49],&quot;links&quot;:[[0,3,1],[0,4,1],[0,6,1],[0,9,1],[0,10,1],[0,14,1],[0,15,1],[0,16,1],[0,17,1],[0,44,1],[0,48,1],[1,5,1],[1,11,1],[1,12,1],[1,13,1],[1,15,1],[1,17,1],[1,18,1],[1,19,1],[2,6,1],[2,9,1],[2,11,1],[2,17,1],[2,18,1],[3,0,1],[3,5,1],[3,7,1],[3,10,1],[3,11,1],[3,17,1],[3,19,1],[4,0,1],[4,10,1],[4,11,1],[4,12,1],[4,13,1],[4,14,1],[4,15,1],[4,16,1],[4,17,1],[4,19,1],[5,1,1],[5,3,1],[5,6,1],[5,7,1],[5,10,1],[5,11,1],[5,17,1],[6,0,1],[6,2,1],[6,5,1],[6,10,1],[6,12,1],[6,14,1],[6,16,1],[6,17,1],[6,18,1],[6,19,1],[7,3,1],[7,5,1],[7,13,1],[7,14,1],[7,15,1],[7,16,1],[7,38,1],[8,9,1],[8,18,1],[8,43,1],[9,0,1],[9,2,1],[9,8,1],[9,11,1],[9,13,1],[9,18,1],[9,19,1],[10,0,1],[10,3,1],[10,4,1],[10,5,1],[10,6,1],[10,11,1],[10,15,1],[10,16,1],[10,19,1],[10,43,1],[11,1,1],[11,2,1],[11,3,1],[11,4,1],[11,5,1],[11,9,1],[11,10,1],[11,15,1],[11,16,1],[11,18,1],[11,19,1],[12,1,1],[12,4,1],[12,6,1],[12,13,1],[12,14,1],[12,15,1],[13,1,1],[13,4,1],[13,7,1],[13,9,1],[13,12,1],[13,16,1],[14,0,1],[14,4,1],[14,6,1],[14,7,1],[14,12,1],[14,18,1],[14,19,1],[15,0,1],[15,1,1],[15,4,1],[15,7,1],[15,10,1],[15,11,1],[15,12,1],[15,17,1],[15,18,1],[15,33,1],[15,48,1],[16,0,1],[16,4,1],[16,6,1],[16,7,1],[16,10,1],[16,11,1],[16,13,1],[16,19,1],[17,0,1],[17,1,1],[17,2,1],[17,3,1],[17,4,1],[17,5,1],[17,6,1],[17,15,1],[17,18,1],[17,19,1],[18,1,1],[18,2,1],[18,6,1],[18,8,1],[18,9,1],[18,11,1],[18,14,1],[18,15,1],[18,17,1],[18,19,1],[19,1,1],[19,3,1],[19,4,1],[19,6,1],[19,9,1],[19,10,1],[19,11,1],[19,14,1],[19,16,1],[19,17,1],[19,18,1],[20,21,1],[20,22,1],[20,25,1],[20,26,1],[20,28,1],[21,20,1],[21,24,1],[21,26,1],[21,28,1],[21,29,1],[22,20,1],[22,23,1],[22,24,1],[22,26,1],[23,22,1],[23,24,1],[23,25,1],[23,28,1],[24,21,1],[24,22,1],[24,23,1],[24,25,1],[24,26,1],[25,20,1],[25,23,1],[25,24,1],[25,28,1],[26,20,1],[26,21,1],[26,22,1],[26,24,1],[27,29,1],[28,20,1],[28,21,1],[28,23,1],[28,25,1],[29,21,1],[29,27,1],[30,32,1],[30,33,1],[30,34,1],[30,36,1],[30,38,1],[30,39,1],[31,32,1],[31,34,1],[31,37,1],[32,30,1],[32,31,1],[32,33,1],[32,34,1],[32,35,1],[32,37,1],[33,15,1],[33,30,1],[33,32,1],[33,34,1],[33,36,1],[33,38,1],[33,39,1],[34,30,1],[34,31,1],[34,32,1],[34,33,1],[34,35,1],[35,32,1],[35,34,1],[35,36,1],[35,37,1],[36,30,1],[36,33,1],[36,35,1],[36,37,1],[36,38,1],[36,39,1],[37,31,1],[37,32,1],[37,35,1],[37,36,1],[37,38,1],[37,39,1],[38,7,1],[38,30,1],[38,33,1],[38,36,1],[38,37,1],[38,39,1],[39,30,1],[39,33,1],[39,36,1],[39,37,1],[39,38,1],[40,42,1],[40,43,1],[40,44,1],[41,43,1],[42,40,1],[42,44,1],[43,8,1],[43,10,1],[43,40,1],[43,41,1],[44,0,1],[44,40,1],[44,42,1],[45,46,1],[45,49,1],[46,45,1],[46,47,1],[46,48,1],[47,46,1],[48,0,1],[48,15,1],[48,46,1],[48,49,1],[49,45,1],[49,48,1]]}\" data-images=\"null\" data-options=\"{&quot;sort&quot;:&quot;group&quot;,&quot;description&quot;:null,&quot;height&quot;:null,&quot;symmetric&quot;:true,&quot;width&quot;:600,&quot;numbers&quot;:false}\" id=\"viz-5b3a9034-8256-4c0e-bdbc-70a3d1357881\" data-initialized=\"false\" class=\"feed-item\"></div></div></div></div><script>window.lightning = window.lightning || {};\n",
       "window.lightning.host = \"http://public.lightning-viz.org/\" || 'http://127.0.0.1:3000/';\n",
       "window.lightning.vizCount = (window.lightning.vizCount + 1) || 1;\n",
       "window.lightning.requiredVizTypes = window.lightning.requiredVizTypes || [];\n",
       "if(window.lightning.requiredVizTypes.indexOf(\"adjacency\") === -1) {\n",
       "    window.lightning.requiredVizTypes.push(\"adjacency\");\n",
       "}\n",
       "window._require = window.require;\n",
       "window.require = undefined;\n",
       "window._define = window.define;\n",
       "window.define = undefined;</script><script src=\"http://public.lightning-viz.org/js/embed.js\"></script>"
      ],
      "text/plain": [
       "<lightning.types.plots.Adjacency at 0x109301c10>"
      ]
     },
     "execution_count": 11,
     "metadata": {},
     "output_type": "execute_result"
    }
   ],
   "source": [
    "s = [20, 10, 10, 5, 5]\n",
    "n = sum(s)\n",
    "G = nx.random_partition_graph(s, 0.5, 0.01)\n",
    "mat = nx.adjacency_matrix(G).todense()\n",
    "lgn.adjacency(mat)"
   ]
  },
  {
   "cell_type": "markdown",
   "metadata": {},
   "source": [
    "If we assign each graph partition a label, we can color and sort nodes by their group."
   ]
  },
  {
   "cell_type": "code",
   "execution_count": 12,
   "metadata": {
    "collapsed": false
   },
   "outputs": [
    {
     "data": {
      "text/html": [
       "<meta name=\"viewport\" content=\"width=device-width, initial-scale=1, maximum-scale=1\"/><meta http-equiv=\"X-UA-Compatible\" content=\"IE=10; IE=9; IE=8; IE=7; IE=EDGE\"/><meta charset=\"UTF-8\"/><link href=\"//fonts.googleapis.com/css?family=Open+Sans:400,700\" rel=\"stylesheet\" type=\"text/css\"/><link rel=\"stylesheet\" href=\"http://public.lightning-viz.org/css/app.css\"/><link rel=\"stylesheet\" href=\"http://public.lightning-viz.org/css/dynamic/viz/?visualizations[]=adjacency\"/><div id=\"lightning-body\" class=\"container content wrap push\"><div class=\"feed-container\"><div data-model=\"visualization\" data-model-id=\"2eb4e0d8-3b87-486a-a204-5f7aa06e76d0\" class=\"feed-item-container\"><div data-type=\"lightning-adjacency\" data-data=\"{&quot;nodes&quot;:[0,1,2,3,4,5,6,7,8,9,10,11,12,13,14,15,16,17,18,19,20,21,22,23,24,25,26,27,28,29,30,31,32,33,34,35,36,37,38,39,40,41,42,43,44,45,46,47,48,49],&quot;group&quot;:[0,0,0,0,0,0,0,0,0,0,0,0,0,0,0,0,0,0,0,0,1,1,1,1,1,1,1,1,1,1,2,2,2,2,2,2,2,2,2,2,3,3,3,3,3,4,4,4,4,4],&quot;links&quot;:[[0,3,1],[0,4,1],[0,6,1],[0,9,1],[0,10,1],[0,14,1],[0,15,1],[0,16,1],[0,17,1],[0,44,1],[0,48,1],[1,5,1],[1,11,1],[1,12,1],[1,13,1],[1,15,1],[1,17,1],[1,18,1],[1,19,1],[2,6,1],[2,9,1],[2,11,1],[2,17,1],[2,18,1],[3,0,1],[3,5,1],[3,7,1],[3,10,1],[3,11,1],[3,17,1],[3,19,1],[4,0,1],[4,10,1],[4,11,1],[4,12,1],[4,13,1],[4,14,1],[4,15,1],[4,16,1],[4,17,1],[4,19,1],[5,1,1],[5,3,1],[5,6,1],[5,7,1],[5,10,1],[5,11,1],[5,17,1],[6,0,1],[6,2,1],[6,5,1],[6,10,1],[6,12,1],[6,14,1],[6,16,1],[6,17,1],[6,18,1],[6,19,1],[7,3,1],[7,5,1],[7,13,1],[7,14,1],[7,15,1],[7,16,1],[7,38,1],[8,9,1],[8,18,1],[8,43,1],[9,0,1],[9,2,1],[9,8,1],[9,11,1],[9,13,1],[9,18,1],[9,19,1],[10,0,1],[10,3,1],[10,4,1],[10,5,1],[10,6,1],[10,11,1],[10,15,1],[10,16,1],[10,19,1],[10,43,1],[11,1,1],[11,2,1],[11,3,1],[11,4,1],[11,5,1],[11,9,1],[11,10,1],[11,15,1],[11,16,1],[11,18,1],[11,19,1],[12,1,1],[12,4,1],[12,6,1],[12,13,1],[12,14,1],[12,15,1],[13,1,1],[13,4,1],[13,7,1],[13,9,1],[13,12,1],[13,16,1],[14,0,1],[14,4,1],[14,6,1],[14,7,1],[14,12,1],[14,18,1],[14,19,1],[15,0,1],[15,1,1],[15,4,1],[15,7,1],[15,10,1],[15,11,1],[15,12,1],[15,17,1],[15,18,1],[15,33,1],[15,48,1],[16,0,1],[16,4,1],[16,6,1],[16,7,1],[16,10,1],[16,11,1],[16,13,1],[16,19,1],[17,0,1],[17,1,1],[17,2,1],[17,3,1],[17,4,1],[17,5,1],[17,6,1],[17,15,1],[17,18,1],[17,19,1],[18,1,1],[18,2,1],[18,6,1],[18,8,1],[18,9,1],[18,11,1],[18,14,1],[18,15,1],[18,17,1],[18,19,1],[19,1,1],[19,3,1],[19,4,1],[19,6,1],[19,9,1],[19,10,1],[19,11,1],[19,14,1],[19,16,1],[19,17,1],[19,18,1],[20,21,1],[20,22,1],[20,25,1],[20,26,1],[20,28,1],[21,20,1],[21,24,1],[21,26,1],[21,28,1],[21,29,1],[22,20,1],[22,23,1],[22,24,1],[22,26,1],[23,22,1],[23,24,1],[23,25,1],[23,28,1],[24,21,1],[24,22,1],[24,23,1],[24,25,1],[24,26,1],[25,20,1],[25,23,1],[25,24,1],[25,28,1],[26,20,1],[26,21,1],[26,22,1],[26,24,1],[27,29,1],[28,20,1],[28,21,1],[28,23,1],[28,25,1],[29,21,1],[29,27,1],[30,32,1],[30,33,1],[30,34,1],[30,36,1],[30,38,1],[30,39,1],[31,32,1],[31,34,1],[31,37,1],[32,30,1],[32,31,1],[32,33,1],[32,34,1],[32,35,1],[32,37,1],[33,15,1],[33,30,1],[33,32,1],[33,34,1],[33,36,1],[33,38,1],[33,39,1],[34,30,1],[34,31,1],[34,32,1],[34,33,1],[34,35,1],[35,32,1],[35,34,1],[35,36,1],[35,37,1],[36,30,1],[36,33,1],[36,35,1],[36,37,1],[36,38,1],[36,39,1],[37,31,1],[37,32,1],[37,35,1],[37,36,1],[37,38,1],[37,39,1],[38,7,1],[38,30,1],[38,33,1],[38,36,1],[38,37,1],[38,39,1],[39,30,1],[39,33,1],[39,36,1],[39,37,1],[39,38,1],[40,42,1],[40,43,1],[40,44,1],[41,43,1],[42,40,1],[42,44,1],[43,8,1],[43,10,1],[43,40,1],[43,41,1],[44,0,1],[44,40,1],[44,42,1],[45,46,1],[45,49,1],[46,45,1],[46,47,1],[46,48,1],[47,46,1],[48,0,1],[48,15,1],[48,46,1],[48,49,1],[49,45,1],[49,48,1]]}\" data-images=\"null\" data-options=\"{&quot;sort&quot;:&quot;group&quot;,&quot;description&quot;:null,&quot;height&quot;:null,&quot;symmetric&quot;:true,&quot;width&quot;:600,&quot;numbers&quot;:false}\" id=\"viz-2eb4e0d8-3b87-486a-a204-5f7aa06e76d0\" data-initialized=\"false\" class=\"feed-item\"></div></div></div></div><script>window.lightning = window.lightning || {};\n",
       "window.lightning.host = \"http://public.lightning-viz.org/\" || 'http://127.0.0.1:3000/';\n",
       "window.lightning.vizCount = (window.lightning.vizCount + 1) || 1;\n",
       "window.lightning.requiredVizTypes = window.lightning.requiredVizTypes || [];\n",
       "if(window.lightning.requiredVizTypes.indexOf(\"adjacency\") === -1) {\n",
       "    window.lightning.requiredVizTypes.push(\"adjacency\");\n",
       "}\n",
       "window._require = window.require;\n",
       "window.require = undefined;\n",
       "window._define = window.define;\n",
       "window.define = undefined;</script><script src=\"http://public.lightning-viz.org/js/embed.js\"></script>"
      ],
      "text/plain": [
       "<lightning.types.plots.Adjacency at 0x1093015d0>"
      ]
     },
     "execution_count": 12,
     "metadata": {},
     "output_type": "execute_result"
    }
   ],
   "source": [
    "def group(G, n):\n",
    "    for i, p in enumerate(G.graph['partition']):\n",
    "        if n in p:\n",
    "            return i\n",
    "g = [group(G, x) for x in range(0,50)]\n",
    "lgn.adjacency(mat, group=g)"
   ]
  },
  {
   "cell_type": "markdown",
   "metadata": {},
   "source": [
    "We can alternatively sort by the number of degrees to each node, which here is related to, but not the same as, the group."
   ]
  },
  {
   "cell_type": "code",
   "execution_count": 13,
   "metadata": {
    "collapsed": false
   },
   "outputs": [
    {
     "data": {
      "text/html": [
       "<meta name=\"viewport\" content=\"width=device-width, initial-scale=1, maximum-scale=1\"/><meta http-equiv=\"X-UA-Compatible\" content=\"IE=10; IE=9; IE=8; IE=7; IE=EDGE\"/><meta charset=\"UTF-8\"/><link href=\"//fonts.googleapis.com/css?family=Open+Sans:400,700\" rel=\"stylesheet\" type=\"text/css\"/><link rel=\"stylesheet\" href=\"http://public.lightning-viz.org/css/app.css\"/><link rel=\"stylesheet\" href=\"http://public.lightning-viz.org/css/dynamic/viz/?visualizations[]=adjacency\"/><div id=\"lightning-body\" class=\"container content wrap push\"><div class=\"feed-container\"><div data-model=\"visualization\" data-model-id=\"e88c86e6-b871-4ec3-b433-54ef54b30918\" class=\"feed-item-container\"><div data-type=\"lightning-adjacency\" data-data=\"{&quot;nodes&quot;:[0,1,2,3,4,5,6,7,8,9,10,11,12,13,14,15,16,17,18,19,20,21,22,23,24,25,26,27,28,29,30,31,32,33,34,35,36,37,38,39,40,41,42,43,44,45,46,47,48,49],&quot;group&quot;:[0,0,0,0,0,0,0,0,0,0,0,0,0,0,0,0,0,0,0,0,1,1,1,1,1,1,1,1,1,1,2,2,2,2,2,2,2,2,2,2,3,3,3,3,3,4,4,4,4,4],&quot;links&quot;:[[0,3,1],[0,4,1],[0,6,1],[0,9,1],[0,10,1],[0,14,1],[0,15,1],[0,16,1],[0,17,1],[0,44,1],[0,48,1],[1,5,1],[1,11,1],[1,12,1],[1,13,1],[1,15,1],[1,17,1],[1,18,1],[1,19,1],[2,6,1],[2,9,1],[2,11,1],[2,17,1],[2,18,1],[3,0,1],[3,5,1],[3,7,1],[3,10,1],[3,11,1],[3,17,1],[3,19,1],[4,0,1],[4,10,1],[4,11,1],[4,12,1],[4,13,1],[4,14,1],[4,15,1],[4,16,1],[4,17,1],[4,19,1],[5,1,1],[5,3,1],[5,6,1],[5,7,1],[5,10,1],[5,11,1],[5,17,1],[6,0,1],[6,2,1],[6,5,1],[6,10,1],[6,12,1],[6,14,1],[6,16,1],[6,17,1],[6,18,1],[6,19,1],[7,3,1],[7,5,1],[7,13,1],[7,14,1],[7,15,1],[7,16,1],[7,38,1],[8,9,1],[8,18,1],[8,43,1],[9,0,1],[9,2,1],[9,8,1],[9,11,1],[9,13,1],[9,18,1],[9,19,1],[10,0,1],[10,3,1],[10,4,1],[10,5,1],[10,6,1],[10,11,1],[10,15,1],[10,16,1],[10,19,1],[10,43,1],[11,1,1],[11,2,1],[11,3,1],[11,4,1],[11,5,1],[11,9,1],[11,10,1],[11,15,1],[11,16,1],[11,18,1],[11,19,1],[12,1,1],[12,4,1],[12,6,1],[12,13,1],[12,14,1],[12,15,1],[13,1,1],[13,4,1],[13,7,1],[13,9,1],[13,12,1],[13,16,1],[14,0,1],[14,4,1],[14,6,1],[14,7,1],[14,12,1],[14,18,1],[14,19,1],[15,0,1],[15,1,1],[15,4,1],[15,7,1],[15,10,1],[15,11,1],[15,12,1],[15,17,1],[15,18,1],[15,33,1],[15,48,1],[16,0,1],[16,4,1],[16,6,1],[16,7,1],[16,10,1],[16,11,1],[16,13,1],[16,19,1],[17,0,1],[17,1,1],[17,2,1],[17,3,1],[17,4,1],[17,5,1],[17,6,1],[17,15,1],[17,18,1],[17,19,1],[18,1,1],[18,2,1],[18,6,1],[18,8,1],[18,9,1],[18,11,1],[18,14,1],[18,15,1],[18,17,1],[18,19,1],[19,1,1],[19,3,1],[19,4,1],[19,6,1],[19,9,1],[19,10,1],[19,11,1],[19,14,1],[19,16,1],[19,17,1],[19,18,1],[20,21,1],[20,22,1],[20,25,1],[20,26,1],[20,28,1],[21,20,1],[21,24,1],[21,26,1],[21,28,1],[21,29,1],[22,20,1],[22,23,1],[22,24,1],[22,26,1],[23,22,1],[23,24,1],[23,25,1],[23,28,1],[24,21,1],[24,22,1],[24,23,1],[24,25,1],[24,26,1],[25,20,1],[25,23,1],[25,24,1],[25,28,1],[26,20,1],[26,21,1],[26,22,1],[26,24,1],[27,29,1],[28,20,1],[28,21,1],[28,23,1],[28,25,1],[29,21,1],[29,27,1],[30,32,1],[30,33,1],[30,34,1],[30,36,1],[30,38,1],[30,39,1],[31,32,1],[31,34,1],[31,37,1],[32,30,1],[32,31,1],[32,33,1],[32,34,1],[32,35,1],[32,37,1],[33,15,1],[33,30,1],[33,32,1],[33,34,1],[33,36,1],[33,38,1],[33,39,1],[34,30,1],[34,31,1],[34,32,1],[34,33,1],[34,35,1],[35,32,1],[35,34,1],[35,36,1],[35,37,1],[36,30,1],[36,33,1],[36,35,1],[36,37,1],[36,38,1],[36,39,1],[37,31,1],[37,32,1],[37,35,1],[37,36,1],[37,38,1],[37,39,1],[38,7,1],[38,30,1],[38,33,1],[38,36,1],[38,37,1],[38,39,1],[39,30,1],[39,33,1],[39,36,1],[39,37,1],[39,38,1],[40,42,1],[40,43,1],[40,44,1],[41,43,1],[42,40,1],[42,44,1],[43,8,1],[43,10,1],[43,40,1],[43,41,1],[44,0,1],[44,40,1],[44,42,1],[45,46,1],[45,49,1],[46,45,1],[46,47,1],[46,48,1],[47,46,1],[48,0,1],[48,15,1],[48,46,1],[48,49,1],[49,45,1],[49,48,1]]}\" data-images=\"null\" data-options=\"{&quot;sort&quot;:&quot;degree&quot;,&quot;description&quot;:null,&quot;height&quot;:null,&quot;symmetric&quot;:true,&quot;width&quot;:600,&quot;numbers&quot;:false}\" id=\"viz-e88c86e6-b871-4ec3-b433-54ef54b30918\" data-initialized=\"false\" class=\"feed-item\"></div></div></div></div><script>window.lightning = window.lightning || {};\n",
       "window.lightning.host = \"http://public.lightning-viz.org/\" || 'http://127.0.0.1:3000/';\n",
       "window.lightning.vizCount = (window.lightning.vizCount + 1) || 1;\n",
       "window.lightning.requiredVizTypes = window.lightning.requiredVizTypes || [];\n",
       "if(window.lightning.requiredVizTypes.indexOf(\"adjacency\") === -1) {\n",
       "    window.lightning.requiredVizTypes.push(\"adjacency\");\n",
       "}\n",
       "window._require = window.require;\n",
       "window.require = undefined;\n",
       "window._define = window.define;\n",
       "window.define = undefined;</script><script src=\"http://public.lightning-viz.org/js/embed.js\"></script>"
      ],
      "text/plain": [
       "<lightning.types.plots.Adjacency at 0x1043b40d0>"
      ]
     },
     "execution_count": 13,
     "metadata": {},
     "output_type": "execute_result"
    }
   ],
   "source": [
    "def group(G, n):\n",
    "    for i, p in enumerate(G.graph['partition']):\n",
    "        if n in p:\n",
    "            return i\n",
    "g = [group(G, x) for x in range(0,50)]\n",
    "lgn.adjacency(mat, group=g, sort='degree')"
   ]
  },
  {
   "cell_type": "markdown",
   "metadata": {},
   "source": [
    "You can use Lightning to look at a force-directed graph for the same network!"
   ]
  },
  {
   "cell_type": "code",
   "execution_count": 14,
   "metadata": {
    "collapsed": false
   },
   "outputs": [
    {
     "data": {
      "text/html": [
       "<meta name=\"viewport\" content=\"width=device-width, initial-scale=1, maximum-scale=1\"/><meta http-equiv=\"X-UA-Compatible\" content=\"IE=10; IE=9; IE=8; IE=7; IE=EDGE\"/><meta charset=\"UTF-8\"/><link href=\"//fonts.googleapis.com/css?family=Open+Sans:400,700\" rel=\"stylesheet\" type=\"text/css\"/><link rel=\"stylesheet\" href=\"http://public.lightning-viz.org/css/app.css\"/><link rel=\"stylesheet\" href=\"http://public.lightning-viz.org/css/dynamic/viz/?visualizations[]=force\"/><div id=\"lightning-body\" class=\"container content wrap push\"><div class=\"feed-container\"><div data-model=\"visualization\" data-model-id=\"7d4e91b2-7e13-4926-b40a-e3424751061e\" class=\"feed-item-container\"><div data-type=\"lightning-force\" data-data=\"{&quot;nodes&quot;:[0,1,2,3,4,5,6,7,8,9,10,11,12,13,14,15,16,17,18,19,20,21,22,23,24,25,26,27,28,29,30,31,32,33,34,35,36,37,38,39,40,41,42,43,44,45,46,47,48,49],&quot;group&quot;:[0,0,0,0,0,0,0,0,0,0,0,0,0,0,0,0,0,0,0,0,1,1,1,1,1,1,1,1,1,1,2,2,2,2,2,2,2,2,2,2,3,3,3,3,3,4,4,4,4,4],&quot;links&quot;:[[0,3,1],[0,4,1],[0,6,1],[0,9,1],[0,10,1],[0,14,1],[0,15,1],[0,16,1],[0,17,1],[0,44,1],[0,48,1],[1,5,1],[1,11,1],[1,12,1],[1,13,1],[1,15,1],[1,17,1],[1,18,1],[1,19,1],[2,6,1],[2,9,1],[2,11,1],[2,17,1],[2,18,1],[3,0,1],[3,5,1],[3,7,1],[3,10,1],[3,11,1],[3,17,1],[3,19,1],[4,0,1],[4,10,1],[4,11,1],[4,12,1],[4,13,1],[4,14,1],[4,15,1],[4,16,1],[4,17,1],[4,19,1],[5,1,1],[5,3,1],[5,6,1],[5,7,1],[5,10,1],[5,11,1],[5,17,1],[6,0,1],[6,2,1],[6,5,1],[6,10,1],[6,12,1],[6,14,1],[6,16,1],[6,17,1],[6,18,1],[6,19,1],[7,3,1],[7,5,1],[7,13,1],[7,14,1],[7,15,1],[7,16,1],[7,38,1],[8,9,1],[8,18,1],[8,43,1],[9,0,1],[9,2,1],[9,8,1],[9,11,1],[9,13,1],[9,18,1],[9,19,1],[10,0,1],[10,3,1],[10,4,1],[10,5,1],[10,6,1],[10,11,1],[10,15,1],[10,16,1],[10,19,1],[10,43,1],[11,1,1],[11,2,1],[11,3,1],[11,4,1],[11,5,1],[11,9,1],[11,10,1],[11,15,1],[11,16,1],[11,18,1],[11,19,1],[12,1,1],[12,4,1],[12,6,1],[12,13,1],[12,14,1],[12,15,1],[13,1,1],[13,4,1],[13,7,1],[13,9,1],[13,12,1],[13,16,1],[14,0,1],[14,4,1],[14,6,1],[14,7,1],[14,12,1],[14,18,1],[14,19,1],[15,0,1],[15,1,1],[15,4,1],[15,7,1],[15,10,1],[15,11,1],[15,12,1],[15,17,1],[15,18,1],[15,33,1],[15,48,1],[16,0,1],[16,4,1],[16,6,1],[16,7,1],[16,10,1],[16,11,1],[16,13,1],[16,19,1],[17,0,1],[17,1,1],[17,2,1],[17,3,1],[17,4,1],[17,5,1],[17,6,1],[17,15,1],[17,18,1],[17,19,1],[18,1,1],[18,2,1],[18,6,1],[18,8,1],[18,9,1],[18,11,1],[18,14,1],[18,15,1],[18,17,1],[18,19,1],[19,1,1],[19,3,1],[19,4,1],[19,6,1],[19,9,1],[19,10,1],[19,11,1],[19,14,1],[19,16,1],[19,17,1],[19,18,1],[20,21,1],[20,22,1],[20,25,1],[20,26,1],[20,28,1],[21,20,1],[21,24,1],[21,26,1],[21,28,1],[21,29,1],[22,20,1],[22,23,1],[22,24,1],[22,26,1],[23,22,1],[23,24,1],[23,25,1],[23,28,1],[24,21,1],[24,22,1],[24,23,1],[24,25,1],[24,26,1],[25,20,1],[25,23,1],[25,24,1],[25,28,1],[26,20,1],[26,21,1],[26,22,1],[26,24,1],[27,29,1],[28,20,1],[28,21,1],[28,23,1],[28,25,1],[29,21,1],[29,27,1],[30,32,1],[30,33,1],[30,34,1],[30,36,1],[30,38,1],[30,39,1],[31,32,1],[31,34,1],[31,37,1],[32,30,1],[32,31,1],[32,33,1],[32,34,1],[32,35,1],[32,37,1],[33,15,1],[33,30,1],[33,32,1],[33,34,1],[33,36,1],[33,38,1],[33,39,1],[34,30,1],[34,31,1],[34,32,1],[34,33,1],[34,35,1],[35,32,1],[35,34,1],[35,36,1],[35,37,1],[36,30,1],[36,33,1],[36,35,1],[36,37,1],[36,38,1],[36,39,1],[37,31,1],[37,32,1],[37,35,1],[37,36,1],[37,38,1],[37,39,1],[38,7,1],[38,30,1],[38,33,1],[38,36,1],[38,37,1],[38,39,1],[39,30,1],[39,33,1],[39,36,1],[39,37,1],[39,38,1],[40,42,1],[40,43,1],[40,44,1],[41,43,1],[42,40,1],[42,44,1],[43,8,1],[43,10,1],[43,40,1],[43,41,1],[44,0,1],[44,40,1],[44,42,1],[45,46,1],[45,49,1],[46,45,1],[46,47,1],[46,48,1],[47,46,1],[48,0,1],[48,15,1],[48,46,1],[48,49,1],[49,45,1],[49,48,1]]}\" data-images=\"null\" data-options=\"{&quot;tooltips&quot;:true,&quot;description&quot;:null,&quot;zoom&quot;:true,&quot;height&quot;:null,&quot;width&quot;:600,&quot;brush&quot;:true}\" id=\"viz-7d4e91b2-7e13-4926-b40a-e3424751061e\" data-initialized=\"false\" class=\"feed-item\"></div></div></div></div><script>window.lightning = window.lightning || {};\n",
       "window.lightning.host = \"http://public.lightning-viz.org/\" || 'http://127.0.0.1:3000/';\n",
       "window.lightning.vizCount = (window.lightning.vizCount + 1) || 1;\n",
       "window.lightning.requiredVizTypes = window.lightning.requiredVizTypes || [];\n",
       "if(window.lightning.requiredVizTypes.indexOf(\"force\") === -1) {\n",
       "    window.lightning.requiredVizTypes.push(\"force\");\n",
       "}\n",
       "window._require = window.require;\n",
       "window.require = undefined;\n",
       "window._define = window.define;\n",
       "window.define = undefined;</script><script src=\"http://public.lightning-viz.org/js/embed.js\"></script>"
      ],
      "text/plain": [
       "<lightning.types.plots.Force at 0x106e48990>"
      ]
     },
     "execution_count": 14,
     "metadata": {},
     "output_type": "execute_result"
    }
   ],
   "source": [
    "lgn.force(mat, group=g)"
   ]
  }
 ],
 "metadata": {
  "kernelspec": {
   "display_name": "Python 2",
   "language": "python",
   "name": "python2"
  },
  "language_info": {
   "codemirror_mode": {
    "name": "ipython",
    "version": 2
   },
   "file_extension": ".py",
   "mimetype": "text/x-python",
   "name": "python",
   "nbconvert_exporter": "python",
   "pygments_lexer": "ipython2",
   "version": "2.7.9"
  }
 },
 "nbformat": 4,
 "nbformat_minor": 0
}
