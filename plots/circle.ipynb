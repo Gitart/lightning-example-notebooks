{
 "cells": [
  {
   "cell_type": "markdown",
   "metadata": {},
   "source": [
    "# <img style='float: left' src=\"http://lightning-viz.github.io/images/logo.png\"> <br> <br> &nbsp;&nbsp;&nbsp;&nbsp;&nbsp;Circle plots in <a href='http://lightning-viz.github.io/'><font color='#9175f0'>Lightning</font></a>"
   ]
  },
  {
   "cell_type": "markdown",
   "metadata": {},
   "source": [
    "## <hr> Setup"
   ]
  },
  {
   "cell_type": "code",
   "execution_count": 1,
   "metadata": {
    "collapsed": false
   },
   "outputs": [],
   "source": [
    "from lightning import Lightning\n",
    "\n",
    "from numpy import random, asarray"
   ]
  },
  {
   "cell_type": "markdown",
   "metadata": {},
   "source": [
    "## Connect to server"
   ]
  },
  {
   "cell_type": "code",
   "execution_count": 2,
   "metadata": {
    "collapsed": false
   },
   "outputs": [
    {
     "data": {
      "text/html": [
       "<div style='margin-top:8px'><img src='data:image/png;base64,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' width='30px' height='35px' style='display: inline-block; padding-right: 10px'></img><span>Lightning initialized</span></div>"
      ],
      "text/plain": [
       "<IPython.core.display.HTML object>"
      ]
     },
     "metadata": {},
     "output_type": "display_data"
    },
    {
     "name": "stdout",
     "output_type": "stream",
     "text": [
      "Connected to server at http://public.lightning-viz.org\n"
     ]
    },
    {
     "data": {
      "application/javascript": [
       "(function e(t,n,r){function s(o,u){if(!n[o]){if(!t[o]){var a=typeof require==\"function\"&&require;if(!u&&a)return a(o,!0);if(i)return i(o,!0);throw new Error(\"Cannot find module '\"+o+\"'\")}var f=n[o]={exports:{}};t[o][0].call(f.exports,function(e){var n=t[o][1][e];return s(n?n:e)},f,f.exports,e,t,n,r)}return n[o].exports}var i=typeof require==\"function\"&&require;for(var o=0;o<r.length;o++)s(r[o]);return s})({1:[function(require,module,exports){\n",
       "window.lightning = window.lightning || {};\n",
       "var lightningCommMap = {};\n",
       "\n",
       "var readCommData = function(commData, field) {\n",
       "    try {\n",
       "        return commData.content.data[field];\n",
       "    } catch (err) {\n",
       "        return;\n",
       "    }\n",
       "};\n",
       "\n",
       "\n",
       "var init_comm = function() {\n",
       "    IPython.notebook.kernel.comm_manager.register_target('lightning', function(comm, data) {\n",
       "        var id = readCommData(data, 'id');\n",
       "        lightningCommMap[id] = comm;\n",
       "    });\n",
       "\n",
       "    window.lightning.comm_map = lightningCommMap;\n",
       "}\n",
       "\n",
       "\n",
       "if(IPython && IPython.notebook) {\n",
       "\n",
       "    if(IPython.notebook.kernel) {\n",
       "        init_comm();\n",
       "    }\n",
       "\n",
       "    IPython.notebook.events.on('kernel_connected.Kernel', init_comm);\n",
       "\n",
       "}\n",
       "\n",
       "\n",
       "},{}]},{},[1])\n",
       "//# sourceMappingURL=data:application/json;base64,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\n"
      ],
      "text/plain": [
       "<IPython.core.display.Javascript object>"
      ]
     },
     "metadata": {},
     "output_type": "display_data"
    }
   ],
   "source": [
    "lgn = Lightning(ipython=True, host='http://public.lightning-viz.org')"
   ]
  },
  {
   "cell_type": "markdown",
   "metadata": {},
   "source": [
    "## <hr> Just connections"
   ]
  },
  {
   "cell_type": "markdown",
   "metadata": {},
   "source": [
    "Circle plots show connections between nodes in a graph as lines between points around a circle. Let's make one for a set of random, sparse connections."
   ]
  },
  {
   "cell_type": "code",
   "execution_count": 3,
   "metadata": {
    "collapsed": false
   },
   "outputs": [
    {
     "data": {
      "text/html": [
       "<meta name=\"viewport\" content=\"width=device-width, initial-scale=1, maximum-scale=1\"/><meta http-equiv=\"X-UA-Compatible\" content=\"IE=10; IE=9; IE=8; IE=7; IE=EDGE\"/><meta charset=\"UTF-8\"/><link href=\"//fonts.googleapis.com/css?family=Open+Sans:400,700\" rel=\"stylesheet\" type=\"text/css\"/><link rel=\"stylesheet\" href=\"http://public.lightning-viz.org/css/app.css\"/><link rel=\"stylesheet\" href=\"http://public.lightning-viz.org/css/dynamic/viz/?visualizations[]=circle\"/><div id=\"lightning-body\" class=\"container content wrap push\"><div class=\"feed-container\"><div data-model=\"visualization\" data-model-id=\"9d711831-ff73-4ecb-94df-35730851621d\" class=\"feed-item-container\"><div data-type=\"lightning-circle\" data-data=\"{&quot;nodes&quot;:[0,1,2,3,4,5,6,7,8,9,10,11,12,13,14,15,16,17,18,19,20,21,22,23,24,25,26,27,28,29,30,31,32,33,34,35,36,37,38,39,40,41,42,43,44,45,46,47,48,49],&quot;links&quot;:[[0,6,0.9882689902812264],[2,13,0.9856670567446745],[2,35,0.9824100281719187],[5,16,0.9939764238844119],[8,11,0.9944991740904457],[10,36,0.992653121457832],[11,21,0.9828896015070321],[11,40,0.9929608988146398],[12,39,0.9999043226978803],[13,2,0.9882284428839453],[14,28,0.9867006515673324],[15,1,0.9966335669741739],[15,37,0.9850143927134979],[16,41,0.9955066196271083],[18,14,0.9870199672354006],[18,17,0.9899886085441526],[20,33,0.9821063781910864],[21,23,0.9853056180328801],[22,28,0.9926782697723944],[25,4,0.9802879262444234],[27,39,0.9969521782712504],[28,4,0.995091456694276],[28,31,0.9928052669398026],[30,47,0.9967822259352741],[31,14,0.9917365506518135],[32,6,0.9929987127736603],[32,19,0.9985284513363296],[33,25,0.9999397145004651],[34,33,0.9942738597541272],[35,36,0.9985866886146454],[35,49,0.9998466565030166],[36,6,0.9874789315460285],[38,7,0.9998390599626901],[39,2,0.9855277722674365],[42,30,0.9847787482807792],[44,6,0.993171342700841],[44,20,0.9822268421225929],[45,11,0.9983127029630244],[46,49,0.9904457369104663],[47,35,0.981958397783187],[48,7,0.9824025495077573],[49,13,0.9819986337270489],[49,20,0.9833665700251105]]}\" data-images=\"null\" data-options=\"{&quot;width&quot;:600,&quot;description&quot;:null,&quot;height&quot;:null}\" id=\"viz-9d711831-ff73-4ecb-94df-35730851621d\" data-initialized=\"false\" class=\"feed-item\"></div></div></div></div><script>window.lightning = window.lightning || {};\n",
       "window.lightning.host = \"http://public.lightning-viz.org/\" || 'http://127.0.0.1:3000/';\n",
       "window.lightning.vizCount = (window.lightning.vizCount + 1) || 1;\n",
       "window.lightning.requiredVizTypes = window.lightning.requiredVizTypes || [];\n",
       "if(window.lightning.requiredVizTypes.indexOf(\"circle\") === -1) {\n",
       "    window.lightning.requiredVizTypes.push(\"circle\");\n",
       "}\n",
       "window._require = window.require;\n",
       "window.require = undefined;\n",
       "window._define = window.define;\n",
       "window.define = undefined;</script><script src=\"http://public.lightning-viz.org/js/embed.js\"></script>"
      ],
      "text/plain": [
       "<lightning.types.plots.Circle at 0x10491b810>"
      ]
     },
     "execution_count": 3,
     "metadata": {},
     "output_type": "execute_result"
    }
   ],
   "source": [
    "connections = random.rand(50,50)\n",
    "connections[connections<0.98] = 0\n",
    "\n",
    "lgn.circle(connections)"
   ]
  },
  {
   "cell_type": "markdown",
   "metadata": {},
   "source": [
    "We can add a text label to each node. Here we'll just add a numeric identifier. Clicking on a node label highlights its connections -- try it!"
   ]
  },
  {
   "cell_type": "code",
   "execution_count": 4,
   "metadata": {
    "collapsed": false
   },
   "outputs": [
    {
     "data": {
      "text/html": [
       "<meta name=\"viewport\" content=\"width=device-width, initial-scale=1, maximum-scale=1\"/><meta http-equiv=\"X-UA-Compatible\" content=\"IE=10; IE=9; IE=8; IE=7; IE=EDGE\"/><meta charset=\"UTF-8\"/><link href=\"//fonts.googleapis.com/css?family=Open+Sans:400,700\" rel=\"stylesheet\" type=\"text/css\"/><link rel=\"stylesheet\" href=\"http://public.lightning-viz.org/css/app.css\"/><link rel=\"stylesheet\" href=\"http://public.lightning-viz.org/css/dynamic/viz/?visualizations[]=circle\"/><div id=\"lightning-body\" class=\"container content wrap push\"><div class=\"feed-container\"><div data-model=\"visualization\" data-model-id=\"673a229a-da6d-4751-aa7b-791eccbaf390\" class=\"feed-item-container\"><div data-type=\"lightning-circle\" data-data=\"{&quot;nodes&quot;:[0,1,2,3,4,5,6,7,8,9,10,11,12,13,14,15,16,17,18,19,20,21,22,23,24,25,26,27,28,29,30,31,32,33,34,35,36,37,38,39,40,41,42,43,44,45,46,47,48,49],&quot;labels&quot;:[&quot;node 0&quot;,&quot;node 1&quot;,&quot;node 2&quot;,&quot;node 3&quot;,&quot;node 4&quot;,&quot;node 5&quot;,&quot;node 6&quot;,&quot;node 7&quot;,&quot;node 8&quot;,&quot;node 9&quot;,&quot;node 10&quot;,&quot;node 11&quot;,&quot;node 12&quot;,&quot;node 13&quot;,&quot;node 14&quot;,&quot;node 15&quot;,&quot;node 16&quot;,&quot;node 17&quot;,&quot;node 18&quot;,&quot;node 19&quot;,&quot;node 20&quot;,&quot;node 21&quot;,&quot;node 22&quot;,&quot;node 23&quot;,&quot;node 24&quot;,&quot;node 25&quot;,&quot;node 26&quot;,&quot;node 27&quot;,&quot;node 28&quot;,&quot;node 29&quot;,&quot;node 30&quot;,&quot;node 31&quot;,&quot;node 32&quot;,&quot;node 33&quot;,&quot;node 34&quot;,&quot;node 35&quot;,&quot;node 36&quot;,&quot;node 37&quot;,&quot;node 38&quot;,&quot;node 39&quot;,&quot;node 40&quot;,&quot;node 41&quot;,&quot;node 42&quot;,&quot;node 43&quot;,&quot;node 44&quot;,&quot;node 45&quot;,&quot;node 46&quot;,&quot;node 47&quot;,&quot;node 48&quot;,&quot;node 49&quot;],&quot;links&quot;:[[0,27,0.9995727107937481],[0,47,0.9875451715750313],[1,32,0.9838354416673015],[3,48,0.9901285448909916],[5,39,0.9863291694673529],[5,49,0.9909978842654006],[6,37,0.9873884035202581],[8,4,0.9976447073170643],[9,10,0.9842953847913395],[9,43,0.990401129603833],[11,39,0.9976808560873053],[12,2,0.9810552999615259],[12,9,0.9987707741131531],[12,35,0.9839475036645327],[12,46,0.9911177284715439],[14,4,0.982270558629098],[15,21,0.9877952713186146],[15,30,0.9829510331961734],[17,9,0.9951419920550695],[17,36,0.9844434438017957],[18,20,0.9975592897430537],[18,21,0.9874464410895483],[19,14,0.9922251290963944],[20,24,0.9871878522341686],[20,39,0.9991334199780857],[21,43,0.9944206857683772],[22,46,0.9983132380416531],[23,20,0.9891952308868649],[24,40,0.9880212860459363],[26,29,0.9814526474245451],[29,26,0.9842813275166421],[30,43,0.9929391600450457],[32,6,0.9999924367067701],[32,14,0.9987823493156254],[32,16,0.9977268363944788],[32,29,0.9805751492378241],[32,47,0.991280385925879],[37,25,0.9822938929952646],[38,10,0.9884721287500662],[38,17,0.997637678866929],[38,22,0.9986920349681667],[38,39,0.9886078461243812],[40,7,0.999872158539123],[40,10,0.988158195236347],[41,2,0.9849839348875491],[41,40,0.9909068506221121],[42,22,0.993692922266065],[43,22,0.9979908886157595],[49,41,0.9858342273274582],[49,44,0.9820051224567102]]}\" data-images=\"null\" data-options=\"{&quot;width&quot;:600,&quot;description&quot;:null,&quot;height&quot;:null}\" id=\"viz-673a229a-da6d-4751-aa7b-791eccbaf390\" data-initialized=\"false\" class=\"feed-item\"></div></div></div></div><script>window.lightning = window.lightning || {};\n",
       "window.lightning.host = \"http://public.lightning-viz.org/\" || 'http://127.0.0.1:3000/';\n",
       "window.lightning.vizCount = (window.lightning.vizCount + 1) || 1;\n",
       "window.lightning.requiredVizTypes = window.lightning.requiredVizTypes || [];\n",
       "if(window.lightning.requiredVizTypes.indexOf(\"circle\") === -1) {\n",
       "    window.lightning.requiredVizTypes.push(\"circle\");\n",
       "}\n",
       "window._require = window.require;\n",
       "window.require = undefined;\n",
       "window._define = window.define;\n",
       "window.define = undefined;</script><script src=\"http://public.lightning-viz.org/js/embed.js\"></script>"
      ],
      "text/plain": [
       "<lightning.types.plots.Circle at 0x1057a6f10>"
      ]
     },
     "execution_count": 4,
     "metadata": {},
     "output_type": "execute_result"
    }
   ],
   "source": [
    "connections = random.rand(50,50)\n",
    "connections[connections<0.98] = 0\n",
    "\n",
    "lgn.circle(connections, labels=['node ' + str(x) for x in range(50)])"
   ]
  },
  {
   "cell_type": "markdown",
   "metadata": {},
   "source": [
    "## <hr> Adding groups"
   ]
  },
  {
   "cell_type": "markdown",
   "metadata": {},
   "source": [
    "Circle plots are useful for visualizing hierarchical relationships. You can specify multiple levels of grouping using a nested list. Let's start with one."
   ]
  },
  {
   "cell_type": "code",
   "execution_count": 5,
   "metadata": {
    "collapsed": false
   },
   "outputs": [
    {
     "data": {
      "text/html": [
       "<meta name=\"viewport\" content=\"width=device-width, initial-scale=1, maximum-scale=1\"/><meta http-equiv=\"X-UA-Compatible\" content=\"IE=10; IE=9; IE=8; IE=7; IE=EDGE\"/><meta charset=\"UTF-8\"/><link href=\"//fonts.googleapis.com/css?family=Open+Sans:400,700\" rel=\"stylesheet\" type=\"text/css\"/><link rel=\"stylesheet\" href=\"http://public.lightning-viz.org/css/app.css\"/><link rel=\"stylesheet\" href=\"http://public.lightning-viz.org/css/dynamic/viz/?visualizations[]=circle\"/><div id=\"lightning-body\" class=\"container content wrap push\"><div class=\"feed-container\"><div data-model=\"visualization\" data-model-id=\"6e23d34a-7d11-4aa9-b658-64fb5e96675a\" class=\"feed-item-container\"><div data-type=\"lightning-circle\" data-data=\"{&quot;nodes&quot;:[0,1,2,3,4,5,6,7,8,9,10,11,12,13,14,15,16,17,18,19,20,21,22,23,24,25,26,27,28,29,30,31,32,33,34,35,36,37,38,39,40,41,42,43,44,45,46,47,48,49],&quot;labels&quot;:[&quot;group 1&quot;,&quot;group 2&quot;,&quot;group 2&quot;,&quot;group 2&quot;,&quot;group 1&quot;,&quot;group 2&quot;,&quot;group 1&quot;,&quot;group 0&quot;,&quot;group 1&quot;,&quot;group 1&quot;,&quot;group 0&quot;,&quot;group 1&quot;,&quot;group 2&quot;,&quot;group 2&quot;,&quot;group 1&quot;,&quot;group 1&quot;,&quot;group 1&quot;,&quot;group 1&quot;,&quot;group 1&quot;,&quot;group 1&quot;,&quot;group 2&quot;,&quot;group 1&quot;,&quot;group 0&quot;,&quot;group 2&quot;,&quot;group 0&quot;,&quot;group 2&quot;,&quot;group 1&quot;,&quot;group 0&quot;,&quot;group 1&quot;,&quot;group 2&quot;,&quot;group 0&quot;,&quot;group 2&quot;,&quot;group 2&quot;,&quot;group 0&quot;,&quot;group 0&quot;,&quot;group 1&quot;,&quot;group 0&quot;,&quot;group 2&quot;,&quot;group 1&quot;,&quot;group 2&quot;,&quot;group 0&quot;,&quot;group 2&quot;,&quot;group 1&quot;,&quot;group 2&quot;,&quot;group 2&quot;,&quot;group 1&quot;,&quot;group 2&quot;,&quot;group 1&quot;,&quot;group 1&quot;,&quot;group 2&quot;],&quot;group&quot;:[[1,2,2,2,1,2,1,0,1,1,0,1,2,2,1,1,1,1,1,1,2,1,0,2,0,2,1,0,1,2,0,2,2,0,0,1,0,2,1,2,0,2,1,2,2,1,2,1,1,2]],&quot;links&quot;:[[1,31,0.9910166074461922],[2,9,0.9893882521428032],[3,25,0.9917814756003394],[4,17,0.9891382551024022],[5,42,0.9869876911063499],[6,3,0.9842097994794372],[6,5,0.9876035194921651],[6,18,0.9872247205210604],[8,14,0.9840391450885071],[8,20,0.9863139629410482],[8,42,0.9961984176693274],[8,47,0.9951354104398824],[9,2,0.9826628163476139],[11,1,0.9962784357849824],[13,3,0.9800171152906613],[15,38,0.9834976263126428],[15,40,0.9914971993511004],[16,0,0.9865500559936985],[16,21,0.9956495282980552],[17,43,0.9959335456286836],[17,46,0.9946718914578397],[18,6,0.9950486488171333],[19,6,0.9939675296225655],[21,45,0.9861696339188495],[23,13,0.9856532856200808],[24,26,0.9911795434579992],[29,13,0.982803000843516],[29,22,0.9872778735614902],[29,28,0.9888901118397927],[31,21,0.9848525765101295],[31,26,0.9941254166776046],[32,9,0.9804404066793119],[32,27,0.9936761224499409],[32,40,0.9945839460395108],[35,11,0.994605001054154],[35,30,0.9855080865299162],[36,21,0.9850651019919329],[36,40,0.9878454848071707],[38,0,0.9934145121189525],[38,4,0.9970277239800136],[39,22,0.9854802566022576],[40,4,0.9860189766895084],[43,22,0.9802276488764692],[43,26,0.9966758595388049],[45,17,0.9821321497542551],[46,19,0.9987294498704421],[49,0,0.9835553908312317],[49,19,0.9945127197937941]]}\" data-images=\"null\" data-options=\"{&quot;width&quot;:600,&quot;description&quot;:null,&quot;height&quot;:null}\" id=\"viz-6e23d34a-7d11-4aa9-b658-64fb5e96675a\" data-initialized=\"false\" class=\"feed-item\"></div></div></div></div><script>window.lightning = window.lightning || {};\n",
       "window.lightning.host = \"http://public.lightning-viz.org/\" || 'http://127.0.0.1:3000/';\n",
       "window.lightning.vizCount = (window.lightning.vizCount + 1) || 1;\n",
       "window.lightning.requiredVizTypes = window.lightning.requiredVizTypes || [];\n",
       "if(window.lightning.requiredVizTypes.indexOf(\"circle\") === -1) {\n",
       "    window.lightning.requiredVizTypes.push(\"circle\");\n",
       "}\n",
       "window._require = window.require;\n",
       "window.require = undefined;\n",
       "window._define = window.define;\n",
       "window.define = undefined;</script><script src=\"http://public.lightning-viz.org/js/embed.js\"></script>"
      ],
      "text/plain": [
       "<lightning.types.plots.Circle at 0x1055b8350>"
      ]
     },
     "execution_count": 5,
     "metadata": {},
     "output_type": "execute_result"
    }
   ],
   "source": [
    "connections = random.rand(50,50)\n",
    "connections[connections<0.98] = 0\n",
    "\n",
    "group = (random.rand(50) * 3).astype('int')\n",
    "lgn.circle(connections, labels=['group ' + str(x) for x in group], group=group)"
   ]
  },
  {
   "cell_type": "markdown",
   "metadata": {},
   "source": [
    "## <hr> Nested groups"
   ]
  },
  {
   "cell_type": "markdown",
   "metadata": {},
   "source": [
    "And now try adding a second level. We'll label by the second group to make clear what's going on. If you click on any of the outermost arcs, it will highlight connections to/from that group."
   ]
  },
  {
   "cell_type": "code",
   "execution_count": 6,
   "metadata": {
    "collapsed": false
   },
   "outputs": [
    {
     "data": {
      "text/html": [
       "<meta name=\"viewport\" content=\"width=device-width, initial-scale=1, maximum-scale=1\"/><meta http-equiv=\"X-UA-Compatible\" content=\"IE=10; IE=9; IE=8; IE=7; IE=EDGE\"/><meta charset=\"UTF-8\"/><link href=\"//fonts.googleapis.com/css?family=Open+Sans:400,700\" rel=\"stylesheet\" type=\"text/css\"/><link rel=\"stylesheet\" href=\"http://public.lightning-viz.org/css/app.css\"/><link rel=\"stylesheet\" href=\"http://public.lightning-viz.org/css/dynamic/viz/?visualizations[]=circle\"/><div id=\"lightning-body\" class=\"container content wrap push\"><div class=\"feed-container\"><div data-model=\"visualization\" data-model-id=\"5ada98a2-bc03-4dce-ae5f-f9561350335c\" class=\"feed-item-container\"><div data-type=\"lightning-circle\" data-data=\"{&quot;nodes&quot;:[0,1,2,3,4,5,6,7,8,9,10,11,12,13,14,15,16,17,18,19,20,21,22,23,24,25,26,27,28,29,30,31,32,33,34,35,36,37,38,39,40,41,42,43,44,45,46,47,48,49],&quot;labels&quot;:[&quot;group 0&quot;,&quot;group 3&quot;,&quot;group 2&quot;,&quot;group 2&quot;,&quot;group 0&quot;,&quot;group 0&quot;,&quot;group 3&quot;,&quot;group 0&quot;,&quot;group 3&quot;,&quot;group 2&quot;,&quot;group 3&quot;,&quot;group 0&quot;,&quot;group 3&quot;,&quot;group 0&quot;,&quot;group 1&quot;,&quot;group 3&quot;,&quot;group 3&quot;,&quot;group 2&quot;,&quot;group 2&quot;,&quot;group 3&quot;,&quot;group 0&quot;,&quot;group 2&quot;,&quot;group 2&quot;,&quot;group 1&quot;,&quot;group 1&quot;,&quot;group 3&quot;,&quot;group 1&quot;,&quot;group 0&quot;,&quot;group 0&quot;,&quot;group 1&quot;,&quot;group 3&quot;,&quot;group 3&quot;,&quot;group 3&quot;,&quot;group 1&quot;,&quot;group 0&quot;,&quot;group 3&quot;,&quot;group 0&quot;,&quot;group 2&quot;,&quot;group 3&quot;,&quot;group 3&quot;,&quot;group 2&quot;,&quot;group 1&quot;,&quot;group 3&quot;,&quot;group 2&quot;,&quot;group 3&quot;,&quot;group 1&quot;,&quot;group 2&quot;,&quot;group 2&quot;,&quot;group 0&quot;,&quot;group 2&quot;],&quot;group&quot;:[[1,0,2,2,1,1,0,1,1,2,0,2,2,2,2,1,1,2,1,0,0,2,0,2,0,1,0,1,0,1,1,2,1,2,0,2,1,2,2,2,0,2,1,2,2,1,1,1,2,0],[0,3,2,2,0,0,3,0,3,2,3,0,3,0,1,3,3,2,2,3,0,2,2,1,1,3,1,0,0,1,3,3,3,1,0,3,0,2,3,3,2,1,3,2,3,1,2,2,0,2]],&quot;links&quot;:[[0,19,0.9953677355729044],[2,14,0.9861009383183252],[2,39,0.9978714436947215],[5,4,0.9910105585184737],[5,10,0.9959545827325137],[5,17,0.9931627955764729],[5,27,0.9878844745374042],[5,34,0.9853410413005257],[7,47,0.9829558580584491],[8,28,0.9825120299456985],[9,35,0.9850897987621884],[9,38,0.9994863902098851],[9,43,0.9984578009368837],[10,21,0.9895487530603192],[12,19,0.9991067575199721],[12,32,0.9968896886506151],[12,43,0.9830879170096815],[13,10,0.9866178120042678],[13,22,0.9974002708990524],[13,35,0.9823370474458254],[16,42,0.9843343813263902],[16,48,0.9826673922130624],[17,4,0.9872139993565157],[18,4,0.9946047918435761],[19,8,0.9803456323583013],[20,1,0.9841917407442831],[20,37,0.9841368849692188],[21,18,0.9983555774387306],[21,25,0.981857780871471],[24,8,0.9833518996513363],[24,36,0.980032022802783],[26,43,0.9935735811292923],[26,44,0.982603311731146],[27,10,0.9827537556996352],[27,40,0.9809599712502476],[30,2,0.9941894621651558],[30,16,0.9864412811030127],[30,19,0.9858552705442569],[30,42,0.9844943879111471],[31,48,0.9826050372808905],[33,45,0.988660172329917],[34,40,0.999774357243438],[35,2,0.9998726434049616],[36,14,0.9983651155349283],[39,4,0.9965526722454723],[40,20,0.9865977659338446],[41,15,0.9868519193125568],[43,10,0.9953524440878483],[44,14,0.994409523433407],[44,44,0.9833197891940111],[48,36,0.9887710690738449]]}\" data-images=\"null\" data-options=\"{&quot;width&quot;:600,&quot;description&quot;:null,&quot;height&quot;:null}\" id=\"viz-5ada98a2-bc03-4dce-ae5f-f9561350335c\" data-initialized=\"false\" class=\"feed-item\"></div></div></div></div><script>window.lightning = window.lightning || {};\n",
       "window.lightning.host = \"http://public.lightning-viz.org/\" || 'http://127.0.0.1:3000/';\n",
       "window.lightning.vizCount = (window.lightning.vizCount + 1) || 1;\n",
       "window.lightning.requiredVizTypes = window.lightning.requiredVizTypes || [];\n",
       "if(window.lightning.requiredVizTypes.indexOf(\"circle\") === -1) {\n",
       "    window.lightning.requiredVizTypes.push(\"circle\");\n",
       "}\n",
       "window._require = window.require;\n",
       "window.require = undefined;\n",
       "window._define = window.define;\n",
       "window.define = undefined;</script><script src=\"http://public.lightning-viz.org/js/embed.js\"></script>"
      ],
      "text/plain": [
       "<lightning.types.plots.Circle at 0x10562e350>"
      ]
     },
     "execution_count": 6,
     "metadata": {},
     "output_type": "execute_result"
    }
   ],
   "source": [
    "connections = random.rand(50,50)\n",
    "connections[connections<0.98] = 0\n",
    "\n",
    "group1 = (random.rand(50) * 3).astype('int')\n",
    "group2 = (random.rand(50) * 4).astype('int')\n",
    "lgn.circle(connections, labels=['group ' + str(x) for x in group2], group=[group1, group2])"
   ]
  }
 ],
 "metadata": {
  "kernelspec": {
   "display_name": "Python 2",
   "language": "python",
   "name": "python2"
  },
  "language_info": {
   "codemirror_mode": {
    "name": "ipython",
    "version": 2
   },
   "file_extension": ".py",
   "mimetype": "text/x-python",
   "name": "python",
   "nbconvert_exporter": "python",
   "pygments_lexer": "ipython2",
   "version": "2.7.9"
  }
 },
 "nbformat": 4,
 "nbformat_minor": 0
}
