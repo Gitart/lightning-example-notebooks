{
 "cells": [
  {
   "cell_type": "markdown",
   "metadata": {},
   "source": [
    "# <img style='float: left' src=\"http://lightning-viz.github.io/images/logo.png\"> <br> <br> &nbsp;&nbsp;&nbsp;&nbsp;&nbsp;Circle plots in <a href='http://lightning-viz.github.io/'><font color='#9175f0'>Lightning</font></a>"
   ]
  },
  {
   "cell_type": "markdown",
   "metadata": {},
   "source": [
    "## <hr> Setup"
   ]
  },
  {
   "cell_type": "code",
   "execution_count": 35,
   "metadata": {
    "collapsed": false
   },
   "outputs": [],
   "source": [
    "from lightning import Lightning\n",
    "\n",
    "from numpy import random, asarray"
   ]
  },
  {
   "cell_type": "markdown",
   "metadata": {},
   "source": [
    "## Connect to server"
   ]
  },
  {
   "cell_type": "code",
   "execution_count": 6,
   "metadata": {
    "collapsed": false
   },
   "outputs": [
    {
     "data": {
      "text/html": [
       "<div style='margin-top:8px'><img src='data:image/png;base64,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' width='30px' height='35px' style='display: inline-block; padding-right: 10px'></img><span>Lightning initialized</span></div>"
      ],
      "text/plain": [
       "<IPython.core.display.HTML object>"
      ]
     },
     "metadata": {},
     "output_type": "display_data"
    },
    {
     "name": "stdout",
     "output_type": "stream",
     "text": [
      "Connected to server at http://localhost:3000\n"
     ]
    },
    {
     "data": {
      "application/javascript": [
       "(function e(t,n,r){function s(o,u){if(!n[o]){if(!t[o]){var a=typeof require==\"function\"&&require;if(!u&&a)return a(o,!0);if(i)return i(o,!0);throw new Error(\"Cannot find module '\"+o+\"'\")}var f=n[o]={exports:{}};t[o][0].call(f.exports,function(e){var n=t[o][1][e];return s(n?n:e)},f,f.exports,e,t,n,r)}return n[o].exports}var i=typeof require==\"function\"&&require;for(var o=0;o<r.length;o++)s(r[o]);return s})({1:[function(require,module,exports){\n",
       "window.lightning = window.lightning || {};\n",
       "var lightningCommMap = {};\n",
       "\n",
       "var readCommData = function(commData, field) {\n",
       "    try {\n",
       "        return commData.content.data[field];\n",
       "    } catch (err) {\n",
       "        return;\n",
       "    }\n",
       "};\n",
       "\n",
       "\n",
       "var init_comm = function() {\n",
       "    IPython.notebook.kernel.comm_manager.register_target('lightning', function(comm, data) {\n",
       "        var id = readCommData(data, 'id');\n",
       "        lightningCommMap[id] = comm;\n",
       "    });\n",
       "\n",
       "    window.lightning.comm_map = lightningCommMap;\n",
       "}\n",
       "\n",
       "\n",
       "if(IPython && IPython.notebook) {\n",
       "\n",
       "    if(IPython.notebook.kernel) {\n",
       "        init_comm();\n",
       "    }\n",
       "\n",
       "    IPython.notebook.events.on('kernel_connected.Kernel', init_comm);\n",
       "\n",
       "}\n",
       "\n",
       "\n",
       "},{}]},{},[1])\n",
       "//# sourceMappingURL=data:application/json;base64,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\n"
      ],
      "text/plain": [
       "<IPython.core.display.Javascript object>"
      ]
     },
     "metadata": {},
     "output_type": "display_data"
    }
   ],
   "source": [
    "lgn = Lightning(ipython=True)"
   ]
  },
  {
   "cell_type": "markdown",
   "metadata": {},
   "source": [
    "## <hr> Just connections"
   ]
  },
  {
   "cell_type": "markdown",
   "metadata": {},
   "source": [
    "Circle plots show connections between nodes in a graph as lines between points around a circle. Let's make one for a set of random, sparse connections."
   ]
  },
  {
   "cell_type": "code",
   "execution_count": 29,
   "metadata": {
    "collapsed": false
   },
   "outputs": [
    {
     "data": {
      "text/html": [
       "<meta name=\"viewport\" content=\"width=device-width, initial-scale=1, maximum-scale=1\"/><meta http-equiv=\"X-UA-Compatible\" content=\"IE=10; IE=9; IE=8; IE=7; IE=EDGE\"/><meta charset=\"UTF-8\"/><link href=\"//fonts.googleapis.com/css?family=Open+Sans:400,700\" rel=\"stylesheet\" type=\"text/css\"/><link rel=\"stylesheet\" href=\"http://localhost:3000/css/app.css\"/><link rel=\"stylesheet\" href=\"http://localhost:3000/css/dynamic/viz/?visualizations[]=circle\"/><div id=\"lightning-body\" class=\"container content wrap push\"><div class=\"feed-container\"><div data-model=\"visualization\" data-model-id=\"ff1bca6e-f66a-40df-8b32-5c9799c118c6\" class=\"feed-item-container\"><div data-type=\"lightning-circle\" data-data=\"{&quot;nodes&quot;:[0,1,2,3,4,5,6,7,8,9,10,11,12,13,14,15,16,17,18,19,20,21,22,23,24,25,26,27,28,29,30,31,32,33,34,35,36,37,38,39,40,41,42,43,44,45,46,47,48,49],&quot;links&quot;:[[1,37,0.9947119423259112],[3,5,0.9922259754812471],[4,17,0.9904190076584437],[6,21,0.9909573625971457],[6,43,0.9990473539264877],[7,45,0.9832112942208605],[8,21,0.9872831706070752],[8,41,0.9800223625657033],[8,45,0.9961346242354533],[9,4,0.9969166683711912],[9,39,0.9967586696363435],[10,0,0.98290356932415],[10,13,0.9859604748362802],[11,24,0.9882440535170052],[11,43,0.989100881583553],[13,36,0.9954293789865134],[16,8,0.9977065310909814],[18,30,0.9846264727659971],[19,10,0.9969817754749157],[19,14,0.993927613098103],[19,42,0.9894044775456433],[21,38,0.9920433658342013],[22,24,0.9889554230239317],[22,25,0.9846790293944178],[24,27,0.9945164237402176],[24,34,0.9852716666596811],[26,11,0.9975019336664458],[27,44,0.9845180536864043],[28,3,0.9920573687292842],[29,33,0.9837294869985668],[30,8,0.9837389145783363],[33,31,0.9919568761708859],[33,49,0.9987428147984003],[34,6,0.9947792966293414],[36,39,0.9913254102977215],[36,44,0.9808967131565208],[38,39,0.9969500158972971],[40,14,0.9866239872774768],[43,7,0.9996020087829268],[46,23,0.9835441879325854],[46,40,0.9923199759016009],[47,14,0.9855234208828837],[48,30,0.9855956503725497],[48,45,0.9907809253339346],[49,27,0.9845235274605986],[49,39,0.9971382404988942],[49,42,0.9901217478142035]]}\" data-images=\"[]\" data-options=\"{&quot;width&quot;:600,&quot;description&quot;:null,&quot;height&quot;:null}\" id=\"viz-ff1bca6e-f66a-40df-8b32-5c9799c118c6\" data-initialized=\"false\" class=\"feed-item\"></div></div></div></div><script>window.lightning = window.lightning || {};\n",
       "window.lightning.host = \"http://localhost:3000/\" || 'http://127.0.0.1:3000/';\n",
       "window.lightning.vizCount = (window.lightning.vizCount + 1) || 1;\n",
       "window.lightning.requiredVizTypes = window.lightning.requiredVizTypes || [];\n",
       "if(window.lightning.requiredVizTypes.indexOf(\"circle\") === -1) {\n",
       "    window.lightning.requiredVizTypes.push(\"circle\");\n",
       "}\n",
       "window._require = window.require;\n",
       "window.require = undefined;\n",
       "window._define = window.define;\n",
       "window.define = undefined;</script><script src=\"http://localhost:3000/js/embed.js\"></script>"
      ],
      "text/plain": [
       "<lightning.types.plots.Circle at 0x1054ad8d0>"
      ]
     },
     "execution_count": 29,
     "metadata": {},
     "output_type": "execute_result"
    }
   ],
   "source": [
    "connections = random.rand(50,50)\n",
    "connections[connections<0.98] = 0\n",
    "\n",
    "lgn.circle(connections)"
   ]
  },
  {
   "cell_type": "markdown",
   "metadata": {},
   "source": [
    "We can add a text label to each node. Here we'll just add a numeric identifier. Clicking on a node label highlights its connections -- try it!"
   ]
  },
  {
   "cell_type": "code",
   "execution_count": 30,
   "metadata": {
    "collapsed": false
   },
   "outputs": [
    {
     "data": {
      "text/html": [
       "<meta name=\"viewport\" content=\"width=device-width, initial-scale=1, maximum-scale=1\"/><meta http-equiv=\"X-UA-Compatible\" content=\"IE=10; IE=9; IE=8; IE=7; IE=EDGE\"/><meta charset=\"UTF-8\"/><link href=\"//fonts.googleapis.com/css?family=Open+Sans:400,700\" rel=\"stylesheet\" type=\"text/css\"/><link rel=\"stylesheet\" href=\"http://localhost:3000/css/app.css\"/><link rel=\"stylesheet\" href=\"http://localhost:3000/css/dynamic/viz/?visualizations[]=circle\"/><div id=\"lightning-body\" class=\"container content wrap push\"><div class=\"feed-container\"><div data-model=\"visualization\" data-model-id=\"a91f9004-9924-4d8a-91ec-b3a9928e4f2d\" class=\"feed-item-container\"><div data-type=\"lightning-circle\" data-data=\"{&quot;nodes&quot;:[0,1,2,3,4,5,6,7,8,9,10,11,12,13,14,15,16,17,18,19,20,21,22,23,24,25,26,27,28,29,30,31,32,33,34,35,36,37,38,39,40,41,42,43,44,45,46,47,48,49],&quot;labels&quot;:[&quot;node 0&quot;,&quot;node 1&quot;,&quot;node 2&quot;,&quot;node 3&quot;,&quot;node 4&quot;,&quot;node 5&quot;,&quot;node 6&quot;,&quot;node 7&quot;,&quot;node 8&quot;,&quot;node 9&quot;,&quot;node 10&quot;,&quot;node 11&quot;,&quot;node 12&quot;,&quot;node 13&quot;,&quot;node 14&quot;,&quot;node 15&quot;,&quot;node 16&quot;,&quot;node 17&quot;,&quot;node 18&quot;,&quot;node 19&quot;,&quot;node 20&quot;,&quot;node 21&quot;,&quot;node 22&quot;,&quot;node 23&quot;,&quot;node 24&quot;,&quot;node 25&quot;,&quot;node 26&quot;,&quot;node 27&quot;,&quot;node 28&quot;,&quot;node 29&quot;,&quot;node 30&quot;,&quot;node 31&quot;,&quot;node 32&quot;,&quot;node 33&quot;,&quot;node 34&quot;,&quot;node 35&quot;,&quot;node 36&quot;,&quot;node 37&quot;,&quot;node 38&quot;,&quot;node 39&quot;,&quot;node 40&quot;,&quot;node 41&quot;,&quot;node 42&quot;,&quot;node 43&quot;,&quot;node 44&quot;,&quot;node 45&quot;,&quot;node 46&quot;,&quot;node 47&quot;,&quot;node 48&quot;,&quot;node 49&quot;],&quot;links&quot;:[[1,42,0.9967917361826617],[2,40,0.9965654604745143],[3,11,0.9910518124112556],[3,15,0.9939252773489365],[7,19,0.9963884414897284],[8,32,0.9994336974619008],[9,28,0.9820992596252333],[9,43,0.9930306829121868],[10,7,0.9956917496023183],[11,40,0.9929288497006991],[12,2,0.9805512007022734],[12,27,0.9844559954798252],[15,19,0.9921153287022318],[17,30,0.9803039472448838],[18,6,0.9910099933270837],[18,42,0.9886227549895235],[19,15,0.9936028502899372],[19,24,0.9920385211094891],[21,46,0.9882754206624373],[22,45,0.9955850317923459],[24,6,0.9936798865921749],[24,48,0.9896181181495739],[25,10,0.9918471479800623],[25,11,0.9897400566117056],[25,32,0.9844281453155441],[25,36,0.9920872899760058],[25,39,0.997780888344787],[25,40,0.9872940826613524],[26,48,0.9990632754643701],[27,16,0.9923363434013737],[27,26,0.9819147752003462],[28,37,0.9901343782241727],[30,28,0.9856390264759061],[30,32,0.9957762177770266],[31,36,0.9967153939125493],[35,38,0.9947611819014651],[36,19,0.9884673124370651],[37,1,0.9913842937351356],[37,39,0.9871383451377196],[38,7,0.9888092615534286],[39,3,0.9903756969069737],[40,33,0.9992269776592486],[40,47,0.9881647400430563],[41,10,0.9826665726248748],[43,18,0.9867410948697107],[43,25,0.9939929688132793],[43,43,0.9814609239436801],[45,30,0.9963822578607172],[46,15,0.986493032051861],[46,20,0.991563725861803],[46,47,0.9816058396899553]]}\" data-images=\"[]\" data-options=\"{&quot;width&quot;:600,&quot;description&quot;:null,&quot;height&quot;:null}\" id=\"viz-a91f9004-9924-4d8a-91ec-b3a9928e4f2d\" data-initialized=\"false\" class=\"feed-item\"></div></div></div></div><script>window.lightning = window.lightning || {};\n",
       "window.lightning.host = \"http://localhost:3000/\" || 'http://127.0.0.1:3000/';\n",
       "window.lightning.vizCount = (window.lightning.vizCount + 1) || 1;\n",
       "window.lightning.requiredVizTypes = window.lightning.requiredVizTypes || [];\n",
       "if(window.lightning.requiredVizTypes.indexOf(\"circle\") === -1) {\n",
       "    window.lightning.requiredVizTypes.push(\"circle\");\n",
       "}\n",
       "window._require = window.require;\n",
       "window.require = undefined;\n",
       "window._define = window.define;\n",
       "window.define = undefined;</script><script src=\"http://localhost:3000/js/embed.js\"></script>"
      ],
      "text/plain": [
       "<lightning.types.plots.Circle at 0x105e2cd10>"
      ]
     },
     "execution_count": 30,
     "metadata": {},
     "output_type": "execute_result"
    }
   ],
   "source": [
    "connections = random.rand(50,50)\n",
    "connections[connections<0.98] = 0\n",
    "\n",
    "lgn.circle(connections, labels=['node ' + str(x) for x in range(50)])"
   ]
  },
  {
   "cell_type": "markdown",
   "metadata": {},
   "source": [
    "## <hr> Adding groups"
   ]
  },
  {
   "cell_type": "markdown",
   "metadata": {},
   "source": [
    "Circle plots are useful for visualizing hierarchical relationships. You can specify multiple levels of grouping using a nested list. Let's start with one."
   ]
  },
  {
   "cell_type": "code",
   "execution_count": 31,
   "metadata": {
    "collapsed": false
   },
   "outputs": [
    {
     "data": {
      "text/html": [
       "<meta name=\"viewport\" content=\"width=device-width, initial-scale=1, maximum-scale=1\"/><meta http-equiv=\"X-UA-Compatible\" content=\"IE=10; IE=9; IE=8; IE=7; IE=EDGE\"/><meta charset=\"UTF-8\"/><link href=\"//fonts.googleapis.com/css?family=Open+Sans:400,700\" rel=\"stylesheet\" type=\"text/css\"/><link rel=\"stylesheet\" href=\"http://localhost:3000/css/app.css\"/><link rel=\"stylesheet\" href=\"http://localhost:3000/css/dynamic/viz/?visualizations[]=circle\"/><div id=\"lightning-body\" class=\"container content wrap push\"><div class=\"feed-container\"><div data-model=\"visualization\" data-model-id=\"6edc6a13-a962-4530-9a97-c653ab4f641c\" class=\"feed-item-container\"><div data-type=\"lightning-circle\" data-data=\"{&quot;nodes&quot;:[0,1,2,3,4,5,6,7,8,9,10,11,12,13,14,15,16,17,18,19,20,21,22,23,24,25,26,27,28,29,30,31,32,33,34,35,36,37,38,39,40,41,42,43,44,45,46,47,48,49],&quot;labels&quot;:[&quot;group 2&quot;,&quot;group 1&quot;,&quot;group 0&quot;,&quot;group 2&quot;,&quot;group 0&quot;,&quot;group 0&quot;,&quot;group 1&quot;,&quot;group 2&quot;,&quot;group 0&quot;,&quot;group 1&quot;,&quot;group 1&quot;,&quot;group 2&quot;,&quot;group 1&quot;,&quot;group 1&quot;,&quot;group 1&quot;,&quot;group 1&quot;,&quot;group 0&quot;,&quot;group 2&quot;,&quot;group 2&quot;,&quot;group 2&quot;,&quot;group 0&quot;,&quot;group 0&quot;,&quot;group 1&quot;,&quot;group 0&quot;,&quot;group 2&quot;,&quot;group 2&quot;,&quot;group 0&quot;,&quot;group 1&quot;,&quot;group 1&quot;,&quot;group 0&quot;,&quot;group 1&quot;,&quot;group 1&quot;,&quot;group 1&quot;,&quot;group 1&quot;,&quot;group 0&quot;,&quot;group 2&quot;,&quot;group 1&quot;,&quot;group 0&quot;,&quot;group 1&quot;,&quot;group 2&quot;,&quot;group 2&quot;,&quot;group 2&quot;,&quot;group 2&quot;,&quot;group 2&quot;,&quot;group 2&quot;,&quot;group 2&quot;,&quot;group 0&quot;,&quot;group 0&quot;,&quot;group 0&quot;,&quot;group 0&quot;],&quot;group&quot;:[[2,1,0,2,0,0,1,2,0,1,1,2,1,1,1,1,0,2,2,2,0,0,1,0,2,2,0,1,1,0,1,1,1,1,0,2,1,0,1,2,2,2,2,2,2,2,0,0,0,0]],&quot;links&quot;:[[0,11,0.9979962557789862],[0,21,0.9888973463744329],[1,15,0.9821948044689415],[1,21,0.9945243840845593],[2,45,0.9808040118037455],[3,7,0.9801208692949444],[3,25,0.9892271251806288],[6,26,0.9858879955366318],[6,32,0.9916495156137303],[7,12,0.9828790230783093],[8,29,0.9850445908908791],[9,4,0.9915855512619068],[9,15,0.9929413726852403],[10,36,0.9907665345453781],[11,18,0.9970825140203814],[13,4,0.9834184900881817],[14,25,0.984268945169771],[15,39,0.9975038742208995],[17,27,0.986276065737242],[19,20,0.9915916922144128],[21,41,0.9977717530150545],[22,23,0.9971198889600379],[22,40,0.9972415510932632],[23,19,0.9827603277988443],[23,20,0.9935477792024283],[25,30,0.9937895788477241],[26,49,0.9879082449870609],[27,31,0.9857808352166684],[27,43,0.9970262884653628],[28,7,0.9887304128258662],[29,16,0.9888151656892715],[33,4,0.9923529819754361],[33,12,0.9832073255790819],[33,36,0.9981848669370953],[37,2,0.9837210014426429],[40,35,0.9812295778119379],[41,41,0.9925637937010992],[42,0,0.9862797396363274],[42,14,0.9911993220733519],[43,1,0.9884481918359188],[44,45,0.9901738038797431],[46,16,0.9813778597623641],[47,46,0.9959919279028796],[49,17,0.9881137182967568],[49,45,0.9946573765960329]]}\" data-images=\"[]\" data-options=\"{&quot;width&quot;:600,&quot;description&quot;:null,&quot;height&quot;:null}\" id=\"viz-6edc6a13-a962-4530-9a97-c653ab4f641c\" data-initialized=\"false\" class=\"feed-item\"></div></div></div></div><script>window.lightning = window.lightning || {};\n",
       "window.lightning.host = \"http://localhost:3000/\" || 'http://127.0.0.1:3000/';\n",
       "window.lightning.vizCount = (window.lightning.vizCount + 1) || 1;\n",
       "window.lightning.requiredVizTypes = window.lightning.requiredVizTypes || [];\n",
       "if(window.lightning.requiredVizTypes.indexOf(\"circle\") === -1) {\n",
       "    window.lightning.requiredVizTypes.push(\"circle\");\n",
       "}\n",
       "window._require = window.require;\n",
       "window.require = undefined;\n",
       "window._define = window.define;\n",
       "window.define = undefined;</script><script src=\"http://localhost:3000/js/embed.js\"></script>"
      ],
      "text/plain": [
       "<lightning.types.plots.Circle at 0x10778ed50>"
      ]
     },
     "execution_count": 31,
     "metadata": {},
     "output_type": "execute_result"
    }
   ],
   "source": [
    "connections = random.rand(50,50)\n",
    "connections[connections<0.98] = 0\n",
    "\n",
    "group = (random.rand(50) * 3).astype('int')\n",
    "lgn.circle(connections, labels=['group ' + str(x) for x in group], group=group)"
   ]
  },
  {
   "cell_type": "markdown",
   "metadata": {},
   "source": [
    "## <hr> Nested groups"
   ]
  },
  {
   "cell_type": "markdown",
   "metadata": {},
   "source": [
    "And now try adding a second level. We'll label by the second group to make clear what's going on. If you click on any of the outermost arcs, it will highlight connections to/from that group."
   ]
  },
  {
   "cell_type": "code",
   "execution_count": 34,
   "metadata": {
    "collapsed": false
   },
   "outputs": [
    {
     "data": {
      "text/html": [
       "<meta name=\"viewport\" content=\"width=device-width, initial-scale=1, maximum-scale=1\"/><meta http-equiv=\"X-UA-Compatible\" content=\"IE=10; IE=9; IE=8; IE=7; IE=EDGE\"/><meta charset=\"UTF-8\"/><link href=\"//fonts.googleapis.com/css?family=Open+Sans:400,700\" rel=\"stylesheet\" type=\"text/css\"/><link rel=\"stylesheet\" href=\"http://localhost:3000/css/app.css\"/><link rel=\"stylesheet\" href=\"http://localhost:3000/css/dynamic/viz/?visualizations[]=circle\"/><div id=\"lightning-body\" class=\"container content wrap push\"><div class=\"feed-container\"><div data-model=\"visualization\" data-model-id=\"a6c05db8-abf2-4a02-b500-b97cd27690f8\" class=\"feed-item-container\"><div data-type=\"lightning-circle\" data-data=\"{&quot;nodes&quot;:[0,1,2,3,4,5,6,7,8,9,10,11,12,13,14,15,16,17,18,19,20,21,22,23,24,25,26,27,28,29,30,31,32,33,34,35,36,37,38,39,40,41,42,43,44,45,46,47,48,49],&quot;labels&quot;:[&quot;group 0&quot;,&quot;group 3&quot;,&quot;group 1&quot;,&quot;group 0&quot;,&quot;group 3&quot;,&quot;group 2&quot;,&quot;group 0&quot;,&quot;group 3&quot;,&quot;group 0&quot;,&quot;group 1&quot;,&quot;group 2&quot;,&quot;group 1&quot;,&quot;group 2&quot;,&quot;group 0&quot;,&quot;group 2&quot;,&quot;group 1&quot;,&quot;group 0&quot;,&quot;group 1&quot;,&quot;group 3&quot;,&quot;group 0&quot;,&quot;group 1&quot;,&quot;group 0&quot;,&quot;group 2&quot;,&quot;group 3&quot;,&quot;group 2&quot;,&quot;group 0&quot;,&quot;group 0&quot;,&quot;group 2&quot;,&quot;group 0&quot;,&quot;group 1&quot;,&quot;group 3&quot;,&quot;group 2&quot;,&quot;group 1&quot;,&quot;group 3&quot;,&quot;group 1&quot;,&quot;group 1&quot;,&quot;group 0&quot;,&quot;group 0&quot;,&quot;group 1&quot;,&quot;group 0&quot;,&quot;group 1&quot;,&quot;group 3&quot;,&quot;group 0&quot;,&quot;group 3&quot;,&quot;group 3&quot;,&quot;group 1&quot;,&quot;group 2&quot;,&quot;group 1&quot;,&quot;group 1&quot;,&quot;group 0&quot;],&quot;group&quot;:[[2,1,0,0,0,1,0,2,2,1,2,1,2,1,2,0,2,2,1,0,1,2,2,2,0,2,1,0,0,1,0,2,0,2,1,0,0,1,1,1,1,1,1,1,2,1,0,2,1,1],[0,3,1,0,3,2,0,3,0,1,2,1,2,0,2,1,0,1,3,0,1,0,2,3,2,0,0,2,0,1,3,2,1,3,1,1,0,0,1,0,1,3,0,3,3,1,2,1,1,0]],&quot;links&quot;:[[0,13,0.9914388037103236],[0,44,0.9941258627545331],[2,39,0.9807983140997341],[3,16,0.9889291929951154],[4,19,0.9855297512794439],[11,4,0.9944717801646721],[13,23,0.9911902492898687],[17,8,0.9959568669653854],[18,12,0.9845570834021643],[18,16,0.9976300630573585],[18,25,0.9989327758564152],[20,47,0.985045780721191],[21,13,0.9832487338425738],[21,47,0.9878315207888567],[22,11,0.9866232996848918],[24,19,0.9882575487500777],[24,21,0.9872656744067797],[27,10,0.9849311067858134],[30,41,0.983573945066195],[31,5,0.9874607997588148],[31,11,0.9865690576901007],[32,5,0.9801082305162107],[32,16,0.9901069521105078],[33,12,0.9916905045514246],[34,15,0.9905415858155013],[36,46,0.9862293649566908],[37,27,0.9851003649992628],[37,49,0.9908400100744912],[40,41,0.9900504259893173],[41,9,0.9905334017205707],[42,34,0.9927188917482269],[42,41,0.9807333884793514],[43,10,0.9913998957325035],[43,17,0.9950067487056751],[44,2,0.9985835921822649],[44,32,0.9809718181398346],[45,33,0.9997311868456156],[45,48,0.9820628219001685],[47,13,0.9891329129253824],[47,43,0.9820735502585852],[48,6,0.9939390510807579],[49,45,0.9946747621690168]]}\" data-images=\"[]\" data-options=\"{&quot;width&quot;:600,&quot;description&quot;:null,&quot;height&quot;:null}\" id=\"viz-a6c05db8-abf2-4a02-b500-b97cd27690f8\" data-initialized=\"false\" class=\"feed-item\"></div></div></div></div><script>window.lightning = window.lightning || {};\n",
       "window.lightning.host = \"http://localhost:3000/\" || 'http://127.0.0.1:3000/';\n",
       "window.lightning.vizCount = (window.lightning.vizCount + 1) || 1;\n",
       "window.lightning.requiredVizTypes = window.lightning.requiredVizTypes || [];\n",
       "if(window.lightning.requiredVizTypes.indexOf(\"circle\") === -1) {\n",
       "    window.lightning.requiredVizTypes.push(\"circle\");\n",
       "}\n",
       "window._require = window.require;\n",
       "window.require = undefined;\n",
       "window._define = window.define;\n",
       "window.define = undefined;</script><script src=\"http://localhost:3000/js/embed.js\"></script>"
      ],
      "text/plain": [
       "<lightning.types.plots.Circle at 0x105526fd0>"
      ]
     },
     "execution_count": 34,
     "metadata": {},
     "output_type": "execute_result"
    }
   ],
   "source": [
    "connections = random.rand(50,50)\n",
    "connections[connections<0.98] = 0\n",
    "\n",
    "group1 = (random.rand(50) * 3).astype('int')\n",
    "group2 = (random.rand(50) * 4).astype('int')\n",
    "lgn.circle(connections, labels=['group ' + str(x) for x in group2], group=[group1, group2])"
   ]
  }
 ],
 "metadata": {
  "kernelspec": {
   "display_name": "Python 2",
   "language": "python",
   "name": "python2"
  },
  "language_info": {
   "codemirror_mode": {
    "name": "ipython",
    "version": 2
   },
   "file_extension": ".py",
   "mimetype": "text/x-python",
   "name": "python",
   "nbconvert_exporter": "python",
   "pygments_lexer": "ipython2",
   "version": "2.7.9"
  }
 },
 "nbformat": 4,
 "nbformat_minor": 0
}
