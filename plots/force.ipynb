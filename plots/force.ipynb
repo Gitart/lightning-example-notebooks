{
 "cells": [
  {
   "cell_type": "markdown",
   "metadata": {},
   "source": [
    "# <img style='float: left' src=\"http://lightning-viz.github.io/images/logo.png\"> <br> <br> &nbsp;&nbsp;&nbsp;&nbsp;&nbsp;Force-directed graphs in <a href='http://lightning-viz.github.io/'><font color='#9175f0'>Lightning</font></a>"
   ]
  },
  {
   "cell_type": "markdown",
   "metadata": {},
   "source": [
    "## <hr> Setup"
   ]
  },
  {
   "cell_type": "code",
   "execution_count": 2,
   "metadata": {
    "collapsed": false
   },
   "outputs": [],
   "source": [
    "import os\n",
    "from lightning import Lightning\n",
    "\n",
    "from numpy import random, asarray, linspace, corrcoef\n",
    "from colorsys import hsv_to_rgb\n",
    "from sklearn import datasets\n",
    "import networkx as nx"
   ]
  },
  {
   "cell_type": "markdown",
   "metadata": {},
   "source": [
    "## Connect to server"
   ]
  },
  {
   "cell_type": "code",
   "execution_count": 3,
   "metadata": {
    "collapsed": false
   },
   "outputs": [
    {
     "data": {
      "text/html": [
       "<div style='margin-top:8px'><img src='data:image/png;base64,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' width='30px' height='35px' style='display: inline-block; padding-right: 10px'></img><span>Lightning initialized</span></div>"
      ],
      "text/plain": [
       "<IPython.core.display.HTML object>"
      ]
     },
     "metadata": {},
     "output_type": "display_data"
    },
    {
     "name": "stdout",
     "output_type": "stream",
     "text": [
      "Connected to server at http://public.lightning-viz.org\n"
     ]
    },
    {
     "data": {
      "application/javascript": [
       "(function e(t,n,r){function s(o,u){if(!n[o]){if(!t[o]){var a=typeof require==\"function\"&&require;if(!u&&a)return a(o,!0);if(i)return i(o,!0);throw new Error(\"Cannot find module '\"+o+\"'\")}var f=n[o]={exports:{}};t[o][0].call(f.exports,function(e){var n=t[o][1][e];return s(n?n:e)},f,f.exports,e,t,n,r)}return n[o].exports}var i=typeof require==\"function\"&&require;for(var o=0;o<r.length;o++)s(r[o]);return s})({1:[function(require,module,exports){\n",
       "window.lightning = window.lightning || {};\n",
       "var lightningCommMap = {};\n",
       "\n",
       "var readCommData = function(commData, field) {\n",
       "    try {\n",
       "        return commData.content.data[field];\n",
       "    } catch (err) {\n",
       "        return;\n",
       "    }\n",
       "};\n",
       "\n",
       "\n",
       "var init_comm = function() {\n",
       "    IPython.notebook.kernel.comm_manager.register_target('lightning', function(comm, data) {\n",
       "        var id = readCommData(data, 'id');\n",
       "        lightningCommMap[id] = comm;\n",
       "    });\n",
       "\n",
       "    window.lightning.comm_map = lightningCommMap;\n",
       "}\n",
       "\n",
       "\n",
       "if(IPython && IPython.notebook) {\n",
       "\n",
       "    if(IPython.notebook.kernel) {\n",
       "        init_comm();\n",
       "    }\n",
       "\n",
       "    IPython.notebook.events.on('kernel_connected.Kernel', init_comm);\n",
       "\n",
       "}\n",
       "\n",
       "\n",
       "},{}]},{},[1])\n",
       "//# sourceMappingURL=data:application/json;base64,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\n"
      ],
      "text/plain": [
       "<IPython.core.display.Javascript object>"
      ]
     },
     "metadata": {},
     "output_type": "display_data"
    }
   ],
   "source": [
    "lgn = Lightning(ipython=True, host='http://public.lightning-viz.org')"
   ]
  },
  {
   "cell_type": "markdown",
   "metadata": {},
   "source": [
    "## <hr> Random binary network"
   ]
  },
  {
   "cell_type": "markdown",
   "metadata": {},
   "source": [
    "A random graph where every node has the same degree, with default styling.\n",
    "<br>\n",
    "This and other graph plots take matrices (e.g. adjacency matrices) as inputs.\n",
    "<br>\n",
    "We use the `networkx` library to generate the graph, then get its adjancency matrix.\n",
    "<br>\n",
    "Double click on a point to see its neighbors (all should have 3).\n",
    "<br>\n",
    "Drag points to try and move the graph, it should remain tight because of the degree structure."
   ]
  },
  {
   "cell_type": "code",
   "execution_count": 4,
   "metadata": {
    "collapsed": false
   },
   "outputs": [
    {
     "data": {
      "text/html": [
       "<meta name=\"viewport\" content=\"width=device-width, initial-scale=1, maximum-scale=1\"/><meta http-equiv=\"X-UA-Compatible\" content=\"IE=10; IE=9; IE=8; IE=7; IE=EDGE\"/><meta charset=\"UTF-8\"/><link href=\"//fonts.googleapis.com/css?family=Open+Sans:400,700\" rel=\"stylesheet\" type=\"text/css\"/><link rel=\"stylesheet\" href=\"http://public.lightning-viz.org/css/app.css\"/><link rel=\"stylesheet\" href=\"http://public.lightning-viz.org/css/dynamic/viz/?visualizations[]=force\"/><div id=\"lightning-body\" class=\"container content wrap push\"><div class=\"feed-container\"><div data-model=\"visualization\" data-model-id=\"86b35138-2904-4323-a1e1-2605d67f7b63\" class=\"feed-item-container\"><div data-type=\"lightning-force\" data-data=\"{&quot;nodes&quot;:[0,1,2,3,4,5,6,7,8,9,10,11,12,13,14,15,16,17,18,19,20,21,22,23,24,25,26,27,28,29,30,31,32,33,34,35,36,37,38,39,40,41,42,43,44,45,46,47,48,49,50,51,52,53,54,55,56,57,58,59,60,61,62,63,64,65,66,67,68,69,70,71,72,73,74,75,76,77,78,79,80,81,82,83,84,85,86,87,88,89,90,91,92,93,94,95,96,97,98,99],&quot;links&quot;:[[0,46,1],[0,50,1],[0,94,1],[1,9,1],[1,17,1],[1,18,1],[2,14,1],[2,72,1],[2,87,1],[3,23,1],[3,47,1],[3,52,1],[4,80,1],[4,89,1],[4,96,1],[5,39,1],[5,63,1],[5,79,1],[6,33,1],[6,82,1],[6,90,1],[7,16,1],[7,19,1],[7,73,1],[8,20,1],[8,24,1],[8,71,1],[9,1,1],[9,30,1],[9,62,1],[10,11,1],[10,21,1],[10,26,1],[11,10,1],[11,43,1],[11,49,1],[12,20,1],[12,35,1],[12,39,1],[13,27,1],[13,31,1],[13,79,1],[14,2,1],[14,32,1],[14,76,1],[15,29,1],[15,44,1],[15,48,1],[16,7,1],[16,31,1],[16,59,1],[17,1,1],[17,46,1],[17,82,1],[18,1,1],[18,61,1],[18,70,1],[19,7,1],[19,77,1],[19,88,1],[20,8,1],[20,12,1],[20,48,1],[21,10,1],[21,47,1],[21,98,1],[22,28,1],[22,53,1],[22,75,1],[23,3,1],[23,62,1],[23,78,1],[24,8,1],[24,58,1],[24,65,1],[25,38,1],[25,67,1],[25,77,1],[26,10,1],[26,30,1],[26,83,1],[27,13,1],[27,52,1],[27,58,1],[28,22,1],[28,45,1],[28,64,1],[29,15,1],[29,62,1],[29,74,1],[30,9,1],[30,26,1],[30,81,1],[31,13,1],[31,16,1],[31,95,1],[32,14,1],[32,35,1],[32,66,1],[33,6,1],[33,37,1],[33,83,1],[34,81,1],[34,86,1],[34,94,1],[35,12,1],[35,32,1],[35,85,1],[36,47,1],[36,68,1],[36,78,1],[37,33,1],[37,55,1],[37,82,1],[38,25,1],[38,41,1],[38,72,1],[39,5,1],[39,12,1],[39,99,1],[40,42,1],[40,67,1],[40,80,1],[41,38,1],[41,58,1],[41,66,1],[42,40,1],[42,51,1],[42,97,1],[43,11,1],[43,64,1],[43,91,1],[44,15,1],[44,60,1],[44,83,1],[45,28,1],[45,55,1],[45,73,1],[46,0,1],[46,17,1],[46,86,1],[47,3,1],[47,21,1],[47,36,1],[48,15,1],[48,20,1],[48,85,1],[49,11,1],[49,54,1],[49,98,1],[50,0,1],[50,70,1],[50,84,1],[51,42,1],[51,71,1],[51,97,1],[52,3,1],[52,27,1],[52,57,1],[53,22,1],[53,74,1],[53,91,1],[54,49,1],[54,56,1],[54,74,1],[55,37,1],[55,45,1],[55,72,1],[56,54,1],[56,87,1],[56,92,1],[57,52,1],[57,67,1],[57,91,1],[58,24,1],[58,27,1],[58,41,1],[59,16,1],[59,94,1],[59,95,1],[60,44,1],[60,64,1],[60,92,1],[61,18,1],[61,66,1],[61,87,1],[62,9,1],[62,23,1],[62,29,1],[63,5,1],[63,93,1],[63,98,1],[64,28,1],[64,43,1],[64,60,1],[65,24,1],[65,84,1],[65,96,1],[66,32,1],[66,41,1],[66,61,1],[67,25,1],[67,40,1],[67,57,1],[68,36,1],[68,75,1],[68,76,1],[69,70,1],[69,78,1],[69,86,1],[70,18,1],[70,50,1],[70,69,1],[71,8,1],[71,51,1],[71,90,1],[72,2,1],[72,38,1],[72,55,1],[73,7,1],[73,45,1],[73,96,1],[74,29,1],[74,53,1],[74,54,1],[75,22,1],[75,68,1],[75,81,1],[76,14,1],[76,68,1],[76,84,1],[77,19,1],[77,25,1],[77,97,1],[78,23,1],[78,36,1],[78,69,1],[79,5,1],[79,13,1],[79,95,1],[80,4,1],[80,40,1],[80,85,1],[81,30,1],[81,34,1],[81,75,1],[82,6,1],[82,17,1],[82,37,1],[83,26,1],[83,33,1],[83,44,1],[84,50,1],[84,65,1],[84,76,1],[85,35,1],[85,48,1],[85,80,1],[86,34,1],[86,46,1],[86,69,1],[87,2,1],[87,56,1],[87,61,1],[88,19,1],[88,90,1],[88,93,1],[89,4,1],[89,93,1],[89,99,1],[90,6,1],[90,71,1],[90,88,1],[91,43,1],[91,53,1],[91,57,1],[92,56,1],[92,60,1],[92,99,1],[93,63,1],[93,88,1],[93,89,1],[94,0,1],[94,34,1],[94,59,1],[95,31,1],[95,59,1],[95,79,1],[96,4,1],[96,65,1],[96,73,1],[97,42,1],[97,51,1],[97,77,1],[98,21,1],[98,49,1],[98,63,1],[99,39,1],[99,89,1],[99,92,1]]}\" data-images=\"null\" data-options=\"{&quot;tooltips&quot;:true,&quot;description&quot;:null,&quot;zoom&quot;:true,&quot;height&quot;:null,&quot;width&quot;:600,&quot;brush&quot;:true}\" id=\"viz-86b35138-2904-4323-a1e1-2605d67f7b63\" data-initialized=\"false\" class=\"feed-item\"></div></div></div></div><script>window.lightning = window.lightning || {};\n",
       "window.lightning.host = \"http://public.lightning-viz.org/\" || 'http://127.0.0.1:3000/';\n",
       "window.lightning.vizCount = (window.lightning.vizCount + 1) || 1;\n",
       "window.lightning.requiredVizTypes = window.lightning.requiredVizTypes || [];\n",
       "if(window.lightning.requiredVizTypes.indexOf(\"force\") === -1) {\n",
       "    window.lightning.requiredVizTypes.push(\"force\");\n",
       "}\n",
       "window._require = window.require;\n",
       "window.require = undefined;\n",
       "window._define = window.define;\n",
       "window.define = undefined;</script><script src=\"http://public.lightning-viz.org/js/embed.js\"></script>"
      ],
      "text/plain": [
       "<lightning.types.plots.Force at 0x106f7eb50>"
      ]
     },
     "execution_count": 4,
     "metadata": {},
     "output_type": "execute_result"
    }
   ],
   "source": [
    "n = 100\n",
    "G = nx.random_regular_graph(3,n)\n",
    "mat = nx.adjacency_matrix(G).todense()\n",
    "lgn.force(mat)"
   ]
  },
  {
   "cell_type": "markdown",
   "metadata": {},
   "source": [
    "## <hr> Random weighted network"
   ]
  },
  {
   "cell_type": "markdown",
   "metadata": {},
   "source": [
    "The previous network was binary (all links either 0 or 1).\n",
    "Here the links are weighted, which is reflected in the line widths."
   ]
  },
  {
   "cell_type": "code",
   "execution_count": 5,
   "metadata": {
    "collapsed": false
   },
   "outputs": [
    {
     "data": {
      "text/html": [
       "<meta name=\"viewport\" content=\"width=device-width, initial-scale=1, maximum-scale=1\"/><meta http-equiv=\"X-UA-Compatible\" content=\"IE=10; IE=9; IE=8; IE=7; IE=EDGE\"/><meta charset=\"UTF-8\"/><link href=\"//fonts.googleapis.com/css?family=Open+Sans:400,700\" rel=\"stylesheet\" type=\"text/css\"/><link rel=\"stylesheet\" href=\"http://public.lightning-viz.org/css/app.css\"/><link rel=\"stylesheet\" href=\"http://public.lightning-viz.org/css/dynamic/viz/?visualizations[]=force\"/><div id=\"lightning-body\" class=\"container content wrap push\"><div class=\"feed-container\"><div data-model=\"visualization\" data-model-id=\"faa81b42-9c33-4edd-b3e6-71af3c007d23\" class=\"feed-item-container\"><div data-type=\"lightning-force\" data-data=\"{&quot;nodes&quot;:[0,1,2,3,4,5,6,7,8,9,10,11,12,13,14,15,16,17,18,19,20,21,22,23,24,25,26,27,28,29,30,31,32,33,34,35,36,37,38,39,40,41,42,43,44,45,46,47,48,49,50,51,52,53,54,55,56,57,58,59,60,61,62,63,64,65,66,67,68,69,70,71,72,73,74,75,76,77,78,79,80,81,82,83,84,85,86,87,88,89,90,91,92,93,94,95,96,97,98,99],&quot;links&quot;:[[0,17,12.752670965952527],[0,81,0.34092642839542525],[0,88,0.35389867730265323],[1,7,0.9119305444927638],[1,11,21.439597229123144],[1,94,19.223722177251815],[2,21,6.251642360270966],[2,56,2.336526606436718],[2,99,12.321745612808638],[3,5,5.6788259901736655],[3,19,11.876326660627287],[3,89,1.279089524039972],[4,53,7.315848578148528],[4,83,9.018080354592204],[4,84,2.4943069336644976],[5,3,24.81896444494677],[5,35,0.003153772369703824],[5,97,22.901070537952112],[6,7,0.16984179083636436],[6,31,1.7429050717637826],[6,94,19.516636966819235],[7,1,5.481864049426777],[7,6,14.05035348241803],[7,59,13.986500996592694],[8,25,12.860128075169667],[8,48,12.265899001986186],[8,73,3.8576673186713997],[9,33,0.026415500408251195],[9,64,0.0136833860266125],[9,83,1.8798243755488058],[10,13,22.388094309916063],[10,16,6.141995147123482],[10,90,7.033392954092716],[11,1,18.429581850517295],[11,76,6.335016195592886],[11,84,11.967097746548426],[12,25,22.800473394735533],[12,31,13.667670212958349],[12,46,0.10254075979352197],[13,10,1.70904692512151],[13,55,11.072237873018864],[13,58,2.683811034261524],[14,51,0.1774061519998317],[14,71,4.6818366608736826],[14,86,24.790760320786692],[15,35,0.375534427691746],[15,57,6.7988590613877085],[15,61,19.890827685924197],[16,10,5.751618134555934],[16,71,20.07113709978444],[16,97,12.784457928530754],[17,0,2.6164121668627343],[17,54,6.182454888147312],[17,65,4.1045987560678485],[18,41,14.066221323775506],[18,43,15.928225548587582],[18,64,12.405737590670592],[19,3,2.402246539039562],[19,39,11.188514325978945],[19,79,1.4701351305698713],[20,52,3.0612349404036987],[20,60,3.7181907942038563],[20,97,2.722978959745175],[21,2,12.925172323461673],[21,30,6.431825645004744],[21,80,2.2207872527128236],[22,27,1.1060457323956017],[22,37,19.35521969450644],[22,91,19.768554736694522],[23,43,7.582037522201426],[23,59,19.748407073368963],[23,67,3.1402146991119264],[24,29,10.908682406780498],[24,42,1.8040092605527882],[24,85,2.564360689976038],[25,8,13.544881242156617],[25,12,17.79647495452739],[25,30,6.964806151659562],[26,50,22.15891648799043],[26,56,1.282714932842314],[26,62,0.011889515440701598],[27,22,5.818811624096369],[27,29,2.9176917956611668],[27,76,8.574635126608836],[28,42,3.770159424158031],[28,62,19.338433877651667],[28,88,8.388675486832707],[29,24,17.048109719081513],[29,27,5.898320821968298],[29,62,13.064062210400653],[30,21,22.967209766235637],[30,25,0.11876140158229247],[30,39,12.757062957240908],[31,6,1.7100020908684412],[31,12,10.598652207085497],[31,47,0.14147141793804427],[32,49,2.9849896801433213],[32,52,4.684965142318237],[32,82,4.515961257774834],[33,9,0.1738148880014381],[33,34,12.800403841158108],[33,69,7.508150820897909],[34,33,0.01166138731320306],[34,56,0.0037035295110676657],[34,60,0.777509141711213],[35,5,7.737290393347536],[35,15,6.626036056216156],[35,59,17.490312521596756],[36,66,0.8129746108685036],[36,68,15.341020769338233],[36,79,1.4918501404755522],[37,22,2.402406342484813],[37,67,0.03624557851871931],[37,82,0.10198882249564843],[38,50,1.5404640193060302],[38,54,1.3960083688017006],[38,87,14.410336825386159],[39,19,24.475526220919388],[39,30,9.47387898513279],[39,47,0.002675643716171512],[40,58,5.393694639332558],[40,65,16.872529264458578],[40,98,21.073287837531364],[41,18,5.489123146306719],[41,72,2.397479317991371],[41,90,20.30881019110862],[42,24,0.04318823021229494],[42,28,0.2151132415920975],[42,54,10.664278184795812],[43,18,10.815330702682711],[43,23,0.8839258477935998],[43,93,0.717779518380475],[44,67,0.9672267406982147],[44,81,23.217680783883328],[44,85,1.3718389513733775],[45,49,2.142235692837721],[45,74,5.5667732348844625],[45,91,0.9060657719563595],[46,12,0.011790795656088433],[46,50,0.0010609443274532896],[46,92,3.7639998336181772],[47,31,8.240256602301637],[47,39,1.5746024474539746],[47,90,1.1721872913623104],[48,8,0.02321009782549048],[48,55,17.713934839560014],[48,74,5.672593910005761],[49,32,7.513440642717729],[49,45,12.537217737511785],[49,98,19.721066308141367],[50,26,0.7973128562670974],[50,38,2.7566246859657513],[50,46,7.09195874357901],[51,14,22.03595583127661],[51,81,9.057911071384163],[51,96,1.7724073101611748],[52,20,22.006403816701063],[52,32,6.739083946013941],[52,92,8.077725045162026],[53,4,8.179295055815068],[53,63,14.691359745902341],[53,87,0.3160225701528465],[54,17,0.3822509632687575],[54,38,4.724198555051848],[54,42,1.4655766028466817],[55,13,0.8011403248750589],[55,48,3.2936991268705116],[55,78,7.021676861419803],[56,2,8.502386393148345],[56,26,11.772469974430166],[56,34,0.04387612843475548],[57,15,6.251081874508831],[57,73,0.13867824140887222],[57,95,7.0413025090930885],[58,13,4.962068482687468],[58,40,23.975307013970163],[58,85,5.426681690694333],[59,7,2.1450153565371752],[59,23,10.044377233013723],[59,35,15.934454419096431],[60,20,0.8795548442147422],[60,34,3.9482166665137903],[60,79,7.842228486687162],[61,15,3.9846828095099918],[61,65,23.58632522432174],[61,71,0.9022051012088287],[62,26,24.74789447233342],[62,28,9.729266727641953],[62,29,16.71524140841505],[63,53,12.042856222058985],[63,72,0.5111130128695962],[63,78,1.3553730049385004],[64,9,19.86822881092794],[64,18,22.955536732760887],[64,80,8.505766092376026],[65,17,15.603297036240754],[65,40,20.23031202523089],[65,61,7.248961984569819],[66,36,18.03839106184101],[66,77,16.03996168224163],[66,91,13.292335046041382],[67,23,8.526462416184543],[67,37,9.406415279601305],[67,44,8.985312659925127],[68,36,14.169660254290296],[68,77,4.1766114765846645],[68,98,4.639700713647927],[69,33,6.061024733849179],[69,92,4.145284032999179],[69,99,24.19093319850405],[70,83,16.593919839184647],[70,89,12.640786750291609],[70,95,7.311967643100402],[71,14,0.17062874078984736],[71,16,2.5684688870823575],[71,61,14.868905110749054],[72,41,0.022908091296186994],[72,63,0.9305919142567333],[72,77,12.759628386479832],[73,8,7.660024835124977],[73,57,0.1934599384802355],[73,95,1.8867690701502766],[74,45,0.0000933038638745536],[74,48,0.23052863310926225],[74,76,19.535908968156097],[75,89,20.75028619381284],[75,93,1.2507512579161142],[75,94,3.062446866396048],[76,11,12.358484991065184],[76,27,22.4147029395912],[76,74,3.0778579658616696],[77,66,9.436288602951306],[77,68,6.8736591837574545],[77,72,13.354941739755194],[78,55,6.68150305982764],[78,63,10.117726996094248],[78,96,11.801193447824028],[79,19,0.06699637359905074],[79,36,17.579823038368303],[79,60,11.852874642776412],[80,21,21.798357099972797],[80,64,22.870577062261443],[80,96,16.461322423271742],[81,0,2.1421347772916586],[81,44,0.5364503246973219],[81,51,18.919515719836074],[82,32,12.072797438864693],[82,37,0.034073933946196316],[82,88,3.3021027235256217],[83,4,0.19272963632391746],[83,9,21.768617328939865],[83,70,5.257763292433887],[84,4,12.033566960000593],[84,11,0.2624451703271942],[84,93,5.73900382848267],[85,24,14.668933746439912],[85,44,9.427985070341471],[85,58,1.5439166187535256],[86,14,16.468999559758604],[86,87,13.148564393218924],[86,99,0.19521318106815347],[87,38,24.74441943180672],[87,53,2.5040606764250977],[87,86,5.398652183182883],[88,0,15.765903494650141],[88,28,16.099004653491697],[88,82,18.21926223874143],[89,3,0.2395990680950293],[89,70,9.642496296094636],[89,75,5.815595478672719],[90,10,5.867120319629906],[90,41,17.75489826700043],[90,47,13.256064907887332],[91,22,2.3215050704584006],[91,45,0.46359669171890594],[91,66,5.1497132164455985],[92,46,9.035002480917836],[92,52,21.301869643083478],[92,69,18.09842213709959],[93,43,8.135147854304488],[93,75,2.7049347622235356],[93,84,3.589689827652264],[94,1,1.1179446588210764],[94,6,24.788141073185084],[94,75,18.534343060910285],[95,57,1.8945747822877732],[95,70,8.710061281146558],[95,73,9.248575197511729],[96,51,2.7188090042074435],[96,78,0.21707309555657076],[96,80,0.6654783597080891],[97,5,22.542883028059595],[97,16,1.7330526342164945],[97,20,5.330556998968242],[98,40,15.397068229665326],[98,49,8.283178699040077],[98,68,2.727477350028585],[99,2,0.4814327813220084],[99,69,15.811919424830057],[99,86,2.7850269559053555]]}\" data-images=\"null\" data-options=\"{&quot;tooltips&quot;:true,&quot;description&quot;:null,&quot;zoom&quot;:true,&quot;height&quot;:null,&quot;width&quot;:600,&quot;brush&quot;:true}\" id=\"viz-faa81b42-9c33-4edd-b3e6-71af3c007d23\" data-initialized=\"false\" class=\"feed-item\"></div></div></div></div><script>window.lightning = window.lightning || {};\n",
       "window.lightning.host = \"http://public.lightning-viz.org/\" || 'http://127.0.0.1:3000/';\n",
       "window.lightning.vizCount = (window.lightning.vizCount + 1) || 1;\n",
       "window.lightning.requiredVizTypes = window.lightning.requiredVizTypes || [];\n",
       "if(window.lightning.requiredVizTypes.indexOf(\"force\") === -1) {\n",
       "    window.lightning.requiredVizTypes.push(\"force\");\n",
       "}\n",
       "window._require = window.require;\n",
       "window.require = undefined;\n",
       "window._define = window.define;\n",
       "window.define = undefined;</script><script src=\"http://public.lightning-viz.org/js/embed.js\"></script>"
      ],
      "text/plain": [
       "<lightning.types.plots.Force at 0x106fcd190>"
      ]
     },
     "execution_count": 5,
     "metadata": {},
     "output_type": "execute_result"
    }
   ],
   "source": [
    "G = nx.random_regular_graph(3,100)\n",
    "mat = asarray(nx.adjacency_matrix(G).todense()) * (((random.rand(100,100))*5) ** 2)\n",
    "lgn.force(mat)"
   ]
  },
  {
   "cell_type": "markdown",
   "metadata": {},
   "source": [
    "## <hr> Lobster network"
   ]
  },
  {
   "cell_type": "markdown",
   "metadata": {},
   "source": [
    "The lobster graph, a backbone with some leaves, is colored here by node ordering.\n",
    "<br>\n",
    "We also set all nodes with degree less than 2 to gray."
   ]
  },
  {
   "cell_type": "code",
   "execution_count": 6,
   "metadata": {
    "collapsed": false
   },
   "outputs": [
    {
     "data": {
      "text/html": [
       "<meta name=\"viewport\" content=\"width=device-width, initial-scale=1, maximum-scale=1\"/><meta http-equiv=\"X-UA-Compatible\" content=\"IE=10; IE=9; IE=8; IE=7; IE=EDGE\"/><meta charset=\"UTF-8\"/><link href=\"//fonts.googleapis.com/css?family=Open+Sans:400,700\" rel=\"stylesheet\" type=\"text/css\"/><link rel=\"stylesheet\" href=\"http://public.lightning-viz.org/css/app.css\"/><link rel=\"stylesheet\" href=\"http://public.lightning-viz.org/css/dynamic/viz/?visualizations[]=force\"/><div id=\"lightning-body\" class=\"container content wrap push\"><div class=\"feed-container\"><div data-model=\"visualization\" data-model-id=\"ea0090f9-bf1c-4e73-b59e-1bfae81a8aa7\" class=\"feed-item-container\"><div data-type=\"lightning-force\" data-data=\"{&quot;color&quot;:[[150,150,150],[255,67.99999999999999,50.999999999999986],[255,84.99999999999999,50.999999999999986],[255,101.99999999999997,50.999999999999986],[255,118.99999999999997,50.999999999999986],[255,136.00000000000003,50.999999999999986],[255,153,50.999999999999986],[255,170.00000000000003,50.999999999999986],[255,187,50.999999999999986],[255,204,50.999999999999986],[255,221,50.999999999999986],[255,238,50.999999999999986],[255,255,50.999999999999986],[238,255,50.999999999999986],[220.99999999999997,255,50.999999999999986],[204,255,50.999999999999986],[187.00000000000003,255,50.999999999999986],[170.00000000000003,255,50.999999999999986],[153,255,50.999999999999986],[135.99999999999997,255,50.999999999999986],[118.99999999999997,255,50.999999999999986],[101.99999999999997,255,50.999999999999986],[84.99999999999996,255,50.999999999999986],[68.00000000000001,255,50.999999999999986],[50.999999999999986,255,50.999999999999986],[50.999999999999986,255,67.99999999999993],[50.999999999999986,255,84.99999999999996],[50.999999999999986,255,101.99999999999997],[50.999999999999986,255,119.00000000000003],[50.999999999999986,255,136.00000000000006],[50.999999999999986,255,153],[50.999999999999986,255,170.00000000000003],[50.999999999999986,255,186.99999999999997],[50.999999999999986,255,204],[50.999999999999986,255,220.99999999999994],[50.999999999999986,255,237.99999999999997],[50.999999999999986,255,255],[50.999999999999986,238.00000000000006,255],[50.999999999999986,220.99999999999994,255],[50.999999999999986,204,255],[50.999999999999986,186.99999999999997,255],[50.999999999999986,170.00000000000003,255],[50.999999999999986,153,255],[50.999999999999986,136.00000000000006,255],[50.999999999999986,118.99999999999994,255],[50.999999999999986,101.99999999999997,255],[50.999999999999986,85.00000000000004,255],[50.999999999999986,67.99999999999993,255],[50.999999999999986,50.999999999999986,255],[150,150,150],[150,150,150],[150,150,150],[150,150,150],[150,150,150],[150,150,150],[150,150,150],[150,150,150],[150,150,150],[150,150,150],[150,150,150],[150,150,150],[150,150,150],[150,150,150],[150,150,150],[150,150,150],[150,150,150],[150,150,150],[150,150,150],[150,150,150],[150,150,150],[150,150,150],[150,150,150]],&quot;nodes&quot;:[0,1,2,3,4,5,6,7,8,9,10,11,12,13,14,15,16,17,18,19,20,21,22,23,24,25,26,27,28,29,30,31,32,33,34,35,36,37,38,39,40,41,42,43,44,45,46,47,48,49,50,51,52,53,54,55,56,57,58,59,60,61,62,63,64,65,66,67,68,69,70,71],&quot;links&quot;:[[0,1,1],[1,0,1],[1,2,1],[2,1,1],[2,3,1],[2,49,1],[3,2,1],[3,4,1],[3,50,1],[4,3,1],[4,5,1],[4,51,1],[5,4,1],[5,6,1],[6,5,1],[6,7,1],[7,6,1],[7,8,1],[8,7,1],[8,9,1],[8,52,1],[9,8,1],[9,10,1],[10,9,1],[10,11,1],[10,53,1],[11,10,1],[11,12,1],[12,11,1],[12,13,1],[13,12,1],[13,14,1],[13,54,1],[14,13,1],[14,15,1],[14,55,1],[15,14,1],[15,16,1],[15,56,1],[16,15,1],[16,17,1],[17,16,1],[17,18,1],[17,57,1],[18,17,1],[18,19,1],[18,58,1],[19,18,1],[19,20,1],[19,59,1],[20,19,1],[20,21,1],[20,60,1],[21,20,1],[21,22,1],[22,21,1],[22,23,1],[23,22,1],[23,24,1],[23,61,1],[24,23,1],[24,25,1],[25,24,1],[25,26,1],[26,25,1],[26,27,1],[27,26,1],[27,28,1],[27,62,1],[28,27,1],[28,29,1],[29,28,1],[29,30,1],[30,29,1],[30,31,1],[31,30,1],[31,32,1],[31,63,1],[32,31,1],[32,33,1],[33,32,1],[33,34,1],[34,33,1],[34,35,1],[34,64,1],[35,34,1],[35,36,1],[36,35,1],[36,37,1],[36,65,1],[37,36,1],[37,38,1],[37,66,1],[38,37,1],[38,39,1],[39,38,1],[39,40,1],[40,39,1],[40,41,1],[41,40,1],[41,42,1],[42,41,1],[42,43,1],[42,67,1],[43,42,1],[43,44,1],[43,68,1],[44,43,1],[44,45,1],[45,44,1],[45,46,1],[46,45,1],[46,47,1],[46,69,1],[47,46,1],[47,48,1],[47,70,1],[48,47,1],[48,71,1],[49,2,1],[50,3,1],[51,4,1],[52,8,1],[53,10,1],[54,13,1],[55,14,1],[56,15,1],[57,17,1],[58,18,1],[59,19,1],[60,20,1],[61,23,1],[62,27,1],[63,31,1],[64,34,1],[65,36,1],[66,37,1],[67,42,1],[68,43,1],[69,46,1],[70,47,1],[71,48,1]]}\" data-images=\"null\" data-options=\"{&quot;tooltips&quot;:true,&quot;description&quot;:null,&quot;zoom&quot;:true,&quot;height&quot;:null,&quot;width&quot;:600,&quot;brush&quot;:true}\" id=\"viz-ea0090f9-bf1c-4e73-b59e-1bfae81a8aa7\" data-initialized=\"false\" class=\"feed-item\"></div></div></div></div><script>window.lightning = window.lightning || {};\n",
       "window.lightning.host = \"http://public.lightning-viz.org/\" || 'http://127.0.0.1:3000/';\n",
       "window.lightning.vizCount = (window.lightning.vizCount + 1) || 1;\n",
       "window.lightning.requiredVizTypes = window.lightning.requiredVizTypes || [];\n",
       "if(window.lightning.requiredVizTypes.indexOf(\"force\") === -1) {\n",
       "    window.lightning.requiredVizTypes.push(\"force\");\n",
       "}\n",
       "window._require = window.require;\n",
       "window.require = undefined;\n",
       "window._define = window.define;\n",
       "window.define = undefined;</script><script src=\"http://public.lightning-viz.org/js/embed.js\"></script>"
      ],
      "text/plain": [
       "<lightning.types.plots.Force at 0x106ff4ed0>"
      ]
     },
     "execution_count": 6,
     "metadata": {},
     "output_type": "execute_result"
    }
   ],
   "source": [
    "G = nx.random_lobster(60, 0.5, 0.0, seed=44)\n",
    "mat = nx.adjacency_matrix(G).todense()\n",
    "n = len(G.nodes())\n",
    "c = [list(asarray(hsv_to_rgb(float(x) / n , 0.8, 1.0))*255) if y > 1 else [150,150,150] for (x,y) in G.degree_iter()]\n",
    "lgn.force(mat, color=c)"
   ]
  },
  {
   "cell_type": "markdown",
   "metadata": {},
   "source": [
    "## <hr> Coloring by degree"
   ]
  },
  {
   "cell_type": "markdown",
   "metadata": {},
   "source": [
    "Here we color points (and also change their size) to indicate their degree.\n",
    "<br>\n",
    "Click to confirm bigger points have more connections."
   ]
  },
  {
   "cell_type": "code",
   "execution_count": 10,
   "metadata": {
    "collapsed": false
   },
   "outputs": [
    {
     "data": {
      "text/html": [
       "<meta name=\"viewport\" content=\"width=device-width, initial-scale=1, maximum-scale=1\"/><meta http-equiv=\"X-UA-Compatible\" content=\"IE=10; IE=9; IE=8; IE=7; IE=EDGE\"/><meta charset=\"UTF-8\"/><link href=\"//fonts.googleapis.com/css?family=Open+Sans:400,700\" rel=\"stylesheet\" type=\"text/css\"/><link rel=\"stylesheet\" href=\"http://public.lightning-viz.org/css/app.css\"/><link rel=\"stylesheet\" href=\"http://public.lightning-viz.org/css/dynamic/viz/?visualizations[]=force\"/><div id=\"lightning-body\" class=\"container content wrap push\"><div class=\"feed-container\"><div data-model=\"visualization\" data-model-id=\"5c82370e-fc6c-4e95-bf60-4af82c5a60aa\" class=\"feed-item-container\"><div data-type=\"lightning-force\" data-data=\"{&quot;nodes&quot;:[0,1,2,3,4,5,6,7,8,9,10,11,12,13,14,15,16,17,18,19,20,21,22,23,24,25,26,27,28,29,30,31,32,33,34,35,36,37,38,39,40,41,42,43,44,45,46,47,48,49],&quot;group&quot;:[2,0,3,4,1,1,2,1,1,0,1,1,0,1,1,2,0,1,2,0,1,0,1,3,0,0,1,1,2,1,2,2,3,3,2,3,2,0,1,0,3,1,1,0,1,1,1,3,0,1],&quot;links&quot;:[[0,14,1],[0,22,1],[2,18,1],[2,35,1],[2,47,1],[3,32,1],[3,33,1],[3,36,1],[3,40,1],[4,44,1],[5,11,1],[6,28,1],[6,31,1],[7,20,1],[8,36,1],[10,45,1],[11,5,1],[13,27,1],[14,0,1],[15,34,1],[15,42,1],[17,30,1],[18,2,1],[18,49,1],[20,7,1],[22,0,1],[23,34,1],[23,35,1],[23,47,1],[26,29,1],[27,13,1],[28,6,1],[28,31,1],[29,26,1],[30,17,1],[30,38,1],[31,6,1],[31,28,1],[32,3,1],[32,33,1],[32,40,1],[33,3,1],[33,32,1],[33,40,1],[34,15,1],[34,23,1],[35,2,1],[35,23,1],[35,47,1],[36,3,1],[36,8,1],[38,30,1],[40,3,1],[40,32,1],[40,33,1],[41,46,1],[42,15,1],[44,4,1],[45,10,1],[46,41,1],[47,2,1],[47,23,1],[47,35,1],[49,18,1]],&quot;size&quot;:[10.5,4.5,13.5,16.5,7.5,7.5,10.5,7.5,7.5,4.5,7.5,7.5,4.5,7.5,7.5,10.5,4.5,7.5,10.5,4.5,7.5,4.5,7.5,13.5,4.5,4.5,7.5,7.5,10.5,7.5,10.5,10.5,13.5,13.5,10.5,13.5,10.5,4.5,7.5,4.5,13.5,7.5,7.5,4.5,7.5,7.5,7.5,13.5,4.5,7.5]}\" data-images=\"null\" data-options=\"{&quot;tooltips&quot;:true,&quot;description&quot;:null,&quot;zoom&quot;:true,&quot;height&quot;:null,&quot;width&quot;:600,&quot;brush&quot;:true}\" id=\"viz-5c82370e-fc6c-4e95-bf60-4af82c5a60aa\" data-initialized=\"false\" class=\"feed-item\"></div></div></div></div><script>window.lightning = window.lightning || {};\n",
       "window.lightning.host = \"http://public.lightning-viz.org/\" || 'http://127.0.0.1:3000/';\n",
       "window.lightning.vizCount = (window.lightning.vizCount + 1) || 1;\n",
       "window.lightning.requiredVizTypes = window.lightning.requiredVizTypes || [];\n",
       "if(window.lightning.requiredVizTypes.indexOf(\"force\") === -1) {\n",
       "    window.lightning.requiredVizTypes.push(\"force\");\n",
       "}\n",
       "window._require = window.require;\n",
       "window.require = undefined;\n",
       "window._define = window.define;\n",
       "window.define = undefined;</script><script src=\"http://public.lightning-viz.org/js/embed.js\"></script>"
      ],
      "text/plain": [
       "<lightning.types.plots.Force at 0x103fcfad0>"
      ]
     },
     "execution_count": 10,
     "metadata": {},
     "output_type": "execute_result"
    }
   ],
   "source": [
    "G = nx.random_geometric_graph(50, 0.1)\n",
    "mat = nx.adjacency_matrix(G).todense()\n",
    "g = G.degree().values()\n",
    "lgn.force(mat, group=g, size=(asarray(g) + 1.5)*3)"
   ]
  },
  {
   "cell_type": "markdown",
   "metadata": {},
   "source": [
    "## <hr> Graph of clustering"
   ]
  },
  {
   "cell_type": "markdown",
   "metadata": {},
   "source": [
    "Graphs can be a useful way to look at data that doesn't neccessarily come from a graph.\n",
    "<br>\n",
    "Here we create a graph from a thresholded correlation matrix on data drawn from a set of clusters.\n",
    "<br>\n",
    "The cluster identities are clear in the resulting graph."
   ]
  },
  {
   "cell_type": "code",
   "execution_count": 13,
   "metadata": {
    "collapsed": false
   },
   "outputs": [
    {
     "data": {
      "text/html": [
       "<meta name=\"viewport\" content=\"width=device-width, initial-scale=1, maximum-scale=1\"/><meta http-equiv=\"X-UA-Compatible\" content=\"IE=10; IE=9; IE=8; IE=7; IE=EDGE\"/><meta charset=\"UTF-8\"/><link href=\"//fonts.googleapis.com/css?family=Open+Sans:400,700\" rel=\"stylesheet\" type=\"text/css\"/><link rel=\"stylesheet\" href=\"http://public.lightning-viz.org/css/app.css\"/><link rel=\"stylesheet\" href=\"http://public.lightning-viz.org/css/dynamic/viz/?visualizations[]=force\"/><div id=\"lightning-body\" class=\"container content wrap push\"><div class=\"feed-container\"><div data-model=\"visualization\" data-model-id=\"a3dcab78-12b7-4b4e-8986-65bf7625d0d6\" class=\"feed-item-container\"><div data-type=\"lightning-force\" data-data=\"{&quot;nodes&quot;:[0,1,2,3,4,5,6,7,8,9,10,11,12,13,14,15,16,17,18,19,20,21,22,23,24,25,26,27,28,29,30,31,32,33,34,35,36,37,38,39,40,41,42,43,44,45,46,47,48,49],&quot;group&quot;:[3,1,3,1,3,4,0,0,0,3,0,0,2,2,4,3,2,2,4,3,3,2,1,4,4,4,2,4,2,4,1,1,0,0,4,2,2,0,0,3,4,0,1,3,1,1,1,3,1,2],&quot;links&quot;:[[0,0,1],[0,4,0.9884383879751419],[0,9,0.9346416732398108],[0,15,0.975217608131259],[0,19,0.996389789638783],[0,20,0.9756539207643702],[0,39,0.9930262211171893],[0,43,0.9714964845212982],[0,47,0.9822898387891075],[1,1,1],[1,3,0.9744174741934761],[1,31,0.9855173073300466],[1,42,0.9440686886430493],[1,45,0.9136183071781574],[1,46,0.974904669482687],[2,2,1],[2,9,0.9471104525253017],[2,15,0.922342367438286],[3,1,0.9744174741934761],[3,3,1],[3,31,0.9606388209928813],[3,42,0.9902746558977763],[3,44,0.9539676380137415],[3,45,0.9703024239384652],[3,46,0.9407147544749964],[4,0,0.9884383879751419],[4,4,1],[4,9,0.928002714681815],[4,15,0.9499547869405214],[4,19,0.9742050898442921],[4,20,0.9833001143627748],[4,39,0.9656945482048431],[4,43,0.9560142910243722],[4,47,0.9534134326108047],[5,5,1],[5,14,0.9475847530628705],[5,18,0.9900245171835486],[5,23,0.9846312261484946],[5,27,0.9829407810794433],[5,34,0.9592829402540856],[6,6,1],[6,7,0.9591597871294834],[6,10,0.9830617449237776],[6,11,0.9561685596257476],[6,33,0.9185279533524046],[6,38,0.9738144892487066],[6,41,0.9752215078900163],[7,6,0.9591597871294834],[7,7,1],[7,10,0.9928447452452511],[7,11,0.9825056533831801],[7,32,0.9336812426428167],[7,33,0.951570704186376],[7,37,0.9614937007333237],[7,38,0.9676773434784695],[7,41,0.9615728722956353],[8,8,1],[8,32,0.949102549213523],[8,37,0.9365373053715086],[9,0,0.9346416732398108],[9,2,0.9471104525253017],[9,4,0.928002714681815],[9,9,1],[9,15,0.9503811474844945],[9,19,0.9425696231253662],[9,39,0.9108352272730366],[10,6,0.9830617449237776],[10,7,0.9928447452452511],[10,10,1],[10,11,0.9758622128099991],[10,32,0.911207930243905],[10,33,0.9437429509938207],[10,37,0.9530967367970282],[10,38,0.970576440475108],[10,41,0.9658218138840622],[11,6,0.9561685596257476],[11,7,0.9825056533831801],[11,10,0.9758622128099991],[11,11,1],[11,32,0.909185881288198],[11,33,0.9873098585901589],[11,37,0.938619005181835],[11,38,0.9572412236827134],[11,41,0.9835131670478665],[12,12,1],[12,16,0.9296524958369935],[12,17,0.9681061508542701],[12,21,0.9681081664322454],[12,26,0.9893574755587057],[12,28,0.9896813592460093],[12,36,0.904254130913273],[12,49,0.934775837306283],[13,13,1],[13,16,0.9312472228736293],[13,17,0.9271074851430493],[13,21,0.9491917907681181],[13,35,0.9937986548113945],[13,36,0.987254066345747],[13,49,0.9748377067762818],[14,5,0.9475847530628705],[14,14,1],[14,18,0.9430678828906549],[14,23,0.9827292635218313],[14,24,0.9104571814847547],[14,27,0.9575562990264862],[14,29,0.9228746755328943],[14,34,0.9631078794969347],[14,40,0.973411304192217],[15,0,0.975217608131259],[15,2,0.922342367438286],[15,4,0.9499547869405214],[15,9,0.9503811474844945],[15,15,1],[15,19,0.9873656449399926],[15,20,0.9578712763932523],[15,39,0.9673697248584227],[15,43,0.9852762285610978],[15,47,0.946128529499464],[16,12,0.9296524958369935],[16,13,0.9312472228736293],[16,16,1],[16,17,0.9382185992906917],[16,21,0.9736927544065811],[16,26,0.9187540268081916],[16,28,0.972693748425899],[16,35,0.950750669387323],[16,36,0.9383254529379873],[16,49,0.9502158399836271],[17,12,0.9681061508542701],[17,13,0.9271074851430493],[17,16,0.9382185992906917],[17,17,1],[17,21,0.9825477244380025],[17,26,0.9528753223135313],[17,28,0.975296282613251],[17,35,0.926372894180481],[17,36,0.960531005994275],[17,49,0.9749266760054112],[18,5,0.9900245171835486],[18,14,0.9430678828906549],[18,18,1],[18,23,0.9773561667462929],[18,27,0.9787926091748854],[18,34,0.9776410246357844],[18,40,0.9258672627920709],[19,0,0.996389789638783],[19,4,0.9742050898442921],[19,9,0.9425696231253662],[19,15,0.9873656449399926],[19,19,1],[19,20,0.96533672397636],[19,39,0.994208216607895],[19,43,0.9758833877320432],[19,47,0.9804911794763975],[20,0,0.9756539207643702],[20,4,0.9833001143627748],[20,15,0.9578712763932523],[20,19,0.96533672397636],[20,20,1],[20,39,0.9529461522603186],[20,43,0.9845836609987172],[20,47,0.9490859667060006],[21,12,0.9681081664322454],[21,13,0.9491917907681181],[21,16,0.9736927544065811],[21,17,0.9825477244380025],[21,21,1],[21,26,0.9702811642263547],[21,28,0.9882200600603583],[21,35,0.9469770573042978],[21,36,0.9788531158735573],[21,49,0.9910462738556383],[22,22,1],[22,42,0.9393173126361647],[22,44,0.9337303066427547],[23,5,0.9846312261484946],[23,14,0.9827292635218313],[23,18,0.9773561667462929],[23,23,1],[23,27,0.9677616738467736],[23,29,0.9135616881157063],[23,34,0.9818443657834209],[23,40,0.9462414593938735],[24,14,0.9104571814847547],[24,24,1],[24,25,0.9878262742195505],[24,29,0.9919753856133839],[24,34,0.9320412314468688],[24,40,0.9557710380223389],[24,46,0.9256600727484898],[24,48,0.953437774951231],[25,24,0.9878262742195505],[25,25,1],[25,29,0.9766369538333565],[25,40,0.9539984108885055],[25,46,0.9601157646175366],[25,48,0.9608864251915872],[26,12,0.9893574755587057],[26,16,0.9187540268081916],[26,17,0.9528753223135313],[26,21,0.9702811642263547],[26,26,1],[26,28,0.9791125731043095],[26,36,0.9203889210569878],[26,49,0.9469541842759552],[27,5,0.9829407810794433],[27,14,0.9575562990264862],[27,18,0.9787926091748854],[27,23,0.9677616738467736],[27,27,1],[27,34,0.9404852886283768],[27,40,0.9177123172352782],[28,12,0.9896813592460093],[28,16,0.972693748425899],[28,17,0.975296282613251],[28,21,0.9882200600603583],[28,26,0.9791125731043095],[28,28,1],[28,35,0.9029388092961539],[28,36,0.9362755012646872],[28,49,0.9594857618524888],[29,14,0.9228746755328943],[29,23,0.9135616881157063],[29,24,0.9919753856133839],[29,25,0.9766369538333565],[29,29,1],[29,34,0.962505746900944],[29,40,0.9715496467371766],[29,48,0.9253538160193603],[30,30,1],[30,44,0.9080700897151776],[31,1,0.9855173073300466],[31,3,0.9606388209928813],[31,31,1],[31,42,0.9161175416539725],[31,45,0.9131403482077506],[31,46,0.936126453475069],[32,7,0.9336812426428167],[32,8,0.949102549213523],[32,10,0.911207930243905],[32,11,0.909185881288198],[32,32,1],[32,33,0.918619038315047],[32,37,0.9907682616531375],[33,6,0.9185279533524046],[33,7,0.951570704186376],[33,10,0.9437429509938207],[33,11,0.9873098585901589],[33,32,0.918619038315047],[33,33,1],[33,37,0.9395667627150204],[33,38,0.9004167470078007],[33,41,0.9532351748603531],[34,5,0.9592829402540856],[34,14,0.9631078794969347],[34,18,0.9776410246357844],[34,23,0.9818443657834209],[34,24,0.9320412314468688],[34,27,0.9404852886283768],[34,29,0.962505746900944],[34,34,1],[34,40,0.9687256974494937],[35,13,0.9937986548113945],[35,16,0.950750669387323],[35,17,0.926372894180481],[35,21,0.9469770573042978],[35,28,0.9029388092961539],[35,35,1],[35,36,0.9731248422759616],[35,49,0.9629471911866154],[36,12,0.904254130913273],[36,13,0.987254066345747],[36,16,0.9383254529379873],[36,17,0.960531005994275],[36,21,0.9788531158735573],[36,26,0.9203889210569878],[36,28,0.9362755012646872],[36,35,0.9731248422759616],[36,36,1],[36,49,0.9969405181471656],[37,7,0.9614937007333237],[37,8,0.9365373053715086],[37,10,0.9530967367970282],[37,11,0.938619005181835],[37,32,0.9907682616531375],[37,33,0.9395667627150204],[37,37,1],[38,6,0.9738144892487066],[38,7,0.9676773434784695],[38,10,0.970576440475108],[38,11,0.9572412236827134],[38,33,0.9004167470078007],[38,38,1],[38,41,0.9816547458092189],[39,0,0.9930262211171893],[39,4,0.9656945482048431],[39,9,0.9108352272730366],[39,15,0.9673697248584227],[39,19,0.994208216607895],[39,20,0.9529461522603186],[39,39,1],[39,43,0.9602107857856138],[39,47,0.9946156112017657],[40,14,0.973411304192217],[40,18,0.9258672627920709],[40,23,0.9462414593938735],[40,24,0.9557710380223389],[40,25,0.9539984108885055],[40,27,0.9177123172352782],[40,29,0.9715496467371766],[40,34,0.9687256974494937],[40,40,1],[41,6,0.9752215078900163],[41,7,0.9615728722956353],[41,10,0.9658218138840622],[41,11,0.9835131670478665],[41,33,0.9532351748603531],[41,38,0.9816547458092189],[41,41,1],[42,1,0.9440686886430493],[42,3,0.9902746558977763],[42,22,0.9393173126361647],[42,31,0.9161175416539725],[42,42,1],[42,44,0.967488788370102],[42,45,0.9574990145102896],[42,46,0.9108816820588498],[43,0,0.9714964845212982],[43,4,0.9560142910243722],[43,15,0.9852762285610978],[43,19,0.9758833877320432],[43,20,0.9845836609987172],[43,39,0.9602107857856138],[43,43,1],[43,47,0.9530357645032771],[44,3,0.9539676380137415],[44,22,0.9337303066427547],[44,30,0.9080700897151776],[44,42,0.967488788370102],[44,44,1],[44,45,0.9575893270496985],[44,46,0.9190906144947547],[44,48,0.9285419661998024],[45,1,0.9136183071781574],[45,3,0.9703024239384652],[45,31,0.9131403482077506],[45,42,0.9574990145102896],[45,44,0.9575893270496985],[45,45,1],[46,1,0.974904669482687],[46,3,0.9407147544749964],[46,24,0.9256600727484898],[46,25,0.9601157646175366],[46,31,0.936126453475069],[46,42,0.9108816820588498],[46,44,0.9190906144947547],[46,46,1],[46,48,0.9656995007592133],[47,0,0.9822898387891075],[47,4,0.9534134326108047],[47,15,0.946128529499464],[47,19,0.9804911794763975],[47,20,0.9490859667060006],[47,39,0.9946156112017657],[47,43,0.9530357645032771],[47,47,1],[48,24,0.953437774951231],[48,25,0.9608864251915872],[48,29,0.9253538160193603],[48,44,0.9285419661998024],[48,46,0.9656995007592133],[48,48,1],[49,12,0.934775837306283],[49,13,0.9748377067762818],[49,16,0.9502158399836271],[49,17,0.9749266760054112],[49,21,0.9910462738556383],[49,26,0.9469541842759552],[49,28,0.9594857618524888],[49,35,0.9629471911866154],[49,36,0.9969405181471656],[49,49,1]]}\" data-images=\"null\" data-options=\"{&quot;tooltips&quot;:true,&quot;description&quot;:null,&quot;zoom&quot;:true,&quot;height&quot;:null,&quot;width&quot;:600,&quot;brush&quot;:true}\" id=\"viz-a3dcab78-12b7-4b4e-8986-65bf7625d0d6\" data-initialized=\"false\" class=\"feed-item\"></div></div></div></div><script>window.lightning = window.lightning || {};\n",
       "window.lightning.host = \"http://public.lightning-viz.org/\" || 'http://127.0.0.1:3000/';\n",
       "window.lightning.vizCount = (window.lightning.vizCount + 1) || 1;\n",
       "window.lightning.requiredVizTypes = window.lightning.requiredVizTypes || [];\n",
       "if(window.lightning.requiredVizTypes.indexOf(\"force\") === -1) {\n",
       "    window.lightning.requiredVizTypes.push(\"force\");\n",
       "}\n",
       "window._require = window.require;\n",
       "window.require = undefined;\n",
       "window._define = window.define;\n",
       "window.define = undefined;</script><script src=\"http://public.lightning-viz.org/js/embed.js\"></script>"
      ],
      "text/plain": [
       "<lightning.types.plots.Force at 0x10917da10>"
      ]
     },
     "execution_count": 13,
     "metadata": {},
     "output_type": "execute_result"
    }
   ],
   "source": [
    "d, g = datasets.make_blobs(n_features=5, n_samples=50, centers=5, cluster_std=2.0, random_state=100)\n",
    "c = corrcoef(d)\n",
    "c[c<0.9] = 0\n",
    "lgn.force(c, group=g)"
   ]
  }
 ],
 "metadata": {
  "kernelspec": {
   "display_name": "Python 2",
   "language": "python",
   "name": "python2"
  },
  "language_info": {
   "codemirror_mode": {
    "name": "ipython",
    "version": 2
   },
   "file_extension": ".py",
   "mimetype": "text/x-python",
   "name": "python",
   "nbconvert_exporter": "python",
   "pygments_lexer": "ipython2",
   "version": "2.7.9"
  }
 },
 "nbformat": 4,
 "nbformat_minor": 0
}
