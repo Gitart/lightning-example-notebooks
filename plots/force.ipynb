{
 "cells": [
  {
   "cell_type": "markdown",
   "metadata": {},
   "source": [
    "# <img style='float: left' src=\"http://lightning-viz.github.io/images/logo.png\"> <br> <br> &nbsp;&nbsp;&nbsp;&nbsp;&nbsp;Force-directed graphs in <a href='http://lightning-viz.github.io/'><font color='#9175f0'>Lightning</font></a>"
   ]
  },
  {
   "cell_type": "markdown",
   "metadata": {},
   "source": [
    "## <hr> Setup"
   ]
  },
  {
   "cell_type": "code",
   "execution_count": 1,
   "metadata": {
    "collapsed": false
   },
   "outputs": [],
   "source": [
    "import os\n",
    "from lightning import Lightning\n",
    "\n",
    "from numpy import random, asarray, linspace, corrcoef\n",
    "from colorsys import hsv_to_rgb\n",
    "from sklearn import datasets\n",
    "import networkx as nx"
   ]
  },
  {
   "cell_type": "markdown",
   "metadata": {},
   "source": [
    "## Connect to server"
   ]
  },
  {
   "cell_type": "code",
   "execution_count": 2,
   "metadata": {
    "collapsed": false
   },
   "outputs": [
    {
     "data": {
      "text/html": [
       "<div style='margin-top:8px'><img src='data:image/png;base64,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' width='30px' height='35px' style='display: inline-block; padding-right: 10px'></img><span>Lightning initialized</span></div>"
      ],
      "text/plain": [
       "<IPython.core.display.HTML object>"
      ]
     },
     "metadata": {},
     "output_type": "display_data"
    },
    {
     "name": "stdout",
     "output_type": "stream",
     "text": [
      "Connected to server at http://public.lightning-viz.org\n"
     ]
    },
    {
     "data": {
      "application/javascript": [
       "(function e(t,n,r){function s(o,u){if(!n[o]){if(!t[o]){var a=typeof require==\"function\"&&require;if(!u&&a)return a(o,!0);if(i)return i(o,!0);throw new Error(\"Cannot find module '\"+o+\"'\")}var f=n[o]={exports:{}};t[o][0].call(f.exports,function(e){var n=t[o][1][e];return s(n?n:e)},f,f.exports,e,t,n,r)}return n[o].exports}var i=typeof require==\"function\"&&require;for(var o=0;o<r.length;o++)s(r[o]);return s})({1:[function(require,module,exports){\n",
       "window.lightning = window.lightning || {};\n",
       "var lightningCommMap = {};\n",
       "\n",
       "var readCommData = function(commData, field) {\n",
       "    try {\n",
       "        return commData.content.data[field];\n",
       "    } catch (err) {\n",
       "        return;\n",
       "    }\n",
       "};\n",
       "\n",
       "\n",
       "var init_comm = function() {\n",
       "    IPython.notebook.kernel.comm_manager.register_target('lightning', function(comm, data) {\n",
       "        var id = readCommData(data, 'id');\n",
       "        lightningCommMap[id] = comm;\n",
       "    });\n",
       "\n",
       "    window.lightning.comm_map = lightningCommMap;\n",
       "}\n",
       "\n",
       "\n",
       "if(IPython && IPython.notebook) {\n",
       "\n",
       "    if(IPython.notebook.kernel) {\n",
       "        init_comm();\n",
       "    }\n",
       "\n",
       "    IPython.notebook.events.on('kernel_connected.Kernel', init_comm);\n",
       "\n",
       "}\n",
       "\n",
       "\n",
       "},{}]},{},[1])\n",
       "//# sourceMappingURL=data:application/json;base64,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\n"
      ],
      "text/plain": [
       "<IPython.core.display.Javascript object>"
      ]
     },
     "metadata": {},
     "output_type": "display_data"
    }
   ],
   "source": [
    "lgn = Lightning(ipython=True, host='http://public.lightning-viz.org')"
   ]
  },
  {
   "cell_type": "markdown",
   "metadata": {},
   "source": [
    "## <hr> Random binary network"
   ]
  },
  {
   "cell_type": "markdown",
   "metadata": {},
   "source": [
    "A random graph where every node has the same degree, with default styling.\n",
    "<br>\n",
    "This and other graph plots take matrices (e.g. adjacency matrices) as inputs.\n",
    "<br>\n",
    "We use the `networkx` library to generate the graph, then get its adjancency matrix.\n",
    "<br>\n",
    "Double click on a point to see its neighbors (all should have 3).\n",
    "<br>\n",
    "Drag points to try and move the graph, it should remain tight because of the degree structure."
   ]
  },
  {
   "cell_type": "code",
   "execution_count": 3,
   "metadata": {
    "collapsed": false
   },
   "outputs": [
    {
     "data": {
      "text/html": [
       "<meta name=\"viewport\" content=\"width=device-width, initial-scale=1, maximum-scale=1\"/><meta http-equiv=\"X-UA-Compatible\" content=\"IE=10; IE=9; IE=8; IE=7; IE=EDGE\"/><meta charset=\"UTF-8\"/><link href=\"//fonts.googleapis.com/css?family=Open+Sans:400,700\" rel=\"stylesheet\" type=\"text/css\"/><link rel=\"stylesheet\" href=\"http://public.lightning-viz.org/css/app.css\"/><link rel=\"stylesheet\" href=\"http://public.lightning-viz.org/css/dynamic/viz/?visualizations[]=force\"/><div id=\"lightning-body\" class=\"container content wrap push\"><div class=\"feed-container\"><div data-model=\"visualization\" data-model-id=\"695379ca-606e-42b7-adf4-440e12f3ce1d\" class=\"feed-item-container\"><div data-type=\"lightning-force\" data-data=\"{&quot;nodes&quot;:[0,1,2,3,4,5,6,7,8,9,10,11,12,13,14,15,16,17,18,19,20,21,22,23,24,25,26,27,28,29,30,31,32,33,34,35,36,37,38,39,40,41,42,43,44,45,46,47,48,49,50,51,52,53,54,55,56,57,58,59,60,61,62,63,64,65,66,67,68,69,70,71,72,73,74,75,76,77,78,79,80,81,82,83,84,85,86,87,88,89,90,91,92,93,94,95,96,97,98,99],&quot;links&quot;:[[0,65,1],[0,94,1],[0,99,1],[1,39,1],[1,53,1],[1,96,1],[2,3,1],[2,67,1],[2,68,1],[3,2,1],[3,59,1],[3,68,1],[4,36,1],[4,55,1],[4,88,1],[5,13,1],[5,34,1],[5,91,1],[6,21,1],[6,41,1],[6,56,1],[7,12,1],[7,17,1],[7,99,1],[8,58,1],[8,63,1],[8,87,1],[9,20,1],[9,24,1],[9,71,1],[10,29,1],[10,35,1],[10,68,1],[11,38,1],[11,91,1],[11,98,1],[12,7,1],[12,90,1],[12,94,1],[13,5,1],[13,26,1],[13,89,1],[14,18,1],[14,25,1],[14,43,1],[15,41,1],[15,47,1],[15,86,1],[16,22,1],[16,37,1],[16,74,1],[17,7,1],[17,18,1],[17,32,1],[18,14,1],[18,17,1],[18,31,1],[19,20,1],[19,30,1],[19,75,1],[20,9,1],[20,19,1],[20,78,1],[21,6,1],[21,74,1],[21,77,1],[22,16,1],[22,82,1],[22,83,1],[23,25,1],[23,60,1],[23,65,1],[24,9,1],[24,37,1],[24,39,1],[25,14,1],[25,23,1],[25,97,1],[26,13,1],[26,32,1],[26,76,1],[27,34,1],[27,40,1],[27,59,1],[28,48,1],[28,53,1],[28,80,1],[29,10,1],[29,34,1],[29,52,1],[30,19,1],[30,42,1],[30,63,1],[31,18,1],[31,55,1],[31,80,1],[32,17,1],[32,26,1],[32,51,1],[33,37,1],[33,85,1],[33,98,1],[34,5,1],[34,27,1],[34,29,1],[35,10,1],[35,55,1],[35,64,1],[36,4,1],[36,41,1],[36,90,1],[37,16,1],[37,24,1],[37,33,1],[38,11,1],[38,66,1],[38,73,1],[39,1,1],[39,24,1],[39,99,1],[40,27,1],[40,66,1],[40,88,1],[41,6,1],[41,15,1],[41,36,1],[42,30,1],[42,62,1],[42,95,1],[43,14,1],[43,46,1],[43,96,1],[44,47,1],[44,75,1],[44,91,1],[45,56,1],[45,57,1],[45,72,1],[46,43,1],[46,56,1],[46,80,1],[47,15,1],[47,44,1],[47,84,1],[48,28,1],[48,89,1],[48,92,1],[49,54,1],[49,73,1],[49,81,1],[50,58,1],[50,70,1],[50,71,1],[51,32,1],[51,61,1],[51,73,1],[52,29,1],[52,67,1],[52,69,1],[53,1,1],[53,28,1],[53,93,1],[54,49,1],[54,82,1],[54,95,1],[55,4,1],[55,31,1],[55,35,1],[56,6,1],[56,45,1],[56,46,1],[57,45,1],[57,79,1],[57,87,1],[58,8,1],[58,50,1],[58,65,1],[59,3,1],[59,27,1],[59,66,1],[60,23,1],[60,78,1],[60,83,1],[61,51,1],[61,81,1],[61,93,1],[62,42,1],[62,77,1],[62,90,1],[63,8,1],[63,30,1],[63,77,1],[64,35,1],[64,76,1],[64,78,1],[65,0,1],[65,23,1],[65,58,1],[66,38,1],[66,40,1],[66,59,1],[67,2,1],[67,52,1],[67,88,1],[68,2,1],[68,3,1],[68,10,1],[69,52,1],[69,82,1],[69,85,1],[70,50,1],[70,84,1],[70,92,1],[71,9,1],[71,50,1],[71,96,1],[72,45,1],[72,89,1],[72,97,1],[73,38,1],[73,49,1],[73,51,1],[74,16,1],[74,21,1],[74,94,1],[75,19,1],[75,44,1],[75,81,1],[76,26,1],[76,64,1],[76,95,1],[77,21,1],[77,62,1],[77,63,1],[78,20,1],[78,60,1],[78,64,1],[79,57,1],[79,86,1],[79,98,1],[80,28,1],[80,31,1],[80,46,1],[81,49,1],[81,61,1],[81,75,1],[82,22,1],[82,54,1],[82,69,1],[83,22,1],[83,60,1],[83,92,1],[84,47,1],[84,70,1],[84,86,1],[85,33,1],[85,69,1],[85,87,1],[86,15,1],[86,79,1],[86,84,1],[87,8,1],[87,57,1],[87,85,1],[88,4,1],[88,40,1],[88,67,1],[89,13,1],[89,48,1],[89,72,1],[90,12,1],[90,36,1],[90,62,1],[91,5,1],[91,11,1],[91,44,1],[92,48,1],[92,70,1],[92,83,1],[93,53,1],[93,61,1],[93,97,1],[94,0,1],[94,12,1],[94,74,1],[95,42,1],[95,54,1],[95,76,1],[96,1,1],[96,43,1],[96,71,1],[97,25,1],[97,72,1],[97,93,1],[98,11,1],[98,33,1],[98,79,1],[99,0,1],[99,7,1],[99,39,1]]}\" data-images=\"null\" data-options=\"{&quot;tooltips&quot;:true,&quot;description&quot;:null,&quot;zoom&quot;:true,&quot;height&quot;:null,&quot;width&quot;:600,&quot;brush&quot;:true}\" id=\"viz-695379ca-606e-42b7-adf4-440e12f3ce1d\" data-initialized=\"false\" class=\"feed-item\"></div></div></div></div><script>window.lightning = window.lightning || {};\n",
       "window.lightning.host = \"http://public.lightning-viz.org/\" || 'http://127.0.0.1:3000/';\n",
       "window.lightning.vizCount = (window.lightning.vizCount + 1) || 1;\n",
       "window.lightning.requiredVizTypes = window.lightning.requiredVizTypes || [];\n",
       "if(window.lightning.requiredVizTypes.indexOf(\"force\") === -1) {\n",
       "    window.lightning.requiredVizTypes.push(\"force\");\n",
       "}\n",
       "window._require = window.require;\n",
       "window.require = undefined;\n",
       "window._define = window.define;\n",
       "window.define = undefined;</script><script src=\"http://public.lightning-viz.org/js/embed.js\"></script>"
      ],
      "text/plain": [
       "<lightning.types.plots.Force at 0x103fa8f90>"
      ]
     },
     "execution_count": 3,
     "metadata": {},
     "output_type": "execute_result"
    }
   ],
   "source": [
    "n = 100\n",
    "G = nx.random_regular_graph(3,n)\n",
    "mat = nx.adjacency_matrix(G).todense()\n",
    "lgn.force(mat)"
   ]
  },
  {
   "cell_type": "markdown",
   "metadata": {},
   "source": [
    "## <hr> Random weighted network"
   ]
  },
  {
   "cell_type": "markdown",
   "metadata": {},
   "source": [
    "The previous network was binary (all links either 0 or 1).\n",
    "Here the links are weighted, which is reflected in the line widths."
   ]
  },
  {
   "cell_type": "code",
   "execution_count": 4,
   "metadata": {
    "collapsed": false
   },
   "outputs": [
    {
     "data": {
      "text/html": [
       "<meta name=\"viewport\" content=\"width=device-width, initial-scale=1, maximum-scale=1\"/><meta http-equiv=\"X-UA-Compatible\" content=\"IE=10; IE=9; IE=8; IE=7; IE=EDGE\"/><meta charset=\"UTF-8\"/><link href=\"//fonts.googleapis.com/css?family=Open+Sans:400,700\" rel=\"stylesheet\" type=\"text/css\"/><link rel=\"stylesheet\" href=\"http://public.lightning-viz.org/css/app.css\"/><link rel=\"stylesheet\" href=\"http://public.lightning-viz.org/css/dynamic/viz/?visualizations[]=force\"/><div id=\"lightning-body\" class=\"container content wrap push\"><div class=\"feed-container\"><div data-model=\"visualization\" data-model-id=\"ab34c711-2a30-4422-b07e-39269b2b187e\" class=\"feed-item-container\"><div data-type=\"lightning-force\" data-data=\"{&quot;nodes&quot;:[0,1,2,3,4,5,6,7,8,9,10,11,12,13,14,15,16,17,18,19,20,21,22,23,24,25,26,27,28,29,30,31,32,33,34,35,36,37,38,39,40,41,42,43,44,45,46,47,48,49,50,51,52,53,54,55,56,57,58,59,60,61,62,63,64,65,66,67,68,69,70,71,72,73,74,75,76,77,78,79,80,81,82,83,84,85,86,87,88,89,90,91,92,93,94,95,96,97,98,99],&quot;links&quot;:[[0,11,1.586132491644549],[0,33,0.028841199870665506],[0,47,8.866022075712337],[1,13,0.8194802372816951],[1,76,11.415858700279905],[1,96,4.675300780879854],[2,16,0.01817071604698337],[2,42,3.1611226446436853],[2,79,0.8817536871774926],[3,6,0.23439889861781615],[3,28,4.6170906511399155],[3,56,5.8648964803998425],[4,8,1.3198505090623378],[4,52,9.129183412373662],[4,69,0.7746340393033887],[5,26,0.4143671614677751],[5,63,8.070206722131191],[5,99,24.933755454020588],[6,3,23.859672886637224],[6,45,14.042649259089822],[6,68,3.2302910699592373],[7,27,2.5507801674534423],[7,44,2.2505805184142225],[7,71,0.20166114917451236],[8,4,4.119620590690231],[8,25,2.1651935888585294],[8,64,17.083627288432936],[9,23,2.2195769269135495],[9,60,13.608475270552766],[9,61,24.145888337067017],[10,37,12.141953166315112],[10,49,0.8014114263639017],[10,66,6.252288117628377],[11,0,0.14427623402547435],[11,23,11.294313346421527],[11,36,12.109653481437421],[12,38,9.75411724540886],[12,62,6.125687328242403],[12,74,2.1414952132018477],[13,1,2.979008416079244],[13,53,20.10663103791452],[13,63,5.337476441796477],[14,18,5.657280670163409],[14,47,3.6691002576457112],[14,96,14.013130925110197],[15,36,0.6957448238601456],[15,53,6.583309250877943],[15,89,9.171725158663603],[16,2,15.741284251646059],[16,48,17.42893319163471],[16,94,0.4438262609318255],[17,25,16.815398621037907],[17,43,13.87654580603131],[17,81,0.6016929965394286],[18,14,7.897915297613022],[18,58,13.978708413657818],[18,84,0.19427708291193996],[19,24,19.11889450156394],[19,76,17.310257300087265],[19,89,5.229824302440723],[20,51,21.756521580224085],[20,71,0.000028137112562793845],[20,98,23.379405963035296],[21,42,6.820909481814367],[21,65,6.50681445528826],[21,84,0.9420746780195884],[22,57,2.116328650745081],[22,83,2.971884714805891],[22,92,7.026867997597157],[23,9,19.147657957729354],[23,11,3.922579477207648],[23,42,8.607969002398765],[24,19,2.8387410810771527],[24,43,16.33854839572744],[24,68,2.1217805266583034],[25,8,18.750714758842506],[25,17,6.728499022184109],[25,69,0.5944342380590558],[26,5,2.7460280315912797],[26,52,4.342098198577982],[26,77,16.82320053055664],[27,7,2.578978488864886],[27,55,0.15693821220796086],[27,76,0.5283162315807345],[28,3,0.6562383346797653],[28,31,24.69852526523902],[28,60,4.606983941877006],[29,53,10.09665072720978],[29,86,10.716995577297375],[29,89,15.020343575819556],[30,50,14.262120881148494],[30,80,6.530042078892415],[30,94,23.095960358592798],[31,28,1.8158048489854381],[31,36,1.6765957667584495],[31,70,3.254111795669742],[32,37,0.13211682970028676],[32,49,17.625301328055826],[32,90,23.27717483282628],[33,0,23.509187184069035],[33,73,1.1047277161588098],[33,84,5.96126482448267],[34,58,21.98039343907148],[34,77,10.554177146585564],[34,87,1.725049658382984],[35,54,1.5099139006808058],[35,61,1.0457824617770364],[35,96,14.014444004218],[36,11,0.27958742163137756],[36,15,19.106227763336317],[36,31,0.23839922024274865],[37,10,16.807101684029814],[37,32,2.3837811392344164],[37,60,13.034735830401344],[38,12,16.24028011231802],[38,51,9.698058500880157],[38,57,6.204167429109519],[39,49,1.4810300055083836],[39,75,0.647709026023533],[39,81,6.865172415070034],[40,48,2.4840821851689885],[40,63,12.181830788012245],[40,65,21.96096699012062],[41,66,3.573061128941561],[41,87,16.79050568960926],[41,91,1.545359178491908],[42,2,9.62778862397829],[42,21,1.4053194397689808],[42,23,12.233153715989115],[43,17,17.85323499048894],[43,24,7.926932834833742],[43,70,24.025862231753283],[44,7,0.7617841228446238],[44,56,12.291493392217243],[44,72,24.694205523094183],[45,6,8.817970842966364],[45,68,4.783192416398423],[45,78,1.5035515496563105],[46,73,0.40797699043049546],[46,78,13.92837927834505],[46,83,10.759745730077777],[47,0,2.3696407483559616],[47,14,18.212214736225175],[47,73,0.2512146782430325],[48,16,2.115873531417957],[48,40,3.445711708405834],[48,97,1.3971627906043418],[49,10,0.8145302236265156],[49,32,0.14154982068427122],[49,39,14.320523175808255],[50,30,7.432325112983123],[50,67,0.05104748930151149],[50,94,14.523374285148705],[51,20,21.566903848523566],[51,38,0.8566721797701549],[51,56,18.830348670059713],[52,4,0.015315451706056511],[52,26,10.449689393113445],[52,85,5.480027826736488],[53,13,0.3078153073924462],[53,15,21.266045677639852],[53,29,7.2546733597575965],[54,35,2.65000509592858],[54,90,6.211316903739198],[54,95,3.3547711352147753],[55,27,0.5910458274773086],[55,57,16.397979566082697],[55,88,12.421723976141203],[56,3,2.6101080379437995],[56,44,14.628487482308179],[56,51,13.76129548843971],[57,22,9.017976495660937],[57,38,22.102331905453056],[57,55,4.315472972432205],[58,18,0.29096238854955253],[58,34,19.16547215751714],[58,93,0.57029845048249],[59,72,8.227567373277951],[59,79,4.491241076699948],[59,99,15.18512753478727],[60,9,18.390988545591387],[60,28,7.669233240997134],[60,37,8.567612481681856],[61,9,14.734592387102271],[61,35,17.700384282618945],[61,70,24.121533427107927],[62,12,18.85174697481568],[62,75,0.014448704258669568],[62,86,19.11396093733106],[63,5,9.065215957940769],[63,13,2.8645449405968257],[63,40,4.321186118878131],[64,8,12.035885587042115],[64,92,4.11599849922835],[64,93,17.490471383403598],[65,21,10.583389497265465],[65,40,3.0427897147862715],[65,74,3.9609341238530273],[66,10,6.937294989644612],[66,41,0.0006973422846543338],[66,82,3.988599428221679],[67,50,20.71800181029328],[67,74,0.19601093408211367],[67,83,8.35671274446267],[68,6,16.079040618648296],[68,24,15.149049016184366],[68,45,3.9639329986175604],[69,4,13.402693306128937],[69,25,0.1326898160654833],[69,91,21.54472082151569],[70,31,23.775231221787887],[70,43,21.081647615223233],[70,61,10.551267806093339],[71,7,3.2282777439579182],[71,20,11.26692910783405],[71,86,1.5426821292544433],[72,44,6.415874730133798],[72,59,13.934310397184989],[72,85,22.77261997398526],[73,33,24.01497853993478],[73,46,12.981640689497741],[73,47,10.915682060078403],[74,12,7.016006637799235],[74,65,15.388600150305432],[74,67,0.20427469504941775],[75,39,0.7978572817110349],[75,62,2.914230646497611],[75,99,9.723958184934],[76,1,4.240674734851741],[76,19,0.9870676416562147],[76,27,3.528138197932567],[77,26,0.5011071978504065],[77,34,2.0707049598190657],[77,91,13.403539800215723],[78,45,6.368968462226566],[78,46,0.2040408206388043],[78,88,0.11059521630057151],[79,2,5.123294496018538],[79,59,1.6830722120706676],[79,88,1.1188173546385232],[80,30,24.999758392705196],[80,81,5.430942584586135],[80,93,17.77335942373196],[81,17,0.04488602590103751],[81,39,3.904311599645477],[81,80,9.407517534050093],[82,66,19.965359006751537],[82,87,1.7425151757208288],[82,92,15.680807766548844],[83,22,12.434378605834478],[83,46,10.297652064103659],[83,67,0.7401858459600255],[84,18,3.885473388620809],[84,21,0.3056830747663897],[84,33,21.203323190958233],[85,52,13.16716511119921],[85,72,12.144154572396937],[85,95,7.51417843013561],[86,29,0.6657154502714189],[86,62,0.9007373548767736],[86,71,0.01148824657154519],[87,34,6.200928827191595],[87,41,0.044509106591330595],[87,82,4.967267006686799],[88,55,15.649388256071308],[88,78,2.6073248731266396],[88,79,0.5129242517046144],[89,15,1.9072217660345423],[89,19,19.02507092373917],[89,29,21.1369997145249],[90,32,0.8170453439111046],[90,54,0.24264761573137475],[90,98,2.955326407923213],[91,41,20.121242455983925],[91,69,4.2693726544198505],[91,77,20.596621978461936],[92,22,18.903393491417027],[92,64,20.413676611215145],[92,82,23.715182045690785],[93,58,8.778078613917291],[93,64,7.194591531847797],[93,80,0.701695723310253],[94,16,0.8275350856537376],[94,30,17.979349211383337],[94,50,2.592990514202481],[95,54,4.962034827160174],[95,85,2.8544511841042577],[95,97,0.9267699998389971],[96,1,0.41644289482065744],[96,14,23.644362726088232],[96,35,0.7662237375893018],[97,48,0.1282013201502128],[97,95,24.488899230575406],[97,98,11.058112986486776],[98,20,10.896918258074713],[98,90,7.532729809202029],[98,97,0.8976102144585146],[99,5,0.26193611480294016],[99,59,11.452342093611385],[99,75,7.976029749134724]]}\" data-images=\"null\" data-options=\"{&quot;tooltips&quot;:true,&quot;description&quot;:null,&quot;zoom&quot;:true,&quot;height&quot;:null,&quot;width&quot;:600,&quot;brush&quot;:true}\" id=\"viz-ab34c711-2a30-4422-b07e-39269b2b187e\" data-initialized=\"false\" class=\"feed-item\"></div></div></div></div><script>window.lightning = window.lightning || {};\n",
       "window.lightning.host = \"http://public.lightning-viz.org/\" || 'http://127.0.0.1:3000/';\n",
       "window.lightning.vizCount = (window.lightning.vizCount + 1) || 1;\n",
       "window.lightning.requiredVizTypes = window.lightning.requiredVizTypes || [];\n",
       "if(window.lightning.requiredVizTypes.indexOf(\"force\") === -1) {\n",
       "    window.lightning.requiredVizTypes.push(\"force\");\n",
       "}\n",
       "window._require = window.require;\n",
       "window.require = undefined;\n",
       "window._define = window.define;\n",
       "window.define = undefined;</script><script src=\"http://public.lightning-viz.org/js/embed.js\"></script>"
      ],
      "text/plain": [
       "<lightning.types.plots.Force at 0x106eee490>"
      ]
     },
     "execution_count": 4,
     "metadata": {},
     "output_type": "execute_result"
    }
   ],
   "source": [
    "G = nx.random_regular_graph(3,100)\n",
    "mat = asarray(nx.adjacency_matrix(G).todense()) * (((random.rand(100,100))*5) ** 2)\n",
    "lgn.force(mat)"
   ]
  },
  {
   "cell_type": "markdown",
   "metadata": {},
   "source": [
    "## <hr> Lobster network"
   ]
  },
  {
   "cell_type": "markdown",
   "metadata": {},
   "source": [
    "The lobster graph, a backbone with some leaves, is colored here by node ordering.\n",
    "<br>\n",
    "We also set all nodes with degree less than 2 to gray."
   ]
  },
  {
   "cell_type": "code",
   "execution_count": 5,
   "metadata": {
    "collapsed": false
   },
   "outputs": [
    {
     "data": {
      "text/html": [
       "<meta name=\"viewport\" content=\"width=device-width, initial-scale=1, maximum-scale=1\"/><meta http-equiv=\"X-UA-Compatible\" content=\"IE=10; IE=9; IE=8; IE=7; IE=EDGE\"/><meta charset=\"UTF-8\"/><link href=\"//fonts.googleapis.com/css?family=Open+Sans:400,700\" rel=\"stylesheet\" type=\"text/css\"/><link rel=\"stylesheet\" href=\"http://public.lightning-viz.org/css/app.css\"/><link rel=\"stylesheet\" href=\"http://public.lightning-viz.org/css/dynamic/viz/?visualizations[]=force\"/><div id=\"lightning-body\" class=\"container content wrap push\"><div class=\"feed-container\"><div data-model=\"visualization\" data-model-id=\"2938c1ac-d4fd-4478-b127-e6d8bad49801\" class=\"feed-item-container\"><div data-type=\"lightning-force\" data-data=\"{&quot;color&quot;:[[150,150,150],[255,67.99999999999999,50.999999999999986],[255,84.99999999999999,50.999999999999986],[255,101.99999999999997,50.999999999999986],[255,118.99999999999997,50.999999999999986],[255,136.00000000000003,50.999999999999986],[255,153,50.999999999999986],[255,170.00000000000003,50.999999999999986],[255,187,50.999999999999986],[255,204,50.999999999999986],[255,221,50.999999999999986],[255,238,50.999999999999986],[255,255,50.999999999999986],[238,255,50.999999999999986],[220.99999999999997,255,50.999999999999986],[204,255,50.999999999999986],[187.00000000000003,255,50.999999999999986],[170.00000000000003,255,50.999999999999986],[153,255,50.999999999999986],[135.99999999999997,255,50.999999999999986],[118.99999999999997,255,50.999999999999986],[101.99999999999997,255,50.999999999999986],[84.99999999999996,255,50.999999999999986],[68.00000000000001,255,50.999999999999986],[50.999999999999986,255,50.999999999999986],[50.999999999999986,255,67.99999999999993],[50.999999999999986,255,84.99999999999996],[50.999999999999986,255,101.99999999999997],[50.999999999999986,255,119.00000000000003],[50.999999999999986,255,136.00000000000006],[50.999999999999986,255,153],[50.999999999999986,255,170.00000000000003],[50.999999999999986,255,186.99999999999997],[50.999999999999986,255,204],[50.999999999999986,255,220.99999999999994],[50.999999999999986,255,237.99999999999997],[50.999999999999986,255,255],[50.999999999999986,238.00000000000006,255],[50.999999999999986,220.99999999999994,255],[50.999999999999986,204,255],[50.999999999999986,186.99999999999997,255],[50.999999999999986,170.00000000000003,255],[50.999999999999986,153,255],[50.999999999999986,136.00000000000006,255],[50.999999999999986,118.99999999999994,255],[50.999999999999986,101.99999999999997,255],[50.999999999999986,85.00000000000004,255],[50.999999999999986,67.99999999999993,255],[50.999999999999986,50.999999999999986,255],[150,150,150],[150,150,150],[150,150,150],[150,150,150],[150,150,150],[150,150,150],[150,150,150],[150,150,150],[150,150,150],[150,150,150],[150,150,150],[150,150,150],[150,150,150],[150,150,150],[150,150,150],[150,150,150],[150,150,150],[150,150,150],[150,150,150],[150,150,150],[150,150,150],[150,150,150],[150,150,150]],&quot;nodes&quot;:[0,1,2,3,4,5,6,7,8,9,10,11,12,13,14,15,16,17,18,19,20,21,22,23,24,25,26,27,28,29,30,31,32,33,34,35,36,37,38,39,40,41,42,43,44,45,46,47,48,49,50,51,52,53,54,55,56,57,58,59,60,61,62,63,64,65,66,67,68,69,70,71],&quot;links&quot;:[[0,1,1],[1,0,1],[1,2,1],[2,1,1],[2,3,1],[2,49,1],[3,2,1],[3,4,1],[3,50,1],[4,3,1],[4,5,1],[4,51,1],[5,4,1],[5,6,1],[6,5,1],[6,7,1],[7,6,1],[7,8,1],[8,7,1],[8,9,1],[8,52,1],[9,8,1],[9,10,1],[10,9,1],[10,11,1],[10,53,1],[11,10,1],[11,12,1],[12,11,1],[12,13,1],[13,12,1],[13,14,1],[13,54,1],[14,13,1],[14,15,1],[14,55,1],[15,14,1],[15,16,1],[15,56,1],[16,15,1],[16,17,1],[17,16,1],[17,18,1],[17,57,1],[18,17,1],[18,19,1],[18,58,1],[19,18,1],[19,20,1],[19,59,1],[20,19,1],[20,21,1],[20,60,1],[21,20,1],[21,22,1],[22,21,1],[22,23,1],[23,22,1],[23,24,1],[23,61,1],[24,23,1],[24,25,1],[25,24,1],[25,26,1],[26,25,1],[26,27,1],[27,26,1],[27,28,1],[27,62,1],[28,27,1],[28,29,1],[29,28,1],[29,30,1],[30,29,1],[30,31,1],[31,30,1],[31,32,1],[31,63,1],[32,31,1],[32,33,1],[33,32,1],[33,34,1],[34,33,1],[34,35,1],[34,64,1],[35,34,1],[35,36,1],[36,35,1],[36,37,1],[36,65,1],[37,36,1],[37,38,1],[37,66,1],[38,37,1],[38,39,1],[39,38,1],[39,40,1],[40,39,1],[40,41,1],[41,40,1],[41,42,1],[42,41,1],[42,43,1],[42,67,1],[43,42,1],[43,44,1],[43,68,1],[44,43,1],[44,45,1],[45,44,1],[45,46,1],[46,45,1],[46,47,1],[46,69,1],[47,46,1],[47,48,1],[47,70,1],[48,47,1],[48,71,1],[49,2,1],[50,3,1],[51,4,1],[52,8,1],[53,10,1],[54,13,1],[55,14,1],[56,15,1],[57,17,1],[58,18,1],[59,19,1],[60,20,1],[61,23,1],[62,27,1],[63,31,1],[64,34,1],[65,36,1],[66,37,1],[67,42,1],[68,43,1],[69,46,1],[70,47,1],[71,48,1]]}\" data-images=\"null\" data-options=\"{&quot;tooltips&quot;:true,&quot;description&quot;:null,&quot;zoom&quot;:true,&quot;height&quot;:null,&quot;width&quot;:600,&quot;brush&quot;:true}\" id=\"viz-2938c1ac-d4fd-4478-b127-e6d8bad49801\" data-initialized=\"false\" class=\"feed-item\"></div></div></div></div><script>window.lightning = window.lightning || {};\n",
       "window.lightning.host = \"http://public.lightning-viz.org/\" || 'http://127.0.0.1:3000/';\n",
       "window.lightning.vizCount = (window.lightning.vizCount + 1) || 1;\n",
       "window.lightning.requiredVizTypes = window.lightning.requiredVizTypes || [];\n",
       "if(window.lightning.requiredVizTypes.indexOf(\"force\") === -1) {\n",
       "    window.lightning.requiredVizTypes.push(\"force\");\n",
       "}\n",
       "window._require = window.require;\n",
       "window.require = undefined;\n",
       "window._define = window.define;\n",
       "window.define = undefined;</script><script src=\"http://public.lightning-viz.org/js/embed.js\"></script>"
      ],
      "text/plain": [
       "<lightning.types.plots.Force at 0x10916e150>"
      ]
     },
     "execution_count": 5,
     "metadata": {},
     "output_type": "execute_result"
    }
   ],
   "source": [
    "G = nx.random_lobster(60, 0.5, 0.0, seed=44)\n",
    "mat = nx.adjacency_matrix(G).todense()\n",
    "n = len(G.nodes())\n",
    "c = [list(asarray(hsv_to_rgb(float(x) / n , 0.8, 1.0))*255) if y > 1 else [150,150,150] for (x,y) in G.degree_iter()]\n",
    "lgn.force(mat, color=c)"
   ]
  },
  {
   "cell_type": "markdown",
   "metadata": {},
   "source": [
    "## <hr> Coloring by degree"
   ]
  },
  {
   "cell_type": "markdown",
   "metadata": {},
   "source": [
    "Here we color points (and also change their size) to indicate their degree.\n",
    "<br>\n",
    "Click to confirm bigger points have more connections."
   ]
  },
  {
   "cell_type": "code",
   "execution_count": 6,
   "metadata": {
    "collapsed": false
   },
   "outputs": [
    {
     "data": {
      "text/html": [
       "<meta name=\"viewport\" content=\"width=device-width, initial-scale=1, maximum-scale=1\"/><meta http-equiv=\"X-UA-Compatible\" content=\"IE=10; IE=9; IE=8; IE=7; IE=EDGE\"/><meta charset=\"UTF-8\"/><link href=\"//fonts.googleapis.com/css?family=Open+Sans:400,700\" rel=\"stylesheet\" type=\"text/css\"/><link rel=\"stylesheet\" href=\"http://public.lightning-viz.org/css/app.css\"/><link rel=\"stylesheet\" href=\"http://public.lightning-viz.org/css/dynamic/viz/?visualizations[]=force\"/><div id=\"lightning-body\" class=\"container content wrap push\"><div class=\"feed-container\"><div data-model=\"visualization\" data-model-id=\"d2f612ff-d327-4cd2-b7e4-d4dc7ac32ef9\" class=\"feed-item-container\"><div data-type=\"lightning-force\" data-data=\"{&quot;nodes&quot;:[0,1,2,3,4,5,6,7,8,9,10,11,12,13,14,15,16,17,18,19,20,21,22,23,24,25,26,27,28,29,30,31,32,33,34,35,36,37,38,39,40,41,42,43,44,45,46,47,48,49],&quot;group&quot;:[2,5,4,2,3,0,1,1,1,0,0,0,2,2,0,0,0,2,0,2,1,1,2,1,1,1,2,3,2,1,3,0,2,2,4,2,1,0,0,2,4,0,2,4,5,3,0,0,1,1],&quot;links&quot;:[[0,30,1],[0,45,1],[1,2,1],[1,26,1],[1,40,1],[1,43,1],[1,44,1],[2,1,1],[2,40,1],[2,43,1],[2,44,1],[3,22,1],[3,35,1],[4,21,1],[4,32,1],[4,42,1],[6,20,1],[7,24,1],[8,48,1],[12,27,1],[12,39,1],[13,17,1],[13,28,1],[17,13,1],[17,28,1],[19,25,1],[19,27,1],[20,6,1],[21,4,1],[22,3,1],[22,35,1],[23,33,1],[24,7,1],[25,19,1],[26,1,1],[26,44,1],[27,12,1],[27,19,1],[27,39,1],[28,13,1],[28,17,1],[29,49,1],[30,0,1],[30,34,1],[30,45,1],[32,4,1],[32,34,1],[33,23,1],[33,36,1],[34,30,1],[34,32,1],[34,42,1],[34,45,1],[35,3,1],[35,22,1],[36,33,1],[39,12,1],[39,27,1],[40,1,1],[40,2,1],[40,43,1],[40,44,1],[42,4,1],[42,34,1],[43,1,1],[43,2,1],[43,40,1],[43,44,1],[44,1,1],[44,2,1],[44,26,1],[44,40,1],[44,43,1],[45,0,1],[45,30,1],[45,34,1],[48,8,1],[49,29,1]],&quot;size&quot;:[10.5,19.5,16.5,10.5,13.5,4.5,7.5,7.5,7.5,4.5,4.5,4.5,10.5,10.5,4.5,4.5,4.5,10.5,4.5,10.5,7.5,7.5,10.5,7.5,7.5,7.5,10.5,13.5,10.5,7.5,13.5,4.5,10.5,10.5,16.5,10.5,7.5,4.5,4.5,10.5,16.5,4.5,10.5,16.5,19.5,13.5,4.5,4.5,7.5,7.5]}\" data-images=\"null\" data-options=\"{&quot;tooltips&quot;:true,&quot;description&quot;:null,&quot;zoom&quot;:true,&quot;height&quot;:null,&quot;width&quot;:600,&quot;brush&quot;:true}\" id=\"viz-d2f612ff-d327-4cd2-b7e4-d4dc7ac32ef9\" data-initialized=\"false\" class=\"feed-item\"></div></div></div></div><script>window.lightning = window.lightning || {};\n",
       "window.lightning.host = \"http://public.lightning-viz.org/\" || 'http://127.0.0.1:3000/';\n",
       "window.lightning.vizCount = (window.lightning.vizCount + 1) || 1;\n",
       "window.lightning.requiredVizTypes = window.lightning.requiredVizTypes || [];\n",
       "if(window.lightning.requiredVizTypes.indexOf(\"force\") === -1) {\n",
       "    window.lightning.requiredVizTypes.push(\"force\");\n",
       "}\n",
       "window._require = window.require;\n",
       "window.require = undefined;\n",
       "window._define = window.define;\n",
       "window.define = undefined;</script><script src=\"http://public.lightning-viz.org/js/embed.js\"></script>"
      ],
      "text/plain": [
       "<lightning.types.plots.Force at 0x106fb0fd0>"
      ]
     },
     "execution_count": 6,
     "metadata": {},
     "output_type": "execute_result"
    }
   ],
   "source": [
    "G = nx.random_geometric_graph(50, 0.1)\n",
    "mat = nx.adjacency_matrix(G).todense()\n",
    "g = G.degree().values()\n",
    "lgn.force(mat, group=g, size=(asarray(g) + 1.5)*3)"
   ]
  },
  {
   "cell_type": "markdown",
   "metadata": {},
   "source": [
    "## <hr> Graph of clustering"
   ]
  },
  {
   "cell_type": "markdown",
   "metadata": {},
   "source": [
    "Graphs can be a useful way to look at data that doesn't neccessarily come from a graph.\n",
    "<br>\n",
    "Here we create a graph from a thresholded correlation matrix on data drawn from a set of clusters.\n",
    "<br>\n",
    "The cluster identities are clear in the resulting graph."
   ]
  },
  {
   "cell_type": "code",
   "execution_count": 7,
   "metadata": {
    "collapsed": false
   },
   "outputs": [
    {
     "data": {
      "text/html": [
       "<meta name=\"viewport\" content=\"width=device-width, initial-scale=1, maximum-scale=1\"/><meta http-equiv=\"X-UA-Compatible\" content=\"IE=10; IE=9; IE=8; IE=7; IE=EDGE\"/><meta charset=\"UTF-8\"/><link href=\"//fonts.googleapis.com/css?family=Open+Sans:400,700\" rel=\"stylesheet\" type=\"text/css\"/><link rel=\"stylesheet\" href=\"http://public.lightning-viz.org/css/app.css\"/><link rel=\"stylesheet\" href=\"http://public.lightning-viz.org/css/dynamic/viz/?visualizations[]=force\"/><div id=\"lightning-body\" class=\"container content wrap push\"><div class=\"feed-container\"><div data-model=\"visualization\" data-model-id=\"d0e9b5e5-9514-407a-b398-c1643be5a672\" class=\"feed-item-container\"><div data-type=\"lightning-force\" data-data=\"{&quot;nodes&quot;:[0,1,2,3,4,5,6,7,8,9,10,11,12,13,14,15,16,17,18,19,20,21,22,23,24,25,26,27,28,29,30,31,32,33,34,35,36,37,38,39,40,41,42,43,44,45,46,47,48,49],&quot;group&quot;:[3,1,3,1,3,4,0,0,0,3,0,0,2,2,4,3,2,2,4,3,3,2,1,4,4,4,2,4,2,4,1,1,0,0,4,2,2,0,0,3,4,0,1,3,1,1,1,3,1,2],&quot;links&quot;:[[0,0,1],[0,4,0.9884383879751419],[0,9,0.9346416732398108],[0,15,0.975217608131259],[0,19,0.996389789638783],[0,20,0.9756539207643702],[0,39,0.9930262211171893],[0,43,0.9714964845212982],[0,47,0.9822898387891075],[1,1,1],[1,3,0.9744174741934761],[1,31,0.9855173073300466],[1,42,0.9440686886430493],[1,45,0.9136183071781574],[1,46,0.974904669482687],[2,2,1],[2,9,0.9471104525253017],[2,15,0.922342367438286],[3,1,0.9744174741934761],[3,3,1],[3,31,0.9606388209928813],[3,42,0.9902746558977763],[3,44,0.9539676380137415],[3,45,0.9703024239384652],[3,46,0.9407147544749964],[4,0,0.9884383879751419],[4,4,1],[4,9,0.928002714681815],[4,15,0.9499547869405214],[4,19,0.9742050898442921],[4,20,0.9833001143627748],[4,39,0.9656945482048431],[4,43,0.9560142910243722],[4,47,0.9534134326108047],[5,5,1],[5,14,0.9475847530628705],[5,18,0.9900245171835486],[5,23,0.9846312261484946],[5,27,0.9829407810794433],[5,34,0.9592829402540856],[6,6,1],[6,7,0.9591597871294834],[6,10,0.9830617449237776],[6,11,0.9561685596257476],[6,33,0.9185279533524046],[6,38,0.9738144892487066],[6,41,0.9752215078900163],[7,6,0.9591597871294834],[7,7,1],[7,10,0.9928447452452511],[7,11,0.9825056533831801],[7,32,0.9336812426428167],[7,33,0.951570704186376],[7,37,0.9614937007333237],[7,38,0.9676773434784695],[7,41,0.9615728722956353],[8,8,1],[8,32,0.949102549213523],[8,37,0.9365373053715086],[9,0,0.9346416732398108],[9,2,0.9471104525253017],[9,4,0.928002714681815],[9,9,1],[9,15,0.9503811474844945],[9,19,0.9425696231253662],[9,39,0.9108352272730366],[10,6,0.9830617449237776],[10,7,0.9928447452452511],[10,10,1],[10,11,0.9758622128099991],[10,32,0.911207930243905],[10,33,0.9437429509938207],[10,37,0.9530967367970282],[10,38,0.970576440475108],[10,41,0.9658218138840622],[11,6,0.9561685596257476],[11,7,0.9825056533831801],[11,10,0.9758622128099991],[11,11,1],[11,32,0.909185881288198],[11,33,0.9873098585901589],[11,37,0.938619005181835],[11,38,0.9572412236827134],[11,41,0.9835131670478665],[12,12,1],[12,16,0.9296524958369935],[12,17,0.9681061508542701],[12,21,0.9681081664322454],[12,26,0.9893574755587057],[12,28,0.9896813592460093],[12,36,0.904254130913273],[12,49,0.934775837306283],[13,13,1],[13,16,0.9312472228736293],[13,17,0.9271074851430493],[13,21,0.9491917907681181],[13,35,0.9937986548113945],[13,36,0.987254066345747],[13,49,0.9748377067762818],[14,5,0.9475847530628705],[14,14,1],[14,18,0.9430678828906549],[14,23,0.9827292635218313],[14,24,0.9104571814847547],[14,27,0.9575562990264862],[14,29,0.9228746755328943],[14,34,0.9631078794969347],[14,40,0.973411304192217],[15,0,0.975217608131259],[15,2,0.922342367438286],[15,4,0.9499547869405214],[15,9,0.9503811474844945],[15,15,1],[15,19,0.9873656449399926],[15,20,0.9578712763932523],[15,39,0.9673697248584227],[15,43,0.9852762285610978],[15,47,0.946128529499464],[16,12,0.9296524958369935],[16,13,0.9312472228736293],[16,16,1],[16,17,0.9382185992906917],[16,21,0.9736927544065811],[16,26,0.9187540268081916],[16,28,0.972693748425899],[16,35,0.950750669387323],[16,36,0.9383254529379873],[16,49,0.9502158399836271],[17,12,0.9681061508542701],[17,13,0.9271074851430493],[17,16,0.9382185992906917],[17,17,1],[17,21,0.9825477244380025],[17,26,0.9528753223135313],[17,28,0.975296282613251],[17,35,0.926372894180481],[17,36,0.960531005994275],[17,49,0.9749266760054112],[18,5,0.9900245171835486],[18,14,0.9430678828906549],[18,18,1],[18,23,0.9773561667462929],[18,27,0.9787926091748854],[18,34,0.9776410246357844],[18,40,0.9258672627920709],[19,0,0.996389789638783],[19,4,0.9742050898442921],[19,9,0.9425696231253662],[19,15,0.9873656449399926],[19,19,1],[19,20,0.96533672397636],[19,39,0.994208216607895],[19,43,0.9758833877320432],[19,47,0.9804911794763975],[20,0,0.9756539207643702],[20,4,0.9833001143627748],[20,15,0.9578712763932523],[20,19,0.96533672397636],[20,20,1],[20,39,0.9529461522603186],[20,43,0.9845836609987172],[20,47,0.9490859667060006],[21,12,0.9681081664322454],[21,13,0.9491917907681181],[21,16,0.9736927544065811],[21,17,0.9825477244380025],[21,21,1],[21,26,0.9702811642263547],[21,28,0.9882200600603583],[21,35,0.9469770573042978],[21,36,0.9788531158735573],[21,49,0.9910462738556383],[22,22,1],[22,42,0.9393173126361647],[22,44,0.9337303066427547],[23,5,0.9846312261484946],[23,14,0.9827292635218313],[23,18,0.9773561667462929],[23,23,1],[23,27,0.9677616738467736],[23,29,0.9135616881157063],[23,34,0.9818443657834209],[23,40,0.9462414593938735],[24,14,0.9104571814847547],[24,24,1],[24,25,0.9878262742195505],[24,29,0.9919753856133839],[24,34,0.9320412314468688],[24,40,0.9557710380223389],[24,46,0.9256600727484898],[24,48,0.953437774951231],[25,24,0.9878262742195505],[25,25,1],[25,29,0.9766369538333565],[25,40,0.9539984108885055],[25,46,0.9601157646175366],[25,48,0.9608864251915872],[26,12,0.9893574755587057],[26,16,0.9187540268081916],[26,17,0.9528753223135313],[26,21,0.9702811642263547],[26,26,1],[26,28,0.9791125731043095],[26,36,0.9203889210569878],[26,49,0.9469541842759552],[27,5,0.9829407810794433],[27,14,0.9575562990264862],[27,18,0.9787926091748854],[27,23,0.9677616738467736],[27,27,1],[27,34,0.9404852886283768],[27,40,0.9177123172352782],[28,12,0.9896813592460093],[28,16,0.972693748425899],[28,17,0.975296282613251],[28,21,0.9882200600603583],[28,26,0.9791125731043095],[28,28,1],[28,35,0.9029388092961539],[28,36,0.9362755012646872],[28,49,0.9594857618524888],[29,14,0.9228746755328943],[29,23,0.9135616881157063],[29,24,0.9919753856133839],[29,25,0.9766369538333565],[29,29,1],[29,34,0.962505746900944],[29,40,0.9715496467371766],[29,48,0.9253538160193603],[30,30,1],[30,44,0.9080700897151776],[31,1,0.9855173073300466],[31,3,0.9606388209928813],[31,31,1],[31,42,0.9161175416539725],[31,45,0.9131403482077506],[31,46,0.936126453475069],[32,7,0.9336812426428167],[32,8,0.949102549213523],[32,10,0.911207930243905],[32,11,0.909185881288198],[32,32,1],[32,33,0.918619038315047],[32,37,0.9907682616531375],[33,6,0.9185279533524046],[33,7,0.951570704186376],[33,10,0.9437429509938207],[33,11,0.9873098585901589],[33,32,0.918619038315047],[33,33,1],[33,37,0.9395667627150204],[33,38,0.9004167470078007],[33,41,0.9532351748603531],[34,5,0.9592829402540856],[34,14,0.9631078794969347],[34,18,0.9776410246357844],[34,23,0.9818443657834209],[34,24,0.9320412314468688],[34,27,0.9404852886283768],[34,29,0.962505746900944],[34,34,1],[34,40,0.9687256974494937],[35,13,0.9937986548113945],[35,16,0.950750669387323],[35,17,0.926372894180481],[35,21,0.9469770573042978],[35,28,0.9029388092961539],[35,35,1],[35,36,0.9731248422759616],[35,49,0.9629471911866154],[36,12,0.904254130913273],[36,13,0.987254066345747],[36,16,0.9383254529379873],[36,17,0.960531005994275],[36,21,0.9788531158735573],[36,26,0.9203889210569878],[36,28,0.9362755012646872],[36,35,0.9731248422759616],[36,36,1],[36,49,0.9969405181471656],[37,7,0.9614937007333237],[37,8,0.9365373053715086],[37,10,0.9530967367970282],[37,11,0.938619005181835],[37,32,0.9907682616531375],[37,33,0.9395667627150204],[37,37,1],[38,6,0.9738144892487066],[38,7,0.9676773434784695],[38,10,0.970576440475108],[38,11,0.9572412236827134],[38,33,0.9004167470078007],[38,38,1],[38,41,0.9816547458092189],[39,0,0.9930262211171893],[39,4,0.9656945482048431],[39,9,0.9108352272730366],[39,15,0.9673697248584227],[39,19,0.994208216607895],[39,20,0.9529461522603186],[39,39,1],[39,43,0.9602107857856138],[39,47,0.9946156112017657],[40,14,0.973411304192217],[40,18,0.9258672627920709],[40,23,0.9462414593938735],[40,24,0.9557710380223389],[40,25,0.9539984108885055],[40,27,0.9177123172352782],[40,29,0.9715496467371766],[40,34,0.9687256974494937],[40,40,1],[41,6,0.9752215078900163],[41,7,0.9615728722956353],[41,10,0.9658218138840622],[41,11,0.9835131670478665],[41,33,0.9532351748603531],[41,38,0.9816547458092189],[41,41,1],[42,1,0.9440686886430493],[42,3,0.9902746558977763],[42,22,0.9393173126361647],[42,31,0.9161175416539725],[42,42,1],[42,44,0.967488788370102],[42,45,0.9574990145102896],[42,46,0.9108816820588498],[43,0,0.9714964845212982],[43,4,0.9560142910243722],[43,15,0.9852762285610978],[43,19,0.9758833877320432],[43,20,0.9845836609987172],[43,39,0.9602107857856138],[43,43,1],[43,47,0.9530357645032771],[44,3,0.9539676380137415],[44,22,0.9337303066427547],[44,30,0.9080700897151776],[44,42,0.967488788370102],[44,44,1],[44,45,0.9575893270496985],[44,46,0.9190906144947547],[44,48,0.9285419661998024],[45,1,0.9136183071781574],[45,3,0.9703024239384652],[45,31,0.9131403482077506],[45,42,0.9574990145102896],[45,44,0.9575893270496985],[45,45,1],[46,1,0.974904669482687],[46,3,0.9407147544749964],[46,24,0.9256600727484898],[46,25,0.9601157646175366],[46,31,0.936126453475069],[46,42,0.9108816820588498],[46,44,0.9190906144947547],[46,46,1],[46,48,0.9656995007592133],[47,0,0.9822898387891075],[47,4,0.9534134326108047],[47,15,0.946128529499464],[47,19,0.9804911794763975],[47,20,0.9490859667060006],[47,39,0.9946156112017657],[47,43,0.9530357645032771],[47,47,1],[48,24,0.953437774951231],[48,25,0.9608864251915872],[48,29,0.9253538160193603],[48,44,0.9285419661998024],[48,46,0.9656995007592133],[48,48,1],[49,12,0.934775837306283],[49,13,0.9748377067762818],[49,16,0.9502158399836271],[49,17,0.9749266760054112],[49,21,0.9910462738556383],[49,26,0.9469541842759552],[49,28,0.9594857618524888],[49,35,0.9629471911866154],[49,36,0.9969405181471656],[49,49,1]]}\" data-images=\"null\" data-options=\"{&quot;tooltips&quot;:true,&quot;description&quot;:null,&quot;zoom&quot;:true,&quot;height&quot;:null,&quot;width&quot;:600,&quot;brush&quot;:true}\" id=\"viz-d0e9b5e5-9514-407a-b398-c1643be5a672\" data-initialized=\"false\" class=\"feed-item\"></div></div></div></div><script>window.lightning = window.lightning || {};\n",
       "window.lightning.host = \"http://public.lightning-viz.org/\" || 'http://127.0.0.1:3000/';\n",
       "window.lightning.vizCount = (window.lightning.vizCount + 1) || 1;\n",
       "window.lightning.requiredVizTypes = window.lightning.requiredVizTypes || [];\n",
       "if(window.lightning.requiredVizTypes.indexOf(\"force\") === -1) {\n",
       "    window.lightning.requiredVizTypes.push(\"force\");\n",
       "}\n",
       "window._require = window.require;\n",
       "window.require = undefined;\n",
       "window._define = window.define;\n",
       "window.define = undefined;</script><script src=\"http://public.lightning-viz.org/js/embed.js\"></script>"
      ],
      "text/plain": [
       "<lightning.types.plots.Force at 0x10916ea50>"
      ]
     },
     "execution_count": 7,
     "metadata": {},
     "output_type": "execute_result"
    }
   ],
   "source": [
    "d, g = datasets.make_blobs(n_features=5, n_samples=50, centers=5, cluster_std=2.0, random_state=100)\n",
    "c = corrcoef(d)\n",
    "c[c<0.9] = 0\n",
    "lgn.force(c, group=g)"
   ]
  }
 ],
 "metadata": {
  "kernelspec": {
   "display_name": "Python 2",
   "language": "python",
   "name": "python2"
  },
  "language_info": {
   "codemirror_mode": {
    "name": "ipython",
    "version": 2
   },
   "file_extension": ".py",
   "mimetype": "text/x-python",
   "name": "python",
   "nbconvert_exporter": "python",
   "pygments_lexer": "ipython2",
   "version": "2.7.9"
  }
 },
 "nbformat": 4,
 "nbformat_minor": 0
}
