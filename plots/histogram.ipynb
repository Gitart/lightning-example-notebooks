{
 "cells": [
  {
   "cell_type": "markdown",
   "metadata": {},
   "source": [
    "# <img style='float: left' src=\"http://lightning-viz.github.io/images/logo.png\"> <br> <br> &nbsp;&nbsp;&nbsp;&nbsp;&nbsp;Histogram plots in <a href='http://lightning-viz.github.io/'><font color='#9175f0'>Lightning</font></a>"
   ]
  },
  {
   "cell_type": "markdown",
   "metadata": {},
   "source": [
    "## <hr> Setup"
   ]
  },
  {
   "cell_type": "code",
   "execution_count": 1,
   "metadata": {
    "collapsed": false
   },
   "outputs": [],
   "source": [
    "import os\n",
    "from lightning import Lightning\n",
    "\n",
    "from numpy import random"
   ]
  },
  {
   "cell_type": "markdown",
   "metadata": {},
   "source": [
    "## Connect to server"
   ]
  },
  {
   "cell_type": "code",
   "execution_count": 2,
   "metadata": {
    "collapsed": false
   },
   "outputs": [
    {
     "data": {
      "text/html": [
       "<div style='margin-top:8px'><img src='data:image/png;base64,iVBORw0KGgoAAAANSUhEUgAAAKUAAAEPCAYAAAAj2wTmAAAACXBIWXMAAC4jAAAuIwF4pT92AAAAGXRFWHRTb2Z0d2FyZQBBZG9iZSBJbWFnZVJlYWR5ccllPAAACv1JREFUeNrsnUtyU0cYhRtVpim8A7QDmxUgVoC8AsvjDCxPM8GeZGp7kDHyChAriFgBeAUxKwhUFkBuhysQtmRfXfXjf3ynyqUCv/T4OOceuvvXk69fvwbkV3/+/u9BczP+7Y9fz6TcpwEvi2sg95qbWfMxl3S/gNK3Iox7jUt+BEokwSUvm5sX0lwSKP0COWluTto/Xkq7f08oOi6LzYf2jzdNdB/glKh2sVms/NVM4v0ESn9APr1TdIASVVO8dtxf+XOM7lugRLVc8qy5Obrz1zOp9xco7QM5bm5er/nUHChRraa9zhHfSY1uoLRfbOZ3io14lwRK24rgPXvgc0CJirpkjOwXGz4do/szUKKSQE7WNG01LgmU9oAcNTdvOsQ6UKIiQA47AHctPbqB0kfTVuWSQGlHsdjsP/I1XxqXBEpUxCXPmptXHb50ruUxAaX+pv2645ergZJNvnqBjEuIiw7Xkcvo3sMpUe5i0xVIVS4JlHq1DZDLIqRGxLc+l4yAHW3xLZ+a6B7ilCgXkNMtgVQX3UCpC8i4Wfeix7fOtD1W4tte01Yd3TilnqY96wGkyugGSh2KYO33/N4ZUKLULrmc99NHN9IGVwGlfiAn4ce8HzcuCZSyi82bHX/MXOvjp33LAzK25Y89i81qdB9ofQ5wSnlNe74jkKqjGyjl6XKHpm0iuoFSlkuehe2XENfpveTpF0CpB8hN837cRTdQymnaKUGaAyWSUGyWeqfhCC1QytYibJ7349IlgbKuS84SNW2gREmAnCRq2uaiGyjrADkKuy8hmnXJKJYZywI5DLsvIa6TqiO0OKXdpm3SJYGyrHIUG5NQEt9lXDKuaZ9k+vGmohunLNe0TzL+irm15wwo8wIZlxBzv0usOSiJ77zF5jZTsVlK5RFanLKeFpmBNOmSQJnPJXM27buN3pyI7/RAxnk/FwV+lcnoxinTAzkuBKTZ6AbK9E27ZJzOrD6XxHe6pr0odB1pOrpxyrRRul/w911afjKBcneX3GXeD9eTxHdyICchz97Ih6R6+gVOmb/YvKnwq2fWn1ug7AfksC02ta5fgRLda9q5Nut2ie5boETrmu9+xd8dgBKtuuRZSH8KkeimffcGMi4hvq14F+IR2jFOiVabdu3WO/fyfAOl7GIDlGitFiHtvJ++0f0ZKFHJzbq4JFB2AnJSuWkv9QUoUc55P71c0lN0A+V6IIfCnGnu7TXg/ynvN+2FkOvI/6Pb2vQLnHJ7zQQB6dIlgfJnl4zryq+E3S2XUBLfodpmXaIbp9wIZIl5P30vJQJQ+i02T4GS+KZpPyzTR2hxys26FAqk24LjGsp23s+R4Ls48wylu/gWsFmX6MYp7zVt6S7k2iVdQdkWm5nQpg2UTp2y9LyfPnJxhBYow/fNui8U3FX3LukCSkGbdbu6uXuZbt9tsfmg5O6aH1zl3ikrz/shuoFybdOWcCyW6AbK75K8hLhO72jdhqEUMO8HlwTKe037tcK7DpQWoRS8WbdLdH8GRWNQKi02uKRxp1yE+vN+gBIov7vkTFnTXtU10W0MSmVLiLhkR6ldZmzn/fyl+Ll3e4TWpFO2TVu7y+CSVqBUtFkXKB05peZisxrdQGkBSqHzfnBJr1C2TfvEyPN+CXrK23dbbBYGriOj3B+hVe+Uwuf9EN3eoDQI5LKoIcVOqW2zbpfo/gh2SqFUMO+H6PYEZTvv58Lg803r1ti+jTXtVXGEViOUwgeZIqfxPQdI9zoV45TtZt0jXhPXipueJyKgFPqWIajSNfdAAJAHAOle8Z16RyKuKRXO+0GZgFw9qzSoCKTmY7EonaZ3V7lqOqW1JUS0va4aIGd3/7JK0Wnn/bzmNXGtOBlkvO4TgwpATgCSpt18TDZ9sqhTGl5CRNsVm4OHRh8Wg7ItNvGC9hmvi2u9bIBcPPQFJeN7AZDudfwYkMWgVD7vB6XR9bqmXSW+2826F7wmvovNNtv2BpmBHAGke30KK0uIVZ2Spo3CjyXEj9WhZLMuanXYZzxNrvim2KDzvvOSkjtlO+/nhNfEfdOe9P3mQWIgJwBJ024+prv8gGROqezNOVG+YnOw67unJYGyLTa3NG33ep5iAsggEZALgHSv41QjaVJcU7JZF111XULMHt8sIaJG7xsgRyl/4GAHIMcASdNuPsapf2gvp2QJEYWeS4hZoGSzLmp1mOsdLvrE9xwg3es051uubOWUzPtBYcclxKRQMu8HhUIzNgcdgWTeD/pp3k9VKJn3g8KaeT/VoGTeD2o1LfmuFo85ZSw2LCH6VtIlxJ2KDvN+UHhg3k9xp2TeDwqPzPsp6pQsIaKQaLNuEihZQkStXnYZr1IqvhcA6V7HNYH8CUrm/aCwxbyf7PHNZl0UMmzW7e2UzPtB4du8n7GUO/NL+HZG9z2vy6PaM3p5E5v2uNQS4tbtG22W4Uucw5x7I1O0b7RZE4OP6VwakDhld5ccNjd/G2zaIv+h4ZTdNDX2eG4kPyag7KaxocdSdG8kUOaJ7rgXwNIql2gggdJfwTkuuVkXKInux3QlYQmR9p0mui3M3BSzhIhTEt3Lpq3K7YHSNpSxaU+kFxug7B7d0V20774fayg2QOmn4JzW3qwLlEC5qriEeKn1ztO+N0f3W63FpsS8H5wSl9ym2Iy0P/k45X2X1Pr2K9km6+KUMlxSY+ueWgASKO1E97mWJUTiu190/6PsbleZ94NT4pIbm3YweEwDKPVCKe4UIvFNdL/UumKDU3aXphg8tgokUOqE8tpS0ya+N0f3MOg4Qqtqsy5Oab/gfAq2TlUCpfLoNtu0iW+90X0ocbwKTunXJc89AQmU8qGMTfvM2wviGkrh0y9Ez/sBSn8uKX7eD1Dmk9T/YnELpGsoBUf3sZXNukBpI7qvrC8hAqUuKONm3WlAPqEUOP3C5GZdoNRbcFTO+wFK21COvRcb91AKi+5Ty5t1gVKfS6qe9wOU9qC8kfoeNkBZPronAqI7btYdgR5QSnFJV5t1+8rNJl8hR2iPWbHBKSW55DlAAqUkKN953KwLlI9H96taTTuwhAiUglySYgOUG1Vr903crHsLZkB5N7qHzc1+pabNmjZQionua5o2UD6k0iXjPUuIQCkput3M+wFKHdFN0wZKca17QrEByseiu+QR2lNv836AUnbBYbMuUIq6nnQ77yenTG5da6P7Q4FiM6TY4JSSonsEkEApKbpZQgTKraJ7nLl1M+8HKEW5JPN+gFIUlGzWBcre0Z3jCC3zfoBSnEsy7wcoRUHJvB+gFBXdLCEC5U5KXUKY9wOUO7lk6iO0zPsBSlHXkmzWBUpxUE5p2nWlfpdQ4sFV54xXwSkluSTzfoBSVOtmCZH4Thbdw7D7G8jHYnPAeBWcUlJ0M+8HKEVFN5t1iW9R0X3Nig1OKSm6mfcDlKKi+yYw74f4zhDdfY/QfmmLDdeROKUYl2TeD1CKup5k3g/xLSq6ado4pajoZt4PUIqK7mWxYW8kUGaL7lHoPv0CIIFSXHSzWRcoRUU3836Askh0dz1Cy7wfoBTlkmzWBUpRUDLvByjFRTfzfoBSVOs+Zt6PHYlfZuxwhJYlRJxS1LUk836AUhSUzPshvkVFN5t1cUpxLskSIlCKgvKcJUTiu1Z0D8P9I7Q0bZxSlEuyWRcoq2typ9gwyJT4FhXdzyk2OKWk6GbeD1CKiu5rmjbxLSm647yfES8RTilB08C8H6AUpuiObNYlvkVF9wHjVXzrPwEGALbMqg0caTxkAAAAAElFTkSuQmCC' width='30px' height='35px' style='display: inline-block; padding-right: 10px'></img><span>Lightning initialized</span></div>"
      ],
      "text/plain": [
       "<IPython.core.display.HTML object>"
      ]
     },
     "metadata": {},
     "output_type": "display_data"
    },
    {
     "name": "stdout",
     "output_type": "stream",
     "text": [
      "Connected to server at http://public.lightning-viz.org\n"
     ]
    },
    {
     "data": {
      "application/javascript": [
       "(function e(t,n,r){function s(o,u){if(!n[o]){if(!t[o]){var a=typeof require==\"function\"&&require;if(!u&&a)return a(o,!0);if(i)return i(o,!0);throw new Error(\"Cannot find module '\"+o+\"'\")}var f=n[o]={exports:{}};t[o][0].call(f.exports,function(e){var n=t[o][1][e];return s(n?n:e)},f,f.exports,e,t,n,r)}return n[o].exports}var i=typeof require==\"function\"&&require;for(var o=0;o<r.length;o++)s(r[o]);return s})({1:[function(require,module,exports){\n",
       "window.lightning = window.lightning || {};\n",
       "var lightningCommMap = {};\n",
       "\n",
       "var readCommData = function(commData, field) {\n",
       "    try {\n",
       "        return commData.content.data[field];\n",
       "    } catch (err) {\n",
       "        return;\n",
       "    }\n",
       "};\n",
       "\n",
       "\n",
       "var init_comm = function() {\n",
       "    IPython.notebook.kernel.comm_manager.register_target('lightning', function(comm, data) {\n",
       "        var id = readCommData(data, 'id');\n",
       "        lightningCommMap[id] = comm;\n",
       "    });\n",
       "\n",
       "    window.lightning.comm_map = lightningCommMap;\n",
       "}\n",
       "\n",
       "\n",
       "if(IPython && IPython.notebook) {\n",
       "\n",
       "    if(IPython.notebook.kernel) {\n",
       "        init_comm();\n",
       "    }\n",
       "\n",
       "    IPython.notebook.events.on('kernel_connected.Kernel', init_comm);\n",
       "\n",
       "}\n",
       "\n",
       "\n",
       "},{}]},{},[1])\n",
       "//# sourceMappingURL=data:application/json;base64,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\n"
      ],
      "text/plain": [
       "<IPython.core.display.Javascript object>"
      ]
     },
     "metadata": {},
     "output_type": "display_data"
    }
   ],
   "source": [
    "lgn = Lightning(ipython=True, host='http://public.lightning-viz.org')"
   ]
  },
  {
   "cell_type": "markdown",
   "metadata": {},
   "source": [
    "## <hr> Make a histogram"
   ]
  },
  {
   "cell_type": "markdown",
   "metadata": {},
   "source": [
    "We'll generate some normally distributed values and make a histogram"
   ]
  },
  {
   "cell_type": "code",
   "execution_count": 3,
   "metadata": {
    "collapsed": false
   },
   "outputs": [
    {
     "data": {
      "text/html": [
       "<meta name=\"viewport\" content=\"width=device-width, initial-scale=1, maximum-scale=1\"/><meta http-equiv=\"X-UA-Compatible\" content=\"IE=10; IE=9; IE=8; IE=7; IE=EDGE\"/><meta charset=\"UTF-8\"/><link href=\"//fonts.googleapis.com/css?family=Open+Sans:400,700\" rel=\"stylesheet\" type=\"text/css\"/><link rel=\"stylesheet\" href=\"http://public.lightning-viz.org/css/app.css\"/><link rel=\"stylesheet\" href=\"http://public.lightning-viz.org/css/dynamic/viz/?visualizations[]=histogram\"/><div id=\"lightning-body\" class=\"container content wrap push\"><div class=\"feed-container\"><div data-model=\"visualization\" data-model-id=\"765bffcd-0fda-4ddc-a4af-240b45c570e3\" class=\"feed-item-container\"><div data-type=\"lightning-histogram\" data-data=\"{&quot;values&quot;:[-0.5471583199128881,-0.44667834371783327,2.2358841450285953,0.72643469532002,0.47830594628740714,1.1871575859870578,-1.2820631298662648,-0.4301862852841912,0.9205472017683193,-1.591967684463012,0.14197157846760344,-1.0757508596280128,0.6713496505051629,-0.21031993078883962,0.6096394260996414,-0.3541992696718857,0.9836499746815045,0.434253149987592,-0.616693541329048,0.1934991433302008,-1.253148376813529,0.40112151646288413,0.24993843123893666,0.48805272295433316,-0.1008171537398949,0.5091111762142162,1.2898909297279486,-0.250396795051434,1.0071513659512998,0.44488235280196586,-1.900459143855515,0.21334245291382278,0.8005100499331175,-0.6214522293264574,-0.6474707866820544,-1.8894611262845857,1.0013125223371895,-0.3320160424286976,0.4652253383031191,0.31710181088044676,-0.16928115444867034,-0.8686583297381455,0.6565312577637074,0.40449449395980586,-0.40068192861734514,-1.9119030815968359,-1.116690285986445,-0.0659571668334,1.118449032167694,-0.2311052759539589,-0.22825611353381808,1.8654958946496127,0.343763088633053,-1.6022443945031792,-2.1709869455317587,-0.6058386389006862,-2.0964676457530493,-0.7160129958863594,0.5197980946623156,0.9284768119336594,-0.26051667288091707,-1.649687253848346,-0.102509238567468,-0.4096531976638769,1.0970671647473758,-0.1206682113814594,-1.1872389700778672,-0.9506117240725418,0.5970881273414216,0.04337739686435297,0.820511883813293,-0.03299913846852184,0.45665969784361143,1.587807774889683,2.058070237739625,0.8180636106893145,-0.7368625509656513,0.3116687274364694,-0.716085620422807,0.4109448163012623,-0.7339800532214488,-2.222378516644455,0.4660128468424379,-0.7170732969324888,-2.506831249501494,-1.4464396364639516,0.6344703001010006,-0.6604883378161981,0.4527016445579294,-1.205268186160708,0.6722767188602353,0.8428533859584267,-0.8236839168411018,0.477174279821697,-0.4838800516229167,1.5898347681259701,0.40380115656635474,0.9490367148418852,1.0033839877312773,0.9672057141087247],&quot;bins&quot;:10}\" data-images=\"null\" data-options=\"{&quot;width&quot;:600,&quot;zoom&quot;:false,&quot;description&quot;:null,&quot;height&quot;:null}\" id=\"viz-765bffcd-0fda-4ddc-a4af-240b45c570e3\" data-initialized=\"false\" class=\"feed-item\"></div></div></div></div><script>window.lightning = window.lightning || {};\n",
       "window.lightning.host = \"http://public.lightning-viz.org/\" || 'http://127.0.0.1:3000/';\n",
       "window.lightning.vizCount = (window.lightning.vizCount + 1) || 1;\n",
       "window.lightning.requiredVizTypes = window.lightning.requiredVizTypes || [];\n",
       "if(window.lightning.requiredVizTypes.indexOf(\"histogram\") === -1) {\n",
       "    window.lightning.requiredVizTypes.push(\"histogram\");\n",
       "}\n",
       "window._require = window.require;\n",
       "window.require = undefined;\n",
       "window._define = window.define;\n",
       "window.define = undefined;</script><script src=\"http://public.lightning-viz.org/js/embed.js\"></script>"
      ],
      "text/plain": [
       "<lightning.types.plots.Histogram at 0x104509610>"
      ]
     },
     "execution_count": 3,
     "metadata": {},
     "output_type": "execute_result"
    }
   ],
   "source": [
    "values = random.randn(100)\n",
    "lgn.histogram(values, 10, zoom=False)"
   ]
  },
  {
   "cell_type": "markdown",
   "metadata": {},
   "source": [
    "Change the number of bins"
   ]
  },
  {
   "cell_type": "code",
   "execution_count": 4,
   "metadata": {
    "collapsed": false
   },
   "outputs": [
    {
     "data": {
      "text/html": [
       "<meta name=\"viewport\" content=\"width=device-width, initial-scale=1, maximum-scale=1\"/><meta http-equiv=\"X-UA-Compatible\" content=\"IE=10; IE=9; IE=8; IE=7; IE=EDGE\"/><meta charset=\"UTF-8\"/><link href=\"//fonts.googleapis.com/css?family=Open+Sans:400,700\" rel=\"stylesheet\" type=\"text/css\"/><link rel=\"stylesheet\" href=\"http://public.lightning-viz.org/css/app.css\"/><link rel=\"stylesheet\" href=\"http://public.lightning-viz.org/css/dynamic/viz/?visualizations[]=histogram\"/><div id=\"lightning-body\" class=\"container content wrap push\"><div class=\"feed-container\"><div data-model=\"visualization\" data-model-id=\"509f3ffa-e632-4219-9a76-a1b460ad6710\" class=\"feed-item-container\"><div data-type=\"lightning-histogram\" data-data=\"{&quot;values&quot;:[-0.5471583199128881,-0.44667834371783327,2.2358841450285953,0.72643469532002,0.47830594628740714,1.1871575859870578,-1.2820631298662648,-0.4301862852841912,0.9205472017683193,-1.591967684463012,0.14197157846760344,-1.0757508596280128,0.6713496505051629,-0.21031993078883962,0.6096394260996414,-0.3541992696718857,0.9836499746815045,0.434253149987592,-0.616693541329048,0.1934991433302008,-1.253148376813529,0.40112151646288413,0.24993843123893666,0.48805272295433316,-0.1008171537398949,0.5091111762142162,1.2898909297279486,-0.250396795051434,1.0071513659512998,0.44488235280196586,-1.900459143855515,0.21334245291382278,0.8005100499331175,-0.6214522293264574,-0.6474707866820544,-1.8894611262845857,1.0013125223371895,-0.3320160424286976,0.4652253383031191,0.31710181088044676,-0.16928115444867034,-0.8686583297381455,0.6565312577637074,0.40449449395980586,-0.40068192861734514,-1.9119030815968359,-1.116690285986445,-0.0659571668334,1.118449032167694,-0.2311052759539589,-0.22825611353381808,1.8654958946496127,0.343763088633053,-1.6022443945031792,-2.1709869455317587,-0.6058386389006862,-2.0964676457530493,-0.7160129958863594,0.5197980946623156,0.9284768119336594,-0.26051667288091707,-1.649687253848346,-0.102509238567468,-0.4096531976638769,1.0970671647473758,-0.1206682113814594,-1.1872389700778672,-0.9506117240725418,0.5970881273414216,0.04337739686435297,0.820511883813293,-0.03299913846852184,0.45665969784361143,1.587807774889683,2.058070237739625,0.8180636106893145,-0.7368625509656513,0.3116687274364694,-0.716085620422807,0.4109448163012623,-0.7339800532214488,-2.222378516644455,0.4660128468424379,-0.7170732969324888,-2.506831249501494,-1.4464396364639516,0.6344703001010006,-0.6604883378161981,0.4527016445579294,-1.205268186160708,0.6722767188602353,0.8428533859584267,-0.8236839168411018,0.477174279821697,-0.4838800516229167,1.5898347681259701,0.40380115656635474,0.9490367148418852,1.0033839877312773,0.9672057141087247],&quot;bins&quot;:50}\" data-images=\"null\" data-options=\"{&quot;width&quot;:600,&quot;zoom&quot;:false,&quot;description&quot;:null,&quot;height&quot;:null}\" id=\"viz-509f3ffa-e632-4219-9a76-a1b460ad6710\" data-initialized=\"false\" class=\"feed-item\"></div></div></div></div><script>window.lightning = window.lightning || {};\n",
       "window.lightning.host = \"http://public.lightning-viz.org/\" || 'http://127.0.0.1:3000/';\n",
       "window.lightning.vizCount = (window.lightning.vizCount + 1) || 1;\n",
       "window.lightning.requiredVizTypes = window.lightning.requiredVizTypes || [];\n",
       "if(window.lightning.requiredVizTypes.indexOf(\"histogram\") === -1) {\n",
       "    window.lightning.requiredVizTypes.push(\"histogram\");\n",
       "}\n",
       "window._require = window.require;\n",
       "window.require = undefined;\n",
       "window._define = window.define;\n",
       "window.define = undefined;</script><script src=\"http://public.lightning-viz.org/js/embed.js\"></script>"
      ],
      "text/plain": [
       "<lightning.types.plots.Histogram at 0x105543090>"
      ]
     },
     "execution_count": 4,
     "metadata": {},
     "output_type": "execute_result"
    }
   ],
   "source": [
    "lgn.histogram(values, 50, zoom=False)"
   ]
  },
  {
   "cell_type": "markdown",
   "metadata": {},
   "source": [
    "## <hr> Zooming for dynamic bins"
   ]
  },
  {
   "cell_type": "markdown",
   "metadata": {},
   "source": [
    "If we turn on zooming, we can change the number of bins dynamically by zooming in and out -- try it!"
   ]
  },
  {
   "cell_type": "code",
   "execution_count": 5,
   "metadata": {
    "collapsed": false
   },
   "outputs": [
    {
     "data": {
      "text/html": [
       "<meta name=\"viewport\" content=\"width=device-width, initial-scale=1, maximum-scale=1\"/><meta http-equiv=\"X-UA-Compatible\" content=\"IE=10; IE=9; IE=8; IE=7; IE=EDGE\"/><meta charset=\"UTF-8\"/><link href=\"//fonts.googleapis.com/css?family=Open+Sans:400,700\" rel=\"stylesheet\" type=\"text/css\"/><link rel=\"stylesheet\" href=\"http://public.lightning-viz.org/css/app.css\"/><link rel=\"stylesheet\" href=\"http://public.lightning-viz.org/css/dynamic/viz/?visualizations[]=histogram\"/><div id=\"lightning-body\" class=\"container content wrap push\"><div class=\"feed-container\"><div data-model=\"visualization\" data-model-id=\"ff5e4124-2f80-45a4-9201-11117d907e62\" class=\"feed-item-container\"><div data-type=\"lightning-histogram\" data-data=\"{&quot;values&quot;:[-0.5471583199128881,-0.44667834371783327,2.2358841450285953,0.72643469532002,0.47830594628740714,1.1871575859870578,-1.2820631298662648,-0.4301862852841912,0.9205472017683193,-1.591967684463012,0.14197157846760344,-1.0757508596280128,0.6713496505051629,-0.21031993078883962,0.6096394260996414,-0.3541992696718857,0.9836499746815045,0.434253149987592,-0.616693541329048,0.1934991433302008,-1.253148376813529,0.40112151646288413,0.24993843123893666,0.48805272295433316,-0.1008171537398949,0.5091111762142162,1.2898909297279486,-0.250396795051434,1.0071513659512998,0.44488235280196586,-1.900459143855515,0.21334245291382278,0.8005100499331175,-0.6214522293264574,-0.6474707866820544,-1.8894611262845857,1.0013125223371895,-0.3320160424286976,0.4652253383031191,0.31710181088044676,-0.16928115444867034,-0.8686583297381455,0.6565312577637074,0.40449449395980586,-0.40068192861734514,-1.9119030815968359,-1.116690285986445,-0.0659571668334,1.118449032167694,-0.2311052759539589,-0.22825611353381808,1.8654958946496127,0.343763088633053,-1.6022443945031792,-2.1709869455317587,-0.6058386389006862,-2.0964676457530493,-0.7160129958863594,0.5197980946623156,0.9284768119336594,-0.26051667288091707,-1.649687253848346,-0.102509238567468,-0.4096531976638769,1.0970671647473758,-0.1206682113814594,-1.1872389700778672,-0.9506117240725418,0.5970881273414216,0.04337739686435297,0.820511883813293,-0.03299913846852184,0.45665969784361143,1.587807774889683,2.058070237739625,0.8180636106893145,-0.7368625509656513,0.3116687274364694,-0.716085620422807,0.4109448163012623,-0.7339800532214488,-2.222378516644455,0.4660128468424379,-0.7170732969324888,-2.506831249501494,-1.4464396364639516,0.6344703001010006,-0.6604883378161981,0.4527016445579294,-1.205268186160708,0.6722767188602353,0.8428533859584267,-0.8236839168411018,0.477174279821697,-0.4838800516229167,1.5898347681259701,0.40380115656635474,0.9490367148418852,1.0033839877312773,0.9672057141087247],&quot;bins&quot;:25}\" data-images=\"null\" data-options=\"{&quot;width&quot;:600,&quot;zoom&quot;:true,&quot;description&quot;:null,&quot;height&quot;:null}\" id=\"viz-ff5e4124-2f80-45a4-9201-11117d907e62\" data-initialized=\"false\" class=\"feed-item\"></div></div></div></div><script>window.lightning = window.lightning || {};\n",
       "window.lightning.host = \"http://public.lightning-viz.org/\" || 'http://127.0.0.1:3000/';\n",
       "window.lightning.vizCount = (window.lightning.vizCount + 1) || 1;\n",
       "window.lightning.requiredVizTypes = window.lightning.requiredVizTypes || [];\n",
       "if(window.lightning.requiredVizTypes.indexOf(\"histogram\") === -1) {\n",
       "    window.lightning.requiredVizTypes.push(\"histogram\");\n",
       "}\n",
       "window._require = window.require;\n",
       "window.require = undefined;\n",
       "window._define = window.define;\n",
       "window.define = undefined;</script><script src=\"http://public.lightning-viz.org/js/embed.js\"></script>"
      ],
      "text/plain": [
       "<lightning.types.plots.Histogram at 0x104509890>"
      ]
     },
     "execution_count": 5,
     "metadata": {},
     "output_type": "execute_result"
    }
   ],
   "source": [
    "lgn.histogram(values, 25, zoom=True)"
   ]
  }
 ],
 "metadata": {
  "kernelspec": {
   "display_name": "Python 2",
   "language": "python",
   "name": "python2"
  },
  "language_info": {
   "codemirror_mode": {
    "name": "ipython",
    "version": 2
   },
   "file_extension": ".py",
   "mimetype": "text/x-python",
   "name": "python",
   "nbconvert_exporter": "python",
   "pygments_lexer": "ipython2",
   "version": "2.7.9"
  }
 },
 "nbformat": 4,
 "nbformat_minor": 0
}
