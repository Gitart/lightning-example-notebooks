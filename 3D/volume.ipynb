{
 "cells": [
  {
   "cell_type": "markdown",
   "metadata": {},
   "source": [
    "# <img style='float: left' src=\"http://lightning-viz.github.io/images/logo.png\"> <br> <br> &nbsp;&nbsp;&nbsp;&nbsp;&nbsp;Volume renderings in <a href='http://lightning-viz.github.io/'><font color='#9175f0'>Lightning</font></a>"
   ]
  },
  {
   "cell_type": "markdown",
   "metadata": {},
   "source": [
    "## <hr> Setup"
   ]
  },
  {
   "cell_type": "code",
   "execution_count": 1,
   "metadata": {
    "collapsed": false
   },
   "outputs": [],
   "source": [
    "from lightning import Lightning\n",
    "\n",
    "from colorsys import hsv_to_rgb\n",
    "from numpy import ndarray, linspace"
   ]
  },
  {
   "cell_type": "markdown",
   "metadata": {},
   "source": [
    "## Connect to server"
   ]
  },
  {
   "cell_type": "code",
   "execution_count": 2,
   "metadata": {
    "collapsed": false
   },
   "outputs": [
    {
     "data": {
      "text/html": [
       "<div style='margin-top:8px'><img src='data:image/png;base64,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' width='30px' height='35px' style='display: inline-block; padding-right: 10px'></img><span>Lightning initialized</span></div>"
      ],
      "text/plain": [
       "<IPython.core.display.HTML object>"
      ]
     },
     "metadata": {},
     "output_type": "display_data"
    },
    {
     "name": "stdout",
     "output_type": "stream",
     "text": [
      "Connected to server at http://public.lightning-viz.org\n"
     ]
    },
    {
     "data": {
      "application/javascript": [
       "(function e(t,n,r){function s(o,u){if(!n[o]){if(!t[o]){var a=typeof require==\"function\"&&require;if(!u&&a)return a(o,!0);if(i)return i(o,!0);throw new Error(\"Cannot find module '\"+o+\"'\")}var f=n[o]={exports:{}};t[o][0].call(f.exports,function(e){var n=t[o][1][e];return s(n?n:e)},f,f.exports,e,t,n,r)}return n[o].exports}var i=typeof require==\"function\"&&require;for(var o=0;o<r.length;o++)s(r[o]);return s})({1:[function(require,module,exports){\n",
       "window.lightning = window.lightning || {};\n",
       "var lightningCommMap = {};\n",
       "\n",
       "var readCommData = function(commData, field) {\n",
       "    try {\n",
       "        return commData.content.data[field];\n",
       "    } catch (err) {\n",
       "        return;\n",
       "    }\n",
       "};\n",
       "\n",
       "\n",
       "var init_comm = function() {\n",
       "    IPython.notebook.kernel.comm_manager.register_target('lightning', function(comm, data) {\n",
       "        var id = readCommData(data, 'id');\n",
       "        lightningCommMap[id] = comm;\n",
       "    });\n",
       "\n",
       "    window.lightning.comm_map = lightningCommMap;\n",
       "}\n",
       "\n",
       "\n",
       "if(IPython && IPython.notebook) {\n",
       "\n",
       "    if(IPython.notebook.kernel) {\n",
       "        init_comm();\n",
       "    }\n",
       "\n",
       "    IPython.notebook.events.on('kernel_connected.Kernel', init_comm);\n",
       "\n",
       "}\n",
       "\n",
       "\n",
       "},{}]},{},[1])\n",
       "//# sourceMappingURL=data:application/json;base64,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\n"
      ],
      "text/plain": [
       "<IPython.core.display.Javascript object>"
      ]
     },
     "metadata": {},
     "output_type": "display_data"
    }
   ],
   "source": [
    "lgn = Lightning(ipython=True, host='http://public.lightning-viz.org')"
   ]
  },
  {
   "cell_type": "markdown",
   "metadata": {},
   "source": [
    "## <hr> Color cubes"
   ]
  },
  {
   "cell_type": "markdown",
   "metadata": {},
   "source": [
    "Volume rendering lets you render a sequence of images as a 3D volume.\n",
    "<br>\n",
    "Lightining currently assumes isotropic images, so the sampling in x,y, and z should be comparable.\n",
    "<br>\n",
    "Visualizing color spaces is a fun way to explore volume rendering. We'll generate RGB and HSV cubes."
   ]
  },
  {
   "cell_type": "code",
   "execution_count": 3,
   "metadata": {
    "collapsed": false
   },
   "outputs": [],
   "source": [
    "nx, ny, nz = (50, 50, 50)\n",
    "rgb = ndarray((nx,ny,nz,3))\n",
    "hsv = ndarray((nx,ny,nz,3))\n",
    "for i, ii in enumerate(linspace(0,1,nx)):\n",
    "    for j, jj in enumerate(linspace(0,1,ny)):\n",
    "        for k, kk in enumerate(linspace(0,1,nz)):\n",
    "            position = (i, j, k)\n",
    "            rgb[position] = (kk, jj, ii)\n",
    "            hsv[position] = hsv_to_rgb(jj, ii, kk)"
   ]
  },
  {
   "cell_type": "markdown",
   "metadata": {},
   "source": [
    "Render RGB cube"
   ]
  },
  {
   "cell_type": "code",
   "execution_count": 4,
   "metadata": {
    "collapsed": false
   },
   "outputs": [
    {
     "data": {
      "text/html": [
       "<meta name=\"viewport\" content=\"width=device-width, initial-scale=1, maximum-scale=1\"/><meta http-equiv=\"X-UA-Compatible\" content=\"IE=10; IE=9; IE=8; IE=7; IE=EDGE\"/><meta charset=\"UTF-8\"/><link href=\"//fonts.googleapis.com/css?family=Open+Sans:400,700\" rel=\"stylesheet\" type=\"text/css\"/><link rel=\"stylesheet\" href=\"http://public.lightning-viz.org/css/app.css\"/><link rel=\"stylesheet\" href=\"http://public.lightning-viz.org/css/dynamic/viz/?visualizations[]=volume\"/><div id=\"lightning-body\" class=\"container content wrap push\"><div class=\"feed-container\"><div data-model=\"visualization\" data-model-id=\"99261b94-acc0-4738-ac00-8b7de1748371\" class=\"feed-item-container\"><div data-type=\"lightning-volume\" data-data=\"{}\" data-images=\"[&quot;https://s3.amazonaws.com/i.gif.fm/sessions/1324bec0-929c-42ee-8a98-c8fbec483e8b/6JjD7By2gxosPZNvfbd2Yoh67BWh3286&quot;,&quot;https://s3.amazonaws.com/i.gif.fm/sessions/1324bec0-929c-42ee-8a98-c8fbec483e8b/hkCFbz3OVPRkTgYBEiJgRrzFdILdcSVB&quot;,&quot;https://s3.amazonaws.com/i.gif.fm/sessions/1324bec0-929c-42ee-8a98-c8fbec483e8b/iMjETlaG6YnZ4LVPaRXMQdCm12mmSvXa&quot;,&quot;https://s3.amazonaws.com/i.gif.fm/sessions/1324bec0-929c-42ee-8a98-c8fbec483e8b/e2vxodkmwGE6MxkZTDEvAYRmpwPQ7mnA&quot;,&quot;https://s3.amazonaws.com/i.gif.fm/sessions/1324bec0-929c-42ee-8a98-c8fbec483e8b/M88Q5K3sGYGYCx8zCbfl7iAWh7rS3LJ4&quot;,&quot;https://s3.amazonaws.com/i.gif.fm/sessions/1324bec0-929c-42ee-8a98-c8fbec483e8b/Iqm3DmvoPxfQo6yYpNyPKn21hns3nMZc&quot;,&quot;https://s3.amazonaws.com/i.gif.fm/sessions/1324bec0-929c-42ee-8a98-c8fbec483e8b/6Jr1wZl8KoiYVmWonhLwrS43rI8xeOEf&quot;,&quot;https://s3.amazonaws.com/i.gif.fm/sessions/1324bec0-929c-42ee-8a98-c8fbec483e8b/45az3QqHjCUalUAwH8q2rQRnQOcabAln&quot;,&quot;https://s3.amazonaws.com/i.gif.fm/sessions/1324bec0-929c-42ee-8a98-c8fbec483e8b/jOIr55HV63loF3VgkCF2telIlcxZi4Gd&quot;,&quot;https://s3.amazonaws.com/i.gif.fm/sessions/1324bec0-929c-42ee-8a98-c8fbec483e8b/FgfVU5K11sIXRLeyQsB6xRlU2rSGe1pE&quot;,&quot;https://s3.amazonaws.com/i.gif.fm/sessions/1324bec0-929c-42ee-8a98-c8fbec483e8b/47I6rR4s7wzUG48tDiiTOKRYSChCJr1m&quot;,&quot;https://s3.amazonaws.com/i.gif.fm/sessions/1324bec0-929c-42ee-8a98-c8fbec483e8b/GbnZTWz9KBMbV01NkVF2kIz5FBLtqWwN&quot;,&quot;https://s3.amazonaws.com/i.gif.fm/sessions/1324bec0-929c-42ee-8a98-c8fbec483e8b/WPVdBDVAd0LnQgcSwTlymtcvApgDjkZm&quot;,&quot;https://s3.amazonaws.com/i.gif.fm/sessions/1324bec0-929c-42ee-8a98-c8fbec483e8b/VzTc2qgLlEyvpz68ItSUe3jbsiTGuEL9&quot;,&quot;https://s3.amazonaws.com/i.gif.fm/sessions/1324bec0-929c-42ee-8a98-c8fbec483e8b/GftryIvEwIEF9FhbbZxiPnqhz0Hl8RE2&quot;,&quot;https://s3.amazonaws.com/i.gif.fm/sessions/1324bec0-929c-42ee-8a98-c8fbec483e8b/ajp68CSZu9PjdJlZw1UFiI4Pv4rWgLtv&quot;,&quot;https://s3.amazonaws.com/i.gif.fm/sessions/1324bec0-929c-42ee-8a98-c8fbec483e8b/HlQCLV1mlR2pzqUW8g0ULYkFag9G2RYZ&quot;,&quot;https://s3.amazonaws.com/i.gif.fm/sessions/1324bec0-929c-42ee-8a98-c8fbec483e8b/OHzaGopiH1o0tZdz9OwMdA5n8xOL99wD&quot;,&quot;https://s3.amazonaws.com/i.gif.fm/sessions/1324bec0-929c-42ee-8a98-c8fbec483e8b/WnKK6zTUlAub6drtf6YZnFIYSYgWTq1T&quot;,&quot;https://s3.amazonaws.com/i.gif.fm/sessions/1324bec0-929c-42ee-8a98-c8fbec483e8b/Cglq68BvnCMdsxoO4V6QNpACvVNrVXte&quot;,&quot;https://s3.amazonaws.com/i.gif.fm/sessions/1324bec0-929c-42ee-8a98-c8fbec483e8b/sHcvZ2mgdhBNDj55ny9NAIelCULa13MM&quot;,&quot;https://s3.amazonaws.com/i.gif.fm/sessions/1324bec0-929c-42ee-8a98-c8fbec483e8b/R3GBaNC2lkqhikctoVHX8noH2xtiwj15&quot;,&quot;https://s3.amazonaws.com/i.gif.fm/sessions/1324bec0-929c-42ee-8a98-c8fbec483e8b/riunqMfIseSzi5BDl1rt2w2zPYbLmP7R&quot;,&quot;https://s3.amazonaws.com/i.gif.fm/sessions/1324bec0-929c-42ee-8a98-c8fbec483e8b/cNcQ1Ei8EXA1UqSTGLyqkr4G6Q7eoBcU&quot;,&quot;https://s3.amazonaws.com/i.gif.fm/sessions/1324bec0-929c-42ee-8a98-c8fbec483e8b/0lG8DgsFJFMc0d3wZhQoDGvihFF32HTJ&quot;,&quot;https://s3.amazonaws.com/i.gif.fm/sessions/1324bec0-929c-42ee-8a98-c8fbec483e8b/h1PozNbPK9BaI3sBTRCdqBIV2UeJFLZR&quot;,&quot;https://s3.amazonaws.com/i.gif.fm/sessions/1324bec0-929c-42ee-8a98-c8fbec483e8b/PqChL69TUgwEa7zlb6lp69wYcqCjEMvj&quot;,&quot;https://s3.amazonaws.com/i.gif.fm/sessions/1324bec0-929c-42ee-8a98-c8fbec483e8b/2tAuMaCIFzg6XDDHMDlOuWrFAooJgAMh&quot;,&quot;https://s3.amazonaws.com/i.gif.fm/sessions/1324bec0-929c-42ee-8a98-c8fbec483e8b/WEJCQWPQKV1YBfUCd7EW75hB8QU6G2RR&quot;,&quot;https://s3.amazonaws.com/i.gif.fm/sessions/1324bec0-929c-42ee-8a98-c8fbec483e8b/Ehp7xWf4dRj75n03DF5mJxJOOF6vm5pV&quot;,&quot;https://s3.amazonaws.com/i.gif.fm/sessions/1324bec0-929c-42ee-8a98-c8fbec483e8b/T4yVCFfvM1DZtt5uq38CGkiE0l736WCQ&quot;,&quot;https://s3.amazonaws.com/i.gif.fm/sessions/1324bec0-929c-42ee-8a98-c8fbec483e8b/Ic76JMudXrltXmsIUiXcXeU5dt3dYp5v&quot;,&quot;https://s3.amazonaws.com/i.gif.fm/sessions/1324bec0-929c-42ee-8a98-c8fbec483e8b/Jr1D8vqYoJshRiWS1FaM0Pxr2BZo2mJY&quot;,&quot;https://s3.amazonaws.com/i.gif.fm/sessions/1324bec0-929c-42ee-8a98-c8fbec483e8b/XAfIplf2qJqzFSC71ulUtkDphjGZbqWn&quot;,&quot;https://s3.amazonaws.com/i.gif.fm/sessions/1324bec0-929c-42ee-8a98-c8fbec483e8b/I2UagSb5t4SJY2eeO6SfcpzqmOyZ2ACm&quot;,&quot;https://s3.amazonaws.com/i.gif.fm/sessions/1324bec0-929c-42ee-8a98-c8fbec483e8b/WFGiIqZXJFoZzh2NElNqTLDxhWbPesuz&quot;,&quot;https://s3.amazonaws.com/i.gif.fm/sessions/1324bec0-929c-42ee-8a98-c8fbec483e8b/6L3wdDKGl1D84i26N67i4Br26PK4K8dX&quot;,&quot;https://s3.amazonaws.com/i.gif.fm/sessions/1324bec0-929c-42ee-8a98-c8fbec483e8b/dIRina4oWwowgZ5a4RmJLZY0JwdUeax1&quot;,&quot;https://s3.amazonaws.com/i.gif.fm/sessions/1324bec0-929c-42ee-8a98-c8fbec483e8b/V1pc6PvpLb01y3ZrUYA1WX3BbIZOoFtg&quot;,&quot;https://s3.amazonaws.com/i.gif.fm/sessions/1324bec0-929c-42ee-8a98-c8fbec483e8b/KfTvKzxF0IRo626OK0Z90iSnLcsHsuPT&quot;,&quot;https://s3.amazonaws.com/i.gif.fm/sessions/1324bec0-929c-42ee-8a98-c8fbec483e8b/RnA12WTBRKxEPlXc6pY3yHQKCcZ05C02&quot;,&quot;https://s3.amazonaws.com/i.gif.fm/sessions/1324bec0-929c-42ee-8a98-c8fbec483e8b/NbS3QKjouiAFY3lmPSOP90kk1g5zerCV&quot;,&quot;https://s3.amazonaws.com/i.gif.fm/sessions/1324bec0-929c-42ee-8a98-c8fbec483e8b/YFPEogvfgmIlEAhfWI1UE9Fysmqb1LeW&quot;,&quot;https://s3.amazonaws.com/i.gif.fm/sessions/1324bec0-929c-42ee-8a98-c8fbec483e8b/pDSjXWDy7nGZ2exFKc16JidepyM2Qxrn&quot;,&quot;https://s3.amazonaws.com/i.gif.fm/sessions/1324bec0-929c-42ee-8a98-c8fbec483e8b/i60JzpOVHZE5JzmahmIZWtSgXIXLX5Z8&quot;,&quot;https://s3.amazonaws.com/i.gif.fm/sessions/1324bec0-929c-42ee-8a98-c8fbec483e8b/Y26Qrtckk0YphwsaTPsm2Vlz7d2Y1kLq&quot;,&quot;https://s3.amazonaws.com/i.gif.fm/sessions/1324bec0-929c-42ee-8a98-c8fbec483e8b/kPQ1VUJm3hizuMmjh51jgKkVrXwsMQ9s&quot;,&quot;https://s3.amazonaws.com/i.gif.fm/sessions/1324bec0-929c-42ee-8a98-c8fbec483e8b/CJouz9YtL0UKzLNRn1sKYw2bc230060T&quot;,&quot;https://s3.amazonaws.com/i.gif.fm/sessions/1324bec0-929c-42ee-8a98-c8fbec483e8b/2LLYJXoLcf7YGff2Is77053IVHLrS1x5&quot;,&quot;https://s3.amazonaws.com/i.gif.fm/sessions/1324bec0-929c-42ee-8a98-c8fbec483e8b/APje3qXXiyAdpHBZvuK0vbZvfsI0Tp1y&quot;]\" data-options=\"{&quot;width&quot;:600,&quot;description&quot;:null,&quot;height&quot;:null}\" id=\"viz-99261b94-acc0-4738-ac00-8b7de1748371\" data-initialized=\"false\" class=\"feed-item\"></div></div></div></div><script>window.lightning = window.lightning || {};\n",
       "window.lightning.host = \"http://public.lightning-viz.org/\" || 'http://127.0.0.1:3000/';\n",
       "window.lightning.vizCount = (window.lightning.vizCount + 1) || 1;\n",
       "window.lightning.requiredVizTypes = window.lightning.requiredVizTypes || [];\n",
       "if(window.lightning.requiredVizTypes.indexOf(\"volume\") === -1) {\n",
       "    window.lightning.requiredVizTypes.push(\"volume\");\n",
       "}\n",
       "window._require = window.require;\n",
       "window.require = undefined;\n",
       "window._define = window.define;\n",
       "window.define = undefined;</script><script src=\"http://public.lightning-viz.org/js/embed.js\"></script>"
      ],
      "text/plain": [
       "<lightning.types.three.Volume at 0x1043b40d0>"
      ]
     },
     "execution_count": 4,
     "metadata": {},
     "output_type": "execute_result"
    }
   ],
   "source": [
    "lgn.volume([x for x in rgb])"
   ]
  },
  {
   "cell_type": "markdown",
   "metadata": {},
   "source": [
    "Render HSV cube"
   ]
  },
  {
   "cell_type": "code",
   "execution_count": 5,
   "metadata": {
    "collapsed": false
   },
   "outputs": [
    {
     "data": {
      "text/html": [
       "<meta name=\"viewport\" content=\"width=device-width, initial-scale=1, maximum-scale=1\"/><meta http-equiv=\"X-UA-Compatible\" content=\"IE=10; IE=9; IE=8; IE=7; IE=EDGE\"/><meta charset=\"UTF-8\"/><link href=\"//fonts.googleapis.com/css?family=Open+Sans:400,700\" rel=\"stylesheet\" type=\"text/css\"/><link rel=\"stylesheet\" href=\"http://public.lightning-viz.org/css/app.css\"/><link rel=\"stylesheet\" href=\"http://public.lightning-viz.org/css/dynamic/viz/?visualizations[]=volume\"/><div id=\"lightning-body\" class=\"container content wrap push\"><div class=\"feed-container\"><div data-model=\"visualization\" data-model-id=\"20112753-585e-4103-9b5f-05d40b76dcf9\" class=\"feed-item-container\"><div data-type=\"lightning-volume\" data-data=\"{}\" data-images=\"[&quot;https://s3.amazonaws.com/i.gif.fm/sessions/1324bec0-929c-42ee-8a98-c8fbec483e8b/v9eIlG1bXQXB8jxBDGZkJjDvm06oIrjg&quot;,&quot;https://s3.amazonaws.com/i.gif.fm/sessions/1324bec0-929c-42ee-8a98-c8fbec483e8b/U0Np2FQlYfg9XyZcxs2xfnVxphKh0UGE&quot;,&quot;https://s3.amazonaws.com/i.gif.fm/sessions/1324bec0-929c-42ee-8a98-c8fbec483e8b/KjJzoIi4bm3A5aufpb28PbzfiYjdTeJ1&quot;,&quot;https://s3.amazonaws.com/i.gif.fm/sessions/1324bec0-929c-42ee-8a98-c8fbec483e8b/6SIgk2dbO2JV2BBhGDEZm97b5ZPPx1HK&quot;,&quot;https://s3.amazonaws.com/i.gif.fm/sessions/1324bec0-929c-42ee-8a98-c8fbec483e8b/bfibE16kIpDahnKlyOXBaYP8D2WgF2vO&quot;,&quot;https://s3.amazonaws.com/i.gif.fm/sessions/1324bec0-929c-42ee-8a98-c8fbec483e8b/ZcdTUZ0uCcLRL5oDDXo3o1bTz1668Vx2&quot;,&quot;https://s3.amazonaws.com/i.gif.fm/sessions/1324bec0-929c-42ee-8a98-c8fbec483e8b/LBIa2YDC0MMs9XYasCIRR2MWR7p69hxg&quot;,&quot;https://s3.amazonaws.com/i.gif.fm/sessions/1324bec0-929c-42ee-8a98-c8fbec483e8b/mtdmKLjOcSB9V2IKr275Z74YEerDoUUI&quot;,&quot;https://s3.amazonaws.com/i.gif.fm/sessions/1324bec0-929c-42ee-8a98-c8fbec483e8b/LCKddoq6w9ZfVdZOPMrZGvJ5bbtTVUn6&quot;,&quot;https://s3.amazonaws.com/i.gif.fm/sessions/1324bec0-929c-42ee-8a98-c8fbec483e8b/YsS6KKN1ivShnr0KcMW56P8c4g6ezwBG&quot;,&quot;https://s3.amazonaws.com/i.gif.fm/sessions/1324bec0-929c-42ee-8a98-c8fbec483e8b/xYtXWoui5LlK7LM72KX4yP3bRZwDKOVz&quot;,&quot;https://s3.amazonaws.com/i.gif.fm/sessions/1324bec0-929c-42ee-8a98-c8fbec483e8b/0cZ6fFYQPAaQ0JhQ8vZYBq5IQKFBczG3&quot;,&quot;https://s3.amazonaws.com/i.gif.fm/sessions/1324bec0-929c-42ee-8a98-c8fbec483e8b/t739QfspD4XJKpWychcJpH6iod6mEeiB&quot;,&quot;https://s3.amazonaws.com/i.gif.fm/sessions/1324bec0-929c-42ee-8a98-c8fbec483e8b/9J9IfXLrQ8FwHrDU33oR6kKPx4CNkDGe&quot;,&quot;https://s3.amazonaws.com/i.gif.fm/sessions/1324bec0-929c-42ee-8a98-c8fbec483e8b/3mEtGfwKzw3rIl1XuLcFyFPRQ0ogM47p&quot;,&quot;https://s3.amazonaws.com/i.gif.fm/sessions/1324bec0-929c-42ee-8a98-c8fbec483e8b/aU986VekhEVvJYrmnzIgQTHMCcNT01Uj&quot;,&quot;https://s3.amazonaws.com/i.gif.fm/sessions/1324bec0-929c-42ee-8a98-c8fbec483e8b/sbqWtU0yaCDFOd49303ehhAw7hJ5N4WG&quot;,&quot;https://s3.amazonaws.com/i.gif.fm/sessions/1324bec0-929c-42ee-8a98-c8fbec483e8b/RWYK5ZaeZ4PEBYYNBktIpAVkDJKoSXDU&quot;,&quot;https://s3.amazonaws.com/i.gif.fm/sessions/1324bec0-929c-42ee-8a98-c8fbec483e8b/c4AbzZdVSkhVTnAAfVSAWIMdQEiJHLRm&quot;,&quot;https://s3.amazonaws.com/i.gif.fm/sessions/1324bec0-929c-42ee-8a98-c8fbec483e8b/dK2z4KKcrOIFaCebHR5ailxX4uaMXvjk&quot;,&quot;https://s3.amazonaws.com/i.gif.fm/sessions/1324bec0-929c-42ee-8a98-c8fbec483e8b/sRwuikse9GnHjhuvkPPewCcvXZLNdU3d&quot;,&quot;https://s3.amazonaws.com/i.gif.fm/sessions/1324bec0-929c-42ee-8a98-c8fbec483e8b/3QCLTDcoIbE9BH1zN78Uwt3REM4eZELJ&quot;,&quot;https://s3.amazonaws.com/i.gif.fm/sessions/1324bec0-929c-42ee-8a98-c8fbec483e8b/1Kyqx0IZMSBv5lgcFU30gmaX9UV9Y9Um&quot;,&quot;https://s3.amazonaws.com/i.gif.fm/sessions/1324bec0-929c-42ee-8a98-c8fbec483e8b/tsbB3obm6UfhO2jcW2IvODK7LzPqGwO0&quot;,&quot;https://s3.amazonaws.com/i.gif.fm/sessions/1324bec0-929c-42ee-8a98-c8fbec483e8b/qx5hJ05nGIF10An0PKEvnXe9pKddekIu&quot;,&quot;https://s3.amazonaws.com/i.gif.fm/sessions/1324bec0-929c-42ee-8a98-c8fbec483e8b/aKtjwkzQm3oxwsxAds01bSe0isK5mL8j&quot;,&quot;https://s3.amazonaws.com/i.gif.fm/sessions/1324bec0-929c-42ee-8a98-c8fbec483e8b/HG29aRIoP0zk30Kn1HNjcCY4DrPL8I10&quot;,&quot;https://s3.amazonaws.com/i.gif.fm/sessions/1324bec0-929c-42ee-8a98-c8fbec483e8b/PGOhSBQx3jjLSypDRKdfF48EWcTrPS13&quot;,&quot;https://s3.amazonaws.com/i.gif.fm/sessions/1324bec0-929c-42ee-8a98-c8fbec483e8b/dtOTcv4BmaDjwsNIAUGNeSOvODbAdePn&quot;,&quot;https://s3.amazonaws.com/i.gif.fm/sessions/1324bec0-929c-42ee-8a98-c8fbec483e8b/BLF1JO7qopAAYxkFcqKy2hIeraHiGFxG&quot;,&quot;https://s3.amazonaws.com/i.gif.fm/sessions/1324bec0-929c-42ee-8a98-c8fbec483e8b/ZX6gVheiZnSaQaPkNEg8q3XX10Et6ZKY&quot;,&quot;https://s3.amazonaws.com/i.gif.fm/sessions/1324bec0-929c-42ee-8a98-c8fbec483e8b/XKnb42HdiR6d5R7voit3TAYD4PnMkXPq&quot;,&quot;https://s3.amazonaws.com/i.gif.fm/sessions/1324bec0-929c-42ee-8a98-c8fbec483e8b/hag7QINwqWvalnMoyqQvuOK7jURznRor&quot;,&quot;https://s3.amazonaws.com/i.gif.fm/sessions/1324bec0-929c-42ee-8a98-c8fbec483e8b/6lLC0rBZlc7RmEaMbXDrdpUVDYiMHA3O&quot;,&quot;https://s3.amazonaws.com/i.gif.fm/sessions/1324bec0-929c-42ee-8a98-c8fbec483e8b/n87jD9giMjoVDWItYDRYv0oAFg8XCNAc&quot;,&quot;https://s3.amazonaws.com/i.gif.fm/sessions/1324bec0-929c-42ee-8a98-c8fbec483e8b/SXP2WlQe3F42Rp6hpnlww3sE0N5XRqrk&quot;,&quot;https://s3.amazonaws.com/i.gif.fm/sessions/1324bec0-929c-42ee-8a98-c8fbec483e8b/mpTYa2ogsnmMrAmnAWeFF0MnrR6cor60&quot;,&quot;https://s3.amazonaws.com/i.gif.fm/sessions/1324bec0-929c-42ee-8a98-c8fbec483e8b/ZxjvcOb4JKeHTbXYx0NlY43lrmypIDRT&quot;,&quot;https://s3.amazonaws.com/i.gif.fm/sessions/1324bec0-929c-42ee-8a98-c8fbec483e8b/0YxtEvttXHwbKqr6pGEMVsu7KErJbjIY&quot;,&quot;https://s3.amazonaws.com/i.gif.fm/sessions/1324bec0-929c-42ee-8a98-c8fbec483e8b/ZjhBETXLud9Kjf4gxd87suOBw04BGw6r&quot;,&quot;https://s3.amazonaws.com/i.gif.fm/sessions/1324bec0-929c-42ee-8a98-c8fbec483e8b/Ztnfs7X2rsncsiKLOIetBfU25uZ5HdGN&quot;,&quot;https://s3.amazonaws.com/i.gif.fm/sessions/1324bec0-929c-42ee-8a98-c8fbec483e8b/kRavCgGZsitPNgzSJcFkGTJgjtvGbfb8&quot;,&quot;https://s3.amazonaws.com/i.gif.fm/sessions/1324bec0-929c-42ee-8a98-c8fbec483e8b/1kWzKKg6rgZMKMv5w8YKMpbqR1TvQQLI&quot;,&quot;https://s3.amazonaws.com/i.gif.fm/sessions/1324bec0-929c-42ee-8a98-c8fbec483e8b/X4Ga57P2l9lA0PpxjZxgEqx8rCoK7wns&quot;,&quot;https://s3.amazonaws.com/i.gif.fm/sessions/1324bec0-929c-42ee-8a98-c8fbec483e8b/SNgwqM6AKVzDWPBsRYL6145CB4p5Cxwv&quot;,&quot;https://s3.amazonaws.com/i.gif.fm/sessions/1324bec0-929c-42ee-8a98-c8fbec483e8b/2qpIB50eoVCtOuDFStb69qIeFMNYraqn&quot;,&quot;https://s3.amazonaws.com/i.gif.fm/sessions/1324bec0-929c-42ee-8a98-c8fbec483e8b/XNBmD28vLynQ8zTEH778x2VNYLXxeqkm&quot;,&quot;https://s3.amazonaws.com/i.gif.fm/sessions/1324bec0-929c-42ee-8a98-c8fbec483e8b/6vqD1o9mu9GpfA9I48MJk680MafpuBuE&quot;,&quot;https://s3.amazonaws.com/i.gif.fm/sessions/1324bec0-929c-42ee-8a98-c8fbec483e8b/BgaWsIXEja171VYAxzaSIOqYthg0Qz0S&quot;,&quot;https://s3.amazonaws.com/i.gif.fm/sessions/1324bec0-929c-42ee-8a98-c8fbec483e8b/f4MvasNX5BlYQw3ptiU8CJuFKKHB5DUq&quot;]\" data-options=\"{&quot;width&quot;:600,&quot;description&quot;:null,&quot;height&quot;:null}\" id=\"viz-20112753-585e-4103-9b5f-05d40b76dcf9\" data-initialized=\"false\" class=\"feed-item\"></div></div></div></div><script>window.lightning = window.lightning || {};\n",
       "window.lightning.host = \"http://public.lightning-viz.org/\" || 'http://127.0.0.1:3000/';\n",
       "window.lightning.vizCount = (window.lightning.vizCount + 1) || 1;\n",
       "window.lightning.requiredVizTypes = window.lightning.requiredVizTypes || [];\n",
       "if(window.lightning.requiredVizTypes.indexOf(\"volume\") === -1) {\n",
       "    window.lightning.requiredVizTypes.push(\"volume\");\n",
       "}\n",
       "window._require = window.require;\n",
       "window.require = undefined;\n",
       "window._define = window.define;\n",
       "window.define = undefined;</script><script src=\"http://public.lightning-viz.org/js/embed.js\"></script>"
      ],
      "text/plain": [
       "<lightning.types.three.Volume at 0x1053bad90>"
      ]
     },
     "execution_count": 5,
     "metadata": {},
     "output_type": "execute_result"
    }
   ],
   "source": [
    "lgn.volume([x for x in hsv])"
   ]
  }
 ],
 "metadata": {
  "kernelspec": {
   "display_name": "Python 2",
   "language": "python",
   "name": "python2"
  },
  "language_info": {
   "codemirror_mode": {
    "name": "ipython",
    "version": 2
   },
   "file_extension": ".py",
   "mimetype": "text/x-python",
   "name": "python",
   "nbconvert_exporter": "python",
   "pygments_lexer": "ipython2",
   "version": "2.7.9"
  }
 },
 "nbformat": 4,
 "nbformat_minor": 0
}
