{
 "cells": [
  {
   "cell_type": "markdown",
   "metadata": {},
   "source": [
    "# <img style='float: left' src=\"http://lightning-viz.github.io/images/logo.png\"> <br> <br> &nbsp;&nbsp;&nbsp;&nbsp;&nbsp;Volume renderings in <a href='http://lightning-viz.github.io/'><font color='#9175f0'>Lightning</font></a>"
   ]
  },
  {
   "cell_type": "markdown",
   "metadata": {},
   "source": [
    "## <hr> Setup"
   ]
  },
  {
   "cell_type": "code",
   "execution_count": 2,
   "metadata": {
    "collapsed": false
   },
   "outputs": [],
   "source": [
    "from lightning import Lightning\n",
    "\n",
    "from colorsys import hsv_to_rgb\n",
    "from numpy import random, asarray, amin, amax, clip, mean, ndarray, linspace\n",
    "from scipy.ndimage.filters import gaussian_filter\n",
    "import seaborn as sns\n",
    "from matplotlib.colors import LinearSegmentedColormap "
   ]
  },
  {
   "cell_type": "markdown",
   "metadata": {},
   "source": [
    "## Connect to server"
   ]
  },
  {
   "cell_type": "code",
   "execution_count": 6,
   "metadata": {
    "collapsed": false
   },
   "outputs": [
    {
     "data": {
      "text/html": [
       "<div style='margin-top:8px'><img src='data:image/png;base64,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' width='30px' height='35px' style='display: inline-block; padding-right: 10px'></img><span>Lightning initialized</span></div>"
      ],
      "text/plain": [
       "<IPython.core.display.HTML object>"
      ]
     },
     "metadata": {},
     "output_type": "display_data"
    },
    {
     "name": "stdout",
     "output_type": "stream",
     "text": [
      "Connected to server at http://localhost:3000\n"
     ]
    },
    {
     "data": {
      "application/javascript": [
       "(function e(t,n,r){function s(o,u){if(!n[o]){if(!t[o]){var a=typeof require==\"function\"&&require;if(!u&&a)return a(o,!0);if(i)return i(o,!0);throw new Error(\"Cannot find module '\"+o+\"'\")}var f=n[o]={exports:{}};t[o][0].call(f.exports,function(e){var n=t[o][1][e];return s(n?n:e)},f,f.exports,e,t,n,r)}return n[o].exports}var i=typeof require==\"function\"&&require;for(var o=0;o<r.length;o++)s(r[o]);return s})({1:[function(require,module,exports){\n",
       "window.lightning = window.lightning || {};\n",
       "var lightningCommMap = {};\n",
       "\n",
       "var readCommData = function(commData, field) {\n",
       "    try {\n",
       "        return commData.content.data[field];\n",
       "    } catch (err) {\n",
       "        return;\n",
       "    }\n",
       "};\n",
       "\n",
       "\n",
       "var init_comm = function() {\n",
       "    IPython.notebook.kernel.comm_manager.register_target('lightning', function(comm, data) {\n",
       "        var id = readCommData(data, 'id');\n",
       "        lightningCommMap[id] = comm;\n",
       "    });\n",
       "\n",
       "    window.lightning.comm_map = lightningCommMap;\n",
       "}\n",
       "\n",
       "\n",
       "if(IPython && IPython.notebook) {\n",
       "\n",
       "    if(IPython.notebook.kernel) {\n",
       "        init_comm();\n",
       "    }\n",
       "\n",
       "    IPython.notebook.events.on('kernel_connected.Kernel', init_comm);\n",
       "\n",
       "}\n",
       "\n",
       "\n",
       "},{}]},{},[1])\n",
       "//# sourceMappingURL=data:application/json;base64,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\n"
      ],
      "text/plain": [
       "<IPython.core.display.Javascript object>"
      ]
     },
     "metadata": {},
     "output_type": "display_data"
    }
   ],
   "source": [
    "lgn = Lightning(ipython=True)"
   ]
  },
  {
   "cell_type": "markdown",
   "metadata": {},
   "source": [
    "## <hr> Clouds"
   ]
  },
  {
   "cell_type": "markdown",
   "metadata": {},
   "source": [
    "Volume rendering lets you render a sequence of images as a 3D volume.\n",
    "<br>\n",
    "Lightining currently assumes isotropic images, so the sampling in x,y, and z should be comparable.\n",
    "<br>\n",
    "To render a volume that looks like sky, first we generate some smooth gaussian noise, and scale and clip it to increase the contrast."
   ]
  },
  {
   "cell_type": "code",
   "execution_count": 4,
   "metadata": {
    "collapsed": false
   },
   "outputs": [],
   "source": [
    "mat = gaussian_filter(random.rand(25,25,50),3)\n",
    "mat = (mat - amin(mat)) / (amax(mat) - amin(mat))\n",
    "mat = clip(((mat - 0.5)*10 + 0.25), 0, 1)\n",
    "cm = LinearSegmentedColormap.from_list('sky', ['#7AB2EA',  'white'])"
   ]
  },
  {
   "cell_type": "markdown",
   "metadata": {},
   "source": [
    "Now render as a volume"
   ]
  },
  {
   "cell_type": "code",
   "execution_count": 7,
   "metadata": {
    "collapsed": false
   },
   "outputs": [
    {
     "data": {
      "text/html": [
       "<meta name=\"viewport\" content=\"width=device-width, initial-scale=1, maximum-scale=1\"/><meta http-equiv=\"X-UA-Compatible\" content=\"IE=10; IE=9; IE=8; IE=7; IE=EDGE\"/><meta charset=\"UTF-8\"/><link href=\"//fonts.googleapis.com/css?family=Open+Sans:400,700\" rel=\"stylesheet\" type=\"text/css\"/><link rel=\"stylesheet\" href=\"http://localhost:3000/css/app.css\"/><link rel=\"stylesheet\" href=\"http://localhost:3000/css/dynamic/viz/?visualizations[]=volume\"/><div id=\"lightning-body\" class=\"container content wrap push\"><div class=\"feed-container\"><div data-model=\"visualization\" data-model-id=\"81ee074e-c603-4137-b206-3b0de3c69528\" class=\"feed-item-container\"><div data-type=\"lightning-volume\" data-data=\"{}\" data-images=\"[&quot;/images/uploads/sessions/b13e9281-4af0-45a0-863e-7f57b32b53ac/m3HSwY7ZAXY7eFhYGtKzHQJ1jj9YGcdq&quot;,&quot;/images/uploads/sessions/b13e9281-4af0-45a0-863e-7f57b32b53ac/2kcTDmCKYBIA08IOxTeYMSkiXSLcx9Wp&quot;,&quot;/images/uploads/sessions/b13e9281-4af0-45a0-863e-7f57b32b53ac/V7AwFNgkhSHlSOqzlu9olGiKGZK1cz5m&quot;,&quot;/images/uploads/sessions/b13e9281-4af0-45a0-863e-7f57b32b53ac/4X2SuDysRjBAHRQaDxD09oibw5PHmgcK&quot;,&quot;/images/uploads/sessions/b13e9281-4af0-45a0-863e-7f57b32b53ac/5thrObU3Fb8qZPI7Hb0UdqmNmE6Ny8DC&quot;,&quot;/images/uploads/sessions/b13e9281-4af0-45a0-863e-7f57b32b53ac/7hsZSZyzUgK6L4ufUuDJYeqb2MuSYyiu&quot;,&quot;/images/uploads/sessions/b13e9281-4af0-45a0-863e-7f57b32b53ac/h40MpTKSjUBrqCXnK1OgK5gvLi6EdprN&quot;,&quot;/images/uploads/sessions/b13e9281-4af0-45a0-863e-7f57b32b53ac/ny5aKjKTZeXACBRBJFav78zJ6BG6Aa4k&quot;,&quot;/images/uploads/sessions/b13e9281-4af0-45a0-863e-7f57b32b53ac/gYjKT1pbH9U5mEX6A2LvPxbGSylNnyHB&quot;,&quot;/images/uploads/sessions/b13e9281-4af0-45a0-863e-7f57b32b53ac/WTYK11q0MKCJAg7N58dNzwDKsc0WVD86&quot;,&quot;/images/uploads/sessions/b13e9281-4af0-45a0-863e-7f57b32b53ac/lic1GLhQ2OmO0IBBfR7xsfQTLY3BFMRD&quot;,&quot;/images/uploads/sessions/b13e9281-4af0-45a0-863e-7f57b32b53ac/TyOIDcA6ZtVmE1WqlrwuXJy7PBxvXwwT&quot;,&quot;/images/uploads/sessions/b13e9281-4af0-45a0-863e-7f57b32b53ac/1VDGbtYqNwobkewVTcaN7TF0RhmRgvM6&quot;,&quot;/images/uploads/sessions/b13e9281-4af0-45a0-863e-7f57b32b53ac/8Rwzf69tFqdmSiPLlCtFlsOhAJ8xwKqq&quot;,&quot;/images/uploads/sessions/b13e9281-4af0-45a0-863e-7f57b32b53ac/Kek25dQS748E1kAoG9NWwwVc5HBdh4jy&quot;,&quot;/images/uploads/sessions/b13e9281-4af0-45a0-863e-7f57b32b53ac/7EgTDP80B66MCShTAfakbi5hlWaXdwey&quot;,&quot;/images/uploads/sessions/b13e9281-4af0-45a0-863e-7f57b32b53ac/o9sF2T2CzI3wrdyyPngZgxJVLCn7Czhq&quot;,&quot;/images/uploads/sessions/b13e9281-4af0-45a0-863e-7f57b32b53ac/JrqcbH4fJwJ1R2alo66sgdgE7pGKaw2i&quot;,&quot;/images/uploads/sessions/b13e9281-4af0-45a0-863e-7f57b32b53ac/NrN0A7sqkjKPPLJtxQuSwVbqZ37D6mRe&quot;,&quot;/images/uploads/sessions/b13e9281-4af0-45a0-863e-7f57b32b53ac/N0stFgaH7kvzoTCpnaa6NySc55ebppeq&quot;,&quot;/images/uploads/sessions/b13e9281-4af0-45a0-863e-7f57b32b53ac/Oy6ILa9gHk0ucdGYlAk50PM45wpv8g3Q&quot;,&quot;/images/uploads/sessions/b13e9281-4af0-45a0-863e-7f57b32b53ac/aYtHHx55atBVRuJeR8phyx5CQAivTt6P&quot;,&quot;/images/uploads/sessions/b13e9281-4af0-45a0-863e-7f57b32b53ac/6VjqxnF0vyL8C341CVWr1WoK29wbVoc3&quot;,&quot;/images/uploads/sessions/b13e9281-4af0-45a0-863e-7f57b32b53ac/u84Q2rN058puRkVI76HFDVOJMKsjon5C&quot;,&quot;/images/uploads/sessions/b13e9281-4af0-45a0-863e-7f57b32b53ac/Nx8WszSemgYtIFA2UYElwTWZ3xX0PEoE&quot;]\" data-options=\"{&quot;width&quot;:600,&quot;description&quot;:null,&quot;height&quot;:null}\" id=\"viz-81ee074e-c603-4137-b206-3b0de3c69528\" data-initialized=\"false\" class=\"feed-item\"></div></div></div></div><script>window.lightning = window.lightning || {};\n",
       "window.lightning.host = \"http://localhost:3000/\" || 'http://127.0.0.1:3000/';\n",
       "window.lightning.vizCount = (window.lightning.vizCount + 1) || 1;\n",
       "window.lightning.requiredVizTypes = window.lightning.requiredVizTypes || [];\n",
       "if(window.lightning.requiredVizTypes.indexOf(\"volume\") === -1) {\n",
       "    window.lightning.requiredVizTypes.push(\"volume\");\n",
       "}\n",
       "window._require = window.require;\n",
       "window.require = undefined;\n",
       "window._define = window.define;\n",
       "window.define = undefined;</script><script src=\"http://localhost:3000/js/embed.js\"></script>"
      ],
      "text/plain": [
       "<lightning.types.three.Volume at 0x10994f310>"
      ]
     },
     "execution_count": 7,
     "metadata": {},
     "output_type": "execute_result"
    }
   ],
   "source": [
    "slices = [cm(im) for im in mat]\n",
    "lgn.volume(slices)"
   ]
  },
  {
   "cell_type": "markdown",
   "metadata": {},
   "source": [
    "## <hr> Color cubes"
   ]
  },
  {
   "cell_type": "markdown",
   "metadata": {},
   "source": [
    "Volumes are a useful way to visualize color spaces. First we'll generate RGB and HSV cubes."
   ]
  },
  {
   "cell_type": "code",
   "execution_count": 8,
   "metadata": {
    "collapsed": false
   },
   "outputs": [],
   "source": [
    "nx, ny, nz = (50, 50, 50)\n",
    "rgb = ndarray((nx,ny,nz,3))\n",
    "hsv = ndarray((nx,ny,nz,3))\n",
    "for i, ii in enumerate(linspace(0,1,nx)):\n",
    "    for j, jj in enumerate(linspace(0,1,ny)):\n",
    "        for k, kk in enumerate(linspace(0,1,nz)):\n",
    "            position = (i, j, k)\n",
    "            rgb[position] = (kk, jj, ii)\n",
    "            hsv[position] = hsv_to_rgb(jj, ii, kk)"
   ]
  },
  {
   "cell_type": "markdown",
   "metadata": {},
   "source": [
    "Render RGB cube"
   ]
  },
  {
   "cell_type": "code",
   "execution_count": 9,
   "metadata": {
    "collapsed": false
   },
   "outputs": [
    {
     "data": {
      "text/html": [
       "<meta name=\"viewport\" content=\"width=device-width, initial-scale=1, maximum-scale=1\"/><meta http-equiv=\"X-UA-Compatible\" content=\"IE=10; IE=9; IE=8; IE=7; IE=EDGE\"/><meta charset=\"UTF-8\"/><link href=\"//fonts.googleapis.com/css?family=Open+Sans:400,700\" rel=\"stylesheet\" type=\"text/css\"/><link rel=\"stylesheet\" href=\"http://localhost:3000/css/app.css\"/><link rel=\"stylesheet\" href=\"http://localhost:3000/css/dynamic/viz/?visualizations[]=volume\"/><div id=\"lightning-body\" class=\"container content wrap push\"><div class=\"feed-container\"><div data-model=\"visualization\" data-model-id=\"e47874ab-6bbe-4dce-954e-8ab5d3797416\" class=\"feed-item-container\"><div data-type=\"lightning-volume\" data-data=\"{}\" data-images=\"[&quot;/images/uploads/sessions/b13e9281-4af0-45a0-863e-7f57b32b53ac/NjqAPUcx8UPpktLJWTpeJQuxoqkNS0xi&quot;,&quot;/images/uploads/sessions/b13e9281-4af0-45a0-863e-7f57b32b53ac/20vGd75PZ7I9MWKDkKi2L9CFdDlfaOkK&quot;,&quot;/images/uploads/sessions/b13e9281-4af0-45a0-863e-7f57b32b53ac/GFV7yTHzx81OYS7GWB0UuhP0fClsGYEc&quot;,&quot;/images/uploads/sessions/b13e9281-4af0-45a0-863e-7f57b32b53ac/x0WjoZo7LqOCSG6sNfZ16eJ8yNNZ0WCZ&quot;,&quot;/images/uploads/sessions/b13e9281-4af0-45a0-863e-7f57b32b53ac/Pmfxmy2GUgZv4BItr7PD01Gs8l7GXWlu&quot;,&quot;/images/uploads/sessions/b13e9281-4af0-45a0-863e-7f57b32b53ac/eIzraa7UNs6fQqt2M5dI17Y788455OMS&quot;,&quot;/images/uploads/sessions/b13e9281-4af0-45a0-863e-7f57b32b53ac/mKm0O1JAveAV6ezB9InjOyZSs72NEo5k&quot;,&quot;/images/uploads/sessions/b13e9281-4af0-45a0-863e-7f57b32b53ac/cdoSNbs8jDfBJUbozhKdlgDLPoJFUDn1&quot;,&quot;/images/uploads/sessions/b13e9281-4af0-45a0-863e-7f57b32b53ac/QwRG9Jn6sTX6fVFfpizEzDFgDQ90UgRk&quot;,&quot;/images/uploads/sessions/b13e9281-4af0-45a0-863e-7f57b32b53ac/SPCOsbnuJVdugHSQINJ2c6xvNoHOsb05&quot;,&quot;/images/uploads/sessions/b13e9281-4af0-45a0-863e-7f57b32b53ac/qmHisVwIS809NrsiRf7oAu2IiMpaN7Fq&quot;,&quot;/images/uploads/sessions/b13e9281-4af0-45a0-863e-7f57b32b53ac/HiLaPDiT25ASdEOZSocE03OIDTxUFjxl&quot;,&quot;/images/uploads/sessions/b13e9281-4af0-45a0-863e-7f57b32b53ac/MY3rJgXodfwozhiIl3JzltrZgXV1kLrk&quot;,&quot;/images/uploads/sessions/b13e9281-4af0-45a0-863e-7f57b32b53ac/uEUrqE6T2vUuUHal6hSLdGFqrT1C19Bb&quot;,&quot;/images/uploads/sessions/b13e9281-4af0-45a0-863e-7f57b32b53ac/jgi7VpCM2afyxlnDj3MxTL1jZsxXAo6w&quot;,&quot;/images/uploads/sessions/b13e9281-4af0-45a0-863e-7f57b32b53ac/h7ZbVeGRtbwTAeXHvX3pSOU0E2hKZCj1&quot;,&quot;/images/uploads/sessions/b13e9281-4af0-45a0-863e-7f57b32b53ac/2RYYvEvwn4n6kOg0i3liXVkH4EfMV6c7&quot;,&quot;/images/uploads/sessions/b13e9281-4af0-45a0-863e-7f57b32b53ac/zEvGqPFgcBT5DsGzfAC0ez7K727Xn6o1&quot;,&quot;/images/uploads/sessions/b13e9281-4af0-45a0-863e-7f57b32b53ac/KzLyR1Z0dCh3JSoaCe3rkSEfDN9eR8sv&quot;,&quot;/images/uploads/sessions/b13e9281-4af0-45a0-863e-7f57b32b53ac/6HwBTZMDhZGnDr6Y2UXoBH6uY7oZ1TzE&quot;,&quot;/images/uploads/sessions/b13e9281-4af0-45a0-863e-7f57b32b53ac/a1Lj4dgO4oNwduBbQ3aXspY1LzSJdbDO&quot;,&quot;/images/uploads/sessions/b13e9281-4af0-45a0-863e-7f57b32b53ac/RgoamR2Er5S5ztgVeKO6F32e65boftwY&quot;,&quot;/images/uploads/sessions/b13e9281-4af0-45a0-863e-7f57b32b53ac/R4EJ5YNewusHdvTXHC51GEdC0UBgdqCx&quot;,&quot;/images/uploads/sessions/b13e9281-4af0-45a0-863e-7f57b32b53ac/4MQFXvB61WxQbvjY26Vx7jhJQRxgFvyy&quot;,&quot;/images/uploads/sessions/b13e9281-4af0-45a0-863e-7f57b32b53ac/G2uMJgvre9dU07WY3vABXnRENQraDtdV&quot;,&quot;/images/uploads/sessions/b13e9281-4af0-45a0-863e-7f57b32b53ac/47eGOVOYg3NaaO6yr2lo5pOQ8T9aWbxx&quot;,&quot;/images/uploads/sessions/b13e9281-4af0-45a0-863e-7f57b32b53ac/UpYh0hOeLy8HlwV2GddRd62VsXYGBk5m&quot;,&quot;/images/uploads/sessions/b13e9281-4af0-45a0-863e-7f57b32b53ac/pNtxeECiemoQoJoKJJvAmbw11BelhClG&quot;,&quot;/images/uploads/sessions/b13e9281-4af0-45a0-863e-7f57b32b53ac/eyWjXzOo5vcBYnpu2knffI9k7yMYLtb7&quot;,&quot;/images/uploads/sessions/b13e9281-4af0-45a0-863e-7f57b32b53ac/jrhBuW6N0mETj9xqvem5veshA15HdN2a&quot;,&quot;/images/uploads/sessions/b13e9281-4af0-45a0-863e-7f57b32b53ac/hyVuYfKg1MrrxCIHLudYGpYB7kYhcb6w&quot;,&quot;/images/uploads/sessions/b13e9281-4af0-45a0-863e-7f57b32b53ac/hZdotCwnoo2yhvvtAZjhmPKVNbjpo1mt&quot;,&quot;/images/uploads/sessions/b13e9281-4af0-45a0-863e-7f57b32b53ac/jDcVwunDQWso5XlZiNBM4dl7Co3QL26w&quot;,&quot;/images/uploads/sessions/b13e9281-4af0-45a0-863e-7f57b32b53ac/nCtM3MHQT1xMBqyo00gr7xPuOPW8Od46&quot;,&quot;/images/uploads/sessions/b13e9281-4af0-45a0-863e-7f57b32b53ac/h6s4aOsEMnJ0o9G4qI6kvbYiPeHM6F24&quot;,&quot;/images/uploads/sessions/b13e9281-4af0-45a0-863e-7f57b32b53ac/53u2stIIdSPZcQycIoBAfg6WKTHGpSd9&quot;,&quot;/images/uploads/sessions/b13e9281-4af0-45a0-863e-7f57b32b53ac/Yt2NSmwiwVA83n0wcINVrkBW6ZcQaQ3L&quot;,&quot;/images/uploads/sessions/b13e9281-4af0-45a0-863e-7f57b32b53ac/rimgntc5nUr4vzGIhUa1CIk6KuM0POuE&quot;,&quot;/images/uploads/sessions/b13e9281-4af0-45a0-863e-7f57b32b53ac/IU1anpLSvc7E7W8XcpGrJx4nv6uYr3Yv&quot;,&quot;/images/uploads/sessions/b13e9281-4af0-45a0-863e-7f57b32b53ac/Z7Nir6USoC6ZWS16vvHJFeK2MTUEIBQZ&quot;,&quot;/images/uploads/sessions/b13e9281-4af0-45a0-863e-7f57b32b53ac/dsKw8hP79rkiTOSbDua4cio2Fk0HKwaG&quot;,&quot;/images/uploads/sessions/b13e9281-4af0-45a0-863e-7f57b32b53ac/sVQnPFo1YndS3bp71LN7oRHSqntJwK3h&quot;,&quot;/images/uploads/sessions/b13e9281-4af0-45a0-863e-7f57b32b53ac/YF8vVSS1eiblzy5ht6yx224tQXCkxOrN&quot;,&quot;/images/uploads/sessions/b13e9281-4af0-45a0-863e-7f57b32b53ac/4Uy1VddYQhZHJCVBfdqWzKv2WugVwBOt&quot;,&quot;/images/uploads/sessions/b13e9281-4af0-45a0-863e-7f57b32b53ac/0g3SHNQAJe67GPUJsLAAZVbwGfUh3Zvy&quot;,&quot;/images/uploads/sessions/b13e9281-4af0-45a0-863e-7f57b32b53ac/ALFY4IDSXRWcr7LY3oRJBMKGiUN4RDZl&quot;,&quot;/images/uploads/sessions/b13e9281-4af0-45a0-863e-7f57b32b53ac/F0GuMbCTk7LtFPU0erXFsNspHQBdb3cp&quot;,&quot;/images/uploads/sessions/b13e9281-4af0-45a0-863e-7f57b32b53ac/g5GCllFw3AE71c5yx5wuyHq61CK639fB&quot;,&quot;/images/uploads/sessions/b13e9281-4af0-45a0-863e-7f57b32b53ac/YRHiOwz04LweWrQIkgTCSWtbXn6PMABU&quot;,&quot;/images/uploads/sessions/b13e9281-4af0-45a0-863e-7f57b32b53ac/uLgI32S9AbbvMAawvo0Xip4klILm1CGo&quot;]\" data-options=\"{&quot;width&quot;:600,&quot;description&quot;:null,&quot;height&quot;:null}\" id=\"viz-e47874ab-6bbe-4dce-954e-8ab5d3797416\" data-initialized=\"false\" class=\"feed-item\"></div></div></div></div><script>window.lightning = window.lightning || {};\n",
       "window.lightning.host = \"http://localhost:3000/\" || 'http://127.0.0.1:3000/';\n",
       "window.lightning.vizCount = (window.lightning.vizCount + 1) || 1;\n",
       "window.lightning.requiredVizTypes = window.lightning.requiredVizTypes || [];\n",
       "if(window.lightning.requiredVizTypes.indexOf(\"volume\") === -1) {\n",
       "    window.lightning.requiredVizTypes.push(\"volume\");\n",
       "}\n",
       "window._require = window.require;\n",
       "window.require = undefined;\n",
       "window._define = window.define;\n",
       "window.define = undefined;</script><script src=\"http://localhost:3000/js/embed.js\"></script>"
      ],
      "text/plain": [
       "<lightning.types.three.Volume at 0x1098f3290>"
      ]
     },
     "execution_count": 9,
     "metadata": {},
     "output_type": "execute_result"
    }
   ],
   "source": [
    "lgn.volume([x for x in rgb])"
   ]
  },
  {
   "cell_type": "markdown",
   "metadata": {},
   "source": [
    "Render HSV cube"
   ]
  },
  {
   "cell_type": "code",
   "execution_count": 9,
   "metadata": {
    "collapsed": false
   },
   "outputs": [
    {
     "data": {
      "text/html": [
       "<meta name=\"viewport\" content=\"width=device-width, initial-scale=1, maximum-scale=1\"/><meta http-equiv=\"X-UA-Compatible\" content=\"IE=10; IE=9; IE=8; IE=7; IE=EDGE\"/><meta charset=\"UTF-8\"/><link href=\"//fonts.googleapis.com/css?family=Open+Sans:400,700\" rel=\"stylesheet\" type=\"text/css\"/><link rel=\"stylesheet\" href=\"http://lightning-docs.herokuapp.com/css/app.css\"/><link rel=\"stylesheet\" href=\"http://lightning-docs.herokuapp.com/css/dynamic/viz/?visualizations[]=volume\"/><div id=\"lightning-body\" class=\"container content wrap push\"><div class=\"feed-container\"><div data-model=\"visualization\" data-model-id=\"155\" class=\"feed-item-container\"><div data-type=\"volume\" data-data=\"null\" data-images=\"[&quot;https://s3.amazonaws.com/i.gif.fm/sessions/46/F8g8qvskpBOII3pHN0u5LXeMJZliD4SE&quot;,&quot;https://s3.amazonaws.com/i.gif.fm/sessions/46/t307POOpPaYeObPL48G06G8REwRCHlQ8&quot;,&quot;https://s3.amazonaws.com/i.gif.fm/sessions/46/GcFtd0gZuMDJObfTgyfrZh0VLSPEYH5a&quot;,&quot;https://s3.amazonaws.com/i.gif.fm/sessions/46/7b8VVtteHEBskA81NUNXRn9BErFbXHWd&quot;,&quot;https://s3.amazonaws.com/i.gif.fm/sessions/46/Ei0ASTiHb7LVkrOD62JG3HcZayTfK37I&quot;,&quot;https://s3.amazonaws.com/i.gif.fm/sessions/46/GpTOgxs2ZCQ91EtGDHezYULvbt9m6wWa&quot;,&quot;https://s3.amazonaws.com/i.gif.fm/sessions/46/a1vSMf1FBqieUzV7f5l1RgOrSMxQMfOX&quot;,&quot;https://s3.amazonaws.com/i.gif.fm/sessions/46/2byx4P4fprwbvmwRU26CHiQXV8SNlcAR&quot;,&quot;https://s3.amazonaws.com/i.gif.fm/sessions/46/neuD7aWBKuLnOx135x875nTOMYV37MNA&quot;,&quot;https://s3.amazonaws.com/i.gif.fm/sessions/46/WlSG9aZqZJVXz2RiUNNzKeRtSzmWg1NR&quot;,&quot;https://s3.amazonaws.com/i.gif.fm/sessions/46/KA7eprotJXLlsppoHk5n83H3Rx89micm&quot;,&quot;https://s3.amazonaws.com/i.gif.fm/sessions/46/d1OHXFoYoxhTEbZyTRBNkGtyhGAg2WCy&quot;,&quot;https://s3.amazonaws.com/i.gif.fm/sessions/46/Oag8bSxTmP2A1OsAl3lUSz9CMHgApMsJ&quot;,&quot;https://s3.amazonaws.com/i.gif.fm/sessions/46/OJRIqrdXlX3sOIDbuqz8zCoDTm8XedC9&quot;,&quot;https://s3.amazonaws.com/i.gif.fm/sessions/46/nPtYgRmtlbf555oZxucIurk7YVwaGer1&quot;,&quot;https://s3.amazonaws.com/i.gif.fm/sessions/46/WQcgkH3tRou4xoPyrLNr1oqmRGVte0lf&quot;,&quot;https://s3.amazonaws.com/i.gif.fm/sessions/46/nK3Mr45JUZvT4e7eDvJrSCzZihadPYHU&quot;,&quot;https://s3.amazonaws.com/i.gif.fm/sessions/46/4hPJ0ZguIBJSrzIkS9eqskaLiWEis0w4&quot;,&quot;https://s3.amazonaws.com/i.gif.fm/sessions/46/WhCutJ59X9orkbPSCnLEt2o5TED45340&quot;,&quot;https://s3.amazonaws.com/i.gif.fm/sessions/46/4TfcA6k9zNAsGGkvHGYLiskm1oCvWcFR&quot;,&quot;https://s3.amazonaws.com/i.gif.fm/sessions/46/CTd9wgRtXbu2PynazKJzNorwI6BAkmn4&quot;,&quot;https://s3.amazonaws.com/i.gif.fm/sessions/46/RSLl5KdVJJW8CcGIkoyJ1FWSh5QyFk59&quot;,&quot;https://s3.amazonaws.com/i.gif.fm/sessions/46/6sOiBRMPiblVzRl1ir4rC9DBgXlVudFO&quot;,&quot;https://s3.amazonaws.com/i.gif.fm/sessions/46/fZXmpdePBZ8xw9SHe11cUMJNuuac1r0v&quot;,&quot;https://s3.amazonaws.com/i.gif.fm/sessions/46/nTqF1ES4NVYLEUEydz6wc0XryiSDHF5f&quot;,&quot;https://s3.amazonaws.com/i.gif.fm/sessions/46/Hfv5gJSa1qLZBm5kA8w5BBl9Wk14MVJb&quot;,&quot;https://s3.amazonaws.com/i.gif.fm/sessions/46/uzXQeEIQ71BUau7FQm49WhmElztyp0hZ&quot;,&quot;https://s3.amazonaws.com/i.gif.fm/sessions/46/p5DdC8RvCTzGKxmsRmwo5gopiHlC45uo&quot;,&quot;https://s3.amazonaws.com/i.gif.fm/sessions/46/J4pHlXDWHab7t5CMswmVPqCEpUT5vy90&quot;,&quot;https://s3.amazonaws.com/i.gif.fm/sessions/46/NKcEVG486lqFBsH8nOI5cF0lOrrdaInZ&quot;,&quot;https://s3.amazonaws.com/i.gif.fm/sessions/46/L9KiF6xt6dC9TiLPgDz8yiEZrq7CapKk&quot;,&quot;https://s3.amazonaws.com/i.gif.fm/sessions/46/JTrUGuO0QMPONvMu2oXN4iXVu9Fa4Hlh&quot;,&quot;https://s3.amazonaws.com/i.gif.fm/sessions/46/0dbgBAe4o6UR0f494DqsQTLD0veTTM6g&quot;,&quot;https://s3.amazonaws.com/i.gif.fm/sessions/46/iHE3i2noe3JJFA3X90087VKc04e5h40A&quot;,&quot;https://s3.amazonaws.com/i.gif.fm/sessions/46/uIdODF6uhTFHgBMR0on7CqT4nDBoPEJF&quot;,&quot;https://s3.amazonaws.com/i.gif.fm/sessions/46/6xaPMUX2iqKwz7cxabduC6AhDOoPd1Q5&quot;,&quot;https://s3.amazonaws.com/i.gif.fm/sessions/46/AnUZrEpdOiYADi9bqaJB1iTvrKCKbahG&quot;,&quot;https://s3.amazonaws.com/i.gif.fm/sessions/46/zQ1rEtieU1CwNC8HmHyqd3OXaTNVJb6e&quot;,&quot;https://s3.amazonaws.com/i.gif.fm/sessions/46/x3pYeOMh2ycBHqTuUJBbN9fq55QrMBfi&quot;,&quot;https://s3.amazonaws.com/i.gif.fm/sessions/46/cBIZWCr9ndz8A1Nf9CTr0IdQtdCa6lwx&quot;,&quot;https://s3.amazonaws.com/i.gif.fm/sessions/46/MgSnex8cvQYzC7GAMLozfdsAKN43Uxhn&quot;,&quot;https://s3.amazonaws.com/i.gif.fm/sessions/46/FpfLMpT3JDtqXWvBsfsRILw0YkxtIaH9&quot;,&quot;https://s3.amazonaws.com/i.gif.fm/sessions/46/DmUAmOHlJplKMaocToYktqCVMXSyMzE1&quot;,&quot;https://s3.amazonaws.com/i.gif.fm/sessions/46/RDCd1Q9gF0bsvoWbHiw6WW3s6xmI9u3s&quot;,&quot;https://s3.amazonaws.com/i.gif.fm/sessions/46/3tyMZxz7thh8WEiCFLig2Ev77i8TIxRK&quot;,&quot;https://s3.amazonaws.com/i.gif.fm/sessions/46/MM1yWKT89lzPAezohL7Q3uUl2Qqpg9bi&quot;,&quot;https://s3.amazonaws.com/i.gif.fm/sessions/46/b7LUIfMlzwumrVec9793oBFfSOO5GQk0&quot;,&quot;https://s3.amazonaws.com/i.gif.fm/sessions/46/xuDWynnmAkvuXSRANtbsVWFW6ZcFLPZY&quot;,&quot;https://s3.amazonaws.com/i.gif.fm/sessions/46/uiHCHH9SXF0Vb0cx28hUECQBdPkOW803&quot;,&quot;https://s3.amazonaws.com/i.gif.fm/sessions/46/3nqvbnSGXX4Kw2g34pxylkavVP4mkebN&quot;]\" data-options=\"null\" id=\"viz-155\" data-initialized=\"false\" class=\"feed-item\"></div></div></div></div><script>window.lightning = window.lightning || {};\n",
       "window.lightning.host = \"http://lightning-docs.herokuapp.com/\" || 'http://127.0.0.1:3000/';\n",
       "window.lightning.vizCount = (window.lightning.vizCount + 1) || 1;\n",
       "window.lightning.requiredVizTypes = window.lightning.requiredVizTypes || [];\n",
       "if(window.lightning.requiredVizTypes.indexOf(\"volume\") === -1) {\n",
       "    window.lightning.requiredVizTypes.push(\"volume\");\n",
       "}\n",
       "window._require = window.require;\n",
       "window.require = undefined;\n",
       "window._define = window.define;\n",
       "window.define = undefined;</script><script src=\"http://lightning-docs.herokuapp.com/js/embed.js\"></script>"
      ],
      "text/plain": [
       "<lightning.types.three.Volume at 0x109bb5c10>"
      ]
     },
     "execution_count": 9,
     "metadata": {},
     "output_type": "execute_result"
    }
   ],
   "source": [
    "lgn.volume([x for x in hsv])"
   ]
  },
  {
   "cell_type": "markdown",
   "metadata": {},
   "source": [
    "## <hr> Seaborn colormaps"
   ]
  },
  {
   "cell_type": "markdown",
   "metadata": {},
   "source": [
    "Let's render one of seaborn's colormaps in 3D."
   ]
  },
  {
   "cell_type": "code",
   "execution_count": 10,
   "metadata": {
    "collapsed": false
   },
   "outputs": [],
   "source": [
    "mat = gaussian_filter(random.rand(25,25,50),2.5)\n",
    "mat = (mat - amin(mat)) / (amax(mat) - amin(mat))\n",
    "mat = clip(((mat - 0.5)*3 + 0.25), 0, 1)"
   ]
  },
  {
   "cell_type": "markdown",
   "metadata": {},
   "source": [
    "Define a color map, create the slices, then render the volume. Try it with your favorite colormap!"
   ]
  },
  {
   "cell_type": "code",
   "execution_count": 11,
   "metadata": {
    "collapsed": false
   },
   "outputs": [],
   "source": [
    "cm = sns.diverging_palette(10, 220, sep=80, n=7, as_cmap=True)"
   ]
  },
  {
   "cell_type": "code",
   "execution_count": 13,
   "metadata": {
    "collapsed": false
   },
   "outputs": [
    {
     "data": {
      "text/html": [
       "<meta name=\"viewport\" content=\"width=device-width, initial-scale=1, maximum-scale=1\"/><meta http-equiv=\"X-UA-Compatible\" content=\"IE=10; IE=9; IE=8; IE=7; IE=EDGE\"/><meta charset=\"UTF-8\"/><link href=\"//fonts.googleapis.com/css?family=Open+Sans:400,700\" rel=\"stylesheet\" type=\"text/css\"/><link rel=\"stylesheet\" href=\"http://lightning-docs.herokuapp.com/css/app.css\"/><link rel=\"stylesheet\" href=\"http://lightning-docs.herokuapp.com/css/dynamic/viz/?visualizations[]=volume\"/><div id=\"lightning-body\" class=\"container content wrap push\"><div class=\"feed-container\"><div data-model=\"visualization\" data-model-id=\"157\" class=\"feed-item-container\"><div data-type=\"volume\" data-data=\"null\" data-images=\"[&quot;https://s3.amazonaws.com/i.gif.fm/sessions/46/Ol754c4kXVfNSifB6fZF54iYFSAq0sC2&quot;,&quot;https://s3.amazonaws.com/i.gif.fm/sessions/46/r7GxAKYgbvbkrgnXo4gT1oIVAK30DlNt&quot;,&quot;https://s3.amazonaws.com/i.gif.fm/sessions/46/nBJ2czh1p9mDuHpr8uUXMQQY8gvxXTF3&quot;,&quot;https://s3.amazonaws.com/i.gif.fm/sessions/46/HL5RLNDskksHHvviWFEVAS1JSzUstTSv&quot;,&quot;https://s3.amazonaws.com/i.gif.fm/sessions/46/2KzYbdBn0emGhD3Fkb9aReMrgtE83hPX&quot;,&quot;https://s3.amazonaws.com/i.gif.fm/sessions/46/NRe6KoopBvgkfRnou1eGFMqOxOfAr8nU&quot;,&quot;https://s3.amazonaws.com/i.gif.fm/sessions/46/uND47oxSquQM82DsOP4ovXnb9dT0wA8S&quot;,&quot;https://s3.amazonaws.com/i.gif.fm/sessions/46/URC8t4H5wQVAfvuZIpWg8FwKfPbJrzgg&quot;,&quot;https://s3.amazonaws.com/i.gif.fm/sessions/46/J8DR8wDJNssEoowbnJqGGBIbeAUxtXqt&quot;,&quot;https://s3.amazonaws.com/i.gif.fm/sessions/46/qWBQudni6PPn0gai4VMf3X1qa39MhBaB&quot;,&quot;https://s3.amazonaws.com/i.gif.fm/sessions/46/hFcw38c1TXPOHWeiNpOqahS0JHBIq2Lk&quot;,&quot;https://s3.amazonaws.com/i.gif.fm/sessions/46/wR9tGNIZ5TBrE9A9Lp0Z3W6yEIVK8glr&quot;,&quot;https://s3.amazonaws.com/i.gif.fm/sessions/46/mEJwGvmXPUZxs6heB5T0x6dpCRIwI3es&quot;,&quot;https://s3.amazonaws.com/i.gif.fm/sessions/46/TcIZYekwvrSauKgryS1oGHWpJmnrXa6y&quot;,&quot;https://s3.amazonaws.com/i.gif.fm/sessions/46/2Z0Tlwd33A0p8sk7TZ6v0WG2J2b5RWXC&quot;,&quot;https://s3.amazonaws.com/i.gif.fm/sessions/46/M6AokcP0eJIRBZl8XIrW3PIMNh49A7r2&quot;,&quot;https://s3.amazonaws.com/i.gif.fm/sessions/46/O7xfyJxIT4ZF5NRdmeQf5vXOvnI40DGa&quot;,&quot;https://s3.amazonaws.com/i.gif.fm/sessions/46/W0CKxFi4zLz1DYBWnEZ6OZ8ywEK7FDur&quot;,&quot;https://s3.amazonaws.com/i.gif.fm/sessions/46/yUrDJA9ePMtuiwYK3KVGIG26kUmvhICX&quot;,&quot;https://s3.amazonaws.com/i.gif.fm/sessions/46/BFVkPGUXxZQeTRLU3U5nXvgEm4VbGtz9&quot;,&quot;https://s3.amazonaws.com/i.gif.fm/sessions/46/UHdMDzkxONFJxxamuddvG8M4zOGcKwcW&quot;,&quot;https://s3.amazonaws.com/i.gif.fm/sessions/46/Bc6cdl2X7473urdhhryADlzkTY1CbcEB&quot;,&quot;https://s3.amazonaws.com/i.gif.fm/sessions/46/OLMZ631H7znYuinJQOpuJuMruZYhU3T8&quot;,&quot;https://s3.amazonaws.com/i.gif.fm/sessions/46/uRmEsxW3NYRUxbP4xOfxAHOvquTwlZTv&quot;,&quot;https://s3.amazonaws.com/i.gif.fm/sessions/46/6o0oVcm1eOQYeEQRCMiWvXhAfxNqN20Q&quot;]\" data-options=\"null\" id=\"viz-157\" data-initialized=\"false\" class=\"feed-item\"></div></div></div></div><script>window.lightning = window.lightning || {};\n",
       "window.lightning.host = \"http://lightning-docs.herokuapp.com/\" || 'http://127.0.0.1:3000/';\n",
       "window.lightning.vizCount = (window.lightning.vizCount + 1) || 1;\n",
       "window.lightning.requiredVizTypes = window.lightning.requiredVizTypes || [];\n",
       "if(window.lightning.requiredVizTypes.indexOf(\"volume\") === -1) {\n",
       "    window.lightning.requiredVizTypes.push(\"volume\");\n",
       "}\n",
       "window._require = window.require;\n",
       "window.require = undefined;\n",
       "window._define = window.define;\n",
       "window.define = undefined;</script><script src=\"http://lightning-docs.herokuapp.com/js/embed.js\"></script>"
      ],
      "text/plain": [
       "<lightning.types.three.Volume at 0x109ba0810>"
      ]
     },
     "execution_count": 13,
     "metadata": {},
     "output_type": "execute_result"
    }
   ],
   "source": [
    "slices = [cm(x)[:,:,0:3] for x in mat]\n",
    "lgn.volume(slices)"
   ]
  }
 ],
 "metadata": {
  "kernelspec": {
   "display_name": "Python 2",
   "language": "python",
   "name": "python2"
  },
  "language_info": {
   "codemirror_mode": {
    "name": "ipython",
    "version": 2
   },
   "file_extension": ".py",
   "mimetype": "text/x-python",
   "name": "python",
   "nbconvert_exporter": "python",
   "pygments_lexer": "ipython2",
   "version": "2.7.9"
  }
 },
 "nbformat": 4,
 "nbformat_minor": 0
}
